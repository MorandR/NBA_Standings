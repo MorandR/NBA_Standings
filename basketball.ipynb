{
 "cells": [
  {
   "cell_type": "markdown",
   "metadata": {},
   "source": [
    "# NBA Tournament\n"
   ]
  },
  {
   "cell_type": "markdown",
   "metadata": {},
   "source": [
    "## Table of Contents\n",
    "\n",
    "- Introduction\n",
    "- Data: Collection, Cleaning and Preprocessing\n",
    "- Machine Learning\n",
    "- NBA Tournament\n",
    "- Conclusion\n"
   ]
  },
  {
   "cell_type": "markdown",
   "metadata": {},
   "source": [
    "### Introduction\n",
    "\n",
    "This project stems from a [ proposed project ] developed for a Machine Learning course, using Supervised Learning. I will attempt to gain better results and try out different models to establish a well defined tournament.\n",
    "Previously, I used features intented to aid in winning a game such as Block, Steal, Rebound, etc. Logistic and linear regression were the only models used to make these winning prediction. <br/>\n",
    "For this project, I will add more features and experiment with more regression models while using a more and advanced data to create an efficient model to predict the winner of team match ups, using data extracted from [NBA Site](https://www.nba.com)\n",
    "\n",
    "<font color=red>Note:</font> [Selenium](https://selenium-python.readthedocs.io/installation.html) was used to retreive the source data. <br/>\n",
    "This notebook contains interactive graphs which may require you to install a few dependencies. Graph images are displayed below the respected cell to view without running the program.\n"
   ]
  },
  {
   "cell_type": "markdown",
   "metadata": {},
   "source": [
    "### Data\n"
   ]
  },
  {
   "cell_type": "markdown",
   "metadata": {},
   "source": [
    "#### Collection [Selenium]\n",
    "\n",
    "Below is the Selenium code used to retreive the our listings\n",
    "Here we are going to extract the basketball seasons from the [NBA Site](https://www.nba.com/stats/teams/boxscores-traditional)\n"
   ]
  },
  {
   "cell_type": "code",
   "execution_count": 1,
   "metadata": {},
   "outputs": [],
   "source": [
    "# Importing all neccesary packages\n",
    "from selenium import webdriver\n",
    "from selenium.webdriver.common.by import By\n",
    "from selenium.webdriver.support.ui import Select\n",
    "from selenium.webdriver.support.ui import WebDriverWait\n",
    "from selenium.webdriver.support import expected_conditions as EC\n",
    "from selenium.common.exceptions import ElementClickInterceptedException as ECIE, NoSuchElementException as NSEE, StaleElementReferenceException as SERE, TimeoutException as TE, ElementNotInteractableException as ENIE\n",
    "\n",
    "from openpyxl import Workbook, load_workbook\n",
    "from buckets import dimes\n",
    "import time\n",
    "import re"
   ]
  },
  {
   "cell_type": "code",
   "execution_count": 2,
   "metadata": {},
   "outputs": [],
   "source": [
    "import pandas as pd\n",
    "import numpy as np"
   ]
  },
  {
   "cell_type": "markdown",
   "metadata": {},
   "source": [
    "##### Table Collection & Organization"
   ]
  },
  {
   "cell_type": "code",
   "execution_count": 3,
   "metadata": {},
   "outputs": [],
   "source": [
    "# Webdriver: Chrome | Site: NBA site\n",
    "\n",
    "driver = webdriver.Chrome()\n",
    "# url = \"https://www.nba.com/stats/teams/boxscores-traditional\"\n",
    "# driver.get(url)\n"
   ]
  },
  {
   "cell_type": "code",
   "execution_count": null,
   "metadata": {},
   "outputs": [],
   "source": [
    "# Create an Excel to begin data transfer\n",
    "wb = Workbook()\n",
    "wb.save('nba_box_scores.xlsx')\n",
    "ws = wb.active\n",
    "dfs = []"
   ]
  },
  {
   "cell_type": "code",
   "execution_count": null,
   "metadata": {},
   "outputs": [],
   "source": [
    "# Dictionary created from NBA Glossary\n",
    "driver.execute_script(\"window.scrollTo(0,300)\")\n",
    "\n",
    "glossary_bttn = WebDriverWait(driver, 10).until(EC.element_to_be_clickable(driver.find_element(By.CLASS_NAME, \"Crom_cromGlossary__ZHrZf\")))\n",
    "glossary_bttn.click() # View Glossary\n",
    "\n",
    "abbr_list = {}\n",
    "\n",
    "abbrs = driver.find_elements(By.CLASS_NAME, \"StatsTableGlossary_dt__GPooh\") # Abbr\n",
    "defs = driver.find_elements(By.CLASS_NAME, \"StatsTableGlossary_dd__zcr38\") # defs\n",
    "\n",
    "for idx, ab in enumerate(abbrs):\n",
    "    abbr_list[ab.text] = defs[idx].text\n",
    "\n",
    "glossary_bttn.click() # Close Glossary\n"
   ]
  },
  {
   "cell_type": "code",
   "execution_count": null,
   "metadata": {},
   "outputs": [],
   "source": [
    "# Capture all seasons in the list from web page\n",
    "season_drpdwn = Select(driver.find_element(By.CLASS_NAME,\"DropDown_select__4pIg9\"))\n",
    "seasons_arr = [sn.text for sn in season_drpdwn.options]\n",
    "xpath_table = dimes.get('XPATH_TABLE')"
   ]
  },
  {
   "cell_type": "code",
   "execution_count": null,
   "metadata": {},
   "outputs": [],
   "source": [
    "# Ensure table is retrieved from 'Regular Season' Games\n",
    "ssn_type_drpdwn = driver.find_element(By.XPATH,'//*[@id=\"__next\"]/div[2]/div[2]/div[3]/section[1]/div/div/div[2]/label/div')\n",
    "ssn_type = Select(driver.find_element(By.XPATH, '//*[@id=\"__next\"]/div[2]/div[2]/div[3]/section[1]/div/div/div[2]/label/div/select'))\n",
    "ssn_type.select_by_visible_text(\"Regular Season\")\n"
   ]
  },
  {
   "cell_type": "code",
   "execution_count": null,
   "metadata": {},
   "outputs": [],
   "source": [
    "# Extact, Manipulate and Insert Seasons' table into  Excel\n",
    "\n",
    "def assign_names(matches, teams, sn, df):\n",
    "        \n",
    "    print(f'Made it in for Season: {sn} with shape {df.shape}')\n",
    "\n",
    "    # print(len(matches), '\\n', len(teams), '\\n', sn, '\\n', df.shape) \n",
    "    team_names = []\n",
    "    opp_names = []\n",
    "    opp_abbrs = []\n",
    "\n",
    "    # Assign names to team and opponent Series respectfully\n",
    "    for i,match in enumerate(matches):\n",
    "\n",
    "        team_abbr = re.split((r'vs. | @'),match)[0].rstrip()\n",
    "        opp_abbr = re.split((r'vs. | @'),match)[1].lstrip()\n",
    "\n",
    "        if team_abbr in teams:\n",
    "            team_names.append(teams[team_abbr])\n",
    "        if opp_abbr in teams:\n",
    "            opp_names.append(teams[opp_abbr])\n",
    "            opp_abbrs.append(opp_abbr)    \n",
    "\n",
    "    df.insert(1, 'TEAM', team_names)\n",
    "    df.insert(2, 'OPP ABBR', opp_abbrs)\n",
    "    df.insert(3, 'OPPONENT', opp_names)\n",
    "    df.insert(4, \"SEASON\", sn)\n",
    "    \n",
    "    team_names.clear()\n",
    "    opp_abbrs.clear()\n",
    "    opp_names.clear()\n",
    "\n",
    "    \n",
    "    return df\n"
   ]
  },
  {
   "cell_type": "code",
   "execution_count": null,
   "metadata": {},
   "outputs": [],
   "source": [
    "# Driver Code\n",
    "\n",
    "xpath_pages = dimes.get('XPATH_PAGES')\n",
    "teams = {}\n",
    "\n",
    "for i, sn in enumerate(seasons_arr):\n",
    "\n",
    "\n",
    "    try:\n",
    "\n",
    "        ad = WebDriverWait(driver,10).until(EC.presence_of_element_located((By.CLASS_NAME, 'bx-close-xsvg'))).click()\n",
    "        cookie = WebDriverWait(driver,10).until(EC.presence_of_element_located((By.XPATH, '/html/body/div[3]/div[2]/div/div[1]/div/div[2]/div/button'))).click()\n",
    "\n",
    "        season_drpdwn = Select(driver.find_element(By.CLASS_NAME,\"DropDown_select__4pIg9\"))\n",
    "        season_drpdwn.select_by_visible_text(sn)\n",
    "        print(sn)\n",
    "\n",
    "        page_drpdown = driver.find_element(By.CLASS_NAME, \"Pagination_pageDropdown__KgjBU\")\n",
    "        time.sleep(2)\n",
    "\n",
    "        pages = Select(driver.find_element(By.XPATH, xpath_pages))\n",
    "        pages.select_by_visible_text(\"All\")\n",
    "\n",
    "    except:\n",
    "\n",
    "        season_drpdwn = Select(driver.find_element(By.CLASS_NAME,\"DropDown_select__4pIg9\"))\n",
    "        season_drpdwn.select_by_visible_text(sn)\n",
    "        print(sn)\n",
    "\n",
    "        page_drpdown = driver.find_element(By.CLASS_NAME, \"Pagination_pageDropdown__KgjBU\")\n",
    "        time.sleep(2)\n",
    "\n",
    "        pages = Select(driver.find_element(By.XPATH, xpath_pages))\n",
    "        pages.select_by_visible_text(\"All\")\n",
    "        time.sleep(2)\n",
    "\n",
    "    table = WebDriverWait(driver, 10).until(EC.visibility_of_element_located((By.XPATH, xpath_table))).get_attribute(\"outerHTML\")\n",
    "    sub_df = pd.read_html(table)[0]\n",
    "    sub_df.dropna(how='all', axis=1, inplace=True)\n",
    "    sub_df = sub_df.rename(columns={'TEAM': 'TEAM ABBR'})    \n",
    "    all_teams = sub_df['TEAM ABBR'].unique()\n",
    "\n",
    "    matches = sub_df['MATCH UP']\n",
    "    \n",
    "    print(f'Number of Teams this Season: {len(all_teams)}')\n",
    "    # print(sub_df)\n",
    "\n",
    "    if all(ele in teams for ele in all_teams): # Assign existing names to Abbreviations\n",
    "\n",
    "        new_df = assign_names(matches, teams, sn, sub_df)\n",
    "        dfs.append(new_df)\n",
    "\n",
    "        # Append each Season's table into Excel file\n",
    "        with pd.ExcelWriter(path='nba_box_scores.xlsx', engine='openpyxl', mode='a', if_sheet_exists='replace') as writer:\n",
    "            new_df.to_excel(writer, sheet_name= sn, index=False, header=True)\n",
    "    \n",
    "    else:\n",
    "        # Get all names missing from the teams list\n",
    "        # Handle all possible exceptions \n",
    "        \n",
    "        missing_teams = [t for t in all_teams if t not in teams]\n",
    "        print(missing_teams)\n",
    "        for team in missing_teams:\n",
    "        \n",
    "            try:\n",
    "                if team == 'ORL':\n",
    "                    teams[team] = 'ORLANDO MAGIC'\n",
    "                else:\n",
    "                    linked_text = WebDriverWait(driver,2).until(EC.presence_of_element_located((By.LINK_TEXT, team)))\n",
    "                    linked_text.click()\n",
    "                    teams[team] = (driver.find_element(By.CLASS_NAME, 'TeamHeader_name__MmHlP').text).replace('\\n','')\n",
    "                    driver.execute_script(\"window.history.go(-1)\") # go back a page\n",
    "                    time.sleep(2)\n",
    "                print(f'{team} Cleared!')\n",
    "        \n",
    "\n",
    "            except ECIE: # Overlay may be blocking focused elements\n",
    "                print('Entered ECIE: Element Click Intercepted Exception')\n",
    "                print(f'Nope!! Trying to capture {team} again')\n",
    "                ad = WebDriverWait(driver,10).until(EC.presence_of_element_located((By.CLASS_NAME, 'bx-close-xsvg'))).click()\n",
    "                cookie = WebDriverWait(driver,10).until(EC.presence_of_element_located((By.XPATH, '/html/body/div[3]/div[2]/div/div[1]/div/div[2]/div/button'))).click()\n",
    "\n",
    "\n",
    "                driver.find_element(By.LINK_TEXT, team).click()\n",
    "                teams[team] = (driver.find_element(By.CLASS_NAME, 'TeamHeader_name__MmHlP').text).replace('\\n','')\n",
    "                driver.execute_script(\"window.history.go(-1)\") # go back a page\n",
    "                time.sleep(2)\n",
    "                print(f'{team} Cleared!')\n",
    "\n",
    "            except NSEE: # Element doesn't exist. \n",
    "                print('Entered NSSE: No Such Element Exception')\n",
    "                time.sleep(1)\n",
    "                ad = WebDriverWait(driver,20).until(EC.presence_of_element_located((By.CLASS_NAME, 'bx-close-xsvg'))).click()\n",
    "\n",
    "                page_drpdown = driver.find_element(By.CLASS_NAME, \"Pagination_pageDropdown__KgjBU\")\n",
    "                time.sleep(1.5)\n",
    "\n",
    "                pages = Select(driver.find_element(By.XPATH, xpath_pages))\n",
    "                pages.select_by_visible_text(\"All\")\n",
    "\n",
    "                driver.find_element(By.LINK_TEXT, team).click()\n",
    "                teams[team] = (driver.find_element(By.CLASS_NAME, 'TeamHeader_name__MmHlP').text).replace('\\n','')\n",
    "                driver.execute_script(\"window.history.go(-1)\") # go back a page\n",
    "                time.sleep(2)\n",
    "                print(f'{team} Cleared!')\n",
    "            \n",
    "            except TE: \n",
    "                print('Entered TE: Timeout Exception')\n",
    "                ad = WebDriverWait(driver,20).until(EC.presence_of_element_located((By.CLASS_NAME, 'bx-close-xsvg'))).click()\n",
    "\n",
    "                print(f'Trying to capture {team} again')\n",
    "\n",
    "                page_drpdown = driver.find_element(By.CLASS_NAME, \"Pagination_pageDropdown__KgjBU\")\n",
    "                time.sleep(1.5)\n",
    "\n",
    "                pages = Select(driver.find_element(By.XPATH, xpath_pages))\n",
    "                pages.select_by_visible_text(\"All\")\n",
    "\n",
    "                driver.find_element(By.LINK_TEXT, team).click()\n",
    "                teams[team] = (driver.find_element(By.CLASS_NAME, 'TeamHeader_name__MmHlP').text).replace('\\n','')\n",
    "                driver.execute_script(\"window.history.go(-1)\") # go back a page\n",
    "                time.sleep(2)\n",
    "                print(f'{team} Cleared!')\n",
    "                continue\n",
    "\n",
    "            except SERE:\n",
    "                print('Entered SERE: Stale Element Reference Exception')\n",
    "\n",
    "                page_drpdown = driver.find_element(By.CLASS_NAME, \"Pagination_pageDropdown__KgjBU\")\n",
    "                time.sleep(2)\n",
    "\n",
    "                pages = Select(driver.find_element(By.XPATH, xpath_pages))\n",
    "                pages.select_by_visible_text(\"All\")\n",
    "\n",
    "                driver.find_element(By.LINK_TEXT, team).click()\n",
    "                teams[team] = (driver.find_element(By.CLASS_NAME, 'TeamHeader_name__MmHlP').text).replace('\\n','')\n",
    "                driver.execute_script(\"window.history.go(-1)\") # go back a page\n",
    "                time.sleep(2)\n",
    "                print(f'{team} Cleared!')\n",
    "\n",
    "            except ENIE:\n",
    "                print('Entered ENIE: Element Not Interactable Exception')\n",
    "                ad = WebDriverWait(driver,20).until(EC.presence_of_element_located((By.CLASS_NAME, 'bx-close-xsvg'))).click()\n",
    "\n",
    "                page_drpdown = driver.find_element(By.CLASS_NAME, \"Pagination_pageDropdown__KgjBU\")\n",
    "                time.sleep(1.5)\n",
    "\n",
    "                pages = Select(driver.find_element(By.XPATH, xpath_pages))\n",
    "                pages.select_by_visible_text(\"All\")\n",
    "\n",
    "                driver.find_element(By.LINK_TEXT, team).click()\n",
    "                teams[team] = (driver.find_element(By.CLASS_NAME, 'TeamHeader_name__MmHlP').text).replace('\\n','')\n",
    "                driver.execute_script(\"window.history.go(-1)\") # go back a page\n",
    "                time.sleep(2)\n",
    "                print(f'{team} Cleared!')\n",
    "\n",
    "        new_df = assign_names(matches, teams, sn, sub_df)\n",
    "        dfs.append(new_df)\n",
    "\n",
    "        with pd.ExcelWriter(path='nba_box_scores.xlsx', engine='openpyxl', mode='a', if_sheet_exists='replace') as writer:\n",
    "            new_df.to_excel(writer, sheet_name= sn, index=False, header=True)\n",
    "        \n"
   ]
  },
  {
   "cell_type": "code",
   "execution_count": null,
   "metadata": {},
   "outputs": [],
   "source": [
    "# Combine all tables for DataFrame and Files\n",
    "df = pd.concat([x for x in dfs], ignore_index=True)\n",
    "\n",
    "with pd.ExcelWriter(path='nba_box_scores.xlsx', engine='openpyxl', mode='a', if_sheet_exists='replace') as writer:\n",
    "    df.to_excel(writer, sheet_name= 'Sheet', index=False, header=True)\n",
    "    df.to_csv('nba_box_scores.csv', index=False)"
   ]
  },
  {
   "cell_type": "markdown",
   "metadata": {},
   "source": [
    "##### Using another url for more data features."
   ]
  },
  {
   "cell_type": "code",
   "execution_count": 4,
   "metadata": {},
   "outputs": [],
   "source": [
    "url2 = 'https://www.nba.com/stats/teams'\n",
    "driver.get(url2)\n"
   ]
  },
  {
   "cell_type": "code",
   "execution_count": 23,
   "metadata": {},
   "outputs": [],
   "source": [
    "# Get the NBA regions\n",
    "group = []\n",
    "\n",
    "region_list = driver.find_elements(By.CLASS_NAME, 'StatsTeamsList_division__ZUezr')\n",
    "\n",
    "# Region: Atlantic, Central, Southeast, Northwest, Pacific, Southwest\n",
    "for region in region_list:\n",
    "    rgn = region.text.split('\\n')\n",
    "    group.append(rgn)\n",
    "\n",
    "region_headers = [rh.pop(0) for rh in group]\n",
    "group = np.array(group).T\n",
    "\n",
    "df2 = pd.DataFrame(\n",
    "    data = group,\n",
    "    columns=region_headers\n",
    ")\n",
    "\n",
    "# Conference: E or W\n"
   ]
  },
  {
   "cell_type": "code",
   "execution_count": null,
   "metadata": {},
   "outputs": [],
   "source": [
    "df2"
   ]
  },
  {
   "cell_type": "code",
   "execution_count": 4,
   "metadata": {},
   "outputs": [],
   "source": [
    "url3 = 'https://www.nba.com/standings'\n",
    "driver.get(url3)\n"
   ]
  },
  {
   "cell_type": "code",
   "execution_count": 90,
   "metadata": {},
   "outputs": [
    {
     "name": "stdout",
     "output_type": "stream",
     "text": [
      "Boston Celtics\n",
      "New York Knicks\n",
      "Milwaukee Bucks\n",
      "Cleveland Cavaliers\n",
      "Orlando Magic\n",
      "Indiana Pacers\n",
      "Philadelphia 76ers\n",
      "Miami Heat\n",
      "Chicago Bulls\n",
      "Atlanta Hawks\n",
      "Brooklyn Nets\n",
      "Toronto Raptors\n",
      "Charlotte Hornets\n",
      "Washington Wizards\n",
      "Detroit Pistons\n",
      "Oklahoma City Thunder\n",
      "Denver Nuggets\n",
      "Minnesota Timberwolves\n",
      "LA Clippers\n",
      "Dallas Mavericks\n",
      "Phoenix Suns\n",
      "New Orleans Pelicans\n",
      "Los Angeles Lakers\n",
      "Sacramento Kings\n",
      "Golden State Warriors\n",
      "Houston Rockets\n",
      "Utah Jazz\n",
      "Memphis Grizzlies\n",
      "San Antonio Spurs\n",
      "Portland Trail Blazers\n"
     ]
    }
   ],
   "source": [
    "\n",
    "confs = driver.find_elements(By.CLASS_NAME, 'Crom_base__f0niE')\n",
    "division = driver.find_elements(By.CLASS_NAME, 'Crom_caption__Yv_rH')\n",
    "conf_groups = []\n",
    "c_names = []\n",
    "\n",
    "dvsn = []\n",
    "\n",
    "\n",
    "for conf in confs: # East | West Confs\n",
    "    # c_names.clear()\n",
    "    dvsn.append(re.split(r'\\n',conf.text)[0])\n",
    "    # print(re.split(r'\\n',conf.text))\n",
    "    lists = re.split(r'\\n',conf.text)\n",
    "\n",
    "    for idx,each in enumerate(lists):\n",
    "        # print(each)\n",
    "        if re.search(r'^\\d{1,2}$',each) != None:\n",
    "            # print(each)\n",
    "            joint_tn = ''.join([lists[idx+1], lists[idx+2]])\n",
    "            print(joint_tn)\n",
    "            c_names.append(joint_tn)\n",
    "\n",
    "    conf_groups.append(c_names)\n",
    "\n",
    "    c_names = []"
   ]
  },
  {
   "cell_type": "code",
   "execution_count": 91,
   "metadata": {},
   "outputs": [
    {
     "data": {
      "text/plain": [
       "[['Boston Celtics',\n",
       "  'New York Knicks',\n",
       "  'Milwaukee Bucks',\n",
       "  'Cleveland Cavaliers',\n",
       "  'Orlando Magic',\n",
       "  'Indiana Pacers',\n",
       "  'Philadelphia 76ers',\n",
       "  'Miami Heat',\n",
       "  'Chicago Bulls',\n",
       "  'Atlanta Hawks',\n",
       "  'Brooklyn Nets',\n",
       "  'Toronto Raptors',\n",
       "  'Charlotte Hornets',\n",
       "  'Washington Wizards',\n",
       "  'Detroit Pistons'],\n",
       " ['Oklahoma City Thunder',\n",
       "  'Denver Nuggets',\n",
       "  'Minnesota Timberwolves',\n",
       "  'LA Clippers',\n",
       "  'Dallas Mavericks',\n",
       "  'Phoenix Suns',\n",
       "  'New Orleans Pelicans',\n",
       "  'Los Angeles Lakers',\n",
       "  'Sacramento Kings',\n",
       "  'Golden State Warriors',\n",
       "  'Houston Rockets',\n",
       "  'Utah Jazz',\n",
       "  'Memphis Grizzlies',\n",
       "  'San Antonio Spurs',\n",
       "  'Portland Trail Blazers']]"
      ]
     },
     "execution_count": 91,
     "metadata": {},
     "output_type": "execute_result"
    }
   ],
   "source": [
    "conf_groups"
   ]
  },
  {
   "cell_type": "code",
   "execution_count": 87,
   "metadata": {},
   "outputs": [],
   "source": [
    "conf_groups.clear()\n",
    "c_names.clear()\n"
   ]
  },
  {
   "cell_type": "code",
   "execution_count": null,
   "metadata": {},
   "outputs": [],
   "source": [
    "df3 = pd.DataFrame(\n",
    "    data=conf_groups,\n",
    "    columns= dvsn\n",
    ")"
   ]
  },
  {
   "cell_type": "code",
   "execution_count": null,
   "metadata": {},
   "outputs": [],
   "source": [
    "\n",
    "# Close all opened files and systems\n",
    "wb.close()\n",
    "driver.close()"
   ]
  },
  {
   "cell_type": "code",
   "execution_count": null,
   "metadata": {},
   "outputs": [],
   "source": []
  },
  {
   "cell_type": "markdown",
   "metadata": {},
   "source": [
    "#### Cleaning & Processing\n",
    "\n",
    "Now we're going to:\n",
    "- Read data from previously exported csv file\n",
    "- Normalize the data to condense the distribution\n",
    "- Update Team Abbreviations to its' lastest of today"
   ]
  },
  {
   "cell_type": "code",
   "execution_count": 119,
   "metadata": {},
   "outputs": [],
   "source": [
    "# Read data\n",
    "full_df = pd.read_csv('nba_box_scores.csv')"
   ]
  },
  {
   "cell_type": "code",
   "execution_count": 120,
   "metadata": {},
   "outputs": [],
   "source": [
    "# Prepare name changes\n",
    "old_abbrs = [['NOH','NOK'], 'VAN', 'CHH', 'SEA', 'NJN' ]\n",
    "new_abbrs = ['NOP', 'MEM', 'CHA', 'OKC', 'BKN']\n",
    "\n",
    "for idx,abbr in enumerate(old_abbrs):\n",
    "    full_df = full_df.replace(abbr,new_abbrs[idx])\n",
    "\n",
    "team_abbr = full_df['TEAM ABBR'].unique()\n",
    "team_name = full_df['TEAM']\n",
    "teams = {}\n",
    "\n",
    "# Recreate teams Dictionary\n",
    "for each in team_abbr:\n",
    "    \n",
    "    indicies = list(np.where(full_df['TEAM ABBR'] == each))[0]\n",
    "    teams[each] = full_df['TEAM'].iloc[indicies[0]]    \n"
   ]
  },
  {
   "cell_type": "markdown",
   "metadata": {},
   "source": [
    "##### Statistics Below\n"
   ]
  },
  {
   "cell_type": "code",
   "execution_count": 121,
   "metadata": {},
   "outputs": [
    {
     "name": "stdout",
     "output_type": "stream",
     "text": [
      "Size of Dataframe (66172, 28)\n"
     ]
    }
   ],
   "source": [
    "print(f\"Size of Dataframe {full_df.shape}\")\n"
   ]
  },
  {
   "cell_type": "code",
   "execution_count": 122,
   "metadata": {},
   "outputs": [],
   "source": [
    "# Sorted Team List for easier read\n",
    "from collections import OrderedDict\n",
    "\n",
    "sorted_teamsDict = OrderedDict(sorted(teams.items()))\n",
    "\n",
    "distinct_teams = sorted(full_df['TEAM'].unique())\n",
    "wins = []\n",
    "losses = []\n",
    "total = []\n",
    "win_rate = []\n",
    "\n",
    "for each in sorted_teamsDict:\n",
    "\n",
    "    win = sum(full_df[full_df['TEAM ABBR'] == each]['W/L'] == 'W')\n",
    "    loss = sum(full_df[full_df['TEAM ABBR'] == each]['W/L'] == 'L')\n",
    "    wins.append(win)\n",
    "    losses.append(loss)\n",
    "    total.append(win+loss)\n",
    "    win_rate.append(round(win/(win+loss),2))\n",
    "\n",
    "bar_chart_df = pd.DataFrame(data={'WINS':wins, 'LOSSES':losses, 'TOTAL': total, 'WIN RATE':win_rate}, index=sorted_teamsDict.values())"
   ]
  },
  {
   "cell_type": "code",
   "execution_count": 123,
   "metadata": {},
   "outputs": [
    {
     "data": {
      "text/html": [
       "<div>\n",
       "<style scoped>\n",
       "    .dataframe tbody tr th:only-of-type {\n",
       "        vertical-align: middle;\n",
       "    }\n",
       "\n",
       "    .dataframe tbody tr th {\n",
       "        vertical-align: top;\n",
       "    }\n",
       "\n",
       "    .dataframe thead th {\n",
       "        text-align: right;\n",
       "    }\n",
       "</style>\n",
       "<table border=\"1\" class=\"dataframe\">\n",
       "  <thead>\n",
       "    <tr style=\"text-align: right;\">\n",
       "      <th></th>\n",
       "      <th>WINS</th>\n",
       "      <th>LOSSES</th>\n",
       "      <th>TOTAL</th>\n",
       "      <th>WIN RATE</th>\n",
       "    </tr>\n",
       "  </thead>\n",
       "  <tbody>\n",
       "    <tr>\n",
       "      <th>ATLANTA HAWKS</th>\n",
       "      <td>1043</td>\n",
       "      <td>1180</td>\n",
       "      <td>2223</td>\n",
       "      <td>0.47</td>\n",
       "    </tr>\n",
       "    <tr>\n",
       "      <th>BROOKLYN NETS</th>\n",
       "      <td>994</td>\n",
       "      <td>1234</td>\n",
       "      <td>2228</td>\n",
       "      <td>0.45</td>\n",
       "    </tr>\n",
       "    <tr>\n",
       "      <th>BOSTON CELTICS</th>\n",
       "      <td>1212</td>\n",
       "      <td>1015</td>\n",
       "      <td>2227</td>\n",
       "      <td>0.54</td>\n",
       "    </tr>\n",
       "    <tr>\n",
       "      <th>CHARLOTTE HORNETS</th>\n",
       "      <td>902</td>\n",
       "      <td>1155</td>\n",
       "      <td>2057</td>\n",
       "      <td>0.44</td>\n",
       "    </tr>\n",
       "    <tr>\n",
       "      <th>CHICAGO BULLS</th>\n",
       "      <td>1067</td>\n",
       "      <td>1154</td>\n",
       "      <td>2221</td>\n",
       "      <td>0.48</td>\n",
       "    </tr>\n",
       "    <tr>\n",
       "      <th>CLEVELAND CAVALIERS</th>\n",
       "      <td>1079</td>\n",
       "      <td>1142</td>\n",
       "      <td>2221</td>\n",
       "      <td>0.49</td>\n",
       "    </tr>\n",
       "    <tr>\n",
       "      <th>DALLAS MAVERICKS</th>\n",
       "      <td>1256</td>\n",
       "      <td>975</td>\n",
       "      <td>2231</td>\n",
       "      <td>0.56</td>\n",
       "    </tr>\n",
       "    <tr>\n",
       "      <th>DENVER NUGGETS</th>\n",
       "      <td>1138</td>\n",
       "      <td>1091</td>\n",
       "      <td>2229</td>\n",
       "      <td>0.51</td>\n",
       "    </tr>\n",
       "    <tr>\n",
       "      <th>DETROIT PISTONS</th>\n",
       "      <td>1044</td>\n",
       "      <td>1178</td>\n",
       "      <td>2222</td>\n",
       "      <td>0.47</td>\n",
       "    </tr>\n",
       "    <tr>\n",
       "      <th>GOLDEN STATE WARRIORS</th>\n",
       "      <td>1091</td>\n",
       "      <td>1130</td>\n",
       "      <td>2221</td>\n",
       "      <td>0.49</td>\n",
       "    </tr>\n",
       "    <tr>\n",
       "      <th>HOUSTON ROCKETS</th>\n",
       "      <td>1201</td>\n",
       "      <td>1027</td>\n",
       "      <td>2228</td>\n",
       "      <td>0.54</td>\n",
       "    </tr>\n",
       "    <tr>\n",
       "      <th>INDIANA PACERS</th>\n",
       "      <td>1193</td>\n",
       "      <td>1035</td>\n",
       "      <td>2228</td>\n",
       "      <td>0.54</td>\n",
       "    </tr>\n",
       "    <tr>\n",
       "      <th>LA CLIPPERS</th>\n",
       "      <td>1065</td>\n",
       "      <td>1163</td>\n",
       "      <td>2228</td>\n",
       "      <td>0.48</td>\n",
       "    </tr>\n",
       "    <tr>\n",
       "      <th>LOS ANGELES LAKERS</th>\n",
       "      <td>1258</td>\n",
       "      <td>969</td>\n",
       "      <td>2227</td>\n",
       "      <td>0.56</td>\n",
       "    </tr>\n",
       "    <tr>\n",
       "      <th>MEMPHIS GRIZZLIES</th>\n",
       "      <td>983</td>\n",
       "      <td>1246</td>\n",
       "      <td>2229</td>\n",
       "      <td>0.44</td>\n",
       "    </tr>\n",
       "    <tr>\n",
       "      <th>MIAMI HEAT</th>\n",
       "      <td>1274</td>\n",
       "      <td>955</td>\n",
       "      <td>2229</td>\n",
       "      <td>0.57</td>\n",
       "    </tr>\n",
       "    <tr>\n",
       "      <th>MILWAUKEE BUCKS</th>\n",
       "      <td>1118</td>\n",
       "      <td>1111</td>\n",
       "      <td>2229</td>\n",
       "      <td>0.50</td>\n",
       "    </tr>\n",
       "    <tr>\n",
       "      <th>MINNESOTA TIMBERWOLVES</th>\n",
       "      <td>995</td>\n",
       "      <td>1225</td>\n",
       "      <td>2220</td>\n",
       "      <td>0.45</td>\n",
       "    </tr>\n",
       "    <tr>\n",
       "      <th>NEW ORLEANS PELICANS</th>\n",
       "      <td>831</td>\n",
       "      <td>937</td>\n",
       "      <td>1768</td>\n",
       "      <td>0.47</td>\n",
       "    </tr>\n",
       "    <tr>\n",
       "      <th>NEW YORK KNICKS</th>\n",
       "      <td>995</td>\n",
       "      <td>1227</td>\n",
       "      <td>2222</td>\n",
       "      <td>0.45</td>\n",
       "    </tr>\n",
       "    <tr>\n",
       "      <th>OKLAHOMA CITY THUNDER</th>\n",
       "      <td>1217</td>\n",
       "      <td>1011</td>\n",
       "      <td>2228</td>\n",
       "      <td>0.55</td>\n",
       "    </tr>\n",
       "    <tr>\n",
       "      <th>ORLANDO MAGIC</th>\n",
       "      <td>1037</td>\n",
       "      <td>1192</td>\n",
       "      <td>2229</td>\n",
       "      <td>0.47</td>\n",
       "    </tr>\n",
       "    <tr>\n",
       "      <th>PHILADELPHIA 76ERS</th>\n",
       "      <td>1066</td>\n",
       "      <td>1163</td>\n",
       "      <td>2229</td>\n",
       "      <td>0.48</td>\n",
       "    </tr>\n",
       "    <tr>\n",
       "      <th>PHOENIX SUNS</th>\n",
       "      <td>1183</td>\n",
       "      <td>1046</td>\n",
       "      <td>2229</td>\n",
       "      <td>0.53</td>\n",
       "    </tr>\n",
       "    <tr>\n",
       "      <th>PORTLAND TRAIL BLAZERS</th>\n",
       "      <td>1163</td>\n",
       "      <td>1067</td>\n",
       "      <td>2230</td>\n",
       "      <td>0.52</td>\n",
       "    </tr>\n",
       "    <tr>\n",
       "      <th>SACRAMENTO KINGS</th>\n",
       "      <td>1017</td>\n",
       "      <td>1211</td>\n",
       "      <td>2228</td>\n",
       "      <td>0.46</td>\n",
       "    </tr>\n",
       "    <tr>\n",
       "      <th>SAN ANTONIO SPURS</th>\n",
       "      <td>1391</td>\n",
       "      <td>836</td>\n",
       "      <td>2227</td>\n",
       "      <td>0.62</td>\n",
       "    </tr>\n",
       "    <tr>\n",
       "      <th>TORONTO RAPTORS</th>\n",
       "      <td>1075</td>\n",
       "      <td>1153</td>\n",
       "      <td>2228</td>\n",
       "      <td>0.48</td>\n",
       "    </tr>\n",
       "    <tr>\n",
       "      <th>UTAH JAZZ</th>\n",
       "      <td>1260</td>\n",
       "      <td>968</td>\n",
       "      <td>2228</td>\n",
       "      <td>0.57</td>\n",
       "    </tr>\n",
       "    <tr>\n",
       "      <th>WASHINGTON WIZARDS</th>\n",
       "      <td>938</td>\n",
       "      <td>1290</td>\n",
       "      <td>2228</td>\n",
       "      <td>0.42</td>\n",
       "    </tr>\n",
       "  </tbody>\n",
       "</table>\n",
       "</div>"
      ],
      "text/plain": [
       "                        WINS  LOSSES  TOTAL  WIN RATE\n",
       "ATLANTA HAWKS           1043    1180   2223      0.47\n",
       "BROOKLYN NETS            994    1234   2228      0.45\n",
       "BOSTON CELTICS          1212    1015   2227      0.54\n",
       "CHARLOTTE HORNETS        902    1155   2057      0.44\n",
       "CHICAGO BULLS           1067    1154   2221      0.48\n",
       "CLEVELAND CAVALIERS     1079    1142   2221      0.49\n",
       "DALLAS MAVERICKS        1256     975   2231      0.56\n",
       "DENVER NUGGETS          1138    1091   2229      0.51\n",
       "DETROIT PISTONS         1044    1178   2222      0.47\n",
       "GOLDEN STATE WARRIORS   1091    1130   2221      0.49\n",
       "HOUSTON ROCKETS         1201    1027   2228      0.54\n",
       "INDIANA PACERS          1193    1035   2228      0.54\n",
       "LA CLIPPERS             1065    1163   2228      0.48\n",
       "LOS ANGELES LAKERS      1258     969   2227      0.56\n",
       "MEMPHIS GRIZZLIES        983    1246   2229      0.44\n",
       "MIAMI HEAT              1274     955   2229      0.57\n",
       "MILWAUKEE BUCKS         1118    1111   2229      0.50\n",
       "MINNESOTA TIMBERWOLVES   995    1225   2220      0.45\n",
       "NEW ORLEANS PELICANS     831     937   1768      0.47\n",
       "NEW YORK KNICKS          995    1227   2222      0.45\n",
       "OKLAHOMA CITY THUNDER   1217    1011   2228      0.55\n",
       "ORLANDO MAGIC           1037    1192   2229      0.47\n",
       "PHILADELPHIA 76ERS      1066    1163   2229      0.48\n",
       "PHOENIX SUNS            1183    1046   2229      0.53\n",
       "PORTLAND TRAIL BLAZERS  1163    1067   2230      0.52\n",
       "SACRAMENTO KINGS        1017    1211   2228      0.46\n",
       "SAN ANTONIO SPURS       1391     836   2227      0.62\n",
       "TORONTO RAPTORS         1075    1153   2228      0.48\n",
       "UTAH JAZZ               1260     968   2228      0.57\n",
       "WASHINGTON WIZARDS       938    1290   2228      0.42"
      ]
     },
     "execution_count": 123,
     "metadata": {},
     "output_type": "execute_result"
    }
   ],
   "source": [
    "# Bar Chart of Results from SEASONS 1996-2024\n",
    "bar_chart_df"
   ]
  },
  {
   "cell_type": "code",
   "execution_count": 124,
   "metadata": {},
   "outputs": [
    {
     "data": {
      "application/vnd.plotly.v1+json": {
       "config": {
        "plotlyServerURL": "https://plot.ly"
       },
       "data": [
        {
         "alignmentgroup": "True",
         "hovertemplate": "variable=LOSSES<br>index=%{x}<br>value=%{y}<extra></extra>",
         "legendgroup": "LOSSES",
         "marker": {
          "color": "#636efa",
          "pattern": {
           "shape": ""
          }
         },
         "name": "LOSSES",
         "offsetgroup": "LOSSES",
         "orientation": "v",
         "showlegend": true,
         "textposition": "auto",
         "texttemplate": "%{y}",
         "type": "bar",
         "x": [
          "ATLANTA HAWKS",
          "BROOKLYN NETS",
          "BOSTON CELTICS",
          "CHARLOTTE HORNETS",
          "CHICAGO BULLS",
          "CLEVELAND CAVALIERS",
          "DALLAS MAVERICKS",
          "DENVER NUGGETS",
          "DETROIT PISTONS",
          "GOLDEN STATE WARRIORS",
          "HOUSTON ROCKETS",
          "INDIANA PACERS",
          "LA CLIPPERS",
          "LOS ANGELES LAKERS",
          "MEMPHIS GRIZZLIES",
          "MIAMI HEAT",
          "MILWAUKEE BUCKS",
          "MINNESOTA TIMBERWOLVES",
          "NEW ORLEANS PELICANS",
          "NEW YORK KNICKS",
          "OKLAHOMA CITY THUNDER",
          "ORLANDO MAGIC",
          "PHILADELPHIA 76ERS",
          "PHOENIX SUNS",
          "PORTLAND TRAIL BLAZERS",
          "SACRAMENTO KINGS",
          "SAN ANTONIO SPURS",
          "TORONTO RAPTORS",
          "UTAH JAZZ",
          "WASHINGTON WIZARDS"
         ],
         "xaxis": "x",
         "y": [
          1180,
          1234,
          1015,
          1155,
          1154,
          1142,
          975,
          1091,
          1178,
          1130,
          1027,
          1035,
          1163,
          969,
          1246,
          955,
          1111,
          1225,
          937,
          1227,
          1011,
          1192,
          1163,
          1046,
          1067,
          1211,
          836,
          1153,
          968,
          1290
         ],
         "yaxis": "y"
        },
        {
         "alignmentgroup": "True",
         "hovertemplate": "variable=WINS<br>index=%{x}<br>value=%{y}<extra></extra>",
         "legendgroup": "WINS",
         "marker": {
          "color": "#EF553B",
          "pattern": {
           "shape": ""
          }
         },
         "name": "WINS",
         "offsetgroup": "WINS",
         "orientation": "v",
         "showlegend": true,
         "textposition": "auto",
         "texttemplate": "%{y}",
         "type": "bar",
         "x": [
          "ATLANTA HAWKS",
          "BROOKLYN NETS",
          "BOSTON CELTICS",
          "CHARLOTTE HORNETS",
          "CHICAGO BULLS",
          "CLEVELAND CAVALIERS",
          "DALLAS MAVERICKS",
          "DENVER NUGGETS",
          "DETROIT PISTONS",
          "GOLDEN STATE WARRIORS",
          "HOUSTON ROCKETS",
          "INDIANA PACERS",
          "LA CLIPPERS",
          "LOS ANGELES LAKERS",
          "MEMPHIS GRIZZLIES",
          "MIAMI HEAT",
          "MILWAUKEE BUCKS",
          "MINNESOTA TIMBERWOLVES",
          "NEW ORLEANS PELICANS",
          "NEW YORK KNICKS",
          "OKLAHOMA CITY THUNDER",
          "ORLANDO MAGIC",
          "PHILADELPHIA 76ERS",
          "PHOENIX SUNS",
          "PORTLAND TRAIL BLAZERS",
          "SACRAMENTO KINGS",
          "SAN ANTONIO SPURS",
          "TORONTO RAPTORS",
          "UTAH JAZZ",
          "WASHINGTON WIZARDS"
         ],
         "xaxis": "x",
         "y": [
          1043,
          994,
          1212,
          902,
          1067,
          1079,
          1256,
          1138,
          1044,
          1091,
          1201,
          1193,
          1065,
          1258,
          983,
          1274,
          1118,
          995,
          831,
          995,
          1217,
          1037,
          1066,
          1183,
          1163,
          1017,
          1391,
          1075,
          1260,
          938
         ],
         "yaxis": "y"
        }
       ],
       "layout": {
        "barmode": "stack",
        "height": 400,
        "legend": {
         "title": {
          "text": "Result"
         },
         "tracegroupgap": 0
        },
        "margin": {
         "t": 60
        },
        "template": {
         "data": {
          "bar": [
           {
            "error_x": {
             "color": "#2a3f5f"
            },
            "error_y": {
             "color": "#2a3f5f"
            },
            "marker": {
             "line": {
              "color": "#E5ECF6",
              "width": 0.5
             },
             "pattern": {
              "fillmode": "overlay",
              "size": 10,
              "solidity": 0.2
             }
            },
            "type": "bar"
           }
          ],
          "barpolar": [
           {
            "marker": {
             "line": {
              "color": "#E5ECF6",
              "width": 0.5
             },
             "pattern": {
              "fillmode": "overlay",
              "size": 10,
              "solidity": 0.2
             }
            },
            "type": "barpolar"
           }
          ],
          "carpet": [
           {
            "aaxis": {
             "endlinecolor": "#2a3f5f",
             "gridcolor": "white",
             "linecolor": "white",
             "minorgridcolor": "white",
             "startlinecolor": "#2a3f5f"
            },
            "baxis": {
             "endlinecolor": "#2a3f5f",
             "gridcolor": "white",
             "linecolor": "white",
             "minorgridcolor": "white",
             "startlinecolor": "#2a3f5f"
            },
            "type": "carpet"
           }
          ],
          "choropleth": [
           {
            "colorbar": {
             "outlinewidth": 0,
             "ticks": ""
            },
            "type": "choropleth"
           }
          ],
          "contour": [
           {
            "colorbar": {
             "outlinewidth": 0,
             "ticks": ""
            },
            "colorscale": [
             [
              0,
              "#0d0887"
             ],
             [
              0.1111111111111111,
              "#46039f"
             ],
             [
              0.2222222222222222,
              "#7201a8"
             ],
             [
              0.3333333333333333,
              "#9c179e"
             ],
             [
              0.4444444444444444,
              "#bd3786"
             ],
             [
              0.5555555555555556,
              "#d8576b"
             ],
             [
              0.6666666666666666,
              "#ed7953"
             ],
             [
              0.7777777777777778,
              "#fb9f3a"
             ],
             [
              0.8888888888888888,
              "#fdca26"
             ],
             [
              1,
              "#f0f921"
             ]
            ],
            "type": "contour"
           }
          ],
          "contourcarpet": [
           {
            "colorbar": {
             "outlinewidth": 0,
             "ticks": ""
            },
            "type": "contourcarpet"
           }
          ],
          "heatmap": [
           {
            "colorbar": {
             "outlinewidth": 0,
             "ticks": ""
            },
            "colorscale": [
             [
              0,
              "#0d0887"
             ],
             [
              0.1111111111111111,
              "#46039f"
             ],
             [
              0.2222222222222222,
              "#7201a8"
             ],
             [
              0.3333333333333333,
              "#9c179e"
             ],
             [
              0.4444444444444444,
              "#bd3786"
             ],
             [
              0.5555555555555556,
              "#d8576b"
             ],
             [
              0.6666666666666666,
              "#ed7953"
             ],
             [
              0.7777777777777778,
              "#fb9f3a"
             ],
             [
              0.8888888888888888,
              "#fdca26"
             ],
             [
              1,
              "#f0f921"
             ]
            ],
            "type": "heatmap"
           }
          ],
          "heatmapgl": [
           {
            "colorbar": {
             "outlinewidth": 0,
             "ticks": ""
            },
            "colorscale": [
             [
              0,
              "#0d0887"
             ],
             [
              0.1111111111111111,
              "#46039f"
             ],
             [
              0.2222222222222222,
              "#7201a8"
             ],
             [
              0.3333333333333333,
              "#9c179e"
             ],
             [
              0.4444444444444444,
              "#bd3786"
             ],
             [
              0.5555555555555556,
              "#d8576b"
             ],
             [
              0.6666666666666666,
              "#ed7953"
             ],
             [
              0.7777777777777778,
              "#fb9f3a"
             ],
             [
              0.8888888888888888,
              "#fdca26"
             ],
             [
              1,
              "#f0f921"
             ]
            ],
            "type": "heatmapgl"
           }
          ],
          "histogram": [
           {
            "marker": {
             "pattern": {
              "fillmode": "overlay",
              "size": 10,
              "solidity": 0.2
             }
            },
            "type": "histogram"
           }
          ],
          "histogram2d": [
           {
            "colorbar": {
             "outlinewidth": 0,
             "ticks": ""
            },
            "colorscale": [
             [
              0,
              "#0d0887"
             ],
             [
              0.1111111111111111,
              "#46039f"
             ],
             [
              0.2222222222222222,
              "#7201a8"
             ],
             [
              0.3333333333333333,
              "#9c179e"
             ],
             [
              0.4444444444444444,
              "#bd3786"
             ],
             [
              0.5555555555555556,
              "#d8576b"
             ],
             [
              0.6666666666666666,
              "#ed7953"
             ],
             [
              0.7777777777777778,
              "#fb9f3a"
             ],
             [
              0.8888888888888888,
              "#fdca26"
             ],
             [
              1,
              "#f0f921"
             ]
            ],
            "type": "histogram2d"
           }
          ],
          "histogram2dcontour": [
           {
            "colorbar": {
             "outlinewidth": 0,
             "ticks": ""
            },
            "colorscale": [
             [
              0,
              "#0d0887"
             ],
             [
              0.1111111111111111,
              "#46039f"
             ],
             [
              0.2222222222222222,
              "#7201a8"
             ],
             [
              0.3333333333333333,
              "#9c179e"
             ],
             [
              0.4444444444444444,
              "#bd3786"
             ],
             [
              0.5555555555555556,
              "#d8576b"
             ],
             [
              0.6666666666666666,
              "#ed7953"
             ],
             [
              0.7777777777777778,
              "#fb9f3a"
             ],
             [
              0.8888888888888888,
              "#fdca26"
             ],
             [
              1,
              "#f0f921"
             ]
            ],
            "type": "histogram2dcontour"
           }
          ],
          "mesh3d": [
           {
            "colorbar": {
             "outlinewidth": 0,
             "ticks": ""
            },
            "type": "mesh3d"
           }
          ],
          "parcoords": [
           {
            "line": {
             "colorbar": {
              "outlinewidth": 0,
              "ticks": ""
             }
            },
            "type": "parcoords"
           }
          ],
          "pie": [
           {
            "automargin": true,
            "type": "pie"
           }
          ],
          "scatter": [
           {
            "fillpattern": {
             "fillmode": "overlay",
             "size": 10,
             "solidity": 0.2
            },
            "type": "scatter"
           }
          ],
          "scatter3d": [
           {
            "line": {
             "colorbar": {
              "outlinewidth": 0,
              "ticks": ""
             }
            },
            "marker": {
             "colorbar": {
              "outlinewidth": 0,
              "ticks": ""
             }
            },
            "type": "scatter3d"
           }
          ],
          "scattercarpet": [
           {
            "marker": {
             "colorbar": {
              "outlinewidth": 0,
              "ticks": ""
             }
            },
            "type": "scattercarpet"
           }
          ],
          "scattergeo": [
           {
            "marker": {
             "colorbar": {
              "outlinewidth": 0,
              "ticks": ""
             }
            },
            "type": "scattergeo"
           }
          ],
          "scattergl": [
           {
            "marker": {
             "colorbar": {
              "outlinewidth": 0,
              "ticks": ""
             }
            },
            "type": "scattergl"
           }
          ],
          "scattermapbox": [
           {
            "marker": {
             "colorbar": {
              "outlinewidth": 0,
              "ticks": ""
             }
            },
            "type": "scattermapbox"
           }
          ],
          "scatterpolar": [
           {
            "marker": {
             "colorbar": {
              "outlinewidth": 0,
              "ticks": ""
             }
            },
            "type": "scatterpolar"
           }
          ],
          "scatterpolargl": [
           {
            "marker": {
             "colorbar": {
              "outlinewidth": 0,
              "ticks": ""
             }
            },
            "type": "scatterpolargl"
           }
          ],
          "scatterternary": [
           {
            "marker": {
             "colorbar": {
              "outlinewidth": 0,
              "ticks": ""
             }
            },
            "type": "scatterternary"
           }
          ],
          "surface": [
           {
            "colorbar": {
             "outlinewidth": 0,
             "ticks": ""
            },
            "colorscale": [
             [
              0,
              "#0d0887"
             ],
             [
              0.1111111111111111,
              "#46039f"
             ],
             [
              0.2222222222222222,
              "#7201a8"
             ],
             [
              0.3333333333333333,
              "#9c179e"
             ],
             [
              0.4444444444444444,
              "#bd3786"
             ],
             [
              0.5555555555555556,
              "#d8576b"
             ],
             [
              0.6666666666666666,
              "#ed7953"
             ],
             [
              0.7777777777777778,
              "#fb9f3a"
             ],
             [
              0.8888888888888888,
              "#fdca26"
             ],
             [
              1,
              "#f0f921"
             ]
            ],
            "type": "surface"
           }
          ],
          "table": [
           {
            "cells": {
             "fill": {
              "color": "#EBF0F8"
             },
             "line": {
              "color": "white"
             }
            },
            "header": {
             "fill": {
              "color": "#C8D4E3"
             },
             "line": {
              "color": "white"
             }
            },
            "type": "table"
           }
          ]
         },
         "layout": {
          "annotationdefaults": {
           "arrowcolor": "#2a3f5f",
           "arrowhead": 0,
           "arrowwidth": 1
          },
          "autotypenumbers": "strict",
          "coloraxis": {
           "colorbar": {
            "outlinewidth": 0,
            "ticks": ""
           }
          },
          "colorscale": {
           "diverging": [
            [
             0,
             "#8e0152"
            ],
            [
             0.1,
             "#c51b7d"
            ],
            [
             0.2,
             "#de77ae"
            ],
            [
             0.3,
             "#f1b6da"
            ],
            [
             0.4,
             "#fde0ef"
            ],
            [
             0.5,
             "#f7f7f7"
            ],
            [
             0.6,
             "#e6f5d0"
            ],
            [
             0.7,
             "#b8e186"
            ],
            [
             0.8,
             "#7fbc41"
            ],
            [
             0.9,
             "#4d9221"
            ],
            [
             1,
             "#276419"
            ]
           ],
           "sequential": [
            [
             0,
             "#0d0887"
            ],
            [
             0.1111111111111111,
             "#46039f"
            ],
            [
             0.2222222222222222,
             "#7201a8"
            ],
            [
             0.3333333333333333,
             "#9c179e"
            ],
            [
             0.4444444444444444,
             "#bd3786"
            ],
            [
             0.5555555555555556,
             "#d8576b"
            ],
            [
             0.6666666666666666,
             "#ed7953"
            ],
            [
             0.7777777777777778,
             "#fb9f3a"
            ],
            [
             0.8888888888888888,
             "#fdca26"
            ],
            [
             1,
             "#f0f921"
            ]
           ],
           "sequentialminus": [
            [
             0,
             "#0d0887"
            ],
            [
             0.1111111111111111,
             "#46039f"
            ],
            [
             0.2222222222222222,
             "#7201a8"
            ],
            [
             0.3333333333333333,
             "#9c179e"
            ],
            [
             0.4444444444444444,
             "#bd3786"
            ],
            [
             0.5555555555555556,
             "#d8576b"
            ],
            [
             0.6666666666666666,
             "#ed7953"
            ],
            [
             0.7777777777777778,
             "#fb9f3a"
            ],
            [
             0.8888888888888888,
             "#fdca26"
            ],
            [
             1,
             "#f0f921"
            ]
           ]
          },
          "colorway": [
           "#636efa",
           "#EF553B",
           "#00cc96",
           "#ab63fa",
           "#FFA15A",
           "#19d3f3",
           "#FF6692",
           "#B6E880",
           "#FF97FF",
           "#FECB52"
          ],
          "font": {
           "color": "#2a3f5f"
          },
          "geo": {
           "bgcolor": "white",
           "lakecolor": "white",
           "landcolor": "#E5ECF6",
           "showlakes": true,
           "showland": true,
           "subunitcolor": "white"
          },
          "hoverlabel": {
           "align": "left"
          },
          "hovermode": "closest",
          "mapbox": {
           "style": "light"
          },
          "paper_bgcolor": "white",
          "plot_bgcolor": "#E5ECF6",
          "polar": {
           "angularaxis": {
            "gridcolor": "white",
            "linecolor": "white",
            "ticks": ""
           },
           "bgcolor": "#E5ECF6",
           "radialaxis": {
            "gridcolor": "white",
            "linecolor": "white",
            "ticks": ""
           }
          },
          "scene": {
           "xaxis": {
            "backgroundcolor": "#E5ECF6",
            "gridcolor": "white",
            "gridwidth": 2,
            "linecolor": "white",
            "showbackground": true,
            "ticks": "",
            "zerolinecolor": "white"
           },
           "yaxis": {
            "backgroundcolor": "#E5ECF6",
            "gridcolor": "white",
            "gridwidth": 2,
            "linecolor": "white",
            "showbackground": true,
            "ticks": "",
            "zerolinecolor": "white"
           },
           "zaxis": {
            "backgroundcolor": "#E5ECF6",
            "gridcolor": "white",
            "gridwidth": 2,
            "linecolor": "white",
            "showbackground": true,
            "ticks": "",
            "zerolinecolor": "white"
           }
          },
          "shapedefaults": {
           "line": {
            "color": "#2a3f5f"
           }
          },
          "ternary": {
           "aaxis": {
            "gridcolor": "white",
            "linecolor": "white",
            "ticks": ""
           },
           "baxis": {
            "gridcolor": "white",
            "linecolor": "white",
            "ticks": ""
           },
           "bgcolor": "#E5ECF6",
           "caxis": {
            "gridcolor": "white",
            "linecolor": "white",
            "ticks": ""
           }
          },
          "title": {
           "x": 0.05
          },
          "xaxis": {
           "automargin": true,
           "gridcolor": "white",
           "linecolor": "white",
           "ticks": "",
           "title": {
            "standoff": 15
           },
           "zerolinecolor": "white",
           "zerolinewidth": 2
          },
          "yaxis": {
           "automargin": true,
           "gridcolor": "white",
           "linecolor": "white",
           "ticks": "",
           "title": {
            "standoff": 15
           },
           "zerolinecolor": "white",
           "zerolinewidth": 2
          }
         }
        },
        "title": {
         "text": "Wins & Losses of Teams [1996-2024]"
        },
        "xaxis": {
         "anchor": "y",
         "domain": [
          0,
          1
         ],
         "title": {
          "text": "Team"
         }
        },
        "yaxis": {
         "anchor": "x",
         "domain": [
          0,
          1
         ],
         "title": {
          "text": "Total Games Played"
         }
        }
       }
      }
     },
     "metadata": {},
     "output_type": "display_data"
    }
   ],
   "source": [
    "# Bar Chart of Wins and Losses\n",
    "from plotly import express as px\n",
    "\n",
    "fig = px.bar(bar_chart_df, x= bar_chart_df.index, y= ['LOSSES','WINS'], barmode = 'stack', text_auto = True,\n",
    "             height=400)\n",
    "\n",
    "fig.update_layout(\n",
    "    title= 'Wins & Losses of Teams [1996-2024]',\n",
    "    xaxis_title='Team',\n",
    "    yaxis_title='Total Games Played',\n",
    "    legend_title='Result',\n",
    ")\n",
    "fig.show()\n",
    "\n"
   ]
  },
  {
   "cell_type": "code",
   "execution_count": 125,
   "metadata": {},
   "outputs": [
    {
     "data": {
      "application/vnd.plotly.v1+json": {
       "config": {
        "plotlyServerURL": "https://plot.ly"
       },
       "data": [
        {
         "alignmentgroup": "True",
         "hovertemplate": "index=%{x}<br>WIN RATE=%{y}<extra></extra>",
         "legendgroup": "",
         "marker": {
          "color": "#636efa",
          "pattern": {
           "shape": ""
          }
         },
         "name": "",
         "offsetgroup": "",
         "orientation": "v",
         "showlegend": false,
         "textposition": "auto",
         "type": "bar",
         "x": [
          "ATLANTA HAWKS",
          "BROOKLYN NETS",
          "BOSTON CELTICS",
          "CHARLOTTE HORNETS",
          "CHICAGO BULLS",
          "CLEVELAND CAVALIERS",
          "DALLAS MAVERICKS",
          "DENVER NUGGETS",
          "DETROIT PISTONS",
          "GOLDEN STATE WARRIORS",
          "HOUSTON ROCKETS",
          "INDIANA PACERS",
          "LA CLIPPERS",
          "LOS ANGELES LAKERS",
          "MEMPHIS GRIZZLIES",
          "MIAMI HEAT",
          "MILWAUKEE BUCKS",
          "MINNESOTA TIMBERWOLVES",
          "NEW ORLEANS PELICANS",
          "NEW YORK KNICKS",
          "OKLAHOMA CITY THUNDER",
          "ORLANDO MAGIC",
          "PHILADELPHIA 76ERS",
          "PHOENIX SUNS",
          "PORTLAND TRAIL BLAZERS",
          "SACRAMENTO KINGS",
          "SAN ANTONIO SPURS",
          "TORONTO RAPTORS",
          "UTAH JAZZ",
          "WASHINGTON WIZARDS"
         ],
         "xaxis": "x",
         "y": [
          0.47,
          0.45,
          0.54,
          0.44,
          0.48,
          0.49,
          0.56,
          0.51,
          0.47,
          0.49,
          0.54,
          0.54,
          0.48,
          0.56,
          0.44,
          0.57,
          0.5,
          0.45,
          0.47,
          0.45,
          0.55,
          0.47,
          0.48,
          0.53,
          0.52,
          0.46,
          0.62,
          0.48,
          0.57,
          0.42
         ],
         "yaxis": "y"
        }
       ],
       "layout": {
        "barmode": "relative",
        "legend": {
         "tracegroupgap": 0
        },
        "margin": {
         "t": 60
        },
        "template": {
         "data": {
          "bar": [
           {
            "error_x": {
             "color": "#2a3f5f"
            },
            "error_y": {
             "color": "#2a3f5f"
            },
            "marker": {
             "line": {
              "color": "#E5ECF6",
              "width": 0.5
             },
             "pattern": {
              "fillmode": "overlay",
              "size": 10,
              "solidity": 0.2
             }
            },
            "type": "bar"
           }
          ],
          "barpolar": [
           {
            "marker": {
             "line": {
              "color": "#E5ECF6",
              "width": 0.5
             },
             "pattern": {
              "fillmode": "overlay",
              "size": 10,
              "solidity": 0.2
             }
            },
            "type": "barpolar"
           }
          ],
          "carpet": [
           {
            "aaxis": {
             "endlinecolor": "#2a3f5f",
             "gridcolor": "white",
             "linecolor": "white",
             "minorgridcolor": "white",
             "startlinecolor": "#2a3f5f"
            },
            "baxis": {
             "endlinecolor": "#2a3f5f",
             "gridcolor": "white",
             "linecolor": "white",
             "minorgridcolor": "white",
             "startlinecolor": "#2a3f5f"
            },
            "type": "carpet"
           }
          ],
          "choropleth": [
           {
            "colorbar": {
             "outlinewidth": 0,
             "ticks": ""
            },
            "type": "choropleth"
           }
          ],
          "contour": [
           {
            "colorbar": {
             "outlinewidth": 0,
             "ticks": ""
            },
            "colorscale": [
             [
              0,
              "#0d0887"
             ],
             [
              0.1111111111111111,
              "#46039f"
             ],
             [
              0.2222222222222222,
              "#7201a8"
             ],
             [
              0.3333333333333333,
              "#9c179e"
             ],
             [
              0.4444444444444444,
              "#bd3786"
             ],
             [
              0.5555555555555556,
              "#d8576b"
             ],
             [
              0.6666666666666666,
              "#ed7953"
             ],
             [
              0.7777777777777778,
              "#fb9f3a"
             ],
             [
              0.8888888888888888,
              "#fdca26"
             ],
             [
              1,
              "#f0f921"
             ]
            ],
            "type": "contour"
           }
          ],
          "contourcarpet": [
           {
            "colorbar": {
             "outlinewidth": 0,
             "ticks": ""
            },
            "type": "contourcarpet"
           }
          ],
          "heatmap": [
           {
            "colorbar": {
             "outlinewidth": 0,
             "ticks": ""
            },
            "colorscale": [
             [
              0,
              "#0d0887"
             ],
             [
              0.1111111111111111,
              "#46039f"
             ],
             [
              0.2222222222222222,
              "#7201a8"
             ],
             [
              0.3333333333333333,
              "#9c179e"
             ],
             [
              0.4444444444444444,
              "#bd3786"
             ],
             [
              0.5555555555555556,
              "#d8576b"
             ],
             [
              0.6666666666666666,
              "#ed7953"
             ],
             [
              0.7777777777777778,
              "#fb9f3a"
             ],
             [
              0.8888888888888888,
              "#fdca26"
             ],
             [
              1,
              "#f0f921"
             ]
            ],
            "type": "heatmap"
           }
          ],
          "heatmapgl": [
           {
            "colorbar": {
             "outlinewidth": 0,
             "ticks": ""
            },
            "colorscale": [
             [
              0,
              "#0d0887"
             ],
             [
              0.1111111111111111,
              "#46039f"
             ],
             [
              0.2222222222222222,
              "#7201a8"
             ],
             [
              0.3333333333333333,
              "#9c179e"
             ],
             [
              0.4444444444444444,
              "#bd3786"
             ],
             [
              0.5555555555555556,
              "#d8576b"
             ],
             [
              0.6666666666666666,
              "#ed7953"
             ],
             [
              0.7777777777777778,
              "#fb9f3a"
             ],
             [
              0.8888888888888888,
              "#fdca26"
             ],
             [
              1,
              "#f0f921"
             ]
            ],
            "type": "heatmapgl"
           }
          ],
          "histogram": [
           {
            "marker": {
             "pattern": {
              "fillmode": "overlay",
              "size": 10,
              "solidity": 0.2
             }
            },
            "type": "histogram"
           }
          ],
          "histogram2d": [
           {
            "colorbar": {
             "outlinewidth": 0,
             "ticks": ""
            },
            "colorscale": [
             [
              0,
              "#0d0887"
             ],
             [
              0.1111111111111111,
              "#46039f"
             ],
             [
              0.2222222222222222,
              "#7201a8"
             ],
             [
              0.3333333333333333,
              "#9c179e"
             ],
             [
              0.4444444444444444,
              "#bd3786"
             ],
             [
              0.5555555555555556,
              "#d8576b"
             ],
             [
              0.6666666666666666,
              "#ed7953"
             ],
             [
              0.7777777777777778,
              "#fb9f3a"
             ],
             [
              0.8888888888888888,
              "#fdca26"
             ],
             [
              1,
              "#f0f921"
             ]
            ],
            "type": "histogram2d"
           }
          ],
          "histogram2dcontour": [
           {
            "colorbar": {
             "outlinewidth": 0,
             "ticks": ""
            },
            "colorscale": [
             [
              0,
              "#0d0887"
             ],
             [
              0.1111111111111111,
              "#46039f"
             ],
             [
              0.2222222222222222,
              "#7201a8"
             ],
             [
              0.3333333333333333,
              "#9c179e"
             ],
             [
              0.4444444444444444,
              "#bd3786"
             ],
             [
              0.5555555555555556,
              "#d8576b"
             ],
             [
              0.6666666666666666,
              "#ed7953"
             ],
             [
              0.7777777777777778,
              "#fb9f3a"
             ],
             [
              0.8888888888888888,
              "#fdca26"
             ],
             [
              1,
              "#f0f921"
             ]
            ],
            "type": "histogram2dcontour"
           }
          ],
          "mesh3d": [
           {
            "colorbar": {
             "outlinewidth": 0,
             "ticks": ""
            },
            "type": "mesh3d"
           }
          ],
          "parcoords": [
           {
            "line": {
             "colorbar": {
              "outlinewidth": 0,
              "ticks": ""
             }
            },
            "type": "parcoords"
           }
          ],
          "pie": [
           {
            "automargin": true,
            "type": "pie"
           }
          ],
          "scatter": [
           {
            "fillpattern": {
             "fillmode": "overlay",
             "size": 10,
             "solidity": 0.2
            },
            "type": "scatter"
           }
          ],
          "scatter3d": [
           {
            "line": {
             "colorbar": {
              "outlinewidth": 0,
              "ticks": ""
             }
            },
            "marker": {
             "colorbar": {
              "outlinewidth": 0,
              "ticks": ""
             }
            },
            "type": "scatter3d"
           }
          ],
          "scattercarpet": [
           {
            "marker": {
             "colorbar": {
              "outlinewidth": 0,
              "ticks": ""
             }
            },
            "type": "scattercarpet"
           }
          ],
          "scattergeo": [
           {
            "marker": {
             "colorbar": {
              "outlinewidth": 0,
              "ticks": ""
             }
            },
            "type": "scattergeo"
           }
          ],
          "scattergl": [
           {
            "marker": {
             "colorbar": {
              "outlinewidth": 0,
              "ticks": ""
             }
            },
            "type": "scattergl"
           }
          ],
          "scattermapbox": [
           {
            "marker": {
             "colorbar": {
              "outlinewidth": 0,
              "ticks": ""
             }
            },
            "type": "scattermapbox"
           }
          ],
          "scatterpolar": [
           {
            "marker": {
             "colorbar": {
              "outlinewidth": 0,
              "ticks": ""
             }
            },
            "type": "scatterpolar"
           }
          ],
          "scatterpolargl": [
           {
            "marker": {
             "colorbar": {
              "outlinewidth": 0,
              "ticks": ""
             }
            },
            "type": "scatterpolargl"
           }
          ],
          "scatterternary": [
           {
            "marker": {
             "colorbar": {
              "outlinewidth": 0,
              "ticks": ""
             }
            },
            "type": "scatterternary"
           }
          ],
          "surface": [
           {
            "colorbar": {
             "outlinewidth": 0,
             "ticks": ""
            },
            "colorscale": [
             [
              0,
              "#0d0887"
             ],
             [
              0.1111111111111111,
              "#46039f"
             ],
             [
              0.2222222222222222,
              "#7201a8"
             ],
             [
              0.3333333333333333,
              "#9c179e"
             ],
             [
              0.4444444444444444,
              "#bd3786"
             ],
             [
              0.5555555555555556,
              "#d8576b"
             ],
             [
              0.6666666666666666,
              "#ed7953"
             ],
             [
              0.7777777777777778,
              "#fb9f3a"
             ],
             [
              0.8888888888888888,
              "#fdca26"
             ],
             [
              1,
              "#f0f921"
             ]
            ],
            "type": "surface"
           }
          ],
          "table": [
           {
            "cells": {
             "fill": {
              "color": "#EBF0F8"
             },
             "line": {
              "color": "white"
             }
            },
            "header": {
             "fill": {
              "color": "#C8D4E3"
             },
             "line": {
              "color": "white"
             }
            },
            "type": "table"
           }
          ]
         },
         "layout": {
          "annotationdefaults": {
           "arrowcolor": "#2a3f5f",
           "arrowhead": 0,
           "arrowwidth": 1
          },
          "autotypenumbers": "strict",
          "coloraxis": {
           "colorbar": {
            "outlinewidth": 0,
            "ticks": ""
           }
          },
          "colorscale": {
           "diverging": [
            [
             0,
             "#8e0152"
            ],
            [
             0.1,
             "#c51b7d"
            ],
            [
             0.2,
             "#de77ae"
            ],
            [
             0.3,
             "#f1b6da"
            ],
            [
             0.4,
             "#fde0ef"
            ],
            [
             0.5,
             "#f7f7f7"
            ],
            [
             0.6,
             "#e6f5d0"
            ],
            [
             0.7,
             "#b8e186"
            ],
            [
             0.8,
             "#7fbc41"
            ],
            [
             0.9,
             "#4d9221"
            ],
            [
             1,
             "#276419"
            ]
           ],
           "sequential": [
            [
             0,
             "#0d0887"
            ],
            [
             0.1111111111111111,
             "#46039f"
            ],
            [
             0.2222222222222222,
             "#7201a8"
            ],
            [
             0.3333333333333333,
             "#9c179e"
            ],
            [
             0.4444444444444444,
             "#bd3786"
            ],
            [
             0.5555555555555556,
             "#d8576b"
            ],
            [
             0.6666666666666666,
             "#ed7953"
            ],
            [
             0.7777777777777778,
             "#fb9f3a"
            ],
            [
             0.8888888888888888,
             "#fdca26"
            ],
            [
             1,
             "#f0f921"
            ]
           ],
           "sequentialminus": [
            [
             0,
             "#0d0887"
            ],
            [
             0.1111111111111111,
             "#46039f"
            ],
            [
             0.2222222222222222,
             "#7201a8"
            ],
            [
             0.3333333333333333,
             "#9c179e"
            ],
            [
             0.4444444444444444,
             "#bd3786"
            ],
            [
             0.5555555555555556,
             "#d8576b"
            ],
            [
             0.6666666666666666,
             "#ed7953"
            ],
            [
             0.7777777777777778,
             "#fb9f3a"
            ],
            [
             0.8888888888888888,
             "#fdca26"
            ],
            [
             1,
             "#f0f921"
            ]
           ]
          },
          "colorway": [
           "#636efa",
           "#EF553B",
           "#00cc96",
           "#ab63fa",
           "#FFA15A",
           "#19d3f3",
           "#FF6692",
           "#B6E880",
           "#FF97FF",
           "#FECB52"
          ],
          "font": {
           "color": "#2a3f5f"
          },
          "geo": {
           "bgcolor": "white",
           "lakecolor": "white",
           "landcolor": "#E5ECF6",
           "showlakes": true,
           "showland": true,
           "subunitcolor": "white"
          },
          "hoverlabel": {
           "align": "left"
          },
          "hovermode": "closest",
          "mapbox": {
           "style": "light"
          },
          "paper_bgcolor": "white",
          "plot_bgcolor": "#E5ECF6",
          "polar": {
           "angularaxis": {
            "gridcolor": "white",
            "linecolor": "white",
            "ticks": ""
           },
           "bgcolor": "#E5ECF6",
           "radialaxis": {
            "gridcolor": "white",
            "linecolor": "white",
            "ticks": ""
           }
          },
          "scene": {
           "xaxis": {
            "backgroundcolor": "#E5ECF6",
            "gridcolor": "white",
            "gridwidth": 2,
            "linecolor": "white",
            "showbackground": true,
            "ticks": "",
            "zerolinecolor": "white"
           },
           "yaxis": {
            "backgroundcolor": "#E5ECF6",
            "gridcolor": "white",
            "gridwidth": 2,
            "linecolor": "white",
            "showbackground": true,
            "ticks": "",
            "zerolinecolor": "white"
           },
           "zaxis": {
            "backgroundcolor": "#E5ECF6",
            "gridcolor": "white",
            "gridwidth": 2,
            "linecolor": "white",
            "showbackground": true,
            "ticks": "",
            "zerolinecolor": "white"
           }
          },
          "shapedefaults": {
           "line": {
            "color": "#2a3f5f"
           }
          },
          "ternary": {
           "aaxis": {
            "gridcolor": "white",
            "linecolor": "white",
            "ticks": ""
           },
           "baxis": {
            "gridcolor": "white",
            "linecolor": "white",
            "ticks": ""
           },
           "bgcolor": "#E5ECF6",
           "caxis": {
            "gridcolor": "white",
            "linecolor": "white",
            "ticks": ""
           }
          },
          "title": {
           "x": 0.05
          },
          "xaxis": {
           "automargin": true,
           "gridcolor": "white",
           "linecolor": "white",
           "ticks": "",
           "title": {
            "standoff": 15
           },
           "zerolinecolor": "white",
           "zerolinewidth": 2
          },
          "yaxis": {
           "automargin": true,
           "gridcolor": "white",
           "linecolor": "white",
           "ticks": "",
           "title": {
            "standoff": 15
           },
           "zerolinecolor": "white",
           "zerolinewidth": 2
          }
         }
        },
        "title": {
         "text": "Teams' Historical Performance"
        },
        "xaxis": {
         "anchor": "y",
         "domain": [
          0,
          1
         ],
         "title": {
          "text": "Team"
         }
        },
        "yaxis": {
         "anchor": "x",
         "domain": [
          0,
          1
         ],
         "title": {
          "text": "Win Rate"
         }
        }
       }
      }
     },
     "metadata": {},
     "output_type": "display_data"
    }
   ],
   "source": [
    "# Bar Chart of Overall Winning Rate\n",
    "fig1 = px.bar(bar_chart_df, x= bar_chart_df.index, y='WIN RATE')\n",
    "\n",
    "fig1.update_layout(\n",
    "    title= 'Teams\\' Historical Performance',\n",
    "    xaxis_title='Team',\n",
    "    yaxis_title='Win Rate',\n",
    ")\n",
    "fig1.show()"
   ]
  },
  {
   "cell_type": "code",
   "execution_count": 126,
   "metadata": {},
   "outputs": [],
   "source": [
    "# Condense the distribution [Normalzation]\n",
    "\n",
    "from sklearn.preprocessing import LabelEncoder, MinMaxScaler\n",
    "\n",
    "encoder = LabelEncoder()\n",
    "scalar = MinMaxScaler()\n",
    "\n",
    "full_df[\"W/L\"] = encoder.fit_transform(full_df[\"W/L\"]) # WIN: 1 , LOSE: 0\n",
    "\n",
    "num_cols = full_df.select_dtypes(include='number')\n",
    "\n",
    "norm_df = pd.DataFrame(scalar.fit_transform(num_cols), columns = num_cols.columns)\n",
    "norm_df = pd.concat([full_df.drop(columns=num_cols.columns),norm_df], axis=1)\n",
    "\n",
    "norm_df = norm_df.sort_values(by=['SEASON']).reset_index(drop=True)\n",
    "\n",
    "# Prepare data for ML\n",
    "quant_features = norm_df.select_dtypes(['category', 'object'])\n",
    "qual_features =  norm_df.select_dtypes(['number'])\n",
    "\n",
    "X = qual_features.drop(columns=['W/L'])\n",
    "y = qual_features['W/L']"
   ]
  },
  {
   "cell_type": "markdown",
   "metadata": {},
   "source": [
    "#### Machine Learning\n",
    "\n",
    "- Splitting data as 80/10/10 train-val-test\n",
    "- Experiementing DecisionTreeRegressor"
   ]
  },
  {
   "cell_type": "code",
   "execution_count": 129,
   "metadata": {},
   "outputs": [
    {
     "name": "stdout",
     "output_type": "stream",
     "text": [
      "Train:  1.0\n",
      "Val:  1.0\n",
      "Test:  1.0\n"
     ]
    }
   ],
   "source": [
    "# Decision Tree Regression\n",
    "from sklearn.model_selection import train_test_split\n",
    "from sklearn.tree import DecisionTreeRegressor as DTR\n",
    "\n",
    "\n",
    "regression = DTR(criterion='absolute_error', max_depth= 15)\n",
    "\n",
    "X_train, X_remain, y_train, y_remain = train_test_split(X, y, test_size=0.2, random_state=42)\n",
    "\n",
    "regression.fit(X_train,y_train)\n",
    "y_pred = regression.predict(X_remain)\n",
    "\n",
    "X_val, X_test, y_val, y_test = train_test_split(X_remain, y_remain, test_size=0.2, random_state=42) # 0.25\n",
    "\n",
    "regression.fit(X_val,y_val)\n",
    "y_pred1 = regression.predict(X_test)\n",
    "\n",
    "print('Train: ', round(regression.score(X_train,y_train), 2))\n",
    "print('Val: ', round(regression.score(X_val,y_val), 2))\n",
    "print('Test: ', round(regression.score(X_test,y_test), 2))\n"
   ]
  },
  {
   "cell_type": "code",
   "execution_count": 131,
   "metadata": {},
   "outputs": [
    {
     "name": "stdout",
     "output_type": "stream",
     "text": [
      "1.0\n",
      "Mean Squared Error of testing set:0.0\n",
      "              precision    recall  f1-score   support\n",
      "\n",
      "        loss       1.00      1.00      1.00      1316\n",
      "         win       1.00      1.00      1.00      1331\n",
      "\n",
      "    accuracy                           1.00      2647\n",
      "   macro avg       1.00      1.00      1.00      2647\n",
      "weighted avg       1.00      1.00      1.00      2647\n",
      "\n",
      "<sklearn.metrics._plot.confusion_matrix.ConfusionMatrixDisplay object at 0x7f80457bec70>\n"
     ]
    },
    {
     "data": {
      "image/png": "[encoded data removed]",
      "text/plain": [
       "<Figure size 432x288 with 2 Axes>"
      ]
     },
     "metadata": {
      "needs_background": "light"
     },
     "output_type": "display_data"
    }
   ],
   "source": [
    "from sklearn.metrics import mean_squared_error, classification_report, ConfusionMatrixDisplay, accuracy_score\n",
    "mse = mean_squared_error(y_remain,y_pred) # Gets the average loss between actual and predicted value of the target\n",
    "\n",
    "print(accuracy_score(y_test,y_pred1))\n",
    "print(f\"Mean Squared Error of testing set:{round(mse,2)}\")\n",
    "\n",
    "print(classification_report(y_test,y_pred1,target_names=['loss','win'] )) # Explained in Markdown Note 3\n",
    "\n",
    "cm = ConfusionMatrixDisplay.from_predictions(y_test,y_pred1 ,display_labels=['loss','win']) # Explained in Markdown Note 4\n",
    "cm.ax_.set_title('Model Predictions')\n",
    "print(cm)"
   ]
  },
  {
   "cell_type": "markdown",
   "metadata": {},
   "source": [
    "# WORK ON REMAINDER\n",
    "- Show Performance graphs\n",
    "- Create Team Tournament [Regions & Conferences]\n",
    "    - Probably add penalty (positive/negative) to the current match up"
   ]
  },
  {
   "cell_type": "code",
   "execution_count": null,
   "metadata": {},
   "outputs": [
    {
     "ename": "ValueError",
     "evalue": "The feature names should match those that were passed during fit.\nFeature names must be in the same order as they were in fit.\n",
     "output_type": "error",
     "traceback": [
      "\u001b[0;31m---------------------------------------------------------------------------\u001b[0m",
      "\u001b[0;31mValueError\u001b[0m                                Traceback (most recent call last)",
      "Input \u001b[0;32mIn [159]\u001b[0m, in \u001b[0;36m<cell line: 18>\u001b[0;34m()\u001b[0m\n\u001b[1;32m     31\u001b[0m matchup_features \u001b[38;5;241m=\u001b[39m matchup_features\u001b[38;5;241m.\u001b[39mtranspose()\n\u001b[1;32m     35\u001b[0m \u001b[38;5;66;03m# Predict the winner based on the results of the combined features\u001b[39;00m\n\u001b[0;32m---> 36\u001b[0m winner_index \u001b[38;5;241m=\u001b[39m \u001b[43mreg\u001b[49m\u001b[38;5;241;43m.\u001b[39;49m\u001b[43mpredict\u001b[49m\u001b[43m(\u001b[49m\u001b[43mmatchup_features\u001b[49m\u001b[43m)\u001b[49m[\u001b[38;5;241m0\u001b[39m]\n",
      "File \u001b[0;32m/Library/Frameworks/Python.framework/Versions/3.9/lib/python3.9/site-packages/sklearn/linear_model/_base.py:351\u001b[0m, in \u001b[0;36mLinearClassifierMixin.predict\u001b[0;34m(self, X)\u001b[0m\n\u001b[1;32m    337\u001b[0m \u001b[38;5;250m\u001b[39m\u001b[38;5;124;03m\"\"\"\u001b[39;00m\n\u001b[1;32m    338\u001b[0m \u001b[38;5;124;03mPredict class labels for samples in X.\u001b[39;00m\n\u001b[1;32m    339\u001b[0m \n\u001b[0;32m   (...)\u001b[0m\n\u001b[1;32m    348\u001b[0m \u001b[38;5;124;03m    Vector containing the class labels for each sample.\u001b[39;00m\n\u001b[1;32m    349\u001b[0m \u001b[38;5;124;03m\"\"\"\u001b[39;00m\n\u001b[1;32m    350\u001b[0m xp, _ \u001b[38;5;241m=\u001b[39m get_namespace(X)\n\u001b[0;32m--> 351\u001b[0m scores \u001b[38;5;241m=\u001b[39m \u001b[38;5;28;43mself\u001b[39;49m\u001b[38;5;241;43m.\u001b[39;49m\u001b[43mdecision_function\u001b[49m\u001b[43m(\u001b[49m\u001b[43mX\u001b[49m\u001b[43m)\u001b[49m\n\u001b[1;32m    352\u001b[0m \u001b[38;5;28;01mif\u001b[39;00m \u001b[38;5;28mlen\u001b[39m(scores\u001b[38;5;241m.\u001b[39mshape) \u001b[38;5;241m==\u001b[39m \u001b[38;5;241m1\u001b[39m:\n\u001b[1;32m    353\u001b[0m     indices \u001b[38;5;241m=\u001b[39m xp\u001b[38;5;241m.\u001b[39mastype(scores \u001b[38;5;241m>\u001b[39m \u001b[38;5;241m0\u001b[39m, \u001b[38;5;28mint\u001b[39m)\n",
      "File \u001b[0;32m/Library/Frameworks/Python.framework/Versions/3.9/lib/python3.9/site-packages/sklearn/linear_model/_base.py:332\u001b[0m, in \u001b[0;36mLinearClassifierMixin.decision_function\u001b[0;34m(self, X)\u001b[0m\n\u001b[1;32m    329\u001b[0m check_is_fitted(\u001b[38;5;28mself\u001b[39m)\n\u001b[1;32m    330\u001b[0m xp, _ \u001b[38;5;241m=\u001b[39m get_namespace(X)\n\u001b[0;32m--> 332\u001b[0m X \u001b[38;5;241m=\u001b[39m \u001b[38;5;28;43mself\u001b[39;49m\u001b[38;5;241;43m.\u001b[39;49m\u001b[43m_validate_data\u001b[49m\u001b[43m(\u001b[49m\u001b[43mX\u001b[49m\u001b[43m,\u001b[49m\u001b[43m \u001b[49m\u001b[43maccept_sparse\u001b[49m\u001b[38;5;241;43m=\u001b[39;49m\u001b[38;5;124;43m\"\u001b[39;49m\u001b[38;5;124;43mcsr\u001b[39;49m\u001b[38;5;124;43m\"\u001b[39;49m\u001b[43m,\u001b[49m\u001b[43m \u001b[49m\u001b[43mreset\u001b[49m\u001b[38;5;241;43m=\u001b[39;49m\u001b[38;5;28;43;01mFalse\u001b[39;49;00m\u001b[43m)\u001b[49m\n\u001b[1;32m    333\u001b[0m scores \u001b[38;5;241m=\u001b[39m safe_sparse_dot(X, \u001b[38;5;28mself\u001b[39m\u001b[38;5;241m.\u001b[39mcoef_\u001b[38;5;241m.\u001b[39mT, dense_output\u001b[38;5;241m=\u001b[39m\u001b[38;5;28;01mTrue\u001b[39;00m) \u001b[38;5;241m+\u001b[39m \u001b[38;5;28mself\u001b[39m\u001b[38;5;241m.\u001b[39mintercept_\n\u001b[1;32m    334\u001b[0m \u001b[38;5;28;01mreturn\u001b[39;00m xp\u001b[38;5;241m.\u001b[39mreshape(scores, (\u001b[38;5;241m-\u001b[39m\u001b[38;5;241m1\u001b[39m,)) \u001b[38;5;28;01mif\u001b[39;00m scores\u001b[38;5;241m.\u001b[39mshape[\u001b[38;5;241m1\u001b[39m] \u001b[38;5;241m==\u001b[39m \u001b[38;5;241m1\u001b[39m \u001b[38;5;28;01melse\u001b[39;00m scores\n",
      "File \u001b[0;32m/Library/Frameworks/Python.framework/Versions/3.9/lib/python3.9/site-packages/sklearn/base.py:608\u001b[0m, in \u001b[0;36mBaseEstimator._validate_data\u001b[0;34m(self, X, y, reset, validate_separately, cast_to_ndarray, **check_params)\u001b[0m\n\u001b[1;32m    537\u001b[0m \u001b[38;5;28;01mdef\u001b[39;00m \u001b[38;5;21m_validate_data\u001b[39m(\n\u001b[1;32m    538\u001b[0m     \u001b[38;5;28mself\u001b[39m,\n\u001b[1;32m    539\u001b[0m     X\u001b[38;5;241m=\u001b[39m\u001b[38;5;124m\"\u001b[39m\u001b[38;5;124mno_validation\u001b[39m\u001b[38;5;124m\"\u001b[39m,\n\u001b[0;32m   (...)\u001b[0m\n\u001b[1;32m    544\u001b[0m     \u001b[38;5;241m*\u001b[39m\u001b[38;5;241m*\u001b[39mcheck_params,\n\u001b[1;32m    545\u001b[0m ):\n\u001b[1;32m    546\u001b[0m \u001b[38;5;250m    \u001b[39m\u001b[38;5;124;03m\"\"\"Validate input data and set or check the `n_features_in_` attribute.\u001b[39;00m\n\u001b[1;32m    547\u001b[0m \n\u001b[1;32m    548\u001b[0m \u001b[38;5;124;03m    Parameters\u001b[39;00m\n\u001b[0;32m   (...)\u001b[0m\n\u001b[1;32m    606\u001b[0m \u001b[38;5;124;03m        validated.\u001b[39;00m\n\u001b[1;32m    607\u001b[0m \u001b[38;5;124;03m    \"\"\"\u001b[39;00m\n\u001b[0;32m--> 608\u001b[0m     \u001b[38;5;28;43mself\u001b[39;49m\u001b[38;5;241;43m.\u001b[39;49m\u001b[43m_check_feature_names\u001b[49m\u001b[43m(\u001b[49m\u001b[43mX\u001b[49m\u001b[43m,\u001b[49m\u001b[43m \u001b[49m\u001b[43mreset\u001b[49m\u001b[38;5;241;43m=\u001b[39;49m\u001b[43mreset\u001b[49m\u001b[43m)\u001b[49m\n\u001b[1;32m    610\u001b[0m     \u001b[38;5;28;01mif\u001b[39;00m y \u001b[38;5;129;01mis\u001b[39;00m \u001b[38;5;28;01mNone\u001b[39;00m \u001b[38;5;129;01mand\u001b[39;00m \u001b[38;5;28mself\u001b[39m\u001b[38;5;241m.\u001b[39m_get_tags()[\u001b[38;5;124m\"\u001b[39m\u001b[38;5;124mrequires_y\u001b[39m\u001b[38;5;124m\"\u001b[39m]:\n\u001b[1;32m    611\u001b[0m         \u001b[38;5;28;01mraise\u001b[39;00m \u001b[38;5;167;01mValueError\u001b[39;00m(\n\u001b[1;32m    612\u001b[0m             \u001b[38;5;124mf\u001b[39m\u001b[38;5;124m\"\u001b[39m\u001b[38;5;124mThis \u001b[39m\u001b[38;5;132;01m{\u001b[39;00m\u001b[38;5;28mself\u001b[39m\u001b[38;5;241m.\u001b[39m\u001b[38;5;18m__class__\u001b[39m\u001b[38;5;241m.\u001b[39m\u001b[38;5;18m__name__\u001b[39m\u001b[38;5;132;01m}\u001b[39;00m\u001b[38;5;124m estimator \u001b[39m\u001b[38;5;124m\"\u001b[39m\n\u001b[1;32m    613\u001b[0m             \u001b[38;5;124m\"\u001b[39m\u001b[38;5;124mrequires y to be passed, but the target y is None.\u001b[39m\u001b[38;5;124m\"\u001b[39m\n\u001b[1;32m    614\u001b[0m         )\n",
      "File \u001b[0;32m/Library/Frameworks/Python.framework/Versions/3.9/lib/python3.9/site-packages/sklearn/base.py:535\u001b[0m, in \u001b[0;36mBaseEstimator._check_feature_names\u001b[0;34m(self, X, reset)\u001b[0m\n\u001b[1;32m    530\u001b[0m \u001b[38;5;28;01mif\u001b[39;00m \u001b[38;5;129;01mnot\u001b[39;00m missing_names \u001b[38;5;129;01mand\u001b[39;00m \u001b[38;5;129;01mnot\u001b[39;00m unexpected_names:\n\u001b[1;32m    531\u001b[0m     message \u001b[38;5;241m+\u001b[39m\u001b[38;5;241m=\u001b[39m (\n\u001b[1;32m    532\u001b[0m         \u001b[38;5;124m\"\u001b[39m\u001b[38;5;124mFeature names must be in the same order as they were in fit.\u001b[39m\u001b[38;5;130;01m\\n\u001b[39;00m\u001b[38;5;124m\"\u001b[39m\n\u001b[1;32m    533\u001b[0m     )\n\u001b[0;32m--> 535\u001b[0m \u001b[38;5;28;01mraise\u001b[39;00m \u001b[38;5;167;01mValueError\u001b[39;00m(message)\n",
      "\u001b[0;31mValueError\u001b[0m: The feature names should match those that were passed during fit.\nFeature names must be in the same order as they were in fit.\n"
     ]
    }
   ],
   "source": [
    "# FO\n",
    "\n",
    "\n",
    "winning_teams = norm_df[norm_df['WIN%'] >= win_rate1]\n",
    "\n",
    "#This is the selected data\n",
    "data_features = ['Team', 'Season', 'WIN%', 'W/L', 'FG%', '+/-', 'PTS',   'REB', 'STL', 'BLK']\n",
    "selected_data = winning_teams[data_features]\n",
    "\n",
    "# Sorting the data by season\n",
    "selected_data = selected_data.sort_values('Season')\n",
    "selected_data = selected_data.reset_index(drop=True)\n",
    "# Predicting winners of matchups\n",
    "predicted_winner_teamname = None\n",
    "predicted_winner_season = None\n",
    "\n",
    "# Iterate over pairs of teams\n",
    "for i, team1 in selected_data.iterrows():\n",
    "    for j, team2 in selected_data.iterrows():\n",
    "        \n",
    "        # Skip the same team matchups\n",
    "        if i == j:\n",
    "            continue\n",
    "\n",
    "        # Concatenate features of both teams\n",
    "        matchup_features = pd.concat([team1[['WIN%', 'FG%', 'PTS', 'REB', 'STL', 'BLK', '+/-']],\n",
    "                                      team2[['WIN%', 'FG%', 'PTS', 'REB', 'STL', 'BLK', '+/-']]], axis=1)\n",
    "\n",
    "\n",
    "        # Reshape the input for prediction\n",
    "        matchup_features = matchup_features.transpose()\n",
    "    \n",
    "\n",
    "\n",
    "        # Predict the winner based on the results of the combined features\n",
    "        winner_index = reg.predict(matchup_features)[0]\n"
   ]
  },
  {
   "cell_type": "code",
   "execution_count": null,
   "metadata": {},
   "outputs": [],
   "source": [
    "\n",
    "        # Display the results\n",
    "        if winner_index == 0:\n",
    "            predicted_winner_teamname = team1['Team']\n",
    "            predicted_winner_season = team1['Season']\n",
    "        else:\n",
    "            predicted_winner_teamname = team2['Team']\n",
    "            predicted_winner_season = team2['Season']\n",
    "\n",
    "        print(\"Matchup:\")\n",
    "        print(\"Team 1:\", team1['Team'], \"(\", team1['Season'], \")\")\n",
    "        print(\"Team 2:\", team2['Team'], \"(\", team2['Season'], \")\")\n",
    "        print(\"Predicted Winner:\", predicted_winner_teamname, \"(\", predicted_winner_season, \")\")\n",
    "        print()\n"
   ]
  },
  {
   "cell_type": "code",
   "execution_count": null,
   "metadata": {},
   "outputs": [],
   "source": [
    "# Create an empty dictionary\n",
    "wins_count = {}\n",
    "predicted_winners_info = {}\n",
    "\n",
    "for i, team1 in selected_data.iterrows():\n",
    "    for j, team2 in selected_data.iterrows():\n",
    "        if i == j:\n",
    "            continue\n",
    "\n",
    "        matchup_features = pd.concat([team1[['WIN%', 'FG%', 'PTS', 'REB', 'STL', 'BLK', '+/-']],\n",
    "                                      team2[['WIN%', 'FG%', 'PTS', 'REB', 'STL', 'BLK', '+/-']]], axis=1)\n",
    "\n",
    "        matchup_features = matchup_features.transpose()\n",
    "\n",
    "        winner_index = model.predict(matchup_features)[0]\n",
    "\n",
    "        if winner_index == 0:\n",
    "            predicted_winner_teamname = team1['Team']\n",
    "            predicted_winner_season = team1['Season']\n",
    "        else:\n",
    "            predicted_winner_teamname = team2['Team']\n",
    "            predicted_winner_season = team2['Season']\n",
    "\n",
    "        # Store the name and season of the predicted winner\n",
    "        predicted_winners_info[predicted_winner_teamname] = predicted_winner_season\n",
    "\n",
    "        # Increment the number of wins for the predicted winner\n",
    "        if predicted_winner_teamname in wins_count:\n",
    "            wins_count[predicted_winner_teamname] += 1\n",
    "        else:\n",
    "            wins_count[predicted_winner_teamname] = 1\n",
    "\n",
    "# Get the team with the most wins in the matchups\n",
    "most_wins_winner = max(wins_count, key=wins_count.get)\n",
    "most_wins_count = wins_count[most_wins_winner]\n",
    "\n",
    "most_wins_winner_season = predicted_winners_info[most_wins_winner]\n",
    "\n",
    "# Print the results\n",
    "print(\"The team with the Most Wins:\", most_wins_winner, \"(\", most_wins_winner_season, \")\")\n",
    "print(\"They won\", most_wins_count, \"games\")"
   ]
  }
 ],
 "metadata": {
  "kernelspec": {
   "display_name": "Python 3",
   "language": "python",
   "name": "python3"
  },
  "language_info": {
   "codemirror_mode": {
    "name": "ipython",
    "version": 3
   },
   "file_extension": ".py",
   "mimetype": "text/x-python",
   "name": "python",
   "nbconvert_exporter": "python",
   "pygments_lexer": "ipython3",
   "version": "3.9.7"
  }
 },
 "nbformat": 4,
 "nbformat_minor": 2
}
