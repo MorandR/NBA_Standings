{
 "cells": [
  {
   "cell_type": "markdown",
   "metadata": {},
   "source": [
    "# NBA Standings\n"
   ]
  },
  {
   "cell_type": "markdown",
   "metadata": {},
   "source": [
    "## Table of Contents\n",
    "\n",
    "- Introduction\n",
    "- Data: Collection, Cleaning and Preprocessing\n",
    "- Machine Learning\n",
    "- The Game\n",
    "- Conclusion\n"
   ]
  },
  {
   "cell_type": "markdown",
   "metadata": {},
   "source": [
    "### Introduction\n",
    "\n",
    "This project stems from a [ proposed project ] developed for a Machine Learning course, using Supervised Learning. I will attempt to gain better results and try out different models to establish a well defined tournament.\n",
    "Previously, I used features intented to aid in winning a game such as Block, Steal, Rebound, etc. Logistic and linear regression were the only models used to make these winning prediction. <br/>\n",
    "For this project, I will add more features and experiment with more regression models while using a more and advanced data to create an efficient model to predict the winner of team match ups, using data extracted from [NBA Site](https://www.nba.com)\n",
    "\n",
    "<font color=red>Note:</font> [Selenium](https://selenium-python.readthedocs.io/installation.html) was used to retreive the source data. <br/>\n",
    "This notebook contains interactive graphs which may require you to install a few dependencies. Graph images are displayed below the respected cell to view without running the program.\n"
   ]
  },
  {
   "cell_type": "markdown",
   "metadata": {},
   "source": [
    "### Data\n"
   ]
  },
  {
   "cell_type": "markdown",
   "metadata": {},
   "source": [
    "#### Collection [Selenium]\n",
    "\n",
    "Check [ ]() for Selenium Code\n"
   ]
  },
  {
   "cell_type": "code",
   "execution_count": 1,
   "metadata": {},
   "outputs": [],
   "source": [
    "import pandas as pd\n",
    "import numpy as np\n",
    "import random"
   ]
  },
  {
   "cell_type": "markdown",
   "metadata": {},
   "source": [
    "#### Cleaning & Processing\n",
    "\n",
    "Now we're going to:\n",
    "\n",
    "- Read data from previously exported csv file\n",
    "- Normalize the data to condense the distribution\n",
    "- Update Team Abbreviations to its' lastest of today\n"
   ]
  },
  {
   "cell_type": "code",
   "execution_count": 33,
   "metadata": {},
   "outputs": [],
   "source": [
    "# Read data\n",
    "full_df = pd.read_csv('nba_box_scores.csv')"
   ]
  },
  {
   "cell_type": "code",
   "execution_count": 34,
   "metadata": {},
   "outputs": [],
   "source": [
    "# Uncoment and run below if notebook did not run\n",
    "# df.loc[(df['SEASON'] < '2004-05') & (df['TEAM'] == 'NEW ORLEANS PELICANS'), 'CONFERENCE'] = 'WESTERN'\n"
   ]
  },
  {
   "cell_type": "code",
   "execution_count": 35,
   "metadata": {},
   "outputs": [
    {
     "data": {
      "text/html": [
       "<div>\n",
       "<style scoped>\n",
       "    .dataframe tbody tr th:only-of-type {\n",
       "        vertical-align: middle;\n",
       "    }\n",
       "\n",
       "    .dataframe tbody tr th {\n",
       "        vertical-align: top;\n",
       "    }\n",
       "\n",
       "    .dataframe thead th {\n",
       "        text-align: right;\n",
       "    }\n",
       "</style>\n",
       "<table border=\"1\" class=\"dataframe\">\n",
       "  <thead>\n",
       "    <tr style=\"text-align: right;\">\n",
       "      <th></th>\n",
       "      <th>TEAM ABBR</th>\n",
       "      <th>TEAM</th>\n",
       "      <th>OPP ABBR</th>\n",
       "      <th>OPPONENT</th>\n",
       "      <th>SEASON</th>\n",
       "      <th>MATCH UP</th>\n",
       "      <th>GAME DATE</th>\n",
       "      <th>W/L</th>\n",
       "      <th>MIN</th>\n",
       "      <th>PTS</th>\n",
       "      <th>...</th>\n",
       "      <th>DREB</th>\n",
       "      <th>REB</th>\n",
       "      <th>AST</th>\n",
       "      <th>TOV</th>\n",
       "      <th>STL</th>\n",
       "      <th>BLK</th>\n",
       "      <th>PF</th>\n",
       "      <th>+/-</th>\n",
       "      <th>CONFERENCE</th>\n",
       "      <th>REGION</th>\n",
       "    </tr>\n",
       "  </thead>\n",
       "  <tbody>\n",
       "    <tr>\n",
       "      <th>0</th>\n",
       "      <td>NYK</td>\n",
       "      <td>NEW YORK KNICKS</td>\n",
       "      <td>CHI</td>\n",
       "      <td>CHICAGO BULLS</td>\n",
       "      <td>2023-24</td>\n",
       "      <td>NYK vs. CHI</td>\n",
       "      <td>4/14/24</td>\n",
       "      <td>W</td>\n",
       "      <td>53</td>\n",
       "      <td>120</td>\n",
       "      <td>...</td>\n",
       "      <td>37</td>\n",
       "      <td>53</td>\n",
       "      <td>27</td>\n",
       "      <td>21.0</td>\n",
       "      <td>7</td>\n",
       "      <td>6</td>\n",
       "      <td>17</td>\n",
       "      <td>1.0</td>\n",
       "      <td>EASTERN</td>\n",
       "      <td>ATLANTIC</td>\n",
       "    </tr>\n",
       "    <tr>\n",
       "      <th>1</th>\n",
       "      <td>CHA</td>\n",
       "      <td>CHARLOTTE HORNETS</td>\n",
       "      <td>CLE</td>\n",
       "      <td>CLEVELAND CAVALIERS</td>\n",
       "      <td>2023-24</td>\n",
       "      <td>CHA @ CLE</td>\n",
       "      <td>4/14/24</td>\n",
       "      <td>W</td>\n",
       "      <td>48</td>\n",
       "      <td>120</td>\n",
       "      <td>...</td>\n",
       "      <td>37</td>\n",
       "      <td>47</td>\n",
       "      <td>36</td>\n",
       "      <td>10.0</td>\n",
       "      <td>10</td>\n",
       "      <td>9</td>\n",
       "      <td>11</td>\n",
       "      <td>10.0</td>\n",
       "      <td>EASTERN</td>\n",
       "      <td>SOUTHEAST</td>\n",
       "    </tr>\n",
       "    <tr>\n",
       "      <th>2</th>\n",
       "      <td>POR</td>\n",
       "      <td>PORTLAND TRAIL BLAZERS</td>\n",
       "      <td>SAC</td>\n",
       "      <td>SACRAMENTO KINGS</td>\n",
       "      <td>2023-24</td>\n",
       "      <td>POR @ SAC</td>\n",
       "      <td>4/14/24</td>\n",
       "      <td>L</td>\n",
       "      <td>48</td>\n",
       "      <td>82</td>\n",
       "      <td>...</td>\n",
       "      <td>31</td>\n",
       "      <td>54</td>\n",
       "      <td>18</td>\n",
       "      <td>18.0</td>\n",
       "      <td>11</td>\n",
       "      <td>2</td>\n",
       "      <td>19</td>\n",
       "      <td>-39.0</td>\n",
       "      <td>WESTERN</td>\n",
       "      <td>NORTHWEST</td>\n",
       "    </tr>\n",
       "    <tr>\n",
       "      <th>3</th>\n",
       "      <td>HOU</td>\n",
       "      <td>HOUSTON ROCKETS</td>\n",
       "      <td>LAC</td>\n",
       "      <td>LA CLIPPERS</td>\n",
       "      <td>2023-24</td>\n",
       "      <td>HOU @ LAC</td>\n",
       "      <td>4/14/24</td>\n",
       "      <td>W</td>\n",
       "      <td>48</td>\n",
       "      <td>116</td>\n",
       "      <td>...</td>\n",
       "      <td>42</td>\n",
       "      <td>59</td>\n",
       "      <td>31</td>\n",
       "      <td>18.0</td>\n",
       "      <td>7</td>\n",
       "      <td>8</td>\n",
       "      <td>13</td>\n",
       "      <td>11.0</td>\n",
       "      <td>WESTERN</td>\n",
       "      <td>SOUTHWEST</td>\n",
       "    </tr>\n",
       "    <tr>\n",
       "      <th>4</th>\n",
       "      <td>MIL</td>\n",
       "      <td>MILWAUKEE BUCKS</td>\n",
       "      <td>ORL</td>\n",
       "      <td>ORLANDO MAGIC</td>\n",
       "      <td>2023-24</td>\n",
       "      <td>MIL @ ORL</td>\n",
       "      <td>4/14/24</td>\n",
       "      <td>L</td>\n",
       "      <td>48</td>\n",
       "      <td>88</td>\n",
       "      <td>...</td>\n",
       "      <td>27</td>\n",
       "      <td>34</td>\n",
       "      <td>16</td>\n",
       "      <td>17.0</td>\n",
       "      <td>10</td>\n",
       "      <td>4</td>\n",
       "      <td>18</td>\n",
       "      <td>-25.0</td>\n",
       "      <td>EASTERN</td>\n",
       "      <td>CENTRAL</td>\n",
       "    </tr>\n",
       "    <tr>\n",
       "      <th>...</th>\n",
       "      <td>...</td>\n",
       "      <td>...</td>\n",
       "      <td>...</td>\n",
       "      <td>...</td>\n",
       "      <td>...</td>\n",
       "      <td>...</td>\n",
       "      <td>...</td>\n",
       "      <td>...</td>\n",
       "      <td>...</td>\n",
       "      <td>...</td>\n",
       "      <td>...</td>\n",
       "      <td>...</td>\n",
       "      <td>...</td>\n",
       "      <td>...</td>\n",
       "      <td>...</td>\n",
       "      <td>...</td>\n",
       "      <td>...</td>\n",
       "      <td>...</td>\n",
       "      <td>...</td>\n",
       "      <td>...</td>\n",
       "      <td>...</td>\n",
       "    </tr>\n",
       "    <tr>\n",
       "      <th>66167</th>\n",
       "      <td>PHI</td>\n",
       "      <td>PHILADELPHIA 76ERS</td>\n",
       "      <td>MIL</td>\n",
       "      <td>MILWAUKEE BUCKS</td>\n",
       "      <td>1996-97</td>\n",
       "      <td>PHI vs. MIL</td>\n",
       "      <td>11/1/96</td>\n",
       "      <td>L</td>\n",
       "      <td>48</td>\n",
       "      <td>103</td>\n",
       "      <td>...</td>\n",
       "      <td>26</td>\n",
       "      <td>40</td>\n",
       "      <td>25</td>\n",
       "      <td>14.0</td>\n",
       "      <td>6</td>\n",
       "      <td>4</td>\n",
       "      <td>29</td>\n",
       "      <td>-8.0</td>\n",
       "      <td>EASTERN</td>\n",
       "      <td>ATLANTIC</td>\n",
       "    </tr>\n",
       "    <tr>\n",
       "      <th>66168</th>\n",
       "      <td>UTA</td>\n",
       "      <td>UTAH JAZZ</td>\n",
       "      <td>SEA</td>\n",
       "      <td>OKLAHOMA CITY THUNDER</td>\n",
       "      <td>1996-97</td>\n",
       "      <td>UTA vs. SEA</td>\n",
       "      <td>11/1/96</td>\n",
       "      <td>W</td>\n",
       "      <td>48</td>\n",
       "      <td>99</td>\n",
       "      <td>...</td>\n",
       "      <td>32</td>\n",
       "      <td>43</td>\n",
       "      <td>26</td>\n",
       "      <td>9.0</td>\n",
       "      <td>7</td>\n",
       "      <td>6</td>\n",
       "      <td>27</td>\n",
       "      <td>8.0</td>\n",
       "      <td>WESTERN</td>\n",
       "      <td>NORTHWEST</td>\n",
       "    </tr>\n",
       "    <tr>\n",
       "      <th>66169</th>\n",
       "      <td>NYK</td>\n",
       "      <td>NEW YORK KNICKS</td>\n",
       "      <td>TOR</td>\n",
       "      <td>TORONTO RAPTORS</td>\n",
       "      <td>1996-97</td>\n",
       "      <td>NYK @ TOR</td>\n",
       "      <td>11/1/96</td>\n",
       "      <td>W</td>\n",
       "      <td>48</td>\n",
       "      <td>107</td>\n",
       "      <td>...</td>\n",
       "      <td>33</td>\n",
       "      <td>44</td>\n",
       "      <td>23</td>\n",
       "      <td>24.0</td>\n",
       "      <td>15</td>\n",
       "      <td>5</td>\n",
       "      <td>29</td>\n",
       "      <td>8.0</td>\n",
       "      <td>EASTERN</td>\n",
       "      <td>ATLANTIC</td>\n",
       "    </tr>\n",
       "    <tr>\n",
       "      <th>66170</th>\n",
       "      <td>SEA</td>\n",
       "      <td>OKLAHOMA CITY THUNDER</td>\n",
       "      <td>UTA</td>\n",
       "      <td>UTAH JAZZ</td>\n",
       "      <td>1996-97</td>\n",
       "      <td>SEA @ UTA</td>\n",
       "      <td>11/1/96</td>\n",
       "      <td>L</td>\n",
       "      <td>48</td>\n",
       "      <td>91</td>\n",
       "      <td>...</td>\n",
       "      <td>34</td>\n",
       "      <td>46</td>\n",
       "      <td>16</td>\n",
       "      <td>12.0</td>\n",
       "      <td>6</td>\n",
       "      <td>6</td>\n",
       "      <td>26</td>\n",
       "      <td>-8.0</td>\n",
       "      <td>WESTERN</td>\n",
       "      <td>NORTHWEST</td>\n",
       "    </tr>\n",
       "    <tr>\n",
       "      <th>66171</th>\n",
       "      <td>NJN</td>\n",
       "      <td>BROOKLYN NETS</td>\n",
       "      <td>CLE</td>\n",
       "      <td>CLEVELAND CAVALIERS</td>\n",
       "      <td>1996-97</td>\n",
       "      <td>NJN vs. CLE</td>\n",
       "      <td>11/1/96</td>\n",
       "      <td>L</td>\n",
       "      <td>48</td>\n",
       "      <td>77</td>\n",
       "      <td>...</td>\n",
       "      <td>24</td>\n",
       "      <td>35</td>\n",
       "      <td>13</td>\n",
       "      <td>22.0</td>\n",
       "      <td>7</td>\n",
       "      <td>7</td>\n",
       "      <td>19</td>\n",
       "      <td>-13.0</td>\n",
       "      <td>EASTERN</td>\n",
       "      <td>ATLANTIC</td>\n",
       "    </tr>\n",
       "  </tbody>\n",
       "</table>\n",
       "<p>66172 rows × 30 columns</p>\n",
       "</div>"
      ],
      "text/plain": [
       "      TEAM ABBR                    TEAM OPP ABBR               OPPONENT  \\\n",
       "0           NYK         NEW YORK KNICKS      CHI          CHICAGO BULLS   \n",
       "1           CHA       CHARLOTTE HORNETS      CLE    CLEVELAND CAVALIERS   \n",
       "2           POR  PORTLAND TRAIL BLAZERS      SAC       SACRAMENTO KINGS   \n",
       "3           HOU         HOUSTON ROCKETS      LAC            LA CLIPPERS   \n",
       "4           MIL         MILWAUKEE BUCKS      ORL          ORLANDO MAGIC   \n",
       "...         ...                     ...      ...                    ...   \n",
       "66167       PHI      PHILADELPHIA 76ERS      MIL        MILWAUKEE BUCKS   \n",
       "66168       UTA               UTAH JAZZ      SEA  OKLAHOMA CITY THUNDER   \n",
       "66169       NYK         NEW YORK KNICKS      TOR        TORONTO RAPTORS   \n",
       "66170       SEA   OKLAHOMA CITY THUNDER      UTA              UTAH JAZZ   \n",
       "66171       NJN           BROOKLYN NETS      CLE    CLEVELAND CAVALIERS   \n",
       "\n",
       "        SEASON     MATCH UP GAME DATE W/L  MIN  PTS  ...  DREB  REB  AST  \\\n",
       "0      2023-24  NYK vs. CHI   4/14/24   W   53  120  ...    37   53   27   \n",
       "1      2023-24    CHA @ CLE   4/14/24   W   48  120  ...    37   47   36   \n",
       "2      2023-24    POR @ SAC   4/14/24   L   48   82  ...    31   54   18   \n",
       "3      2023-24    HOU @ LAC   4/14/24   W   48  116  ...    42   59   31   \n",
       "4      2023-24    MIL @ ORL   4/14/24   L   48   88  ...    27   34   16   \n",
       "...        ...          ...       ...  ..  ...  ...  ...   ...  ...  ...   \n",
       "66167  1996-97  PHI vs. MIL   11/1/96   L   48  103  ...    26   40   25   \n",
       "66168  1996-97  UTA vs. SEA   11/1/96   W   48   99  ...    32   43   26   \n",
       "66169  1996-97    NYK @ TOR   11/1/96   W   48  107  ...    33   44   23   \n",
       "66170  1996-97    SEA @ UTA   11/1/96   L   48   91  ...    34   46   16   \n",
       "66171  1996-97  NJN vs. CLE   11/1/96   L   48   77  ...    24   35   13   \n",
       "\n",
       "        TOV  STL  BLK  PF   +/-  CONFERENCE     REGION  \n",
       "0      21.0    7    6  17   1.0     EASTERN   ATLANTIC  \n",
       "1      10.0   10    9  11  10.0     EASTERN  SOUTHEAST  \n",
       "2      18.0   11    2  19 -39.0     WESTERN  NORTHWEST  \n",
       "3      18.0    7    8  13  11.0     WESTERN  SOUTHWEST  \n",
       "4      17.0   10    4  18 -25.0     EASTERN    CENTRAL  \n",
       "...     ...  ...  ...  ..   ...         ...        ...  \n",
       "66167  14.0    6    4  29  -8.0     EASTERN   ATLANTIC  \n",
       "66168   9.0    7    6  27   8.0     WESTERN  NORTHWEST  \n",
       "66169  24.0   15    5  29   8.0     EASTERN   ATLANTIC  \n",
       "66170  12.0    6    6  26  -8.0     WESTERN  NORTHWEST  \n",
       "66171  22.0    7    7  19 -13.0     EASTERN   ATLANTIC  \n",
       "\n",
       "[66172 rows x 30 columns]"
      ]
     },
     "execution_count": 35,
     "metadata": {},
     "output_type": "execute_result"
    }
   ],
   "source": [
    "full_df"
   ]
  },
  {
   "cell_type": "code",
   "execution_count": 36,
   "metadata": {},
   "outputs": [],
   "source": [
    "# Prepare name changes\n",
    "old_abbrs = [['NOH','NOK'], 'VAN', 'CHH', 'SEA', 'NJN' ]\n",
    "new_abbrs = ['NOP', 'MEM', 'CHA', 'OKC', 'BKN']\n",
    "\n",
    "for idx,abbr in enumerate(old_abbrs):\n",
    "    full_df = full_df.replace(abbr,new_abbrs[idx])\n",
    "\n",
    "team_abbr = full_df['TEAM ABBR'].unique()\n",
    "team_name = full_df['TEAM']\n",
    "teams = {}\n",
    "\n",
    "# Recreate teams Dictionary\n",
    "for each in team_abbr:\n",
    "    \n",
    "    indicies = list(np.where(full_df['TEAM ABBR'] == each))[0]\n",
    "    teams[each] = full_df['TEAM'].iloc[indicies[0]]    \n"
   ]
  },
  {
   "cell_type": "markdown",
   "metadata": {},
   "source": [
    "##### Statistics Below\n"
   ]
  },
  {
   "cell_type": "code",
   "execution_count": 37,
   "metadata": {},
   "outputs": [
    {
     "name": "stdout",
     "output_type": "stream",
     "text": [
      "Size of Dataframe (66172, 30)\n"
     ]
    }
   ],
   "source": [
    "print(f\"Size of Dataframe {full_df.shape}\")\n"
   ]
  },
  {
   "cell_type": "code",
   "execution_count": 38,
   "metadata": {},
   "outputs": [],
   "source": [
    "# Sorted Team List for easier read\n",
    "from collections import OrderedDict\n",
    "\n",
    "sorted_teamsDict = OrderedDict(sorted(teams.items()))\n",
    "\n",
    "distinct_teams = sorted(full_df['TEAM'].unique())\n",
    "wins = []\n",
    "losses = []\n",
    "total = []\n",
    "win_rate = []\n",
    "\n",
    "for each in sorted_teamsDict:\n",
    "\n",
    "    win = sum(full_df[full_df['TEAM ABBR'] == each]['W/L'] == 'W') # CHANGE back to W\n",
    "    loss = sum(full_df[full_df['TEAM ABBR'] == each]['W/L'] == 'L') # CHANGE  back to L\n",
    "    wins.append(win)\n",
    "    losses.append(loss)\n",
    "    total.append(win+loss)\n",
    "    win_rate.append(round(win/(win+loss),2))\n",
    "\n",
    "bar_chart_df = pd.DataFrame(data={'WINS':wins, 'LOSSES':losses, 'TOTAL': total, 'WIN RATE':win_rate}, index=sorted_teamsDict.values())"
   ]
  },
  {
   "cell_type": "code",
   "execution_count": 39,
   "metadata": {},
   "outputs": [
    {
     "data": {
      "text/html": [
       "<div>\n",
       "<style scoped>\n",
       "    .dataframe tbody tr th:only-of-type {\n",
       "        vertical-align: middle;\n",
       "    }\n",
       "\n",
       "    .dataframe tbody tr th {\n",
       "        vertical-align: top;\n",
       "    }\n",
       "\n",
       "    .dataframe thead th {\n",
       "        text-align: right;\n",
       "    }\n",
       "</style>\n",
       "<table border=\"1\" class=\"dataframe\">\n",
       "  <thead>\n",
       "    <tr style=\"text-align: right;\">\n",
       "      <th></th>\n",
       "      <th>WINS</th>\n",
       "      <th>LOSSES</th>\n",
       "      <th>TOTAL</th>\n",
       "      <th>WIN RATE</th>\n",
       "    </tr>\n",
       "  </thead>\n",
       "  <tbody>\n",
       "    <tr>\n",
       "      <th>ATLANTA HAWKS</th>\n",
       "      <td>1043</td>\n",
       "      <td>1180</td>\n",
       "      <td>2223</td>\n",
       "      <td>0.47</td>\n",
       "    </tr>\n",
       "    <tr>\n",
       "      <th>BROOKLYN NETS</th>\n",
       "      <td>994</td>\n",
       "      <td>1234</td>\n",
       "      <td>2228</td>\n",
       "      <td>0.45</td>\n",
       "    </tr>\n",
       "    <tr>\n",
       "      <th>BOSTON CELTICS</th>\n",
       "      <td>1212</td>\n",
       "      <td>1015</td>\n",
       "      <td>2227</td>\n",
       "      <td>0.54</td>\n",
       "    </tr>\n",
       "    <tr>\n",
       "      <th>CHARLOTTE HORNETS</th>\n",
       "      <td>902</td>\n",
       "      <td>1155</td>\n",
       "      <td>2057</td>\n",
       "      <td>0.44</td>\n",
       "    </tr>\n",
       "    <tr>\n",
       "      <th>CHICAGO BULLS</th>\n",
       "      <td>1067</td>\n",
       "      <td>1154</td>\n",
       "      <td>2221</td>\n",
       "      <td>0.48</td>\n",
       "    </tr>\n",
       "    <tr>\n",
       "      <th>CLEVELAND CAVALIERS</th>\n",
       "      <td>1079</td>\n",
       "      <td>1142</td>\n",
       "      <td>2221</td>\n",
       "      <td>0.49</td>\n",
       "    </tr>\n",
       "    <tr>\n",
       "      <th>DALLAS MAVERICKS</th>\n",
       "      <td>1256</td>\n",
       "      <td>975</td>\n",
       "      <td>2231</td>\n",
       "      <td>0.56</td>\n",
       "    </tr>\n",
       "    <tr>\n",
       "      <th>DENVER NUGGETS</th>\n",
       "      <td>1138</td>\n",
       "      <td>1091</td>\n",
       "      <td>2229</td>\n",
       "      <td>0.51</td>\n",
       "    </tr>\n",
       "    <tr>\n",
       "      <th>DETROIT PISTONS</th>\n",
       "      <td>1044</td>\n",
       "      <td>1178</td>\n",
       "      <td>2222</td>\n",
       "      <td>0.47</td>\n",
       "    </tr>\n",
       "    <tr>\n",
       "      <th>GOLDEN STATE WARRIORS</th>\n",
       "      <td>1091</td>\n",
       "      <td>1130</td>\n",
       "      <td>2221</td>\n",
       "      <td>0.49</td>\n",
       "    </tr>\n",
       "    <tr>\n",
       "      <th>HOUSTON ROCKETS</th>\n",
       "      <td>1201</td>\n",
       "      <td>1027</td>\n",
       "      <td>2228</td>\n",
       "      <td>0.54</td>\n",
       "    </tr>\n",
       "    <tr>\n",
       "      <th>INDIANA PACERS</th>\n",
       "      <td>1193</td>\n",
       "      <td>1035</td>\n",
       "      <td>2228</td>\n",
       "      <td>0.54</td>\n",
       "    </tr>\n",
       "    <tr>\n",
       "      <th>LA CLIPPERS</th>\n",
       "      <td>1065</td>\n",
       "      <td>1163</td>\n",
       "      <td>2228</td>\n",
       "      <td>0.48</td>\n",
       "    </tr>\n",
       "    <tr>\n",
       "      <th>LOS ANGELES LAKERS</th>\n",
       "      <td>1258</td>\n",
       "      <td>969</td>\n",
       "      <td>2227</td>\n",
       "      <td>0.56</td>\n",
       "    </tr>\n",
       "    <tr>\n",
       "      <th>MEMPHIS GRIZZLIES</th>\n",
       "      <td>983</td>\n",
       "      <td>1246</td>\n",
       "      <td>2229</td>\n",
       "      <td>0.44</td>\n",
       "    </tr>\n",
       "    <tr>\n",
       "      <th>MIAMI HEAT</th>\n",
       "      <td>1274</td>\n",
       "      <td>955</td>\n",
       "      <td>2229</td>\n",
       "      <td>0.57</td>\n",
       "    </tr>\n",
       "    <tr>\n",
       "      <th>MILWAUKEE BUCKS</th>\n",
       "      <td>1118</td>\n",
       "      <td>1111</td>\n",
       "      <td>2229</td>\n",
       "      <td>0.50</td>\n",
       "    </tr>\n",
       "    <tr>\n",
       "      <th>MINNESOTA TIMBERWOLVES</th>\n",
       "      <td>995</td>\n",
       "      <td>1225</td>\n",
       "      <td>2220</td>\n",
       "      <td>0.45</td>\n",
       "    </tr>\n",
       "    <tr>\n",
       "      <th>NEW ORLEANS PELICANS</th>\n",
       "      <td>831</td>\n",
       "      <td>937</td>\n",
       "      <td>1768</td>\n",
       "      <td>0.47</td>\n",
       "    </tr>\n",
       "    <tr>\n",
       "      <th>NEW YORK KNICKS</th>\n",
       "      <td>995</td>\n",
       "      <td>1227</td>\n",
       "      <td>2222</td>\n",
       "      <td>0.45</td>\n",
       "    </tr>\n",
       "    <tr>\n",
       "      <th>OKLAHOMA CITY THUNDER</th>\n",
       "      <td>1217</td>\n",
       "      <td>1011</td>\n",
       "      <td>2228</td>\n",
       "      <td>0.55</td>\n",
       "    </tr>\n",
       "    <tr>\n",
       "      <th>ORLANDO MAGIC</th>\n",
       "      <td>1037</td>\n",
       "      <td>1192</td>\n",
       "      <td>2229</td>\n",
       "      <td>0.47</td>\n",
       "    </tr>\n",
       "    <tr>\n",
       "      <th>PHILADELPHIA 76ERS</th>\n",
       "      <td>1066</td>\n",
       "      <td>1163</td>\n",
       "      <td>2229</td>\n",
       "      <td>0.48</td>\n",
       "    </tr>\n",
       "    <tr>\n",
       "      <th>PHOENIX SUNS</th>\n",
       "      <td>1183</td>\n",
       "      <td>1046</td>\n",
       "      <td>2229</td>\n",
       "      <td>0.53</td>\n",
       "    </tr>\n",
       "    <tr>\n",
       "      <th>PORTLAND TRAIL BLAZERS</th>\n",
       "      <td>1163</td>\n",
       "      <td>1067</td>\n",
       "      <td>2230</td>\n",
       "      <td>0.52</td>\n",
       "    </tr>\n",
       "    <tr>\n",
       "      <th>SACRAMENTO KINGS</th>\n",
       "      <td>1017</td>\n",
       "      <td>1211</td>\n",
       "      <td>2228</td>\n",
       "      <td>0.46</td>\n",
       "    </tr>\n",
       "    <tr>\n",
       "      <th>SAN ANTONIO SPURS</th>\n",
       "      <td>1391</td>\n",
       "      <td>836</td>\n",
       "      <td>2227</td>\n",
       "      <td>0.62</td>\n",
       "    </tr>\n",
       "    <tr>\n",
       "      <th>TORONTO RAPTORS</th>\n",
       "      <td>1075</td>\n",
       "      <td>1153</td>\n",
       "      <td>2228</td>\n",
       "      <td>0.48</td>\n",
       "    </tr>\n",
       "    <tr>\n",
       "      <th>UTAH JAZZ</th>\n",
       "      <td>1260</td>\n",
       "      <td>968</td>\n",
       "      <td>2228</td>\n",
       "      <td>0.57</td>\n",
       "    </tr>\n",
       "    <tr>\n",
       "      <th>WASHINGTON WIZARDS</th>\n",
       "      <td>938</td>\n",
       "      <td>1290</td>\n",
       "      <td>2228</td>\n",
       "      <td>0.42</td>\n",
       "    </tr>\n",
       "  </tbody>\n",
       "</table>\n",
       "</div>"
      ],
      "text/plain": [
       "                        WINS  LOSSES  TOTAL  WIN RATE\n",
       "ATLANTA HAWKS           1043    1180   2223      0.47\n",
       "BROOKLYN NETS            994    1234   2228      0.45\n",
       "BOSTON CELTICS          1212    1015   2227      0.54\n",
       "CHARLOTTE HORNETS        902    1155   2057      0.44\n",
       "CHICAGO BULLS           1067    1154   2221      0.48\n",
       "CLEVELAND CAVALIERS     1079    1142   2221      0.49\n",
       "DALLAS MAVERICKS        1256     975   2231      0.56\n",
       "DENVER NUGGETS          1138    1091   2229      0.51\n",
       "DETROIT PISTONS         1044    1178   2222      0.47\n",
       "GOLDEN STATE WARRIORS   1091    1130   2221      0.49\n",
       "HOUSTON ROCKETS         1201    1027   2228      0.54\n",
       "INDIANA PACERS          1193    1035   2228      0.54\n",
       "LA CLIPPERS             1065    1163   2228      0.48\n",
       "LOS ANGELES LAKERS      1258     969   2227      0.56\n",
       "MEMPHIS GRIZZLIES        983    1246   2229      0.44\n",
       "MIAMI HEAT              1274     955   2229      0.57\n",
       "MILWAUKEE BUCKS         1118    1111   2229      0.50\n",
       "MINNESOTA TIMBERWOLVES   995    1225   2220      0.45\n",
       "NEW ORLEANS PELICANS     831     937   1768      0.47\n",
       "NEW YORK KNICKS          995    1227   2222      0.45\n",
       "OKLAHOMA CITY THUNDER   1217    1011   2228      0.55\n",
       "ORLANDO MAGIC           1037    1192   2229      0.47\n",
       "PHILADELPHIA 76ERS      1066    1163   2229      0.48\n",
       "PHOENIX SUNS            1183    1046   2229      0.53\n",
       "PORTLAND TRAIL BLAZERS  1163    1067   2230      0.52\n",
       "SACRAMENTO KINGS        1017    1211   2228      0.46\n",
       "SAN ANTONIO SPURS       1391     836   2227      0.62\n",
       "TORONTO RAPTORS         1075    1153   2228      0.48\n",
       "UTAH JAZZ               1260     968   2228      0.57\n",
       "WASHINGTON WIZARDS       938    1290   2228      0.42"
      ]
     },
     "execution_count": 39,
     "metadata": {},
     "output_type": "execute_result"
    }
   ],
   "source": [
    "# Bar Chart of Results from SEASONS 1996-2024\n",
    "bar_chart_df"
   ]
  },
  {
   "cell_type": "code",
   "execution_count": 40,
   "metadata": {},
   "outputs": [
    {
     "data": {
      "application/vnd.plotly.v1+json": {
       "config": {
        "plotlyServerURL": "https://plot.ly"
       },
       "data": [
        {
         "alignmentgroup": "True",
         "hovertemplate": "variable=LOSSES<br>index=%{x}<br>value=%{y}<extra></extra>",
         "legendgroup": "LOSSES",
         "marker": {
          "color": "#636efa",
          "pattern": {
           "shape": ""
          }
         },
         "name": "LOSSES",
         "offsetgroup": "LOSSES",
         "orientation": "v",
         "showlegend": true,
         "textposition": "auto",
         "texttemplate": "%{y}",
         "type": "bar",
         "x": [
          "ATLANTA HAWKS",
          "BROOKLYN NETS",
          "BOSTON CELTICS",
          "CHARLOTTE HORNETS",
          "CHICAGO BULLS",
          "CLEVELAND CAVALIERS",
          "DALLAS MAVERICKS",
          "DENVER NUGGETS",
          "DETROIT PISTONS",
          "GOLDEN STATE WARRIORS",
          "HOUSTON ROCKETS",
          "INDIANA PACERS",
          "LA CLIPPERS",
          "LOS ANGELES LAKERS",
          "MEMPHIS GRIZZLIES",
          "MIAMI HEAT",
          "MILWAUKEE BUCKS",
          "MINNESOTA TIMBERWOLVES",
          "NEW ORLEANS PELICANS",
          "NEW YORK KNICKS",
          "OKLAHOMA CITY THUNDER",
          "ORLANDO MAGIC",
          "PHILADELPHIA 76ERS",
          "PHOENIX SUNS",
          "PORTLAND TRAIL BLAZERS",
          "SACRAMENTO KINGS",
          "SAN ANTONIO SPURS",
          "TORONTO RAPTORS",
          "UTAH JAZZ",
          "WASHINGTON WIZARDS"
         ],
         "xaxis": "x",
         "y": [
          1180,
          1234,
          1015,
          1155,
          1154,
          1142,
          975,
          1091,
          1178,
          1130,
          1027,
          1035,
          1163,
          969,
          1246,
          955,
          1111,
          1225,
          937,
          1227,
          1011,
          1192,
          1163,
          1046,
          1067,
          1211,
          836,
          1153,
          968,
          1290
         ],
         "yaxis": "y"
        },
        {
         "alignmentgroup": "True",
         "hovertemplate": "variable=WINS<br>index=%{x}<br>value=%{y}<extra></extra>",
         "legendgroup": "WINS",
         "marker": {
          "color": "#EF553B",
          "pattern": {
           "shape": ""
          }
         },
         "name": "WINS",
         "offsetgroup": "WINS",
         "orientation": "v",
         "showlegend": true,
         "textposition": "auto",
         "texttemplate": "%{y}",
         "type": "bar",
         "x": [
          "ATLANTA HAWKS",
          "BROOKLYN NETS",
          "BOSTON CELTICS",
          "CHARLOTTE HORNETS",
          "CHICAGO BULLS",
          "CLEVELAND CAVALIERS",
          "DALLAS MAVERICKS",
          "DENVER NUGGETS",
          "DETROIT PISTONS",
          "GOLDEN STATE WARRIORS",
          "HOUSTON ROCKETS",
          "INDIANA PACERS",
          "LA CLIPPERS",
          "LOS ANGELES LAKERS",
          "MEMPHIS GRIZZLIES",
          "MIAMI HEAT",
          "MILWAUKEE BUCKS",
          "MINNESOTA TIMBERWOLVES",
          "NEW ORLEANS PELICANS",
          "NEW YORK KNICKS",
          "OKLAHOMA CITY THUNDER",
          "ORLANDO MAGIC",
          "PHILADELPHIA 76ERS",
          "PHOENIX SUNS",
          "PORTLAND TRAIL BLAZERS",
          "SACRAMENTO KINGS",
          "SAN ANTONIO SPURS",
          "TORONTO RAPTORS",
          "UTAH JAZZ",
          "WASHINGTON WIZARDS"
         ],
         "xaxis": "x",
         "y": [
          1043,
          994,
          1212,
          902,
          1067,
          1079,
          1256,
          1138,
          1044,
          1091,
          1201,
          1193,
          1065,
          1258,
          983,
          1274,
          1118,
          995,
          831,
          995,
          1217,
          1037,
          1066,
          1183,
          1163,
          1017,
          1391,
          1075,
          1260,
          938
         ],
         "yaxis": "y"
        }
       ],
       "layout": {
        "barmode": "stack",
        "height": 400,
        "legend": {
         "title": {
          "text": "Result"
         },
         "tracegroupgap": 0
        },
        "margin": {
         "t": 60
        },
        "template": {
         "data": {
          "bar": [
           {
            "error_x": {
             "color": "#2a3f5f"
            },
            "error_y": {
             "color": "#2a3f5f"
            },
            "marker": {
             "line": {
              "color": "#E5ECF6",
              "width": 0.5
             },
             "pattern": {
              "fillmode": "overlay",
              "size": 10,
              "solidity": 0.2
             }
            },
            "type": "bar"
           }
          ],
          "barpolar": [
           {
            "marker": {
             "line": {
              "color": "#E5ECF6",
              "width": 0.5
             },
             "pattern": {
              "fillmode": "overlay",
              "size": 10,
              "solidity": 0.2
             }
            },
            "type": "barpolar"
           }
          ],
          "carpet": [
           {
            "aaxis": {
             "endlinecolor": "#2a3f5f",
             "gridcolor": "white",
             "linecolor": "white",
             "minorgridcolor": "white",
             "startlinecolor": "#2a3f5f"
            },
            "baxis": {
             "endlinecolor": "#2a3f5f",
             "gridcolor": "white",
             "linecolor": "white",
             "minorgridcolor": "white",
             "startlinecolor": "#2a3f5f"
            },
            "type": "carpet"
           }
          ],
          "choropleth": [
           {
            "colorbar": {
             "outlinewidth": 0,
             "ticks": ""
            },
            "type": "choropleth"
           }
          ],
          "contour": [
           {
            "colorbar": {
             "outlinewidth": 0,
             "ticks": ""
            },
            "colorscale": [
             [
              0,
              "#0d0887"
             ],
             [
              0.1111111111111111,
              "#46039f"
             ],
             [
              0.2222222222222222,
              "#7201a8"
             ],
             [
              0.3333333333333333,
              "#9c179e"
             ],
             [
              0.4444444444444444,
              "#bd3786"
             ],
             [
              0.5555555555555556,
              "#d8576b"
             ],
             [
              0.6666666666666666,
              "#ed7953"
             ],
             [
              0.7777777777777778,
              "#fb9f3a"
             ],
             [
              0.8888888888888888,
              "#fdca26"
             ],
             [
              1,
              "#f0f921"
             ]
            ],
            "type": "contour"
           }
          ],
          "contourcarpet": [
           {
            "colorbar": {
             "outlinewidth": 0,
             "ticks": ""
            },
            "type": "contourcarpet"
           }
          ],
          "heatmap": [
           {
            "colorbar": {
             "outlinewidth": 0,
             "ticks": ""
            },
            "colorscale": [
             [
              0,
              "#0d0887"
             ],
             [
              0.1111111111111111,
              "#46039f"
             ],
             [
              0.2222222222222222,
              "#7201a8"
             ],
             [
              0.3333333333333333,
              "#9c179e"
             ],
             [
              0.4444444444444444,
              "#bd3786"
             ],
             [
              0.5555555555555556,
              "#d8576b"
             ],
             [
              0.6666666666666666,
              "#ed7953"
             ],
             [
              0.7777777777777778,
              "#fb9f3a"
             ],
             [
              0.8888888888888888,
              "#fdca26"
             ],
             [
              1,
              "#f0f921"
             ]
            ],
            "type": "heatmap"
           }
          ],
          "heatmapgl": [
           {
            "colorbar": {
             "outlinewidth": 0,
             "ticks": ""
            },
            "colorscale": [
             [
              0,
              "#0d0887"
             ],
             [
              0.1111111111111111,
              "#46039f"
             ],
             [
              0.2222222222222222,
              "#7201a8"
             ],
             [
              0.3333333333333333,
              "#9c179e"
             ],
             [
              0.4444444444444444,
              "#bd3786"
             ],
             [
              0.5555555555555556,
              "#d8576b"
             ],
             [
              0.6666666666666666,
              "#ed7953"
             ],
             [
              0.7777777777777778,
              "#fb9f3a"
             ],
             [
              0.8888888888888888,
              "#fdca26"
             ],
             [
              1,
              "#f0f921"
             ]
            ],
            "type": "heatmapgl"
           }
          ],
          "histogram": [
           {
            "marker": {
             "pattern": {
              "fillmode": "overlay",
              "size": 10,
              "solidity": 0.2
             }
            },
            "type": "histogram"
           }
          ],
          "histogram2d": [
           {
            "colorbar": {
             "outlinewidth": 0,
             "ticks": ""
            },
            "colorscale": [
             [
              0,
              "#0d0887"
             ],
             [
              0.1111111111111111,
              "#46039f"
             ],
             [
              0.2222222222222222,
              "#7201a8"
             ],
             [
              0.3333333333333333,
              "#9c179e"
             ],
             [
              0.4444444444444444,
              "#bd3786"
             ],
             [
              0.5555555555555556,
              "#d8576b"
             ],
             [
              0.6666666666666666,
              "#ed7953"
             ],
             [
              0.7777777777777778,
              "#fb9f3a"
             ],
             [
              0.8888888888888888,
              "#fdca26"
             ],
             [
              1,
              "#f0f921"
             ]
            ],
            "type": "histogram2d"
           }
          ],
          "histogram2dcontour": [
           {
            "colorbar": {
             "outlinewidth": 0,
             "ticks": ""
            },
            "colorscale": [
             [
              0,
              "#0d0887"
             ],
             [
              0.1111111111111111,
              "#46039f"
             ],
             [
              0.2222222222222222,
              "#7201a8"
             ],
             [
              0.3333333333333333,
              "#9c179e"
             ],
             [
              0.4444444444444444,
              "#bd3786"
             ],
             [
              0.5555555555555556,
              "#d8576b"
             ],
             [
              0.6666666666666666,
              "#ed7953"
             ],
             [
              0.7777777777777778,
              "#fb9f3a"
             ],
             [
              0.8888888888888888,
              "#fdca26"
             ],
             [
              1,
              "#f0f921"
             ]
            ],
            "type": "histogram2dcontour"
           }
          ],
          "mesh3d": [
           {
            "colorbar": {
             "outlinewidth": 0,
             "ticks": ""
            },
            "type": "mesh3d"
           }
          ],
          "parcoords": [
           {
            "line": {
             "colorbar": {
              "outlinewidth": 0,
              "ticks": ""
             }
            },
            "type": "parcoords"
           }
          ],
          "pie": [
           {
            "automargin": true,
            "type": "pie"
           }
          ],
          "scatter": [
           {
            "fillpattern": {
             "fillmode": "overlay",
             "size": 10,
             "solidity": 0.2
            },
            "type": "scatter"
           }
          ],
          "scatter3d": [
           {
            "line": {
             "colorbar": {
              "outlinewidth": 0,
              "ticks": ""
             }
            },
            "marker": {
             "colorbar": {
              "outlinewidth": 0,
              "ticks": ""
             }
            },
            "type": "scatter3d"
           }
          ],
          "scattercarpet": [
           {
            "marker": {
             "colorbar": {
              "outlinewidth": 0,
              "ticks": ""
             }
            },
            "type": "scattercarpet"
           }
          ],
          "scattergeo": [
           {
            "marker": {
             "colorbar": {
              "outlinewidth": 0,
              "ticks": ""
             }
            },
            "type": "scattergeo"
           }
          ],
          "scattergl": [
           {
            "marker": {
             "colorbar": {
              "outlinewidth": 0,
              "ticks": ""
             }
            },
            "type": "scattergl"
           }
          ],
          "scattermapbox": [
           {
            "marker": {
             "colorbar": {
              "outlinewidth": 0,
              "ticks": ""
             }
            },
            "type": "scattermapbox"
           }
          ],
          "scatterpolar": [
           {
            "marker": {
             "colorbar": {
              "outlinewidth": 0,
              "ticks": ""
             }
            },
            "type": "scatterpolar"
           }
          ],
          "scatterpolargl": [
           {
            "marker": {
             "colorbar": {
              "outlinewidth": 0,
              "ticks": ""
             }
            },
            "type": "scatterpolargl"
           }
          ],
          "scatterternary": [
           {
            "marker": {
             "colorbar": {
              "outlinewidth": 0,
              "ticks": ""
             }
            },
            "type": "scatterternary"
           }
          ],
          "surface": [
           {
            "colorbar": {
             "outlinewidth": 0,
             "ticks": ""
            },
            "colorscale": [
             [
              0,
              "#0d0887"
             ],
             [
              0.1111111111111111,
              "#46039f"
             ],
             [
              0.2222222222222222,
              "#7201a8"
             ],
             [
              0.3333333333333333,
              "#9c179e"
             ],
             [
              0.4444444444444444,
              "#bd3786"
             ],
             [
              0.5555555555555556,
              "#d8576b"
             ],
             [
              0.6666666666666666,
              "#ed7953"
             ],
             [
              0.7777777777777778,
              "#fb9f3a"
             ],
             [
              0.8888888888888888,
              "#fdca26"
             ],
             [
              1,
              "#f0f921"
             ]
            ],
            "type": "surface"
           }
          ],
          "table": [
           {
            "cells": {
             "fill": {
              "color": "#EBF0F8"
             },
             "line": {
              "color": "white"
             }
            },
            "header": {
             "fill": {
              "color": "#C8D4E3"
             },
             "line": {
              "color": "white"
             }
            },
            "type": "table"
           }
          ]
         },
         "layout": {
          "annotationdefaults": {
           "arrowcolor": "#2a3f5f",
           "arrowhead": 0,
           "arrowwidth": 1
          },
          "autotypenumbers": "strict",
          "coloraxis": {
           "colorbar": {
            "outlinewidth": 0,
            "ticks": ""
           }
          },
          "colorscale": {
           "diverging": [
            [
             0,
             "#8e0152"
            ],
            [
             0.1,
             "#c51b7d"
            ],
            [
             0.2,
             "#de77ae"
            ],
            [
             0.3,
             "#f1b6da"
            ],
            [
             0.4,
             "#fde0ef"
            ],
            [
             0.5,
             "#f7f7f7"
            ],
            [
             0.6,
             "#e6f5d0"
            ],
            [
             0.7,
             "#b8e186"
            ],
            [
             0.8,
             "#7fbc41"
            ],
            [
             0.9,
             "#4d9221"
            ],
            [
             1,
             "#276419"
            ]
           ],
           "sequential": [
            [
             0,
             "#0d0887"
            ],
            [
             0.1111111111111111,
             "#46039f"
            ],
            [
             0.2222222222222222,
             "#7201a8"
            ],
            [
             0.3333333333333333,
             "#9c179e"
            ],
            [
             0.4444444444444444,
             "#bd3786"
            ],
            [
             0.5555555555555556,
             "#d8576b"
            ],
            [
             0.6666666666666666,
             "#ed7953"
            ],
            [
             0.7777777777777778,
             "#fb9f3a"
            ],
            [
             0.8888888888888888,
             "#fdca26"
            ],
            [
             1,
             "#f0f921"
            ]
           ],
           "sequentialminus": [
            [
             0,
             "#0d0887"
            ],
            [
             0.1111111111111111,
             "#46039f"
            ],
            [
             0.2222222222222222,
             "#7201a8"
            ],
            [
             0.3333333333333333,
             "#9c179e"
            ],
            [
             0.4444444444444444,
             "#bd3786"
            ],
            [
             0.5555555555555556,
             "#d8576b"
            ],
            [
             0.6666666666666666,
             "#ed7953"
            ],
            [
             0.7777777777777778,
             "#fb9f3a"
            ],
            [
             0.8888888888888888,
             "#fdca26"
            ],
            [
             1,
             "#f0f921"
            ]
           ]
          },
          "colorway": [
           "#636efa",
           "#EF553B",
           "#00cc96",
           "#ab63fa",
           "#FFA15A",
           "#19d3f3",
           "#FF6692",
           "#B6E880",
           "#FF97FF",
           "#FECB52"
          ],
          "font": {
           "color": "#2a3f5f"
          },
          "geo": {
           "bgcolor": "white",
           "lakecolor": "white",
           "landcolor": "#E5ECF6",
           "showlakes": true,
           "showland": true,
           "subunitcolor": "white"
          },
          "hoverlabel": {
           "align": "left"
          },
          "hovermode": "closest",
          "mapbox": {
           "style": "light"
          },
          "paper_bgcolor": "white",
          "plot_bgcolor": "#E5ECF6",
          "polar": {
           "angularaxis": {
            "gridcolor": "white",
            "linecolor": "white",
            "ticks": ""
           },
           "bgcolor": "#E5ECF6",
           "radialaxis": {
            "gridcolor": "white",
            "linecolor": "white",
            "ticks": ""
           }
          },
          "scene": {
           "xaxis": {
            "backgroundcolor": "#E5ECF6",
            "gridcolor": "white",
            "gridwidth": 2,
            "linecolor": "white",
            "showbackground": true,
            "ticks": "",
            "zerolinecolor": "white"
           },
           "yaxis": {
            "backgroundcolor": "#E5ECF6",
            "gridcolor": "white",
            "gridwidth": 2,
            "linecolor": "white",
            "showbackground": true,
            "ticks": "",
            "zerolinecolor": "white"
           },
           "zaxis": {
            "backgroundcolor": "#E5ECF6",
            "gridcolor": "white",
            "gridwidth": 2,
            "linecolor": "white",
            "showbackground": true,
            "ticks": "",
            "zerolinecolor": "white"
           }
          },
          "shapedefaults": {
           "line": {
            "color": "#2a3f5f"
           }
          },
          "ternary": {
           "aaxis": {
            "gridcolor": "white",
            "linecolor": "white",
            "ticks": ""
           },
           "baxis": {
            "gridcolor": "white",
            "linecolor": "white",
            "ticks": ""
           },
           "bgcolor": "#E5ECF6",
           "caxis": {
            "gridcolor": "white",
            "linecolor": "white",
            "ticks": ""
           }
          },
          "title": {
           "x": 0.05
          },
          "xaxis": {
           "automargin": true,
           "gridcolor": "white",
           "linecolor": "white",
           "ticks": "",
           "title": {
            "standoff": 15
           },
           "zerolinecolor": "white",
           "zerolinewidth": 2
          },
          "yaxis": {
           "automargin": true,
           "gridcolor": "white",
           "linecolor": "white",
           "ticks": "",
           "title": {
            "standoff": 15
           },
           "zerolinecolor": "white",
           "zerolinewidth": 2
          }
         }
        },
        "title": {
         "text": "Wins & Losses of Teams [1996-2024]"
        },
        "xaxis": {
         "anchor": "y",
         "domain": [
          0,
          1
         ],
         "title": {
          "text": "Team"
         }
        },
        "yaxis": {
         "anchor": "x",
         "domain": [
          0,
          1
         ],
         "title": {
          "text": "Total Games Played"
         }
        }
       }
      }
     },
     "metadata": {},
     "output_type": "display_data"
    }
   ],
   "source": [
    "# Bar Chart of Wins and Losses\n",
    "from plotly import express as px\n",
    "\n",
    "fig = px.bar(bar_chart_df, x= bar_chart_df.index, y= ['LOSSES','WINS'], barmode = 'stack', text_auto = True,\n",
    "             height=400)\n",
    "\n",
    "fig.update_layout(\n",
    "    title= 'Wins & Losses of Teams [1996-2024]',\n",
    "    xaxis_title='Team',\n",
    "    yaxis_title='Total Games Played',\n",
    "    legend_title='Result',\n",
    ")\n",
    "fig.show()\n",
    "\n"
   ]
  },
  {
   "cell_type": "code",
   "execution_count": 41,
   "metadata": {},
   "outputs": [
    {
     "data": {
      "application/vnd.plotly.v1+json": {
       "config": {
        "plotlyServerURL": "https://plot.ly"
       },
       "data": [
        {
         "alignmentgroup": "True",
         "hovertemplate": "index=%{x}<br>WIN RATE=%{y}<extra></extra>",
         "legendgroup": "",
         "marker": {
          "color": "#636efa",
          "pattern": {
           "shape": ""
          }
         },
         "name": "",
         "offsetgroup": "",
         "orientation": "v",
         "showlegend": false,
         "textposition": "auto",
         "type": "bar",
         "x": [
          "ATLANTA HAWKS",
          "BROOKLYN NETS",
          "BOSTON CELTICS",
          "CHARLOTTE HORNETS",
          "CHICAGO BULLS",
          "CLEVELAND CAVALIERS",
          "DALLAS MAVERICKS",
          "DENVER NUGGETS",
          "DETROIT PISTONS",
          "GOLDEN STATE WARRIORS",
          "HOUSTON ROCKETS",
          "INDIANA PACERS",
          "LA CLIPPERS",
          "LOS ANGELES LAKERS",
          "MEMPHIS GRIZZLIES",
          "MIAMI HEAT",
          "MILWAUKEE BUCKS",
          "MINNESOTA TIMBERWOLVES",
          "NEW ORLEANS PELICANS",
          "NEW YORK KNICKS",
          "OKLAHOMA CITY THUNDER",
          "ORLANDO MAGIC",
          "PHILADELPHIA 76ERS",
          "PHOENIX SUNS",
          "PORTLAND TRAIL BLAZERS",
          "SACRAMENTO KINGS",
          "SAN ANTONIO SPURS",
          "TORONTO RAPTORS",
          "UTAH JAZZ",
          "WASHINGTON WIZARDS"
         ],
         "xaxis": "x",
         "y": [
          0.47,
          0.45,
          0.54,
          0.44,
          0.48,
          0.49,
          0.56,
          0.51,
          0.47,
          0.49,
          0.54,
          0.54,
          0.48,
          0.56,
          0.44,
          0.57,
          0.5,
          0.45,
          0.47,
          0.45,
          0.55,
          0.47,
          0.48,
          0.53,
          0.52,
          0.46,
          0.62,
          0.48,
          0.57,
          0.42
         ],
         "yaxis": "y"
        }
       ],
       "layout": {
        "barmode": "relative",
        "legend": {
         "tracegroupgap": 0
        },
        "margin": {
         "t": 60
        },
        "template": {
         "data": {
          "bar": [
           {
            "error_x": {
             "color": "#2a3f5f"
            },
            "error_y": {
             "color": "#2a3f5f"
            },
            "marker": {
             "line": {
              "color": "#E5ECF6",
              "width": 0.5
             },
             "pattern": {
              "fillmode": "overlay",
              "size": 10,
              "solidity": 0.2
             }
            },
            "type": "bar"
           }
          ],
          "barpolar": [
           {
            "marker": {
             "line": {
              "color": "#E5ECF6",
              "width": 0.5
             },
             "pattern": {
              "fillmode": "overlay",
              "size": 10,
              "solidity": 0.2
             }
            },
            "type": "barpolar"
           }
          ],
          "carpet": [
           {
            "aaxis": {
             "endlinecolor": "#2a3f5f",
             "gridcolor": "white",
             "linecolor": "white",
             "minorgridcolor": "white",
             "startlinecolor": "#2a3f5f"
            },
            "baxis": {
             "endlinecolor": "#2a3f5f",
             "gridcolor": "white",
             "linecolor": "white",
             "minorgridcolor": "white",
             "startlinecolor": "#2a3f5f"
            },
            "type": "carpet"
           }
          ],
          "choropleth": [
           {
            "colorbar": {
             "outlinewidth": 0,
             "ticks": ""
            },
            "type": "choropleth"
           }
          ],
          "contour": [
           {
            "colorbar": {
             "outlinewidth": 0,
             "ticks": ""
            },
            "colorscale": [
             [
              0,
              "#0d0887"
             ],
             [
              0.1111111111111111,
              "#46039f"
             ],
             [
              0.2222222222222222,
              "#7201a8"
             ],
             [
              0.3333333333333333,
              "#9c179e"
             ],
             [
              0.4444444444444444,
              "#bd3786"
             ],
             [
              0.5555555555555556,
              "#d8576b"
             ],
             [
              0.6666666666666666,
              "#ed7953"
             ],
             [
              0.7777777777777778,
              "#fb9f3a"
             ],
             [
              0.8888888888888888,
              "#fdca26"
             ],
             [
              1,
              "#f0f921"
             ]
            ],
            "type": "contour"
           }
          ],
          "contourcarpet": [
           {
            "colorbar": {
             "outlinewidth": 0,
             "ticks": ""
            },
            "type": "contourcarpet"
           }
          ],
          "heatmap": [
           {
            "colorbar": {
             "outlinewidth": 0,
             "ticks": ""
            },
            "colorscale": [
             [
              0,
              "#0d0887"
             ],
             [
              0.1111111111111111,
              "#46039f"
             ],
             [
              0.2222222222222222,
              "#7201a8"
             ],
             [
              0.3333333333333333,
              "#9c179e"
             ],
             [
              0.4444444444444444,
              "#bd3786"
             ],
             [
              0.5555555555555556,
              "#d8576b"
             ],
             [
              0.6666666666666666,
              "#ed7953"
             ],
             [
              0.7777777777777778,
              "#fb9f3a"
             ],
             [
              0.8888888888888888,
              "#fdca26"
             ],
             [
              1,
              "#f0f921"
             ]
            ],
            "type": "heatmap"
           }
          ],
          "heatmapgl": [
           {
            "colorbar": {
             "outlinewidth": 0,
             "ticks": ""
            },
            "colorscale": [
             [
              0,
              "#0d0887"
             ],
             [
              0.1111111111111111,
              "#46039f"
             ],
             [
              0.2222222222222222,
              "#7201a8"
             ],
             [
              0.3333333333333333,
              "#9c179e"
             ],
             [
              0.4444444444444444,
              "#bd3786"
             ],
             [
              0.5555555555555556,
              "#d8576b"
             ],
             [
              0.6666666666666666,
              "#ed7953"
             ],
             [
              0.7777777777777778,
              "#fb9f3a"
             ],
             [
              0.8888888888888888,
              "#fdca26"
             ],
             [
              1,
              "#f0f921"
             ]
            ],
            "type": "heatmapgl"
           }
          ],
          "histogram": [
           {
            "marker": {
             "pattern": {
              "fillmode": "overlay",
              "size": 10,
              "solidity": 0.2
             }
            },
            "type": "histogram"
           }
          ],
          "histogram2d": [
           {
            "colorbar": {
             "outlinewidth": 0,
             "ticks": ""
            },
            "colorscale": [
             [
              0,
              "#0d0887"
             ],
             [
              0.1111111111111111,
              "#46039f"
             ],
             [
              0.2222222222222222,
              "#7201a8"
             ],
             [
              0.3333333333333333,
              "#9c179e"
             ],
             [
              0.4444444444444444,
              "#bd3786"
             ],
             [
              0.5555555555555556,
              "#d8576b"
             ],
             [
              0.6666666666666666,
              "#ed7953"
             ],
             [
              0.7777777777777778,
              "#fb9f3a"
             ],
             [
              0.8888888888888888,
              "#fdca26"
             ],
             [
              1,
              "#f0f921"
             ]
            ],
            "type": "histogram2d"
           }
          ],
          "histogram2dcontour": [
           {
            "colorbar": {
             "outlinewidth": 0,
             "ticks": ""
            },
            "colorscale": [
             [
              0,
              "#0d0887"
             ],
             [
              0.1111111111111111,
              "#46039f"
             ],
             [
              0.2222222222222222,
              "#7201a8"
             ],
             [
              0.3333333333333333,
              "#9c179e"
             ],
             [
              0.4444444444444444,
              "#bd3786"
             ],
             [
              0.5555555555555556,
              "#d8576b"
             ],
             [
              0.6666666666666666,
              "#ed7953"
             ],
             [
              0.7777777777777778,
              "#fb9f3a"
             ],
             [
              0.8888888888888888,
              "#fdca26"
             ],
             [
              1,
              "#f0f921"
             ]
            ],
            "type": "histogram2dcontour"
           }
          ],
          "mesh3d": [
           {
            "colorbar": {
             "outlinewidth": 0,
             "ticks": ""
            },
            "type": "mesh3d"
           }
          ],
          "parcoords": [
           {
            "line": {
             "colorbar": {
              "outlinewidth": 0,
              "ticks": ""
             }
            },
            "type": "parcoords"
           }
          ],
          "pie": [
           {
            "automargin": true,
            "type": "pie"
           }
          ],
          "scatter": [
           {
            "fillpattern": {
             "fillmode": "overlay",
             "size": 10,
             "solidity": 0.2
            },
            "type": "scatter"
           }
          ],
          "scatter3d": [
           {
            "line": {
             "colorbar": {
              "outlinewidth": 0,
              "ticks": ""
             }
            },
            "marker": {
             "colorbar": {
              "outlinewidth": 0,
              "ticks": ""
             }
            },
            "type": "scatter3d"
           }
          ],
          "scattercarpet": [
           {
            "marker": {
             "colorbar": {
              "outlinewidth": 0,
              "ticks": ""
             }
            },
            "type": "scattercarpet"
           }
          ],
          "scattergeo": [
           {
            "marker": {
             "colorbar": {
              "outlinewidth": 0,
              "ticks": ""
             }
            },
            "type": "scattergeo"
           }
          ],
          "scattergl": [
           {
            "marker": {
             "colorbar": {
              "outlinewidth": 0,
              "ticks": ""
             }
            },
            "type": "scattergl"
           }
          ],
          "scattermapbox": [
           {
            "marker": {
             "colorbar": {
              "outlinewidth": 0,
              "ticks": ""
             }
            },
            "type": "scattermapbox"
           }
          ],
          "scatterpolar": [
           {
            "marker": {
             "colorbar": {
              "outlinewidth": 0,
              "ticks": ""
             }
            },
            "type": "scatterpolar"
           }
          ],
          "scatterpolargl": [
           {
            "marker": {
             "colorbar": {
              "outlinewidth": 0,
              "ticks": ""
             }
            },
            "type": "scatterpolargl"
           }
          ],
          "scatterternary": [
           {
            "marker": {
             "colorbar": {
              "outlinewidth": 0,
              "ticks": ""
             }
            },
            "type": "scatterternary"
           }
          ],
          "surface": [
           {
            "colorbar": {
             "outlinewidth": 0,
             "ticks": ""
            },
            "colorscale": [
             [
              0,
              "#0d0887"
             ],
             [
              0.1111111111111111,
              "#46039f"
             ],
             [
              0.2222222222222222,
              "#7201a8"
             ],
             [
              0.3333333333333333,
              "#9c179e"
             ],
             [
              0.4444444444444444,
              "#bd3786"
             ],
             [
              0.5555555555555556,
              "#d8576b"
             ],
             [
              0.6666666666666666,
              "#ed7953"
             ],
             [
              0.7777777777777778,
              "#fb9f3a"
             ],
             [
              0.8888888888888888,
              "#fdca26"
             ],
             [
              1,
              "#f0f921"
             ]
            ],
            "type": "surface"
           }
          ],
          "table": [
           {
            "cells": {
             "fill": {
              "color": "#EBF0F8"
             },
             "line": {
              "color": "white"
             }
            },
            "header": {
             "fill": {
              "color": "#C8D4E3"
             },
             "line": {
              "color": "white"
             }
            },
            "type": "table"
           }
          ]
         },
         "layout": {
          "annotationdefaults": {
           "arrowcolor": "#2a3f5f",
           "arrowhead": 0,
           "arrowwidth": 1
          },
          "autotypenumbers": "strict",
          "coloraxis": {
           "colorbar": {
            "outlinewidth": 0,
            "ticks": ""
           }
          },
          "colorscale": {
           "diverging": [
            [
             0,
             "#8e0152"
            ],
            [
             0.1,
             "#c51b7d"
            ],
            [
             0.2,
             "#de77ae"
            ],
            [
             0.3,
             "#f1b6da"
            ],
            [
             0.4,
             "#fde0ef"
            ],
            [
             0.5,
             "#f7f7f7"
            ],
            [
             0.6,
             "#e6f5d0"
            ],
            [
             0.7,
             "#b8e186"
            ],
            [
             0.8,
             "#7fbc41"
            ],
            [
             0.9,
             "#4d9221"
            ],
            [
             1,
             "#276419"
            ]
           ],
           "sequential": [
            [
             0,
             "#0d0887"
            ],
            [
             0.1111111111111111,
             "#46039f"
            ],
            [
             0.2222222222222222,
             "#7201a8"
            ],
            [
             0.3333333333333333,
             "#9c179e"
            ],
            [
             0.4444444444444444,
             "#bd3786"
            ],
            [
             0.5555555555555556,
             "#d8576b"
            ],
            [
             0.6666666666666666,
             "#ed7953"
            ],
            [
             0.7777777777777778,
             "#fb9f3a"
            ],
            [
             0.8888888888888888,
             "#fdca26"
            ],
            [
             1,
             "#f0f921"
            ]
           ],
           "sequentialminus": [
            [
             0,
             "#0d0887"
            ],
            [
             0.1111111111111111,
             "#46039f"
            ],
            [
             0.2222222222222222,
             "#7201a8"
            ],
            [
             0.3333333333333333,
             "#9c179e"
            ],
            [
             0.4444444444444444,
             "#bd3786"
            ],
            [
             0.5555555555555556,
             "#d8576b"
            ],
            [
             0.6666666666666666,
             "#ed7953"
            ],
            [
             0.7777777777777778,
             "#fb9f3a"
            ],
            [
             0.8888888888888888,
             "#fdca26"
            ],
            [
             1,
             "#f0f921"
            ]
           ]
          },
          "colorway": [
           "#636efa",
           "#EF553B",
           "#00cc96",
           "#ab63fa",
           "#FFA15A",
           "#19d3f3",
           "#FF6692",
           "#B6E880",
           "#FF97FF",
           "#FECB52"
          ],
          "font": {
           "color": "#2a3f5f"
          },
          "geo": {
           "bgcolor": "white",
           "lakecolor": "white",
           "landcolor": "#E5ECF6",
           "showlakes": true,
           "showland": true,
           "subunitcolor": "white"
          },
          "hoverlabel": {
           "align": "left"
          },
          "hovermode": "closest",
          "mapbox": {
           "style": "light"
          },
          "paper_bgcolor": "white",
          "plot_bgcolor": "#E5ECF6",
          "polar": {
           "angularaxis": {
            "gridcolor": "white",
            "linecolor": "white",
            "ticks": ""
           },
           "bgcolor": "#E5ECF6",
           "radialaxis": {
            "gridcolor": "white",
            "linecolor": "white",
            "ticks": ""
           }
          },
          "scene": {
           "xaxis": {
            "backgroundcolor": "#E5ECF6",
            "gridcolor": "white",
            "gridwidth": 2,
            "linecolor": "white",
            "showbackground": true,
            "ticks": "",
            "zerolinecolor": "white"
           },
           "yaxis": {
            "backgroundcolor": "#E5ECF6",
            "gridcolor": "white",
            "gridwidth": 2,
            "linecolor": "white",
            "showbackground": true,
            "ticks": "",
            "zerolinecolor": "white"
           },
           "zaxis": {
            "backgroundcolor": "#E5ECF6",
            "gridcolor": "white",
            "gridwidth": 2,
            "linecolor": "white",
            "showbackground": true,
            "ticks": "",
            "zerolinecolor": "white"
           }
          },
          "shapedefaults": {
           "line": {
            "color": "#2a3f5f"
           }
          },
          "ternary": {
           "aaxis": {
            "gridcolor": "white",
            "linecolor": "white",
            "ticks": ""
           },
           "baxis": {
            "gridcolor": "white",
            "linecolor": "white",
            "ticks": ""
           },
           "bgcolor": "#E5ECF6",
           "caxis": {
            "gridcolor": "white",
            "linecolor": "white",
            "ticks": ""
           }
          },
          "title": {
           "x": 0.05
          },
          "xaxis": {
           "automargin": true,
           "gridcolor": "white",
           "linecolor": "white",
           "ticks": "",
           "title": {
            "standoff": 15
           },
           "zerolinecolor": "white",
           "zerolinewidth": 2
          },
          "yaxis": {
           "automargin": true,
           "gridcolor": "white",
           "linecolor": "white",
           "ticks": "",
           "title": {
            "standoff": 15
           },
           "zerolinecolor": "white",
           "zerolinewidth": 2
          }
         }
        },
        "title": {
         "text": "Teams' Historical Performance"
        },
        "xaxis": {
         "anchor": "y",
         "domain": [
          0,
          1
         ],
         "title": {
          "text": "Team"
         }
        },
        "yaxis": {
         "anchor": "x",
         "domain": [
          0,
          1
         ],
         "title": {
          "text": "Win Rate"
         }
        }
       }
      }
     },
     "metadata": {},
     "output_type": "display_data"
    }
   ],
   "source": [
    "# Bar Chart of Overall Winning Rate\n",
    "fig1 = px.bar(bar_chart_df, x= bar_chart_df.index, y='WIN RATE')\n",
    "\n",
    "fig1.update_layout(\n",
    "    title= 'Teams\\' Historical Performance',\n",
    "    xaxis_title='Team',\n",
    "    yaxis_title='Win Rate',\n",
    ")\n",
    "fig1.show()"
   ]
  },
  {
   "cell_type": "code",
   "execution_count": 42,
   "metadata": {},
   "outputs": [],
   "source": [
    "# Condense the distribution [Normalzation] ** Terrible practice **\n",
    "\n",
    "from sklearn.preprocessing import LabelEncoder, MinMaxScaler\n",
    "\n",
    "encoder = LabelEncoder()\n",
    "scalar = MinMaxScaler()\n",
    "\n",
    "full_df[\"W/L\"] = encoder.fit_transform(full_df[\"W/L\"]) # WIN: 1 , LOSE: 0\n",
    "\n",
    "num_cols = full_df.select_dtypes(include='number')\n",
    "\n",
    "norm_df = pd.DataFrame(scalar.fit_transform(num_cols), columns = num_cols.columns)\n",
    "norm_df = pd.concat([full_df.drop(columns=num_cols.columns),norm_df], axis=1)\n",
    "\n",
    "norm_df = norm_df.sort_values(by=['SEASON']).reset_index(drop=True)\n"
   ]
  },
  {
   "cell_type": "markdown",
   "metadata": {},
   "source": [
    "#### Machine Learning\n",
    "\n",
    "- Splitting data as 80/10/10 train-val-test\n",
    "- Experiementing DecisionTreeRegressor\n"
   ]
  },
  {
   "cell_type": "code",
   "execution_count": 43,
   "metadata": {},
   "outputs": [],
   "source": [
    "# Prepare data for ML\n",
    "quant_features = norm_df.select_dtypes(['category', 'object'])\n",
    "qual_features =  norm_df.select_dtypes(['number'])\n",
    "\n",
    "X = qual_features.drop(columns='W/L')\n",
    "y = qual_features['W/L']"
   ]
  },
  {
   "cell_type": "code",
   "execution_count": 44,
   "metadata": {},
   "outputs": [
    {
     "name": "stdout",
     "output_type": "stream",
     "text": [
      "DecisionTreeRegressor()\n",
      "Train:  1.0\n",
      "Val:  1.0\n",
      "Test:  1.0\n",
      "LogisticRegression()\n",
      "Train:  0.96\n",
      "Val:  0.97\n",
      "Test:  0.97\n"
     ]
    }
   ],
   "source": [
    "# Regression Models\n",
    "from sklearn.model_selection import train_test_split\n",
    "from sklearn.tree import DecisionTreeRegressor as DTR\n",
    "from sklearn.linear_model import LogisticRegression\n",
    "\n",
    "dtreg = DTR()\n",
    "logreg = LogisticRegression()\n",
    "\n",
    "X_train, X_remain, y_train, y_remain = train_test_split(X, y, test_size=0.2, random_state=42) # For training (Take 1)\n",
    "X_val, X_test, y_val, y_test = train_test_split(X_remain, y_remain, test_size=0.5, random_state=42)  # For Validating and Testing (Take 2)\n",
    "\n",
    "\n",
    "regression = [DTR(), LogisticRegression()]\n",
    "\n",
    "y_pred = [] # For training\n",
    "y_pred1 = [] # For validating and testing\n",
    "\n",
    "scores = []\n",
    "\n",
    "for each in regression:\n",
    "    print(each)\n",
    "    # Training\n",
    "    each.fit(X_train, y_train) \n",
    "    y_pred.append(each.predict(X_remain))\n",
    "\n",
    "    if \"Tree\" in str(each):\n",
    "        # print('in hereee')\n",
    "        feature_importances = each.feature_importances_\n",
    "    \n",
    "   # Validating - Testing\n",
    "    each.fit(X_val, y_val) \n",
    "    y_pred1.append(each.predict(X_test))\n",
    "\n",
    "    train_score = round(each.score(X_train,y_train), 2)\n",
    "    val_score = round(each.score(X_val,y_val), 2)\n",
    "    test_score = round(each.score(X_test,y_test), 2)\n",
    "\n",
    "    print('Train: ', train_score)\n",
    "    print('Val: ', val_score)\n",
    "    print('Test: ', test_score)  \n",
    "\n",
    "    scores.append([ train_score, val_score, test_score]) \n",
    "\n"
   ]
  },
  {
   "cell_type": "code",
   "execution_count": 45,
   "metadata": {},
   "outputs": [
    {
     "data": {
      "text/html": [
       "<div>\n",
       "<style scoped>\n",
       "    .dataframe tbody tr th:only-of-type {\n",
       "        vertical-align: middle;\n",
       "    }\n",
       "\n",
       "    .dataframe tbody tr th {\n",
       "        vertical-align: top;\n",
       "    }\n",
       "\n",
       "    .dataframe thead th {\n",
       "        text-align: right;\n",
       "    }\n",
       "</style>\n",
       "<table border=\"1\" class=\"dataframe\">\n",
       "  <thead>\n",
       "    <tr style=\"text-align: right;\">\n",
       "      <th></th>\n",
       "      <th>DecisionTreeReg</th>\n",
       "      <th>LogisticReg</th>\n",
       "    </tr>\n",
       "  </thead>\n",
       "  <tbody>\n",
       "    <tr>\n",
       "      <th>train</th>\n",
       "      <td>1.0</td>\n",
       "      <td>0.96</td>\n",
       "    </tr>\n",
       "    <tr>\n",
       "      <th>val</th>\n",
       "      <td>1.0</td>\n",
       "      <td>0.97</td>\n",
       "    </tr>\n",
       "    <tr>\n",
       "      <th>test</th>\n",
       "      <td>1.0</td>\n",
       "      <td>0.97</td>\n",
       "    </tr>\n",
       "  </tbody>\n",
       "</table>\n",
       "</div>"
      ],
      "text/plain": [
       "       DecisionTreeReg  LogisticReg\n",
       "train              1.0         0.96\n",
       "val                1.0         0.97\n",
       "test               1.0         0.97"
      ]
     },
     "execution_count": 45,
     "metadata": {},
     "output_type": "execute_result"
    }
   ],
   "source": [
    "score_df = pd.DataFrame({\"DecisionTreeReg\": scores[0] , \"LogisticReg\" : scores[1]}, index= ['train', 'val', 'test'])\n",
    "score_df"
   ]
  },
  {
   "cell_type": "markdown",
   "metadata": {},
   "source": [
    "First I wanted to experiement with Decision Tree Regression. After analying the model, I noticed that this was aa 100% accuracy prediction rate. When using this for the first time, I assumed this had to be false and there's an error somewhere. \n",
    "I wanted to add the Simple Logistic Regression to compare with the DTR, and saw another high performance. \n",
    "*\\*Phewww*\\* 😮‍💨"
   ]
  },
  {
   "cell_type": "code",
   "execution_count": 46,
   "metadata": {},
   "outputs": [],
   "source": [
    "# Finding important features in the dataframe\n",
    "fi_char = pd.DataFrame( {'Events' : X.columns, 'Importance': feature_importances})"
   ]
  },
  {
   "cell_type": "code",
   "execution_count": 47,
   "metadata": {},
   "outputs": [
    {
     "data": {
      "application/vnd.plotly.v1+json": {
       "config": {
        "plotlyServerURL": "https://plot.ly"
       },
       "data": [
        {
         "alignmentgroup": "True",
         "hovertemplate": "Importance=%{x}<br>Events=%{y}<extra></extra>",
         "legendgroup": "",
         "marker": {
          "color": "#636efa",
          "pattern": {
           "shape": ""
          }
         },
         "name": "",
         "offsetgroup": "",
         "orientation": "h",
         "showlegend": false,
         "textposition": "auto",
         "type": "bar",
         "x": [
          0,
          0,
          0,
          0,
          0,
          0,
          0,
          0,
          0,
          0,
          0,
          0,
          0,
          0,
          0,
          0,
          0,
          0,
          0,
          1
         ],
         "xaxis": "x",
         "y": [
          "MIN",
          "PTS",
          "FGM",
          "FGA",
          "FG%",
          "3PM",
          "3PA",
          "3P%",
          "FTM",
          "FTA",
          "FT%",
          "OREB",
          "DREB",
          "REB",
          "AST",
          "TOV",
          "STL",
          "BLK",
          "PF",
          "+/-"
         ],
         "yaxis": "y"
        }
       ],
       "layout": {
        "barmode": "relative",
        "height": 500,
        "legend": {
         "tracegroupgap": 0
        },
        "margin": {
         "t": 60
        },
        "template": {
         "data": {
          "bar": [
           {
            "error_x": {
             "color": "#2a3f5f"
            },
            "error_y": {
             "color": "#2a3f5f"
            },
            "marker": {
             "line": {
              "color": "#E5ECF6",
              "width": 0.5
             },
             "pattern": {
              "fillmode": "overlay",
              "size": 10,
              "solidity": 0.2
             }
            },
            "type": "bar"
           }
          ],
          "barpolar": [
           {
            "marker": {
             "line": {
              "color": "#E5ECF6",
              "width": 0.5
             },
             "pattern": {
              "fillmode": "overlay",
              "size": 10,
              "solidity": 0.2
             }
            },
            "type": "barpolar"
           }
          ],
          "carpet": [
           {
            "aaxis": {
             "endlinecolor": "#2a3f5f",
             "gridcolor": "white",
             "linecolor": "white",
             "minorgridcolor": "white",
             "startlinecolor": "#2a3f5f"
            },
            "baxis": {
             "endlinecolor": "#2a3f5f",
             "gridcolor": "white",
             "linecolor": "white",
             "minorgridcolor": "white",
             "startlinecolor": "#2a3f5f"
            },
            "type": "carpet"
           }
          ],
          "choropleth": [
           {
            "colorbar": {
             "outlinewidth": 0,
             "ticks": ""
            },
            "type": "choropleth"
           }
          ],
          "contour": [
           {
            "colorbar": {
             "outlinewidth": 0,
             "ticks": ""
            },
            "colorscale": [
             [
              0,
              "#0d0887"
             ],
             [
              0.1111111111111111,
              "#46039f"
             ],
             [
              0.2222222222222222,
              "#7201a8"
             ],
             [
              0.3333333333333333,
              "#9c179e"
             ],
             [
              0.4444444444444444,
              "#bd3786"
             ],
             [
              0.5555555555555556,
              "#d8576b"
             ],
             [
              0.6666666666666666,
              "#ed7953"
             ],
             [
              0.7777777777777778,
              "#fb9f3a"
             ],
             [
              0.8888888888888888,
              "#fdca26"
             ],
             [
              1,
              "#f0f921"
             ]
            ],
            "type": "contour"
           }
          ],
          "contourcarpet": [
           {
            "colorbar": {
             "outlinewidth": 0,
             "ticks": ""
            },
            "type": "contourcarpet"
           }
          ],
          "heatmap": [
           {
            "colorbar": {
             "outlinewidth": 0,
             "ticks": ""
            },
            "colorscale": [
             [
              0,
              "#0d0887"
             ],
             [
              0.1111111111111111,
              "#46039f"
             ],
             [
              0.2222222222222222,
              "#7201a8"
             ],
             [
              0.3333333333333333,
              "#9c179e"
             ],
             [
              0.4444444444444444,
              "#bd3786"
             ],
             [
              0.5555555555555556,
              "#d8576b"
             ],
             [
              0.6666666666666666,
              "#ed7953"
             ],
             [
              0.7777777777777778,
              "#fb9f3a"
             ],
             [
              0.8888888888888888,
              "#fdca26"
             ],
             [
              1,
              "#f0f921"
             ]
            ],
            "type": "heatmap"
           }
          ],
          "heatmapgl": [
           {
            "colorbar": {
             "outlinewidth": 0,
             "ticks": ""
            },
            "colorscale": [
             [
              0,
              "#0d0887"
             ],
             [
              0.1111111111111111,
              "#46039f"
             ],
             [
              0.2222222222222222,
              "#7201a8"
             ],
             [
              0.3333333333333333,
              "#9c179e"
             ],
             [
              0.4444444444444444,
              "#bd3786"
             ],
             [
              0.5555555555555556,
              "#d8576b"
             ],
             [
              0.6666666666666666,
              "#ed7953"
             ],
             [
              0.7777777777777778,
              "#fb9f3a"
             ],
             [
              0.8888888888888888,
              "#fdca26"
             ],
             [
              1,
              "#f0f921"
             ]
            ],
            "type": "heatmapgl"
           }
          ],
          "histogram": [
           {
            "marker": {
             "pattern": {
              "fillmode": "overlay",
              "size": 10,
              "solidity": 0.2
             }
            },
            "type": "histogram"
           }
          ],
          "histogram2d": [
           {
            "colorbar": {
             "outlinewidth": 0,
             "ticks": ""
            },
            "colorscale": [
             [
              0,
              "#0d0887"
             ],
             [
              0.1111111111111111,
              "#46039f"
             ],
             [
              0.2222222222222222,
              "#7201a8"
             ],
             [
              0.3333333333333333,
              "#9c179e"
             ],
             [
              0.4444444444444444,
              "#bd3786"
             ],
             [
              0.5555555555555556,
              "#d8576b"
             ],
             [
              0.6666666666666666,
              "#ed7953"
             ],
             [
              0.7777777777777778,
              "#fb9f3a"
             ],
             [
              0.8888888888888888,
              "#fdca26"
             ],
             [
              1,
              "#f0f921"
             ]
            ],
            "type": "histogram2d"
           }
          ],
          "histogram2dcontour": [
           {
            "colorbar": {
             "outlinewidth": 0,
             "ticks": ""
            },
            "colorscale": [
             [
              0,
              "#0d0887"
             ],
             [
              0.1111111111111111,
              "#46039f"
             ],
             [
              0.2222222222222222,
              "#7201a8"
             ],
             [
              0.3333333333333333,
              "#9c179e"
             ],
             [
              0.4444444444444444,
              "#bd3786"
             ],
             [
              0.5555555555555556,
              "#d8576b"
             ],
             [
              0.6666666666666666,
              "#ed7953"
             ],
             [
              0.7777777777777778,
              "#fb9f3a"
             ],
             [
              0.8888888888888888,
              "#fdca26"
             ],
             [
              1,
              "#f0f921"
             ]
            ],
            "type": "histogram2dcontour"
           }
          ],
          "mesh3d": [
           {
            "colorbar": {
             "outlinewidth": 0,
             "ticks": ""
            },
            "type": "mesh3d"
           }
          ],
          "parcoords": [
           {
            "line": {
             "colorbar": {
              "outlinewidth": 0,
              "ticks": ""
             }
            },
            "type": "parcoords"
           }
          ],
          "pie": [
           {
            "automargin": true,
            "type": "pie"
           }
          ],
          "scatter": [
           {
            "fillpattern": {
             "fillmode": "overlay",
             "size": 10,
             "solidity": 0.2
            },
            "type": "scatter"
           }
          ],
          "scatter3d": [
           {
            "line": {
             "colorbar": {
              "outlinewidth": 0,
              "ticks": ""
             }
            },
            "marker": {
             "colorbar": {
              "outlinewidth": 0,
              "ticks": ""
             }
            },
            "type": "scatter3d"
           }
          ],
          "scattercarpet": [
           {
            "marker": {
             "colorbar": {
              "outlinewidth": 0,
              "ticks": ""
             }
            },
            "type": "scattercarpet"
           }
          ],
          "scattergeo": [
           {
            "marker": {
             "colorbar": {
              "outlinewidth": 0,
              "ticks": ""
             }
            },
            "type": "scattergeo"
           }
          ],
          "scattergl": [
           {
            "marker": {
             "colorbar": {
              "outlinewidth": 0,
              "ticks": ""
             }
            },
            "type": "scattergl"
           }
          ],
          "scattermapbox": [
           {
            "marker": {
             "colorbar": {
              "outlinewidth": 0,
              "ticks": ""
             }
            },
            "type": "scattermapbox"
           }
          ],
          "scatterpolar": [
           {
            "marker": {
             "colorbar": {
              "outlinewidth": 0,
              "ticks": ""
             }
            },
            "type": "scatterpolar"
           }
          ],
          "scatterpolargl": [
           {
            "marker": {
             "colorbar": {
              "outlinewidth": 0,
              "ticks": ""
             }
            },
            "type": "scatterpolargl"
           }
          ],
          "scatterternary": [
           {
            "marker": {
             "colorbar": {
              "outlinewidth": 0,
              "ticks": ""
             }
            },
            "type": "scatterternary"
           }
          ],
          "surface": [
           {
            "colorbar": {
             "outlinewidth": 0,
             "ticks": ""
            },
            "colorscale": [
             [
              0,
              "#0d0887"
             ],
             [
              0.1111111111111111,
              "#46039f"
             ],
             [
              0.2222222222222222,
              "#7201a8"
             ],
             [
              0.3333333333333333,
              "#9c179e"
             ],
             [
              0.4444444444444444,
              "#bd3786"
             ],
             [
              0.5555555555555556,
              "#d8576b"
             ],
             [
              0.6666666666666666,
              "#ed7953"
             ],
             [
              0.7777777777777778,
              "#fb9f3a"
             ],
             [
              0.8888888888888888,
              "#fdca26"
             ],
             [
              1,
              "#f0f921"
             ]
            ],
            "type": "surface"
           }
          ],
          "table": [
           {
            "cells": {
             "fill": {
              "color": "#EBF0F8"
             },
             "line": {
              "color": "white"
             }
            },
            "header": {
             "fill": {
              "color": "#C8D4E3"
             },
             "line": {
              "color": "white"
             }
            },
            "type": "table"
           }
          ]
         },
         "layout": {
          "annotationdefaults": {
           "arrowcolor": "#2a3f5f",
           "arrowhead": 0,
           "arrowwidth": 1
          },
          "autotypenumbers": "strict",
          "coloraxis": {
           "colorbar": {
            "outlinewidth": 0,
            "ticks": ""
           }
          },
          "colorscale": {
           "diverging": [
            [
             0,
             "#8e0152"
            ],
            [
             0.1,
             "#c51b7d"
            ],
            [
             0.2,
             "#de77ae"
            ],
            [
             0.3,
             "#f1b6da"
            ],
            [
             0.4,
             "#fde0ef"
            ],
            [
             0.5,
             "#f7f7f7"
            ],
            [
             0.6,
             "#e6f5d0"
            ],
            [
             0.7,
             "#b8e186"
            ],
            [
             0.8,
             "#7fbc41"
            ],
            [
             0.9,
             "#4d9221"
            ],
            [
             1,
             "#276419"
            ]
           ],
           "sequential": [
            [
             0,
             "#0d0887"
            ],
            [
             0.1111111111111111,
             "#46039f"
            ],
            [
             0.2222222222222222,
             "#7201a8"
            ],
            [
             0.3333333333333333,
             "#9c179e"
            ],
            [
             0.4444444444444444,
             "#bd3786"
            ],
            [
             0.5555555555555556,
             "#d8576b"
            ],
            [
             0.6666666666666666,
             "#ed7953"
            ],
            [
             0.7777777777777778,
             "#fb9f3a"
            ],
            [
             0.8888888888888888,
             "#fdca26"
            ],
            [
             1,
             "#f0f921"
            ]
           ],
           "sequentialminus": [
            [
             0,
             "#0d0887"
            ],
            [
             0.1111111111111111,
             "#46039f"
            ],
            [
             0.2222222222222222,
             "#7201a8"
            ],
            [
             0.3333333333333333,
             "#9c179e"
            ],
            [
             0.4444444444444444,
             "#bd3786"
            ],
            [
             0.5555555555555556,
             "#d8576b"
            ],
            [
             0.6666666666666666,
             "#ed7953"
            ],
            [
             0.7777777777777778,
             "#fb9f3a"
            ],
            [
             0.8888888888888888,
             "#fdca26"
            ],
            [
             1,
             "#f0f921"
            ]
           ]
          },
          "colorway": [
           "#636efa",
           "#EF553B",
           "#00cc96",
           "#ab63fa",
           "#FFA15A",
           "#19d3f3",
           "#FF6692",
           "#B6E880",
           "#FF97FF",
           "#FECB52"
          ],
          "font": {
           "color": "#2a3f5f"
          },
          "geo": {
           "bgcolor": "white",
           "lakecolor": "white",
           "landcolor": "#E5ECF6",
           "showlakes": true,
           "showland": true,
           "subunitcolor": "white"
          },
          "hoverlabel": {
           "align": "left"
          },
          "hovermode": "closest",
          "mapbox": {
           "style": "light"
          },
          "paper_bgcolor": "white",
          "plot_bgcolor": "#E5ECF6",
          "polar": {
           "angularaxis": {
            "gridcolor": "white",
            "linecolor": "white",
            "ticks": ""
           },
           "bgcolor": "#E5ECF6",
           "radialaxis": {
            "gridcolor": "white",
            "linecolor": "white",
            "ticks": ""
           }
          },
          "scene": {
           "xaxis": {
            "backgroundcolor": "#E5ECF6",
            "gridcolor": "white",
            "gridwidth": 2,
            "linecolor": "white",
            "showbackground": true,
            "ticks": "",
            "zerolinecolor": "white"
           },
           "yaxis": {
            "backgroundcolor": "#E5ECF6",
            "gridcolor": "white",
            "gridwidth": 2,
            "linecolor": "white",
            "showbackground": true,
            "ticks": "",
            "zerolinecolor": "white"
           },
           "zaxis": {
            "backgroundcolor": "#E5ECF6",
            "gridcolor": "white",
            "gridwidth": 2,
            "linecolor": "white",
            "showbackground": true,
            "ticks": "",
            "zerolinecolor": "white"
           }
          },
          "shapedefaults": {
           "line": {
            "color": "#2a3f5f"
           }
          },
          "ternary": {
           "aaxis": {
            "gridcolor": "white",
            "linecolor": "white",
            "ticks": ""
           },
           "baxis": {
            "gridcolor": "white",
            "linecolor": "white",
            "ticks": ""
           },
           "bgcolor": "#E5ECF6",
           "caxis": {
            "gridcolor": "white",
            "linecolor": "white",
            "ticks": ""
           }
          },
          "title": {
           "x": 0.05
          },
          "xaxis": {
           "automargin": true,
           "gridcolor": "white",
           "linecolor": "white",
           "ticks": "",
           "title": {
            "standoff": 15
           },
           "zerolinecolor": "white",
           "zerolinewidth": 2
          },
          "yaxis": {
           "automargin": true,
           "gridcolor": "white",
           "linecolor": "white",
           "ticks": "",
           "title": {
            "standoff": 15
           },
           "zerolinecolor": "white",
           "zerolinewidth": 2
          }
         }
        },
        "title": {
         "text": "Importance of  Each Feature"
        },
        "width": 1000,
        "xaxis": {
         "anchor": "y",
         "domain": [
          0,
          1
         ],
         "title": {
          "text": "Importance"
         }
        },
        "yaxis": {
         "anchor": "x",
         "domain": [
          0,
          1
         ],
         "title": {
          "text": "Events"
         }
        }
       }
      }
     },
     "metadata": {},
     "output_type": "display_data"
    }
   ],
   "source": [
    "# Feature importance graph below\n",
    "fi_bar = px.bar( fi_char, y= 'Events', x='Importance', orientation='h')\n",
    "\n",
    "fi_bar.update_layout(\n",
    "    title= 'Importance of  Each Feature',\n",
    "    height = 500,\n",
    "    width = 1000\n",
    ") \n",
    "fi_bar.show()\n"
   ]
  },
  {
   "cell_type": "markdown",
   "metadata": {},
   "source": [
    "The above visual shows that one Plus-Minus shows a high relavence to the predicting the target variable. The golden rule of thumb is not to fill your model with a lot of columns as it may lead several issues like overfitting or correlations with one another, where some algorithms doesn't do well with. <br/>\n",
    "\n",
    "Since there are not a lot of columns used here, we will still add these to the model"
   ]
  },
  {
   "cell_type": "code",
   "execution_count": 48,
   "metadata": {},
   "outputs": [
    {
     "data": {
      "text/html": [
       "<div>\n",
       "<style scoped>\n",
       "    .dataframe tbody tr th:only-of-type {\n",
       "        vertical-align: middle;\n",
       "    }\n",
       "\n",
       "    .dataframe tbody tr th {\n",
       "        vertical-align: top;\n",
       "    }\n",
       "\n",
       "    .dataframe thead th {\n",
       "        text-align: right;\n",
       "    }\n",
       "</style>\n",
       "<table border=\"1\" class=\"dataframe\">\n",
       "  <thead>\n",
       "    <tr style=\"text-align: right;\">\n",
       "      <th></th>\n",
       "      <th>DecisionTree</th>\n",
       "      <th>Logistic</th>\n",
       "    </tr>\n",
       "  </thead>\n",
       "  <tbody>\n",
       "    <tr>\n",
       "      <th>mse</th>\n",
       "      <td>0.0</td>\n",
       "      <td>0.008311</td>\n",
       "    </tr>\n",
       "    <tr>\n",
       "      <th>acc</th>\n",
       "      <td>1.0</td>\n",
       "      <td>0.965549</td>\n",
       "    </tr>\n",
       "  </tbody>\n",
       "</table>\n",
       "</div>"
      ],
      "text/plain": [
       "     DecisionTree  Logistic\n",
       "mse           0.0  0.008311\n",
       "acc           1.0  0.965549"
      ]
     },
     "metadata": {},
     "output_type": "display_data"
    },
    {
     "name": "stdout",
     "output_type": "stream",
     "text": [
      "Classification Report for Logistic Regression\n",
      "              precision    recall  f1-score   support\n",
      "\n",
      "        loss       0.97      0.96      0.97      3288\n",
      "         win       0.96      0.97      0.97      3330\n",
      "\n",
      "    accuracy                           0.97      6618\n",
      "   macro avg       0.97      0.97      0.97      6618\n",
      "weighted avg       0.97      0.97      0.97      6618\n",
      "\n"
     ]
    }
   ],
   "source": [
    "# Model Performance for DTR and Logistic Regression\n",
    "\n",
    "from sklearn.metrics import mean_squared_error, classification_report, ConfusionMatrixDisplay, accuracy_score\n",
    "\n",
    "# Mean Squared Error\n",
    "mse_d = mean_squared_error(y_remain,y_pred[0]) # Gets the average loss between actual and predicted value of the target\n",
    "mse_l =  mean_squared_error(y_remain,y_pred[1])\n",
    "\n",
    "# Accuracy Score\n",
    "acc_d = accuracy_score(y_test,y_pred1[0])\n",
    "acc_l = accuracy_score(y_test,y_pred1[1])\n",
    "\n",
    "perform_df = pd.DataFrame({'DecisionTree':[mse_d,acc_d],'Logistic':[mse_l,acc_l]}, index=['mse','acc'])\n",
    "display(perform_df)\n",
    "\n",
    "# Classification Report for Logistic Regression\n",
    "print('Classification Report for Logistic Regression')\n",
    "print(classification_report(y_test,y_pred1[1],target_names=['loss','win'] )) \n"
   ]
  },
  {
   "cell_type": "markdown",
   "metadata": {},
   "source": [
    "# WORK ON REMAINDER\n",
    "\n",
    "- Create Team Tournament [Regions & Conferences]\n",
    "  - Probably add penalty (positive/negative) to the current match up\n"
   ]
  },
  {
   "cell_type": "markdown",
   "metadata": {},
   "source": [
    "### Summary"
   ]
  },
  {
   "cell_type": "code",
   "execution_count": 49,
   "metadata": {},
   "outputs": [],
   "source": [
    "\n",
    "summary_teams = {}\n",
    "teams_historical = {}\n",
    "\n",
    "for each in distinct_teams:\n",
    "    ind_team = full_df[full_df['TEAM'] == each]\n",
    "\n",
    "    prev_ssn_records = ind_team[(ind_team['SEASON'] == '2022-23')][ind_team.columns[8:28]]\n",
    "    tie_break_stats = ind_team[(ind_team['SEASON'] <= '2021-22')][ind_team.columns[8:28]]\n",
    "\n",
    "    ind_team = np.mean(prev_ssn_records, axis=0)\n",
    "    tie_breaker_sum = np.mean(tie_break_stats, axis=0)\n",
    "\n",
    "    summary_teams[each] = ind_team\n",
    "    teams_historical[each] = tie_breaker_sum\n",
    "\n",
    "# Create the Average for each team from last Season\n",
    "summary_dict = pd.DataFrame(summary_teams)\n",
    "teams_his = pd.DataFrame(teams_historical)\n",
    "# summary_dict = summary_dict.T"
   ]
  },
  {
   "cell_type": "markdown",
   "metadata": {},
   "source": [
    "### THE GAME\n",
    "\n",
    "<u>Group play - 30 teams</u>\n",
    "\n",
    "- All 30 teams are split into 6 groups; \"random draw of last season records\"\n",
    "  - 3 groups 5 teams in East, and in West\n",
    "\n",
    "- Each team in the group plays each other 1 time, totaling 4 games each\n",
    "  - teams with the best group play record after those 4 games, moves on; 3 on east and 3 on west.\n",
    "\n",
    "- Team with the next best record in each conference are claimed as the wild card (1 in both conference)\n",
    "\n",
    "\n",
    "<u>Knockout round - 8 teams</u>\n",
    "\n",
    "- Single Elimination Match. Each team plays 1 game against a group in conference\n",
    "  - 4 teams remaining \n",
    "\n",
    "<u>Semifinals - 4 teams</u>\n",
    "\n",
    "- 2 teams from East 2 teams West\n",
    "\n",
    "<u>Final - 2 teams</u>\n",
    "\n",
    "- 1 team from East & 1 team from West"
   ]
  },
  {
   "cell_type": "code",
   "execution_count": 50,
   "metadata": {},
   "outputs": [],
   "source": [
    "east_conf = full_df[full_df['CONFERENCE'] == 'EASTERN']\n",
    "west_conf = full_df[full_df['CONFERENCE'] == 'WESTERN']\n",
    "\n",
    "east_teams = list(east_conf['TEAM'].unique())\n",
    "west_teams = list(west_conf['TEAM'].unique())"
   ]
  },
  {
   "cell_type": "code",
   "execution_count": 51,
   "metadata": {},
   "outputs": [],
   "source": [
    "# Split Teams: split remainder teams within a Conference\n",
    "\n",
    "def split_teams(teams, num_groups):\n",
    "\n",
    "    random.shuffle(teams)\n",
    "    sub_group = []\n",
    "    groups = []\n",
    "\n",
    "    group_size = len(teams) / num_groups\n",
    "    print(\" Group Size: \", group_size)\n",
    "\n",
    "    for idx,each in enumerate(teams):\n",
    "        \n",
    "        if (idx + 1) % group_size != 0:\n",
    "            sub_group.append(each)\n",
    "        else:\n",
    "            sub_group.append(each)\n",
    "            groups.append(sub_group)\n",
    "            sub_group = []\n",
    "\n",
    "    return groups"
   ]
  },
  {
   "cell_type": "code",
   "execution_count": 52,
   "metadata": {},
   "outputs": [],
   "source": [
    "# THE GAME: Determine the Winner of the match\n",
    "\n",
    "def the_game(team1, team2):\n",
    "    \n",
    "    names = [team1.name, team2.name]\n",
    "\n",
    "    comp_stats = pd.concat([team1,team2], axis=1).transpose()\n",
    "\n",
    "    winner = regression[0].predict(comp_stats).astype('int64').tolist()\n",
    "    # print(\"Results: \", winner)\n",
    "    \n",
    "\n",
    "   # Randomly choose the winner if tied\n",
    "    if all(map(lambda x: x == winner[0], winner)):\n",
    "        selected = random.choices(comp_stats.index)[0]\n",
    "        print('Winner is: ', selected)\n",
    "        return selected\n",
    "\n",
    "    else:\n",
    "        index = winner.index(max(winner))\n",
    "        print('Winner is: ', names[index])\n",
    "        return names[index]\n",
    "    \n",
    "\n",
    "\n"
   ]
  },
  {
   "cell_type": "code",
   "execution_count": 53,
   "metadata": {},
   "outputs": [],
   "source": [
    "# MATCH UP: Prepare teams for matchups\n",
    "def match_up(conf, team):\n",
    "\n",
    "    team_gp = dict.fromkeys(team, 0)\n",
    "\n",
    "    for gp in conf:\n",
    "\n",
    "        for i in range(len(gp)):\n",
    "\n",
    "            for j in range(i+1, len(gp)):\n",
    "                curr_team = gp[i]\n",
    "                opp_team = gp[j]\n",
    "            \n",
    "                print(f'{curr_team} vs. {opp_team}')\n",
    "\n",
    "                print('TYPE: ', type(summary_dict[curr_team]))\n",
    "                # PLAY THE GAME\n",
    "                winner = the_game(summary_dict[curr_team], summary_dict[opp_team])\n",
    "\n",
    "                # win_count[winner] += 1 # Referenced in next cell as global variable\n",
    "                team_gp[winner] += 1\n",
    "\n",
    "        \n",
    "        # # Base case: gets the last iterator \n",
    "        if len(gp) == 1:\n",
    "        \n",
    "            curr_team = conf[0][0]\n",
    "            opp_team = conf[1][0]\n",
    "\n",
    "            # print(conf)\n",
    "            print(f'{curr_team} vs. {opp_team}')\n",
    "\n",
    "            # PLAY THE GAME\n",
    "\n",
    "            winner = the_game(summary_dict[curr_team], summary_dict[opp_team])\n",
    "\n",
    "            # win_count[winner] += 1 # Referenced in next cell as global variable\n",
    "            team_gp[winner] += 1\n",
    "            break\n",
    "    \n",
    "    print(team_gp)\n",
    "    return team_gp\n"
   ]
  },
  {
   "cell_type": "code",
   "execution_count": 54,
   "metadata": {},
   "outputs": [],
   "source": [
    "# Last Standing: Balance each conference size\n",
    "\n",
    "def last_standing(east, west, knockout, wild):\n",
    "\n",
    "    # Necessary for next step\n",
    "\n",
    "    series_east = pd.Series(east)\n",
    "    series_west = pd.Series(west)\n",
    "\n",
    "    east_ko_teams = list(series_east[series_east == max(series_east)].index)\n",
    "    west_ko_teams = list(series_west[series_west == max(series_west)].index)\n",
    "\n",
    "    # Balance Teams\n",
    "    \n",
    "    if knockout:\n",
    "        for i in range(len(east_ko_teams), 3):\n",
    "            new_east = {x:x_val for (x,x_val) in zip(east.keys(),east.values()) if x not in east_ko_teams}\n",
    "            new_east_ser = pd.Series(new_east)\n",
    "            # print(type(new_east_ser))\n",
    "            rndm_team = list(new_east_ser[new_east_ser == max(new_east_ser)].index)\n",
    "            east_ko_xtra = random.choices(rndm_team)\n",
    "            east_ko_teams.extend(east_ko_xtra)\n",
    "\n",
    "        for i in range(len(west_ko_teams), 3):\n",
    "            new_west = {x:x_val for (x,x_val) in zip(west.keys(),west.values()) if x not in west_ko_teams}\n",
    "            new_west_ser = pd.Series(new_west)\n",
    "            # print(type(new_west_ser))\n",
    "            rndm_team = list(new_west_ser[new_west_ser == max(new_west_ser)].index)\n",
    "            west_ko_xtra = random.choices(rndm_team)\n",
    "            west_ko_teams.extend(west_ko_xtra)\n",
    "        \n",
    "    \n",
    "     \n",
    "    print('East: ',len(east_ko_teams))\n",
    "    print('West: ',len(west_ko_teams))\n",
    "\n",
    "\n",
    "    if wild:\n",
    "        # WILD CARDS\n",
    "        east_wcgp = list(series_east[series_east == max(series_east)- 1].index)\n",
    "        west_wcgp = list(series_west[series_west == max(series_west)- 1].index)\n",
    "        \n",
    "        \n",
    "        east_wc = random.choices(east_wcgp)\n",
    "        west_wc = random.choices(west_wcgp)\n",
    "\n",
    "        east_ko_teams.extend(east_wc)\n",
    "        west_ko_teams.extend(west_wc)\n",
    "    \n",
    "\n",
    "    \n",
    "    return east_ko_teams, west_ko_teams\n",
    "# get teams with max score\n",
    "\n",
    "# return last standing teams\n"
   ]
  },
  {
   "cell_type": "code",
   "execution_count": 55,
   "metadata": {},
   "outputs": [
    {
     "name": "stdout",
     "output_type": "stream",
     "text": [
      " Group Size:  5.0\n",
      " Group Size:  5.0\n",
      "MILWAUKEE BUCKS vs. CHICAGO BULLS\n",
      "TYPE:  <class 'pandas.core.series.Series'>\n",
      "Winner is:  CHICAGO BULLS\n",
      "MILWAUKEE BUCKS vs. WASHINGTON WIZARDS\n",
      "TYPE:  <class 'pandas.core.series.Series'>\n",
      "Winner is:  MILWAUKEE BUCKS\n",
      "MILWAUKEE BUCKS vs. CLEVELAND CAVALIERS\n",
      "TYPE:  <class 'pandas.core.series.Series'>\n",
      "Winner is:  MILWAUKEE BUCKS\n",
      "MILWAUKEE BUCKS vs. DETROIT PISTONS\n",
      "TYPE:  <class 'pandas.core.series.Series'>\n",
      "Winner is:  MILWAUKEE BUCKS\n",
      "CHICAGO BULLS vs. WASHINGTON WIZARDS\n",
      "TYPE:  <class 'pandas.core.series.Series'>\n",
      "Winner is:  CHICAGO BULLS\n",
      "CHICAGO BULLS vs. CLEVELAND CAVALIERS\n",
      "TYPE:  <class 'pandas.core.series.Series'>\n",
      "Winner is:  CLEVELAND CAVALIERS\n",
      "CHICAGO BULLS vs. DETROIT PISTONS\n",
      "TYPE:  <class 'pandas.core.series.Series'>\n",
      "Winner is:  CHICAGO BULLS\n",
      "WASHINGTON WIZARDS vs. CLEVELAND CAVALIERS\n",
      "TYPE:  <class 'pandas.core.series.Series'>\n",
      "Winner is:  CLEVELAND CAVALIERS\n",
      "WASHINGTON WIZARDS vs. DETROIT PISTONS\n",
      "TYPE:  <class 'pandas.core.series.Series'>\n",
      "Winner is:  DETROIT PISTONS\n",
      "CLEVELAND CAVALIERS vs. DETROIT PISTONS\n",
      "TYPE:  <class 'pandas.core.series.Series'>\n",
      "Winner is:  CLEVELAND CAVALIERS\n",
      "PHILADELPHIA 76ERS vs. MIAMI HEAT\n",
      "TYPE:  <class 'pandas.core.series.Series'>\n",
      "Winner is:  PHILADELPHIA 76ERS\n",
      "PHILADELPHIA 76ERS vs. TORONTO RAPTORS\n",
      "TYPE:  <class 'pandas.core.series.Series'>\n",
      "Winner is:  TORONTO RAPTORS\n",
      "PHILADELPHIA 76ERS vs. BROOKLYN NETS\n",
      "TYPE:  <class 'pandas.core.series.Series'>\n",
      "Winner is:  BROOKLYN NETS\n",
      "PHILADELPHIA 76ERS vs. BOSTON CELTICS\n",
      "TYPE:  <class 'pandas.core.series.Series'>\n",
      "Winner is:  BOSTON CELTICS\n",
      "MIAMI HEAT vs. TORONTO RAPTORS\n",
      "TYPE:  <class 'pandas.core.series.Series'>\n",
      "Winner is:  TORONTO RAPTORS\n",
      "MIAMI HEAT vs. BROOKLYN NETS\n",
      "TYPE:  <class 'pandas.core.series.Series'>\n",
      "Winner is:  BROOKLYN NETS\n",
      "MIAMI HEAT vs. BOSTON CELTICS\n",
      "TYPE:  <class 'pandas.core.series.Series'>\n",
      "Winner is:  BOSTON CELTICS\n",
      "TORONTO RAPTORS vs. BROOKLYN NETS\n",
      "TYPE:  <class 'pandas.core.series.Series'>\n",
      "Winner is:  TORONTO RAPTORS\n",
      "TORONTO RAPTORS vs. BOSTON CELTICS\n",
      "TYPE:  <class 'pandas.core.series.Series'>\n",
      "Winner is:  BOSTON CELTICS\n",
      "BROOKLYN NETS vs. BOSTON CELTICS\n",
      "TYPE:  <class 'pandas.core.series.Series'>\n",
      "Winner is:  BOSTON CELTICS\n",
      "ATLANTA HAWKS vs. NEW YORK KNICKS\n",
      "TYPE:  <class 'pandas.core.series.Series'>\n",
      "Winner is:  NEW YORK KNICKS\n",
      "ATLANTA HAWKS vs. ORLANDO MAGIC\n",
      "TYPE:  <class 'pandas.core.series.Series'>\n",
      "Winner is:  ORLANDO MAGIC\n",
      "ATLANTA HAWKS vs. INDIANA PACERS\n",
      "TYPE:  <class 'pandas.core.series.Series'>\n",
      "Winner is:  ATLANTA HAWKS\n",
      "ATLANTA HAWKS vs. CHARLOTTE HORNETS\n",
      "TYPE:  <class 'pandas.core.series.Series'>\n",
      "Winner is:  ATLANTA HAWKS\n",
      "NEW YORK KNICKS vs. ORLANDO MAGIC\n",
      "TYPE:  <class 'pandas.core.series.Series'>\n",
      "Winner is:  NEW YORK KNICKS\n",
      "NEW YORK KNICKS vs. INDIANA PACERS\n",
      "TYPE:  <class 'pandas.core.series.Series'>\n",
      "Winner is:  NEW YORK KNICKS\n",
      "NEW YORK KNICKS vs. CHARLOTTE HORNETS\n",
      "TYPE:  <class 'pandas.core.series.Series'>\n",
      "Winner is:  NEW YORK KNICKS\n",
      "ORLANDO MAGIC vs. INDIANA PACERS\n",
      "TYPE:  <class 'pandas.core.series.Series'>\n",
      "Winner is:  ORLANDO MAGIC\n",
      "ORLANDO MAGIC vs. CHARLOTTE HORNETS\n",
      "TYPE:  <class 'pandas.core.series.Series'>\n",
      "Winner is:  ORLANDO MAGIC\n",
      "INDIANA PACERS vs. CHARLOTTE HORNETS\n",
      "TYPE:  <class 'pandas.core.series.Series'>\n",
      "Winner is:  INDIANA PACERS\n",
      "{'MILWAUKEE BUCKS': 3, 'CHICAGO BULLS': 3, 'WASHINGTON WIZARDS': 0, 'CLEVELAND CAVALIERS': 3, 'DETROIT PISTONS': 1, 'PHILADELPHIA 76ERS': 1, 'MIAMI HEAT': 0, 'TORONTO RAPTORS': 3, 'BROOKLYN NETS': 2, 'BOSTON CELTICS': 4, 'ATLANTA HAWKS': 2, 'NEW YORK KNICKS': 4, 'ORLANDO MAGIC': 3, 'INDIANA PACERS': 1, 'CHARLOTTE HORNETS': 0}\n",
      "OKLAHOMA CITY THUNDER vs. LOS ANGELES LAKERS\n",
      "TYPE:  <class 'pandas.core.series.Series'>\n",
      "Winner is:  LOS ANGELES LAKERS\n",
      "OKLAHOMA CITY THUNDER vs. DALLAS MAVERICKS\n",
      "TYPE:  <class 'pandas.core.series.Series'>\n",
      "Winner is:  OKLAHOMA CITY THUNDER\n",
      "OKLAHOMA CITY THUNDER vs. SACRAMENTO KINGS\n",
      "TYPE:  <class 'pandas.core.series.Series'>\n",
      "Winner is:  OKLAHOMA CITY THUNDER\n",
      "OKLAHOMA CITY THUNDER vs. SAN ANTONIO SPURS\n",
      "TYPE:  <class 'pandas.core.series.Series'>\n",
      "Winner is:  OKLAHOMA CITY THUNDER\n",
      "LOS ANGELES LAKERS vs. DALLAS MAVERICKS\n",
      "TYPE:  <class 'pandas.core.series.Series'>\n",
      "Winner is:  LOS ANGELES LAKERS\n",
      "LOS ANGELES LAKERS vs. SACRAMENTO KINGS\n",
      "TYPE:  <class 'pandas.core.series.Series'>\n",
      "Winner is:  SACRAMENTO KINGS\n",
      "LOS ANGELES LAKERS vs. SAN ANTONIO SPURS\n",
      "TYPE:  <class 'pandas.core.series.Series'>\n",
      "Winner is:  LOS ANGELES LAKERS\n",
      "DALLAS MAVERICKS vs. SACRAMENTO KINGS\n",
      "TYPE:  <class 'pandas.core.series.Series'>\n",
      "Winner is:  SACRAMENTO KINGS\n",
      "DALLAS MAVERICKS vs. SAN ANTONIO SPURS\n",
      "TYPE:  <class 'pandas.core.series.Series'>\n",
      "Winner is:  SAN ANTONIO SPURS\n",
      "SACRAMENTO KINGS vs. SAN ANTONIO SPURS\n",
      "TYPE:  <class 'pandas.core.series.Series'>\n",
      "Winner is:  SACRAMENTO KINGS\n",
      "LA CLIPPERS vs. MEMPHIS GRIZZLIES\n",
      "TYPE:  <class 'pandas.core.series.Series'>\n",
      "Winner is:  LA CLIPPERS\n",
      "LA CLIPPERS vs. GOLDEN STATE WARRIORS\n",
      "TYPE:  <class 'pandas.core.series.Series'>\n",
      "Winner is:  LA CLIPPERS\n",
      "LA CLIPPERS vs. HOUSTON ROCKETS\n",
      "TYPE:  <class 'pandas.core.series.Series'>\n",
      "Winner is:  LA CLIPPERS\n",
      "LA CLIPPERS vs. NEW ORLEANS PELICANS\n",
      "TYPE:  <class 'pandas.core.series.Series'>\n",
      "Winner is:  NEW ORLEANS PELICANS\n",
      "MEMPHIS GRIZZLIES vs. GOLDEN STATE WARRIORS\n",
      "TYPE:  <class 'pandas.core.series.Series'>\n",
      "Winner is:  MEMPHIS GRIZZLIES\n",
      "MEMPHIS GRIZZLIES vs. HOUSTON ROCKETS\n",
      "TYPE:  <class 'pandas.core.series.Series'>\n",
      "Winner is:  MEMPHIS GRIZZLIES\n",
      "MEMPHIS GRIZZLIES vs. NEW ORLEANS PELICANS\n",
      "TYPE:  <class 'pandas.core.series.Series'>\n",
      "Winner is:  MEMPHIS GRIZZLIES\n",
      "GOLDEN STATE WARRIORS vs. HOUSTON ROCKETS\n",
      "TYPE:  <class 'pandas.core.series.Series'>\n",
      "Winner is:  GOLDEN STATE WARRIORS\n",
      "GOLDEN STATE WARRIORS vs. NEW ORLEANS PELICANS\n",
      "TYPE:  <class 'pandas.core.series.Series'>\n",
      "Winner is:  NEW ORLEANS PELICANS\n",
      "HOUSTON ROCKETS vs. NEW ORLEANS PELICANS\n",
      "TYPE:  <class 'pandas.core.series.Series'>\n",
      "Winner is:  NEW ORLEANS PELICANS\n",
      "PHOENIX SUNS vs. DENVER NUGGETS\n",
      "TYPE:  <class 'pandas.core.series.Series'>\n",
      "Winner is:  PHOENIX SUNS\n",
      "PHOENIX SUNS vs. PORTLAND TRAIL BLAZERS\n",
      "TYPE:  <class 'pandas.core.series.Series'>\n",
      "Winner is:  PHOENIX SUNS\n",
      "PHOENIX SUNS vs. MINNESOTA TIMBERWOLVES\n",
      "TYPE:  <class 'pandas.core.series.Series'>\n",
      "Winner is:  PHOENIX SUNS\n",
      "PHOENIX SUNS vs. UTAH JAZZ\n",
      "TYPE:  <class 'pandas.core.series.Series'>\n",
      "Winner is:  PHOENIX SUNS\n",
      "DENVER NUGGETS vs. PORTLAND TRAIL BLAZERS\n",
      "TYPE:  <class 'pandas.core.series.Series'>\n",
      "Winner is:  DENVER NUGGETS\n",
      "DENVER NUGGETS vs. MINNESOTA TIMBERWOLVES\n",
      "TYPE:  <class 'pandas.core.series.Series'>\n",
      "Winner is:  DENVER NUGGETS\n",
      "DENVER NUGGETS vs. UTAH JAZZ\n",
      "TYPE:  <class 'pandas.core.series.Series'>\n",
      "Winner is:  DENVER NUGGETS\n",
      "PORTLAND TRAIL BLAZERS vs. MINNESOTA TIMBERWOLVES\n",
      "TYPE:  <class 'pandas.core.series.Series'>\n",
      "Winner is:  MINNESOTA TIMBERWOLVES\n",
      "PORTLAND TRAIL BLAZERS vs. UTAH JAZZ\n",
      "TYPE:  <class 'pandas.core.series.Series'>\n",
      "Winner is:  PORTLAND TRAIL BLAZERS\n",
      "MINNESOTA TIMBERWOLVES vs. UTAH JAZZ\n",
      "TYPE:  <class 'pandas.core.series.Series'>\n",
      "Winner is:  UTAH JAZZ\n",
      "{'OKLAHOMA CITY THUNDER': 3, 'LOS ANGELES LAKERS': 3, 'DALLAS MAVERICKS': 0, 'SACRAMENTO KINGS': 3, 'SAN ANTONIO SPURS': 1, 'LA CLIPPERS': 3, 'MEMPHIS GRIZZLIES': 3, 'GOLDEN STATE WARRIORS': 1, 'HOUSTON ROCKETS': 0, 'NEW ORLEANS PELICANS': 3, 'PHOENIX SUNS': 4, 'DENVER NUGGETS': 3, 'PORTLAND TRAIL BLAZERS': 1, 'MINNESOTA TIMBERWOLVES': 1, 'UTAH JAZZ': 1}\n"
     ]
    }
   ],
   "source": [
    "# SPLITTED FOR GROUP PLAY\n",
    "splitted_east = split_teams(east_teams, 3)\n",
    "splitted_west = split_teams(west_teams, 3)\n",
    "\n",
    "\n",
    "# GROUP PLAY\n",
    "\n",
    "win_count_gp = dict.fromkeys(distinct_teams, 0)\n",
    "\n",
    "east_gp = match_up(splitted_east, east_teams)\n",
    "west_gp = match_up(splitted_west, west_teams)\n",
    "\n",
    "win_count_gp.update(east_gp)\n",
    "win_count_gp.update(west_gp)\n"
   ]
  },
  {
   "cell_type": "code",
   "execution_count": 56,
   "metadata": {},
   "outputs": [
    {
     "name": "stdout",
     "output_type": "stream",
     "text": [
      "East:  3\n",
      "West:  3\n",
      "['BOSTON CELTICS', 'NEW YORK KNICKS', 'MILWAUKEE BUCKS', 'CLEVELAND CAVALIERS']\n",
      " Group Size:  2.0\n",
      " Group Size:  2.0\n",
      "[['MILWAUKEE BUCKS', 'BOSTON CELTICS'], ['NEW YORK KNICKS', 'CLEVELAND CAVALIERS']]\n",
      "MILWAUKEE BUCKS vs. BOSTON CELTICS\n",
      "TYPE:  <class 'pandas.core.series.Series'>\n",
      "Winner is:  BOSTON CELTICS\n",
      "NEW YORK KNICKS vs. CLEVELAND CAVALIERS\n",
      "TYPE:  <class 'pandas.core.series.Series'>\n",
      "Winner is:  NEW YORK KNICKS\n",
      "{'MILWAUKEE BUCKS': 0, 'BOSTON CELTICS': 1, 'NEW YORK KNICKS': 1, 'CLEVELAND CAVALIERS': 0}\n",
      "LOS ANGELES LAKERS vs. OKLAHOMA CITY THUNDER\n",
      "TYPE:  <class 'pandas.core.series.Series'>\n",
      "Winner is:  LOS ANGELES LAKERS\n",
      "PHOENIX SUNS vs. DENVER NUGGETS\n",
      "TYPE:  <class 'pandas.core.series.Series'>\n",
      "Winner is:  DENVER NUGGETS\n",
      "{'LOS ANGELES LAKERS': 1, 'OKLAHOMA CITY THUNDER': 0, 'PHOENIX SUNS': 0, 'DENVER NUGGETS': 1}\n"
     ]
    }
   ],
   "source": [
    "# KNOCK OUT ROUND\n",
    "\n",
    "# Prepare contestants...\n",
    "\n",
    "east_ko_teams, west_ko_teams = last_standing(east_gp,west_gp, True,True)\n",
    "\n",
    "# BEGIN KNOCKOUT\n",
    "\n",
    "ko_teams = east_ko_teams + west_ko_teams\n",
    "\n",
    "win_count_ko = dict.fromkeys(ko_teams, 0)\n",
    "\n",
    "print(east_ko_teams)\n",
    "\n",
    "splitted_east = split_teams(east_ko_teams, 2)\n",
    "splitted_west = split_teams(west_ko_teams, 2)\n",
    "\n",
    "print(splitted_east)\n",
    "east_ko = match_up(splitted_east, east_ko_teams)\n",
    "west_ko = match_up(splitted_west, west_ko_teams)\n",
    "\n",
    "win_count_ko.update(east_ko)\n",
    "win_count_ko.update(west_ko)"
   ]
  },
  {
   "cell_type": "code",
   "execution_count": 57,
   "metadata": {},
   "outputs": [
    {
     "name": "stdout",
     "output_type": "stream",
     "text": [
      "East:  2\n",
      "West:  2\n",
      " Group Size:  1.0\n",
      " Group Size:  1.0\n",
      "['BOSTON CELTICS', 'NEW YORK KNICKS']\n",
      "[['BOSTON CELTICS'], ['NEW YORK KNICKS']]\n",
      "BOSTON CELTICS vs. NEW YORK KNICKS\n",
      "Winner is:  BOSTON CELTICS\n",
      "{'BOSTON CELTICS': 1, 'NEW YORK KNICKS': 0}\n",
      "LOS ANGELES LAKERS vs. DENVER NUGGETS\n",
      "Winner is:  LOS ANGELES LAKERS\n",
      "{'LOS ANGELES LAKERS': 1, 'DENVER NUGGETS': 0}\n"
     ]
    },
    {
     "data": {
      "text/plain": [
       "{'BOSTON CELTICS': 1,\n",
       " 'NEW YORK KNICKS': 0,\n",
       " 'LOS ANGELES LAKERS': 1,\n",
       " 'DENVER NUGGETS': 0}"
      ]
     },
     "execution_count": 57,
     "metadata": {},
     "output_type": "execute_result"
    }
   ],
   "source": [
    "# SEMI FINALS\n",
    "\n",
    "# Prepare contestants...\n",
    "\n",
    "east_semi, west_semi = last_standing(east_ko,west_ko, False, False)\n",
    "\n",
    "# BEGIN SEMI FINALS\n",
    "\n",
    "semi_teams = east_semi + west_semi\n",
    "\n",
    "\n",
    "splitted_east = split_teams(east_semi, 2)\n",
    "splitted_west = split_teams(west_semi, 2)\n",
    "\n",
    "print(east_semi)\n",
    "print(splitted_east)\n",
    "win_count_semif = dict.fromkeys(semi_teams, 0)\n",
    "\n",
    "east_sf = match_up(splitted_east, east_semi)\n",
    "west_sf = match_up(splitted_west, west_semi)\n",
    "\n",
    "\n",
    "win_count_semif.update(east_sf)\n",
    "win_count_semif.update(west_sf)\n",
    "\n",
    "win_count_semif"
   ]
  },
  {
   "cell_type": "code",
   "execution_count": 58,
   "metadata": {},
   "outputs": [
    {
     "name": "stdout",
     "output_type": "stream",
     "text": [
      "East:  1\n",
      "West:  1\n",
      "Winner is:  BOSTON CELTICS\n"
     ]
    }
   ],
   "source": [
    "# FINAL - CHAMPIONSHIP CUP\n",
    "\n",
    "# Prepare contestants...\n",
    "\n",
    "east_final, west_final = last_standing(east_sf,west_sf, False, False)\n",
    "\n",
    "# BEGIN FINALS\n",
    "\n",
    "final_teams = east_final + west_final\n",
    "\n",
    "east_final = east_final[0]\n",
    "west_final = west_final[0]\n",
    "\n",
    "win_count_final = dict.fromkeys(final_teams, 0)\n",
    "\n",
    "final_match = the_game(summary_dict[east_final],summary_dict[west_final])\n",
    "win_count_final[final_match] += 1\n"
   ]
  },
  {
   "cell_type": "code",
   "execution_count": 59,
   "metadata": {},
   "outputs": [],
   "source": [
    "from collections import Counter\n",
    "total_count = Counter(win_count_gp) + Counter(win_count_ko) + Counter(win_count_semif) + Counter(win_count_final)"
   ]
  },
  {
   "cell_type": "code",
   "execution_count": 60,
   "metadata": {},
   "outputs": [
    {
     "name": "stdout",
     "output_type": "stream",
     "text": [
      "CHAMPIONSHIPS: BOSTON CELTICS winning 7 games\n"
     ]
    }
   ],
   "source": [
    "print(f'CHAMPIONSHIPS: {final_match} winning {total_count[final_match]} games')\n"
   ]
  }
 ],
 "metadata": {
  "kernelspec": {
   "display_name": "Python 3",
   "language": "python",
   "name": "python3"
  },
  "language_info": {
   "codemirror_mode": {
    "name": "ipython",
    "version": 3
   },
   "file_extension": ".py",
   "mimetype": "text/x-python",
   "name": "python",
   "nbconvert_exporter": "python",
   "pygments_lexer": "ipython3",
   "version": "3.9.7"
  }
 },
 "nbformat": 4,
 "nbformat_minor": 2
}
