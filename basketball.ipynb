{
 "cells": [
  {
   "cell_type": "markdown",
   "metadata": {},
   "source": [
    "Here we are going to extract the basketball seasons from the [NBA Site](https://www.nba.com/stats/teams/traditional?Outcome=&SeasonType=Regular+Season&Season=2023-24).\n",
    "\n",
    "1. To extract dataset from the site, we are going to use a web scraper, and chosen to go with Selenium. <br/>\n",
    "   Read the docs to know more about [Selenium](https://selenium-python.readthedocs.io/installation.html)\n"
   ]
  },
  {
   "cell_type": "code",
   "execution_count": null,
   "metadata": {},
   "outputs": [],
   "source": [
    "# import selenium.webdriver\n",
    "# from selenium.webdriver.common.by import By\n",
    "# from selenium.webdriver.support.ui import Select\n",
    "# import time\n",
    "\n",
    "driver = webdriver.Chrome()\n",
    "url = \"https://www.nba.com/stats/teams/traditional?Outcome=&SeasonType=Regular+Season\"\n",
    "\n",
    "driver.get(url)\n",
    "\n",
    "season_val = \"2020-21\"\n",
    "\n",
    "season_drpdwn = Select(driver.find_element(By.CLASS_NAME,\"DropDown_select__4pIg9\"))\n",
    "season_drpdwn.select_by_visible_text(season_val)\n",
    "\n",
    "time.sleep(10)\n",
    "# driver.quit()"
   ]
  },
  {
   "cell_type": "code",
   "execution_count": null,
   "metadata": {},
   "outputs": [],
   "source": [
    "import xlsxwriter\n",
    "\n",
    "workbook = xlsxwriter.Workbook(\"nba_stats.xlsx\")\n",
    "workbook = "
   ]
  }
 ],
 "metadata": {
  "kernelspec": {
   "display_name": "Python 3",
   "language": "python",
   "name": "python3"
  },
  "language_info": {
   "codemirror_mode": {
    "name": "ipython",
    "version": 3
   },
   "file_extension": ".py",
   "mimetype": "text/x-python",
   "name": "python",
   "nbconvert_exporter": "python",
   "pygments_lexer": "ipython3",
   "version": "3.9.7"
  }
 },
 "nbformat": 4,
 "nbformat_minor": 2
}
