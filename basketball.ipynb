{
 "cells": [
  {
   "cell_type": "markdown",
   "metadata": {},
   "source": [
    "Here we are going to extract the basketball seasons from the [NBA Site](https://www.nba.com/stats/teams/traditional?Outcome=&SeasonType=Regular+Season&Season=2023-24).\n",
    "\n",
    "1. To extract dataset from the site, we are going to use a web scraper, and chosen to go with Selenium. <br/>\n",
    "   Read the docs to know more about [Selenium](https://selenium-python.readthedocs.io/installation.html)\n"
   ]
  },
  {
   "cell_type": "code",
   "execution_count": 132,
   "metadata": {},
   "outputs": [],
   "source": [
    "from selenium import webdriver\n",
    "from selenium.webdriver.common.by import By\n",
    "from selenium.webdriver.support.ui import Select\n",
    "from selenium.webdriver.support.ui import WebDriverWait\n",
    "from selenium.webdriver.support import expected_conditions as EC\n",
    "\n",
    "import pandas as pd\n",
    "from openpyxl import Workbook\n",
    "from buckets import dimes"
   ]
  },
  {
   "cell_type": "code",
   "execution_count": 133,
   "metadata": {},
   "outputs": [],
   "source": [
    "\n",
    "driver = webdriver.Chrome()\n",
    "url = \"https://www.nba.com/stats/teams/traditional/\"\n",
    "\n",
    "driver.get(url)\n",
    "\n",
    "season_vals = []\n",
    "# Maybe use the selections of the available seasons in the site??\n",
    "for each in range(4):\n",
    "    season_vals.append(f\"202{each}-2{each+1}\")"
   ]
  },
  {
   "cell_type": "code",
   "execution_count": 134,
   "metadata": {},
   "outputs": [],
   "source": [
    "wb = Workbook()\n",
    "wb.save('nba_stats.xlsx')\n",
    "ws = wb.active"
   ]
  },
  {
   "cell_type": "code",
   "execution_count": 135,
   "metadata": {},
   "outputs": [],
   "source": [
    "xpath_table = dimes.get('XPATH')\n",
    "for i,sn in enumerate(season_vals):\n",
    "    season_drpdwn = Select(driver.find_element(By.CLASS_NAME,\"DropDown_select__4pIg9\"))\n",
    "    season_drpdwn.select_by_visible_text(sn)\n",
    "    table = WebDriverWait(driver, 40).until(EC.visibility_of_element_located((By.XPATH, xpath_table))).get_attribute(\"outerHTML\")\n",
    "    df = pd.read_html(table)[0]\n",
    "    df.dropna(how='all', axis=1, inplace=True)\n",
    "    df.columns.values[0] = 'Rank'\n",
    "    # print(df)\n",
    "    with pd.ExcelWriter(path='nba_stats.xlsx', engine='openpyxl', mode='a', if_sheet_exists='replace') as writer:\n",
    "       df.to_excel(writer, sheet_name= sn, index=False, header=True)\n",
    "\n"
   ]
  },
  {
   "cell_type": "code",
   "execution_count": null,
   "metadata": {},
   "outputs": [],
   "source": [
    "driver.close()"
   ]
  }
 ],
 "metadata": {
  "kernelspec": {
   "display_name": "Python 3",
   "language": "python",
   "name": "python3"
  },
  "language_info": {
   "codemirror_mode": {
    "name": "ipython",
    "version": 3
   },
   "file_extension": ".py",
   "mimetype": "text/x-python",
   "name": "python",
   "nbconvert_exporter": "python",
   "pygments_lexer": "ipython3",
   "version": "3.9.7"
  }
 },
 "nbformat": 4,
 "nbformat_minor": 2
}
