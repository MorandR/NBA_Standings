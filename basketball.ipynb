{
 "cells": [
  {
   "cell_type": "markdown",
   "metadata": {},
   "source": [
    "# NBA Tournament\n"
   ]
  },
  {
   "cell_type": "markdown",
   "metadata": {},
   "source": [
    "## Table of Contents\n",
    "\n",
    "- Introduction\n",
    "- Data: Collection, Cleaning and Preprocessing\n",
    "- Machine Learning\n",
    "- NBA Tournament\n",
    "- Conclusion\n"
   ]
  },
  {
   "cell_type": "markdown",
   "metadata": {},
   "source": [
    "### Introduction\n",
    "\n",
    "This project stems from a [ proposed project ] developed for a Machine Learning course, using Supervised Learning. I will attempt to gain better results and try out different models to establish a well defined tournament.\n",
    "Previously, I used features intented to aid in winning a game such as Block, Steal, Rebound, etc. Logistic and linear regression were the only models used to make these winning prediction. <br/>\n",
    "For this project, I will add more features and experiment with more regression models while using a more and advanced data to create an efficient model to predict the winner of team match ups, using data extracted from [NBA Site](https://www.nba.com)\n",
    "\n",
    "<font color=red>Note:</font> [Selenium](https://selenium-python.readthedocs.io/installation.html) was used to retreive the source data. <br/>\n",
    "This notebook contains interactive graphs which may require you to install a few dependencies. Graph images are displayed below the respected cell to view without running the program.\n"
   ]
  },
  {
   "cell_type": "markdown",
   "metadata": {},
   "source": [
    "### Data\n"
   ]
  },
  {
   "cell_type": "markdown",
   "metadata": {},
   "source": [
    "#### Collection [Selenium]\n",
    "\n",
    "Below is the Selenium code used to retreive the our listings\n",
    "Here we are going to extract the basketball seasons from the [NBA Site](https://www.nba.com/stats/teams/boxscores-traditional)\n"
   ]
  },
  {
   "cell_type": "code",
   "execution_count": 1,
   "metadata": {},
   "outputs": [],
   "source": [
    "# Importing all neccesary packages\n",
    "from selenium import webdriver\n",
    "from selenium.webdriver.common.by import By\n",
    "from selenium.webdriver.support.ui import Select\n",
    "from selenium.webdriver.support.ui import WebDriverWait\n",
    "from selenium.webdriver.support import expected_conditions as EC\n",
    "from selenium.common.exceptions import ElementClickInterceptedException as ECIE, NoSuchElementException as NSEE, StaleElementReferenceException as SERE, TimeoutException as TE, ElementNotInteractableException as ENIE\n",
    "\n",
    "from openpyxl import Workbook, load_workbook\n",
    "from buckets import dimes\n",
    "import time\n",
    "import re"
   ]
  },
  {
   "cell_type": "code",
   "execution_count": 1,
   "metadata": {},
   "outputs": [],
   "source": [
    "import pandas as pd\n",
    "import numpy as np\n",
    "import random"
   ]
  },
  {
   "cell_type": "markdown",
   "metadata": {},
   "source": [
    "##### Table Collection & Organization\n"
   ]
  },
  {
   "cell_type": "code",
   "execution_count": null,
   "metadata": {},
   "outputs": [],
   "source": [
    "# Webdriver: Chrome | Site: NBA site\n",
    "\n",
    "driver = webdriver.Chrome()\n",
    "# url = \"https://www.nba.com/stats/teams/boxscores-traditional\"\n",
    "# driver.get(url)\n"
   ]
  },
  {
   "cell_type": "code",
   "execution_count": null,
   "metadata": {},
   "outputs": [],
   "source": [
    "# Create an Excel to begin data transfer\n",
    "wb = Workbook()\n",
    "wb.save('nba_box_scores.xlsx')\n",
    "ws = wb.active\n",
    "dfs = []"
   ]
  },
  {
   "cell_type": "code",
   "execution_count": null,
   "metadata": {},
   "outputs": [],
   "source": [
    "# Dictionary created from NBA Glossary\n",
    "driver.execute_script(\"window.scrollTo(0,300)\")\n",
    "\n",
    "glossary_bttn = WebDriverWait(driver, 10).until(EC.element_to_be_clickable(driver.find_element(By.CLASS_NAME, \"Crom_cromGlossary__ZHrZf\")))\n",
    "glossary_bttn.click() # View Glossary\n",
    "\n",
    "abbr_list = {}\n",
    "\n",
    "abbrs = driver.find_elements(By.CLASS_NAME, \"StatsTableGlossary_dt__GPooh\") # Abbr\n",
    "defs = driver.find_elements(By.CLASS_NAME, \"StatsTableGlossary_dd__zcr38\") # defs\n",
    "\n",
    "for idx, ab in enumerate(abbrs):\n",
    "    abbr_list[ab.text] = defs[idx].text\n",
    "\n",
    "glossary_bttn.click() # Close Glossary\n"
   ]
  },
  {
   "cell_type": "code",
   "execution_count": null,
   "metadata": {},
   "outputs": [],
   "source": [
    "# Capture all seasons in the list from web page\n",
    "season_drpdwn = Select(driver.find_element(By.CLASS_NAME,\"DropDown_select__4pIg9\"))\n",
    "seasons_arr = [sn.text for sn in season_drpdwn.options]\n",
    "xpath_table = dimes.get('XPATH_TABLE')"
   ]
  },
  {
   "cell_type": "code",
   "execution_count": null,
   "metadata": {},
   "outputs": [],
   "source": [
    "# Ensure table is retrieved from 'Regular Season' Games\n",
    "ssn_type_drpdwn = driver.find_element(By.XPATH,'//*[@id=\"__next\"]/div[2]/div[2]/div[3]/section[1]/div/div/div[2]/label/div')\n",
    "ssn_type = Select(driver.find_element(By.XPATH, '//*[@id=\"__next\"]/div[2]/div[2]/div[3]/section[1]/div/div/div[2]/label/div/select'))\n",
    "ssn_type.select_by_visible_text(\"Regular Season\")\n"
   ]
  },
  {
   "cell_type": "code",
   "execution_count": null,
   "metadata": {},
   "outputs": [],
   "source": [
    "# Extact, Manipulate and Insert Seasons' table into  Excel\n",
    "\n",
    "def assign_names(matches, teams, sn, df):\n",
    "        \n",
    "    print(f'Made it in for Season: {sn} with shape {df.shape}')\n",
    "\n",
    "    # print(len(matches), '\\n', len(teams), '\\n', sn, '\\n', df.shape) \n",
    "    team_names = []\n",
    "    opp_names = []\n",
    "    opp_abbrs = []\n",
    "\n",
    "    # Assign names to team and opponent Series respectfully\n",
    "    for i,match in enumerate(matches):\n",
    "\n",
    "        team_abbr = re.split((r'vs. | @'),match)[0].rstrip()\n",
    "        opp_abbr = re.split((r'vs. | @'),match)[1].lstrip()\n",
    "\n",
    "        if team_abbr in teams:\n",
    "            team_names.append(teams[team_abbr])\n",
    "        if opp_abbr in teams:\n",
    "            opp_names.append(teams[opp_abbr])\n",
    "            opp_abbrs.append(opp_abbr)    \n",
    "\n",
    "    df.insert(1, 'TEAM', team_names)\n",
    "    df.insert(2, 'OPP ABBR', opp_abbrs)\n",
    "    df.insert(3, 'OPPONENT', opp_names)\n",
    "    df.insert(4, \"SEASON\", sn)\n",
    "    \n",
    "    team_names.clear()\n",
    "    opp_abbrs.clear()\n",
    "    opp_names.clear()\n",
    "\n",
    "    \n",
    "    return df\n"
   ]
  },
  {
   "cell_type": "code",
   "execution_count": null,
   "metadata": {},
   "outputs": [],
   "source": [
    "# Driver Code\n",
    "\n",
    "xpath_pages = dimes.get('XPATH_PAGES')\n",
    "teams = {}\n",
    "\n",
    "for i, sn in enumerate(seasons_arr):\n",
    "\n",
    "\n",
    "    try:\n",
    "\n",
    "        ad = WebDriverWait(driver,10).until(EC.presence_of_element_located((By.CLASS_NAME, 'bx-close-xsvg'))).click()\n",
    "        cookie = WebDriverWait(driver,10).until(EC.presence_of_element_located((By.XPATH, '/html/body/div[3]/div[2]/div/div[1]/div/div[2]/div/button'))).click()\n",
    "\n",
    "        season_drpdwn = Select(driver.find_element(By.CLASS_NAME,\"DropDown_select__4pIg9\"))\n",
    "        season_drpdwn.select_by_visible_text(sn)\n",
    "        print(sn)\n",
    "\n",
    "        page_drpdown = driver.find_element(By.CLASS_NAME, \"Pagination_pageDropdown__KgjBU\")\n",
    "        time.sleep(2)\n",
    "\n",
    "        pages = Select(driver.find_element(By.XPATH, xpath_pages))\n",
    "        pages.select_by_visible_text(\"All\")\n",
    "\n",
    "    except:\n",
    "\n",
    "        season_drpdwn = Select(driver.find_element(By.CLASS_NAME,\"DropDown_select__4pIg9\"))\n",
    "        season_drpdwn.select_by_visible_text(sn)\n",
    "        print(sn)\n",
    "\n",
    "        page_drpdown = driver.find_element(By.CLASS_NAME, \"Pagination_pageDropdown__KgjBU\")\n",
    "        time.sleep(2)\n",
    "\n",
    "        pages = Select(driver.find_element(By.XPATH, xpath_pages))\n",
    "        pages.select_by_visible_text(\"All\")\n",
    "        time.sleep(2)\n",
    "\n",
    "    table = WebDriverWait(driver, 10).until(EC.visibility_of_element_located((By.XPATH, xpath_table))).get_attribute(\"outerHTML\")\n",
    "    sub_df = pd.read_html(table)[0]\n",
    "    sub_df.dropna(how='all', axis=1, inplace=True)\n",
    "    sub_df = sub_df.rename(columns={'TEAM': 'TEAM ABBR'})    \n",
    "    all_teams = sub_df['TEAM ABBR'].unique()\n",
    "\n",
    "    matches = sub_df['MATCH UP']\n",
    "    \n",
    "    print(f'Number of Teams this Season: {len(all_teams)}')\n",
    "    # print(sub_df)\n",
    "\n",
    "    if all(ele in teams for ele in all_teams): # Assign existing names to Abbreviations\n",
    "\n",
    "        new_df = assign_names(matches, teams, sn, sub_df)\n",
    "        dfs.append(new_df)\n",
    "\n",
    "        # Append each Season's table into Excel file\n",
    "        with pd.ExcelWriter(path='nba_box_scores.xlsx', engine='openpyxl', mode='a', if_sheet_exists='replace') as writer:\n",
    "            new_df.to_excel(writer, sheet_name= sn, index=False, header=True)\n",
    "    \n",
    "    else:\n",
    "        # Get all names missing from the teams list\n",
    "        # Handle all possible exceptions \n",
    "        \n",
    "        missing_teams = [t for t in all_teams if t not in teams]\n",
    "        print(missing_teams)\n",
    "        for team in missing_teams:\n",
    "        \n",
    "            try:\n",
    "                if team == 'ORL':\n",
    "                    teams[team] = 'ORLANDO MAGIC'\n",
    "                else:\n",
    "                    linked_text = WebDriverWait(driver,2).until(EC.presence_of_element_located((By.LINK_TEXT, team)))\n",
    "                    linked_text.click()\n",
    "                    teams[team] = (driver.find_element(By.CLASS_NAME, 'TeamHeader_name__MmHlP').text).replace('\\n','')\n",
    "                    driver.execute_script(\"window.history.go(-1)\") # go back a page\n",
    "                    time.sleep(2)\n",
    "                print(f'{team} Cleared!')\n",
    "        \n",
    "\n",
    "            except ECIE: # Overlay may be blocking focused elements\n",
    "                print('Entered ECIE: Element Click Intercepted Exception')\n",
    "                print(f'Nope!! Trying to capture {team} again')\n",
    "                ad = WebDriverWait(driver,10).until(EC.presence_of_element_located((By.CLASS_NAME, 'bx-close-xsvg'))).click()\n",
    "                cookie = WebDriverWait(driver,10).until(EC.presence_of_element_located((By.XPATH, '/html/body/div[3]/div[2]/div/div[1]/div/div[2]/div/button'))).click()\n",
    "\n",
    "\n",
    "                driver.find_element(By.LINK_TEXT, team).click()\n",
    "                teams[team] = (driver.find_element(By.CLASS_NAME, 'TeamHeader_name__MmHlP').text).replace('\\n','')\n",
    "                driver.execute_script(\"window.history.go(-1)\") # go back a page\n",
    "                time.sleep(2)\n",
    "                print(f'{team} Cleared!')\n",
    "\n",
    "            except NSEE: # Element doesn't exist. \n",
    "                print('Entered NSSE: No Such Element Exception')\n",
    "                time.sleep(1)\n",
    "                ad = WebDriverWait(driver,20).until(EC.presence_of_element_located((By.CLASS_NAME, 'bx-close-xsvg'))).click()\n",
    "\n",
    "                page_drpdown = driver.find_element(By.CLASS_NAME, \"Pagination_pageDropdown__KgjBU\")\n",
    "                time.sleep(1.5)\n",
    "\n",
    "                pages = Select(driver.find_element(By.XPATH, xpath_pages))\n",
    "                pages.select_by_visible_text(\"All\")\n",
    "\n",
    "                driver.find_element(By.LINK_TEXT, team).click()\n",
    "                teams[team] = (driver.find_element(By.CLASS_NAME, 'TeamHeader_name__MmHlP').text).replace('\\n','')\n",
    "                driver.execute_script(\"window.history.go(-1)\") # go back a page\n",
    "                time.sleep(2)\n",
    "                print(f'{team} Cleared!')\n",
    "            \n",
    "            except TE: \n",
    "                print('Entered TE: Timeout Exception')\n",
    "                ad = WebDriverWait(driver,20).until(EC.presence_of_element_located((By.CLASS_NAME, 'bx-close-xsvg'))).click()\n",
    "\n",
    "                print(f'Trying to capture {team} again')\n",
    "\n",
    "                page_drpdown = driver.find_element(By.CLASS_NAME, \"Pagination_pageDropdown__KgjBU\")\n",
    "                time.sleep(1.5)\n",
    "\n",
    "                pages = Select(driver.find_element(By.XPATH, xpath_pages))\n",
    "                pages.select_by_visible_text(\"All\")\n",
    "\n",
    "                driver.find_element(By.LINK_TEXT, team).click()\n",
    "                teams[team] = (driver.find_element(By.CLASS_NAME, 'TeamHeader_name__MmHlP').text).replace('\\n','')\n",
    "                driver.execute_script(\"window.history.go(-1)\") # go back a page\n",
    "                time.sleep(2)\n",
    "                print(f'{team} Cleared!')\n",
    "                continue\n",
    "\n",
    "            except SERE:\n",
    "                print('Entered SERE: Stale Element Reference Exception')\n",
    "\n",
    "                page_drpdown = driver.find_element(By.CLASS_NAME, \"Pagination_pageDropdown__KgjBU\")\n",
    "                time.sleep(2)\n",
    "\n",
    "                pages = Select(driver.find_element(By.XPATH, xpath_pages))\n",
    "                pages.select_by_visible_text(\"All\")\n",
    "\n",
    "                driver.find_element(By.LINK_TEXT, team).click()\n",
    "                teams[team] = (driver.find_element(By.CLASS_NAME, 'TeamHeader_name__MmHlP').text).replace('\\n','')\n",
    "                driver.execute_script(\"window.history.go(-1)\") # go back a page\n",
    "                time.sleep(2)\n",
    "                print(f'{team} Cleared!')\n",
    "\n",
    "            except ENIE:\n",
    "                print('Entered ENIE: Element Not Interactable Exception')\n",
    "                ad = WebDriverWait(driver,20).until(EC.presence_of_element_located((By.CLASS_NAME, 'bx-close-xsvg'))).click()\n",
    "\n",
    "                page_drpdown = driver.find_element(By.CLASS_NAME, \"Pagination_pageDropdown__KgjBU\")\n",
    "                time.sleep(1.5)\n",
    "\n",
    "                pages = Select(driver.find_element(By.XPATH, xpath_pages))\n",
    "                pages.select_by_visible_text(\"All\")\n",
    "\n",
    "                driver.find_element(By.LINK_TEXT, team).click()\n",
    "                teams[team] = (driver.find_element(By.CLASS_NAME, 'TeamHeader_name__MmHlP').text).replace('\\n','')\n",
    "                driver.execute_script(\"window.history.go(-1)\") # go back a page\n",
    "                time.sleep(2)\n",
    "                print(f'{team} Cleared!')\n",
    "\n",
    "        new_df = assign_names(matches, teams, sn, sub_df)\n",
    "        dfs.append(new_df)\n",
    "\n",
    "        with pd.ExcelWriter(path='nba_box_scores.xlsx', engine='openpyxl', mode='a', if_sheet_exists='replace') as writer:\n",
    "            new_df.to_excel(writer, sheet_name= sn, index=False, header=True)\n",
    "        \n"
   ]
  },
  {
   "cell_type": "code",
   "execution_count": null,
   "metadata": {},
   "outputs": [],
   "source": [
    "# Combine all tables for DataFrame\n",
    "df = pd.concat([x for x in dfs], ignore_index=True)"
   ]
  },
  {
   "cell_type": "markdown",
   "metadata": {},
   "source": [
    "##### url for REGION feature.\n"
   ]
  },
  {
   "cell_type": "code",
   "execution_count": 12,
   "metadata": {},
   "outputs": [],
   "source": [
    "# Selenium part\n",
    "\n",
    "url2 = 'https://www.nba.com/stats/teams'\n",
    "driver.get(url2)\n",
    "\n",
    "region_list = driver.find_elements(By.CLASS_NAME, 'StatsTeamsList_division__ZUezr')"
   ]
  },
  {
   "cell_type": "code",
   "execution_count": 13,
   "metadata": {},
   "outputs": [],
   "source": [
    "# Assigning to REGION df\n",
    "group = []\n",
    "\n",
    "# Region: Atlantic, Central, Southeast, Northwest, Pacific, Southwest\n",
    "for region in region_list:\n",
    "    rgn = region.text.split('\\n')\n",
    "    group.append(rgn)\n",
    "\n",
    "region_headers = [rh.pop(0) for rh in group]\n",
    "group = np.array(group).T # Transpose\n",
    "group = np.char.upper(group) # Turn all into CAPS\n",
    "\n",
    "region_df = pd.DataFrame(\n",
    "    data = group,\n",
    "    columns=region_headers\n",
    ")\n",
    "\n",
    "region_df.to_csv('nba_regions.csv', index=False)"
   ]
  },
  {
   "cell_type": "markdown",
   "metadata": {},
   "source": [
    "##### url for CONFERENCE feature.\n"
   ]
  },
  {
   "cell_type": "code",
   "execution_count": 14,
   "metadata": {},
   "outputs": [],
   "source": [
    "# Selenium part\n",
    "\n",
    "url3 = 'https://www.nba.com/standings'\n",
    "driver.get(url3)\n",
    "confs = driver.find_elements(By.CLASS_NAME, 'Crom_base__f0niE')\n",
    "division = driver.find_elements(By.CLASS_NAME, 'Crom_caption__Yv_rH')"
   ]
  },
  {
   "cell_type": "code",
   "execution_count": null,
   "metadata": {},
   "outputs": [],
   "source": [
    "# Assigning to CONF. df\n",
    "dvsn = [] \n",
    "conf_groups = []\n",
    "\n",
    "for conf in confs: # East | West Confs\n",
    "    dvsn.append(re.split(r'\\n',conf.text)[0].upper())\n",
    "    lists = re.split(r'\\n',conf.text)\n",
    "    c_names = []\n",
    "\n",
    "    for idx,each in enumerate(lists):\n",
    "    \n",
    "        if re.search(r'^\\d{1,2}$',each) != None:\n",
    "            joint_tn = ''.join([lists[idx+1], lists[idx+2]]).upper()\n",
    "            # print(joint_tn)\n",
    "            c_names.append(joint_tn)\n",
    "\n",
    "    conf_groups.append(c_names)\n",
    "\n",
    "conf_groups = np.array(conf_groups).T\n",
    "\n",
    "\n",
    "\n",
    "conf_df = pd.DataFrame(\n",
    "    data=conf_groups,\n",
    "    columns= dvsn\n",
    ")\n",
    "\n",
    "conf_df.to_csv('nba_standing.csv', index=False)"
   ]
  },
  {
   "cell_type": "code",
   "execution_count": null,
   "metadata": {},
   "outputs": [],
   "source": [
    "# Append Region and Conference to established DataFrame\n",
    "\n",
    "sides = [] # Conference list\n",
    "areas = [] # Region list\n",
    "\n",
    "for each in df['TEAM']:   \n",
    "\n",
    "\t# Handle Conference Column\n",
    "\tfor col in conf_df:\n",
    "\t\tif each in conf_df[col].values:\n",
    "\t\t\tsides.append(col.split(\" \")[0]) # Apply 'EASTERN' | 'WESTERN'\n",
    "\n",
    "\t# Handle Region Column\n",
    "\tfor col in region_df:\n",
    "\t\tif each in region_df[col].values:\n",
    "\t\t\tareas.append(col)\n",
    "\n",
    "\n",
    "df['CONFERENCE'] = sides\n",
    "\n",
    "# Special Case: Filters the sub df with NOP  in SEASON < 2004-05 and mark it EASTERN CONFERENCE  \n",
    "# Since this created 2 seperate conference for NOP, it would make the Conferences unbalanced; Keep as WESTERN\n",
    "# df.loc[(df['SEASON'] < '2004-05') & (df['TEAM'] == 'NEW ORLEANS PELICANS'), 'CONFERENCE'] = 'EASTERN'\n",
    "\n",
    "\n",
    "for each in df['TEAM']:\n",
    "\tfor col in region_df:\n",
    "\t\tif each in region_df[col].values:\n",
    "\t\t\tareas.append(col)\n",
    "\n",
    "\n",
    "\n",
    "\n",
    "df['REGION'] = areas"
   ]
  },
  {
   "cell_type": "code",
   "execution_count": null,
   "metadata": {},
   "outputs": [],
   "source": [
    "# Export df to Files\n",
    "\n",
    "with pd.ExcelWriter(path='nba_box_scores.xlsx', engine='openpyxl', mode='a', if_sheet_exists='replace') as writer:\n",
    "    df.to_excel(writer, sheet_name= 'Sheet', index=False, header=True)\n",
    "\n",
    "df.to_csv('nba_box_scores.csv', index=False)"
   ]
  },
  {
   "cell_type": "code",
   "execution_count": null,
   "metadata": {},
   "outputs": [],
   "source": [
    "\n",
    "# Close all opened files and systems\n",
    "wb.close()\n",
    "driver.close()"
   ]
  },
  {
   "cell_type": "markdown",
   "metadata": {},
   "source": [
    "#### Cleaning & Processing\n",
    "\n",
    "Now we're going to:\n",
    "\n",
    "- Read data from previously exported csv file\n",
    "- Normalize the data to condense the distribution\n",
    "- Update Team Abbreviations to its' lastest of today\n"
   ]
  },
  {
   "cell_type": "code",
   "execution_count": 2,
   "metadata": {},
   "outputs": [],
   "source": [
    "# Read data\n",
    "full_df = pd.read_csv('nba_box_scores.csv')"
   ]
  },
  {
   "cell_type": "code",
   "execution_count": null,
   "metadata": {},
   "outputs": [],
   "source": [
    "# Uncoment and run below if notebook did not run\n",
    "# df.loc[(df['SEASON'] < '2004-05') & (df['TEAM'] == 'NEW ORLEANS PELICANS'), 'CONFERENCE'] = 'WESTERN'\n"
   ]
  },
  {
   "cell_type": "code",
   "execution_count": 3,
   "metadata": {},
   "outputs": [
    {
     "data": {
      "text/html": [
       "<div>\n",
       "<style scoped>\n",
       "    .dataframe tbody tr th:only-of-type {\n",
       "        vertical-align: middle;\n",
       "    }\n",
       "\n",
       "    .dataframe tbody tr th {\n",
       "        vertical-align: top;\n",
       "    }\n",
       "\n",
       "    .dataframe thead th {\n",
       "        text-align: right;\n",
       "    }\n",
       "</style>\n",
       "<table border=\"1\" class=\"dataframe\">\n",
       "  <thead>\n",
       "    <tr style=\"text-align: right;\">\n",
       "      <th></th>\n",
       "      <th>TEAM ABBR</th>\n",
       "      <th>TEAM</th>\n",
       "      <th>OPP ABBR</th>\n",
       "      <th>OPPONENT</th>\n",
       "      <th>SEASON</th>\n",
       "      <th>MATCH UP</th>\n",
       "      <th>GAME DATE</th>\n",
       "      <th>W/L</th>\n",
       "      <th>MIN</th>\n",
       "      <th>PTS</th>\n",
       "      <th>...</th>\n",
       "      <th>DREB</th>\n",
       "      <th>REB</th>\n",
       "      <th>AST</th>\n",
       "      <th>TOV</th>\n",
       "      <th>STL</th>\n",
       "      <th>BLK</th>\n",
       "      <th>PF</th>\n",
       "      <th>+/-</th>\n",
       "      <th>CONFERENCE</th>\n",
       "      <th>REGION</th>\n",
       "    </tr>\n",
       "  </thead>\n",
       "  <tbody>\n",
       "    <tr>\n",
       "      <th>0</th>\n",
       "      <td>NYK</td>\n",
       "      <td>NEW YORK KNICKS</td>\n",
       "      <td>CHI</td>\n",
       "      <td>CHICAGO BULLS</td>\n",
       "      <td>2023-24</td>\n",
       "      <td>NYK vs. CHI</td>\n",
       "      <td>4/14/24</td>\n",
       "      <td>W</td>\n",
       "      <td>53</td>\n",
       "      <td>120</td>\n",
       "      <td>...</td>\n",
       "      <td>37</td>\n",
       "      <td>53</td>\n",
       "      <td>27</td>\n",
       "      <td>21.0</td>\n",
       "      <td>7</td>\n",
       "      <td>6</td>\n",
       "      <td>17</td>\n",
       "      <td>1.0</td>\n",
       "      <td>EASTERN</td>\n",
       "      <td>ATLANTIC</td>\n",
       "    </tr>\n",
       "    <tr>\n",
       "      <th>1</th>\n",
       "      <td>CHA</td>\n",
       "      <td>CHARLOTTE HORNETS</td>\n",
       "      <td>CLE</td>\n",
       "      <td>CLEVELAND CAVALIERS</td>\n",
       "      <td>2023-24</td>\n",
       "      <td>CHA @ CLE</td>\n",
       "      <td>4/14/24</td>\n",
       "      <td>W</td>\n",
       "      <td>48</td>\n",
       "      <td>120</td>\n",
       "      <td>...</td>\n",
       "      <td>37</td>\n",
       "      <td>47</td>\n",
       "      <td>36</td>\n",
       "      <td>10.0</td>\n",
       "      <td>10</td>\n",
       "      <td>9</td>\n",
       "      <td>11</td>\n",
       "      <td>10.0</td>\n",
       "      <td>EASTERN</td>\n",
       "      <td>SOUTHEAST</td>\n",
       "    </tr>\n",
       "    <tr>\n",
       "      <th>2</th>\n",
       "      <td>POR</td>\n",
       "      <td>PORTLAND TRAIL BLAZERS</td>\n",
       "      <td>SAC</td>\n",
       "      <td>SACRAMENTO KINGS</td>\n",
       "      <td>2023-24</td>\n",
       "      <td>POR @ SAC</td>\n",
       "      <td>4/14/24</td>\n",
       "      <td>L</td>\n",
       "      <td>48</td>\n",
       "      <td>82</td>\n",
       "      <td>...</td>\n",
       "      <td>31</td>\n",
       "      <td>54</td>\n",
       "      <td>18</td>\n",
       "      <td>18.0</td>\n",
       "      <td>11</td>\n",
       "      <td>2</td>\n",
       "      <td>19</td>\n",
       "      <td>-39.0</td>\n",
       "      <td>WESTERN</td>\n",
       "      <td>NORTHWEST</td>\n",
       "    </tr>\n",
       "    <tr>\n",
       "      <th>3</th>\n",
       "      <td>HOU</td>\n",
       "      <td>HOUSTON ROCKETS</td>\n",
       "      <td>LAC</td>\n",
       "      <td>LA CLIPPERS</td>\n",
       "      <td>2023-24</td>\n",
       "      <td>HOU @ LAC</td>\n",
       "      <td>4/14/24</td>\n",
       "      <td>W</td>\n",
       "      <td>48</td>\n",
       "      <td>116</td>\n",
       "      <td>...</td>\n",
       "      <td>42</td>\n",
       "      <td>59</td>\n",
       "      <td>31</td>\n",
       "      <td>18.0</td>\n",
       "      <td>7</td>\n",
       "      <td>8</td>\n",
       "      <td>13</td>\n",
       "      <td>11.0</td>\n",
       "      <td>WESTERN</td>\n",
       "      <td>SOUTHWEST</td>\n",
       "    </tr>\n",
       "    <tr>\n",
       "      <th>4</th>\n",
       "      <td>MIL</td>\n",
       "      <td>MILWAUKEE BUCKS</td>\n",
       "      <td>ORL</td>\n",
       "      <td>ORLANDO MAGIC</td>\n",
       "      <td>2023-24</td>\n",
       "      <td>MIL @ ORL</td>\n",
       "      <td>4/14/24</td>\n",
       "      <td>L</td>\n",
       "      <td>48</td>\n",
       "      <td>88</td>\n",
       "      <td>...</td>\n",
       "      <td>27</td>\n",
       "      <td>34</td>\n",
       "      <td>16</td>\n",
       "      <td>17.0</td>\n",
       "      <td>10</td>\n",
       "      <td>4</td>\n",
       "      <td>18</td>\n",
       "      <td>-25.0</td>\n",
       "      <td>EASTERN</td>\n",
       "      <td>CENTRAL</td>\n",
       "    </tr>\n",
       "    <tr>\n",
       "      <th>...</th>\n",
       "      <td>...</td>\n",
       "      <td>...</td>\n",
       "      <td>...</td>\n",
       "      <td>...</td>\n",
       "      <td>...</td>\n",
       "      <td>...</td>\n",
       "      <td>...</td>\n",
       "      <td>...</td>\n",
       "      <td>...</td>\n",
       "      <td>...</td>\n",
       "      <td>...</td>\n",
       "      <td>...</td>\n",
       "      <td>...</td>\n",
       "      <td>...</td>\n",
       "      <td>...</td>\n",
       "      <td>...</td>\n",
       "      <td>...</td>\n",
       "      <td>...</td>\n",
       "      <td>...</td>\n",
       "      <td>...</td>\n",
       "      <td>...</td>\n",
       "    </tr>\n",
       "    <tr>\n",
       "      <th>66167</th>\n",
       "      <td>PHI</td>\n",
       "      <td>PHILADELPHIA 76ERS</td>\n",
       "      <td>MIL</td>\n",
       "      <td>MILWAUKEE BUCKS</td>\n",
       "      <td>1996-97</td>\n",
       "      <td>PHI vs. MIL</td>\n",
       "      <td>11/1/96</td>\n",
       "      <td>L</td>\n",
       "      <td>48</td>\n",
       "      <td>103</td>\n",
       "      <td>...</td>\n",
       "      <td>26</td>\n",
       "      <td>40</td>\n",
       "      <td>25</td>\n",
       "      <td>14.0</td>\n",
       "      <td>6</td>\n",
       "      <td>4</td>\n",
       "      <td>29</td>\n",
       "      <td>-8.0</td>\n",
       "      <td>EASTERN</td>\n",
       "      <td>ATLANTIC</td>\n",
       "    </tr>\n",
       "    <tr>\n",
       "      <th>66168</th>\n",
       "      <td>UTA</td>\n",
       "      <td>UTAH JAZZ</td>\n",
       "      <td>SEA</td>\n",
       "      <td>OKLAHOMA CITY THUNDER</td>\n",
       "      <td>1996-97</td>\n",
       "      <td>UTA vs. SEA</td>\n",
       "      <td>11/1/96</td>\n",
       "      <td>W</td>\n",
       "      <td>48</td>\n",
       "      <td>99</td>\n",
       "      <td>...</td>\n",
       "      <td>32</td>\n",
       "      <td>43</td>\n",
       "      <td>26</td>\n",
       "      <td>9.0</td>\n",
       "      <td>7</td>\n",
       "      <td>6</td>\n",
       "      <td>27</td>\n",
       "      <td>8.0</td>\n",
       "      <td>WESTERN</td>\n",
       "      <td>NORTHWEST</td>\n",
       "    </tr>\n",
       "    <tr>\n",
       "      <th>66169</th>\n",
       "      <td>NYK</td>\n",
       "      <td>NEW YORK KNICKS</td>\n",
       "      <td>TOR</td>\n",
       "      <td>TORONTO RAPTORS</td>\n",
       "      <td>1996-97</td>\n",
       "      <td>NYK @ TOR</td>\n",
       "      <td>11/1/96</td>\n",
       "      <td>W</td>\n",
       "      <td>48</td>\n",
       "      <td>107</td>\n",
       "      <td>...</td>\n",
       "      <td>33</td>\n",
       "      <td>44</td>\n",
       "      <td>23</td>\n",
       "      <td>24.0</td>\n",
       "      <td>15</td>\n",
       "      <td>5</td>\n",
       "      <td>29</td>\n",
       "      <td>8.0</td>\n",
       "      <td>EASTERN</td>\n",
       "      <td>ATLANTIC</td>\n",
       "    </tr>\n",
       "    <tr>\n",
       "      <th>66170</th>\n",
       "      <td>SEA</td>\n",
       "      <td>OKLAHOMA CITY THUNDER</td>\n",
       "      <td>UTA</td>\n",
       "      <td>UTAH JAZZ</td>\n",
       "      <td>1996-97</td>\n",
       "      <td>SEA @ UTA</td>\n",
       "      <td>11/1/96</td>\n",
       "      <td>L</td>\n",
       "      <td>48</td>\n",
       "      <td>91</td>\n",
       "      <td>...</td>\n",
       "      <td>34</td>\n",
       "      <td>46</td>\n",
       "      <td>16</td>\n",
       "      <td>12.0</td>\n",
       "      <td>6</td>\n",
       "      <td>6</td>\n",
       "      <td>26</td>\n",
       "      <td>-8.0</td>\n",
       "      <td>WESTERN</td>\n",
       "      <td>NORTHWEST</td>\n",
       "    </tr>\n",
       "    <tr>\n",
       "      <th>66171</th>\n",
       "      <td>NJN</td>\n",
       "      <td>BROOKLYN NETS</td>\n",
       "      <td>CLE</td>\n",
       "      <td>CLEVELAND CAVALIERS</td>\n",
       "      <td>1996-97</td>\n",
       "      <td>NJN vs. CLE</td>\n",
       "      <td>11/1/96</td>\n",
       "      <td>L</td>\n",
       "      <td>48</td>\n",
       "      <td>77</td>\n",
       "      <td>...</td>\n",
       "      <td>24</td>\n",
       "      <td>35</td>\n",
       "      <td>13</td>\n",
       "      <td>22.0</td>\n",
       "      <td>7</td>\n",
       "      <td>7</td>\n",
       "      <td>19</td>\n",
       "      <td>-13.0</td>\n",
       "      <td>EASTERN</td>\n",
       "      <td>ATLANTIC</td>\n",
       "    </tr>\n",
       "  </tbody>\n",
       "</table>\n",
       "<p>66172 rows × 30 columns</p>\n",
       "</div>"
      ],
      "text/plain": [
       "      TEAM ABBR                    TEAM OPP ABBR               OPPONENT  \\\n",
       "0           NYK         NEW YORK KNICKS      CHI          CHICAGO BULLS   \n",
       "1           CHA       CHARLOTTE HORNETS      CLE    CLEVELAND CAVALIERS   \n",
       "2           POR  PORTLAND TRAIL BLAZERS      SAC       SACRAMENTO KINGS   \n",
       "3           HOU         HOUSTON ROCKETS      LAC            LA CLIPPERS   \n",
       "4           MIL         MILWAUKEE BUCKS      ORL          ORLANDO MAGIC   \n",
       "...         ...                     ...      ...                    ...   \n",
       "66167       PHI      PHILADELPHIA 76ERS      MIL        MILWAUKEE BUCKS   \n",
       "66168       UTA               UTAH JAZZ      SEA  OKLAHOMA CITY THUNDER   \n",
       "66169       NYK         NEW YORK KNICKS      TOR        TORONTO RAPTORS   \n",
       "66170       SEA   OKLAHOMA CITY THUNDER      UTA              UTAH JAZZ   \n",
       "66171       NJN           BROOKLYN NETS      CLE    CLEVELAND CAVALIERS   \n",
       "\n",
       "        SEASON     MATCH UP GAME DATE W/L  MIN  PTS  ...  DREB  REB  AST  \\\n",
       "0      2023-24  NYK vs. CHI   4/14/24   W   53  120  ...    37   53   27   \n",
       "1      2023-24    CHA @ CLE   4/14/24   W   48  120  ...    37   47   36   \n",
       "2      2023-24    POR @ SAC   4/14/24   L   48   82  ...    31   54   18   \n",
       "3      2023-24    HOU @ LAC   4/14/24   W   48  116  ...    42   59   31   \n",
       "4      2023-24    MIL @ ORL   4/14/24   L   48   88  ...    27   34   16   \n",
       "...        ...          ...       ...  ..  ...  ...  ...   ...  ...  ...   \n",
       "66167  1996-97  PHI vs. MIL   11/1/96   L   48  103  ...    26   40   25   \n",
       "66168  1996-97  UTA vs. SEA   11/1/96   W   48   99  ...    32   43   26   \n",
       "66169  1996-97    NYK @ TOR   11/1/96   W   48  107  ...    33   44   23   \n",
       "66170  1996-97    SEA @ UTA   11/1/96   L   48   91  ...    34   46   16   \n",
       "66171  1996-97  NJN vs. CLE   11/1/96   L   48   77  ...    24   35   13   \n",
       "\n",
       "        TOV  STL  BLK  PF   +/-  CONFERENCE     REGION  \n",
       "0      21.0    7    6  17   1.0     EASTERN   ATLANTIC  \n",
       "1      10.0   10    9  11  10.0     EASTERN  SOUTHEAST  \n",
       "2      18.0   11    2  19 -39.0     WESTERN  NORTHWEST  \n",
       "3      18.0    7    8  13  11.0     WESTERN  SOUTHWEST  \n",
       "4      17.0   10    4  18 -25.0     EASTERN    CENTRAL  \n",
       "...     ...  ...  ...  ..   ...         ...        ...  \n",
       "66167  14.0    6    4  29  -8.0     EASTERN   ATLANTIC  \n",
       "66168   9.0    7    6  27   8.0     WESTERN  NORTHWEST  \n",
       "66169  24.0   15    5  29   8.0     EASTERN   ATLANTIC  \n",
       "66170  12.0    6    6  26  -8.0     WESTERN  NORTHWEST  \n",
       "66171  22.0    7    7  19 -13.0     EASTERN   ATLANTIC  \n",
       "\n",
       "[66172 rows x 30 columns]"
      ]
     },
     "execution_count": 3,
     "metadata": {},
     "output_type": "execute_result"
    }
   ],
   "source": [
    "full_df"
   ]
  },
  {
   "cell_type": "code",
   "execution_count": 3,
   "metadata": {},
   "outputs": [],
   "source": [
    "# Prepare name changes\n",
    "old_abbrs = [['NOH','NOK'], 'VAN', 'CHH', 'SEA', 'NJN' ]\n",
    "new_abbrs = ['NOP', 'MEM', 'CHA', 'OKC', 'BKN']\n",
    "\n",
    "for idx,abbr in enumerate(old_abbrs):\n",
    "    full_df = full_df.replace(abbr,new_abbrs[idx])\n",
    "\n",
    "team_abbr = full_df['TEAM ABBR'].unique()\n",
    "team_name = full_df['TEAM']\n",
    "teams = {}\n",
    "\n",
    "# Recreate teams Dictionary\n",
    "for each in team_abbr:\n",
    "    \n",
    "    indicies = list(np.where(full_df['TEAM ABBR'] == each))[0]\n",
    "    teams[each] = full_df['TEAM'].iloc[indicies[0]]    \n"
   ]
  },
  {
   "cell_type": "markdown",
   "metadata": {},
   "source": [
    "##### Statistics Below\n"
   ]
  },
  {
   "cell_type": "code",
   "execution_count": 184,
   "metadata": {},
   "outputs": [
    {
     "name": "stdout",
     "output_type": "stream",
     "text": [
      "Size of Dataframe (66172, 30)\n"
     ]
    }
   ],
   "source": [
    "print(f\"Size of Dataframe {full_df.shape}\")\n"
   ]
  },
  {
   "cell_type": "code",
   "execution_count": 4,
   "metadata": {},
   "outputs": [],
   "source": [
    "# Sorted Team List for easier read\n",
    "from collections import OrderedDict\n",
    "\n",
    "sorted_teamsDict = OrderedDict(sorted(teams.items()))\n",
    "\n",
    "distinct_teams = sorted(full_df['TEAM'].unique())\n",
    "wins = []\n",
    "losses = []\n",
    "total = []\n",
    "win_rate = []\n",
    "\n",
    "for each in sorted_teamsDict:\n",
    "\n",
    "    win = sum(full_df[full_df['TEAM ABBR'] == each]['W/L'] == 'W') # CHANGE back to W\n",
    "    loss = sum(full_df[full_df['TEAM ABBR'] == each]['W/L'] == 'L') # CHANGE  back to L\n",
    "    wins.append(win)\n",
    "    losses.append(loss)\n",
    "    total.append(win+loss)\n",
    "    win_rate.append(round(win/(win+loss),2))\n",
    "\n",
    "bar_chart_df = pd.DataFrame(data={'WINS':wins, 'LOSSES':losses, 'TOTAL': total, 'WIN RATE':win_rate}, index=sorted_teamsDict.values())"
   ]
  },
  {
   "cell_type": "code",
   "execution_count": null,
   "metadata": {},
   "outputs": [],
   "source": [
    "# Bar Chart of Results from SEASONS 1996-2024\n",
    "bar_chart_df"
   ]
  },
  {
   "cell_type": "code",
   "execution_count": 13,
   "metadata": {},
   "outputs": [
    {
     "data": {
      "application/vnd.plotly.v1+json": {
       "config": {
        "plotlyServerURL": "https://plot.ly"
       },
       "data": [
        {
         "alignmentgroup": "True",
         "hovertemplate": "variable=LOSSES<br>index=%{x}<br>value=%{y}<extra></extra>",
         "legendgroup": "LOSSES",
         "marker": {
          "color": "#636efa",
          "pattern": {
           "shape": ""
          }
         },
         "name": "LOSSES",
         "offsetgroup": "LOSSES",
         "orientation": "v",
         "showlegend": true,
         "textposition": "auto",
         "texttemplate": "%{y}",
         "type": "bar",
         "x": [
          "ATLANTA HAWKS",
          "BROOKLYN NETS",
          "BOSTON CELTICS",
          "CHARLOTTE HORNETS",
          "CHICAGO BULLS",
          "CLEVELAND CAVALIERS",
          "DALLAS MAVERICKS",
          "DENVER NUGGETS",
          "DETROIT PISTONS",
          "GOLDEN STATE WARRIORS",
          "HOUSTON ROCKETS",
          "INDIANA PACERS",
          "LA CLIPPERS",
          "LOS ANGELES LAKERS",
          "MEMPHIS GRIZZLIES",
          "MIAMI HEAT",
          "MILWAUKEE BUCKS",
          "MINNESOTA TIMBERWOLVES",
          "NEW ORLEANS PELICANS",
          "NEW YORK KNICKS",
          "OKLAHOMA CITY THUNDER",
          "ORLANDO MAGIC",
          "PHILADELPHIA 76ERS",
          "PHOENIX SUNS",
          "PORTLAND TRAIL BLAZERS",
          "SACRAMENTO KINGS",
          "SAN ANTONIO SPURS",
          "TORONTO RAPTORS",
          "UTAH JAZZ",
          "WASHINGTON WIZARDS"
         ],
         "xaxis": "x",
         "y": [
          1180,
          1234,
          1015,
          1155,
          1154,
          1142,
          975,
          1091,
          1178,
          1130,
          1027,
          1035,
          1163,
          969,
          1246,
          955,
          1111,
          1225,
          937,
          1227,
          1011,
          1192,
          1163,
          1046,
          1067,
          1211,
          836,
          1153,
          968,
          1290
         ],
         "yaxis": "y"
        },
        {
         "alignmentgroup": "True",
         "hovertemplate": "variable=WINS<br>index=%{x}<br>value=%{y}<extra></extra>",
         "legendgroup": "WINS",
         "marker": {
          "color": "#EF553B",
          "pattern": {
           "shape": ""
          }
         },
         "name": "WINS",
         "offsetgroup": "WINS",
         "orientation": "v",
         "showlegend": true,
         "textposition": "auto",
         "texttemplate": "%{y}",
         "type": "bar",
         "x": [
          "ATLANTA HAWKS",
          "BROOKLYN NETS",
          "BOSTON CELTICS",
          "CHARLOTTE HORNETS",
          "CHICAGO BULLS",
          "CLEVELAND CAVALIERS",
          "DALLAS MAVERICKS",
          "DENVER NUGGETS",
          "DETROIT PISTONS",
          "GOLDEN STATE WARRIORS",
          "HOUSTON ROCKETS",
          "INDIANA PACERS",
          "LA CLIPPERS",
          "LOS ANGELES LAKERS",
          "MEMPHIS GRIZZLIES",
          "MIAMI HEAT",
          "MILWAUKEE BUCKS",
          "MINNESOTA TIMBERWOLVES",
          "NEW ORLEANS PELICANS",
          "NEW YORK KNICKS",
          "OKLAHOMA CITY THUNDER",
          "ORLANDO MAGIC",
          "PHILADELPHIA 76ERS",
          "PHOENIX SUNS",
          "PORTLAND TRAIL BLAZERS",
          "SACRAMENTO KINGS",
          "SAN ANTONIO SPURS",
          "TORONTO RAPTORS",
          "UTAH JAZZ",
          "WASHINGTON WIZARDS"
         ],
         "xaxis": "x",
         "y": [
          1043,
          994,
          1212,
          902,
          1067,
          1079,
          1256,
          1138,
          1044,
          1091,
          1201,
          1193,
          1065,
          1258,
          983,
          1274,
          1118,
          995,
          831,
          995,
          1217,
          1037,
          1066,
          1183,
          1163,
          1017,
          1391,
          1075,
          1260,
          938
         ],
         "yaxis": "y"
        }
       ],
       "layout": {
        "barmode": "stack",
        "height": 400,
        "legend": {
         "title": {
          "text": "Result"
         },
         "tracegroupgap": 0
        },
        "margin": {
         "t": 60
        },
        "template": {
         "data": {
          "bar": [
           {
            "error_x": {
             "color": "#2a3f5f"
            },
            "error_y": {
             "color": "#2a3f5f"
            },
            "marker": {
             "line": {
              "color": "#E5ECF6",
              "width": 0.5
             },
             "pattern": {
              "fillmode": "overlay",
              "size": 10,
              "solidity": 0.2
             }
            },
            "type": "bar"
           }
          ],
          "barpolar": [
           {
            "marker": {
             "line": {
              "color": "#E5ECF6",
              "width": 0.5
             },
             "pattern": {
              "fillmode": "overlay",
              "size": 10,
              "solidity": 0.2
             }
            },
            "type": "barpolar"
           }
          ],
          "carpet": [
           {
            "aaxis": {
             "endlinecolor": "#2a3f5f",
             "gridcolor": "white",
             "linecolor": "white",
             "minorgridcolor": "white",
             "startlinecolor": "#2a3f5f"
            },
            "baxis": {
             "endlinecolor": "#2a3f5f",
             "gridcolor": "white",
             "linecolor": "white",
             "minorgridcolor": "white",
             "startlinecolor": "#2a3f5f"
            },
            "type": "carpet"
           }
          ],
          "choropleth": [
           {
            "colorbar": {
             "outlinewidth": 0,
             "ticks": ""
            },
            "type": "choropleth"
           }
          ],
          "contour": [
           {
            "colorbar": {
             "outlinewidth": 0,
             "ticks": ""
            },
            "colorscale": [
             [
              0,
              "#0d0887"
             ],
             [
              0.1111111111111111,
              "#46039f"
             ],
             [
              0.2222222222222222,
              "#7201a8"
             ],
             [
              0.3333333333333333,
              "#9c179e"
             ],
             [
              0.4444444444444444,
              "#bd3786"
             ],
             [
              0.5555555555555556,
              "#d8576b"
             ],
             [
              0.6666666666666666,
              "#ed7953"
             ],
             [
              0.7777777777777778,
              "#fb9f3a"
             ],
             [
              0.8888888888888888,
              "#fdca26"
             ],
             [
              1,
              "#f0f921"
             ]
            ],
            "type": "contour"
           }
          ],
          "contourcarpet": [
           {
            "colorbar": {
             "outlinewidth": 0,
             "ticks": ""
            },
            "type": "contourcarpet"
           }
          ],
          "heatmap": [
           {
            "colorbar": {
             "outlinewidth": 0,
             "ticks": ""
            },
            "colorscale": [
             [
              0,
              "#0d0887"
             ],
             [
              0.1111111111111111,
              "#46039f"
             ],
             [
              0.2222222222222222,
              "#7201a8"
             ],
             [
              0.3333333333333333,
              "#9c179e"
             ],
             [
              0.4444444444444444,
              "#bd3786"
             ],
             [
              0.5555555555555556,
              "#d8576b"
             ],
             [
              0.6666666666666666,
              "#ed7953"
             ],
             [
              0.7777777777777778,
              "#fb9f3a"
             ],
             [
              0.8888888888888888,
              "#fdca26"
             ],
             [
              1,
              "#f0f921"
             ]
            ],
            "type": "heatmap"
           }
          ],
          "heatmapgl": [
           {
            "colorbar": {
             "outlinewidth": 0,
             "ticks": ""
            },
            "colorscale": [
             [
              0,
              "#0d0887"
             ],
             [
              0.1111111111111111,
              "#46039f"
             ],
             [
              0.2222222222222222,
              "#7201a8"
             ],
             [
              0.3333333333333333,
              "#9c179e"
             ],
             [
              0.4444444444444444,
              "#bd3786"
             ],
             [
              0.5555555555555556,
              "#d8576b"
             ],
             [
              0.6666666666666666,
              "#ed7953"
             ],
             [
              0.7777777777777778,
              "#fb9f3a"
             ],
             [
              0.8888888888888888,
              "#fdca26"
             ],
             [
              1,
              "#f0f921"
             ]
            ],
            "type": "heatmapgl"
           }
          ],
          "histogram": [
           {
            "marker": {
             "pattern": {
              "fillmode": "overlay",
              "size": 10,
              "solidity": 0.2
             }
            },
            "type": "histogram"
           }
          ],
          "histogram2d": [
           {
            "colorbar": {
             "outlinewidth": 0,
             "ticks": ""
            },
            "colorscale": [
             [
              0,
              "#0d0887"
             ],
             [
              0.1111111111111111,
              "#46039f"
             ],
             [
              0.2222222222222222,
              "#7201a8"
             ],
             [
              0.3333333333333333,
              "#9c179e"
             ],
             [
              0.4444444444444444,
              "#bd3786"
             ],
             [
              0.5555555555555556,
              "#d8576b"
             ],
             [
              0.6666666666666666,
              "#ed7953"
             ],
             [
              0.7777777777777778,
              "#fb9f3a"
             ],
             [
              0.8888888888888888,
              "#fdca26"
             ],
             [
              1,
              "#f0f921"
             ]
            ],
            "type": "histogram2d"
           }
          ],
          "histogram2dcontour": [
           {
            "colorbar": {
             "outlinewidth": 0,
             "ticks": ""
            },
            "colorscale": [
             [
              0,
              "#0d0887"
             ],
             [
              0.1111111111111111,
              "#46039f"
             ],
             [
              0.2222222222222222,
              "#7201a8"
             ],
             [
              0.3333333333333333,
              "#9c179e"
             ],
             [
              0.4444444444444444,
              "#bd3786"
             ],
             [
              0.5555555555555556,
              "#d8576b"
             ],
             [
              0.6666666666666666,
              "#ed7953"
             ],
             [
              0.7777777777777778,
              "#fb9f3a"
             ],
             [
              0.8888888888888888,
              "#fdca26"
             ],
             [
              1,
              "#f0f921"
             ]
            ],
            "type": "histogram2dcontour"
           }
          ],
          "mesh3d": [
           {
            "colorbar": {
             "outlinewidth": 0,
             "ticks": ""
            },
            "type": "mesh3d"
           }
          ],
          "parcoords": [
           {
            "line": {
             "colorbar": {
              "outlinewidth": 0,
              "ticks": ""
             }
            },
            "type": "parcoords"
           }
          ],
          "pie": [
           {
            "automargin": true,
            "type": "pie"
           }
          ],
          "scatter": [
           {
            "fillpattern": {
             "fillmode": "overlay",
             "size": 10,
             "solidity": 0.2
            },
            "type": "scatter"
           }
          ],
          "scatter3d": [
           {
            "line": {
             "colorbar": {
              "outlinewidth": 0,
              "ticks": ""
             }
            },
            "marker": {
             "colorbar": {
              "outlinewidth": 0,
              "ticks": ""
             }
            },
            "type": "scatter3d"
           }
          ],
          "scattercarpet": [
           {
            "marker": {
             "colorbar": {
              "outlinewidth": 0,
              "ticks": ""
             }
            },
            "type": "scattercarpet"
           }
          ],
          "scattergeo": [
           {
            "marker": {
             "colorbar": {
              "outlinewidth": 0,
              "ticks": ""
             }
            },
            "type": "scattergeo"
           }
          ],
          "scattergl": [
           {
            "marker": {
             "colorbar": {
              "outlinewidth": 0,
              "ticks": ""
             }
            },
            "type": "scattergl"
           }
          ],
          "scattermapbox": [
           {
            "marker": {
             "colorbar": {
              "outlinewidth": 0,
              "ticks": ""
             }
            },
            "type": "scattermapbox"
           }
          ],
          "scatterpolar": [
           {
            "marker": {
             "colorbar": {
              "outlinewidth": 0,
              "ticks": ""
             }
            },
            "type": "scatterpolar"
           }
          ],
          "scatterpolargl": [
           {
            "marker": {
             "colorbar": {
              "outlinewidth": 0,
              "ticks": ""
             }
            },
            "type": "scatterpolargl"
           }
          ],
          "scatterternary": [
           {
            "marker": {
             "colorbar": {
              "outlinewidth": 0,
              "ticks": ""
             }
            },
            "type": "scatterternary"
           }
          ],
          "surface": [
           {
            "colorbar": {
             "outlinewidth": 0,
             "ticks": ""
            },
            "colorscale": [
             [
              0,
              "#0d0887"
             ],
             [
              0.1111111111111111,
              "#46039f"
             ],
             [
              0.2222222222222222,
              "#7201a8"
             ],
             [
              0.3333333333333333,
              "#9c179e"
             ],
             [
              0.4444444444444444,
              "#bd3786"
             ],
             [
              0.5555555555555556,
              "#d8576b"
             ],
             [
              0.6666666666666666,
              "#ed7953"
             ],
             [
              0.7777777777777778,
              "#fb9f3a"
             ],
             [
              0.8888888888888888,
              "#fdca26"
             ],
             [
              1,
              "#f0f921"
             ]
            ],
            "type": "surface"
           }
          ],
          "table": [
           {
            "cells": {
             "fill": {
              "color": "#EBF0F8"
             },
             "line": {
              "color": "white"
             }
            },
            "header": {
             "fill": {
              "color": "#C8D4E3"
             },
             "line": {
              "color": "white"
             }
            },
            "type": "table"
           }
          ]
         },
         "layout": {
          "annotationdefaults": {
           "arrowcolor": "#2a3f5f",
           "arrowhead": 0,
           "arrowwidth": 1
          },
          "autotypenumbers": "strict",
          "coloraxis": {
           "colorbar": {
            "outlinewidth": 0,
            "ticks": ""
           }
          },
          "colorscale": {
           "diverging": [
            [
             0,
             "#8e0152"
            ],
            [
             0.1,
             "#c51b7d"
            ],
            [
             0.2,
             "#de77ae"
            ],
            [
             0.3,
             "#f1b6da"
            ],
            [
             0.4,
             "#fde0ef"
            ],
            [
             0.5,
             "#f7f7f7"
            ],
            [
             0.6,
             "#e6f5d0"
            ],
            [
             0.7,
             "#b8e186"
            ],
            [
             0.8,
             "#7fbc41"
            ],
            [
             0.9,
             "#4d9221"
            ],
            [
             1,
             "#276419"
            ]
           ],
           "sequential": [
            [
             0,
             "#0d0887"
            ],
            [
             0.1111111111111111,
             "#46039f"
            ],
            [
             0.2222222222222222,
             "#7201a8"
            ],
            [
             0.3333333333333333,
             "#9c179e"
            ],
            [
             0.4444444444444444,
             "#bd3786"
            ],
            [
             0.5555555555555556,
             "#d8576b"
            ],
            [
             0.6666666666666666,
             "#ed7953"
            ],
            [
             0.7777777777777778,
             "#fb9f3a"
            ],
            [
             0.8888888888888888,
             "#fdca26"
            ],
            [
             1,
             "#f0f921"
            ]
           ],
           "sequentialminus": [
            [
             0,
             "#0d0887"
            ],
            [
             0.1111111111111111,
             "#46039f"
            ],
            [
             0.2222222222222222,
             "#7201a8"
            ],
            [
             0.3333333333333333,
             "#9c179e"
            ],
            [
             0.4444444444444444,
             "#bd3786"
            ],
            [
             0.5555555555555556,
             "#d8576b"
            ],
            [
             0.6666666666666666,
             "#ed7953"
            ],
            [
             0.7777777777777778,
             "#fb9f3a"
            ],
            [
             0.8888888888888888,
             "#fdca26"
            ],
            [
             1,
             "#f0f921"
            ]
           ]
          },
          "colorway": [
           "#636efa",
           "#EF553B",
           "#00cc96",
           "#ab63fa",
           "#FFA15A",
           "#19d3f3",
           "#FF6692",
           "#B6E880",
           "#FF97FF",
           "#FECB52"
          ],
          "font": {
           "color": "#2a3f5f"
          },
          "geo": {
           "bgcolor": "white",
           "lakecolor": "white",
           "landcolor": "#E5ECF6",
           "showlakes": true,
           "showland": true,
           "subunitcolor": "white"
          },
          "hoverlabel": {
           "align": "left"
          },
          "hovermode": "closest",
          "mapbox": {
           "style": "light"
          },
          "paper_bgcolor": "white",
          "plot_bgcolor": "#E5ECF6",
          "polar": {
           "angularaxis": {
            "gridcolor": "white",
            "linecolor": "white",
            "ticks": ""
           },
           "bgcolor": "#E5ECF6",
           "radialaxis": {
            "gridcolor": "white",
            "linecolor": "white",
            "ticks": ""
           }
          },
          "scene": {
           "xaxis": {
            "backgroundcolor": "#E5ECF6",
            "gridcolor": "white",
            "gridwidth": 2,
            "linecolor": "white",
            "showbackground": true,
            "ticks": "",
            "zerolinecolor": "white"
           },
           "yaxis": {
            "backgroundcolor": "#E5ECF6",
            "gridcolor": "white",
            "gridwidth": 2,
            "linecolor": "white",
            "showbackground": true,
            "ticks": "",
            "zerolinecolor": "white"
           },
           "zaxis": {
            "backgroundcolor": "#E5ECF6",
            "gridcolor": "white",
            "gridwidth": 2,
            "linecolor": "white",
            "showbackground": true,
            "ticks": "",
            "zerolinecolor": "white"
           }
          },
          "shapedefaults": {
           "line": {
            "color": "#2a3f5f"
           }
          },
          "ternary": {
           "aaxis": {
            "gridcolor": "white",
            "linecolor": "white",
            "ticks": ""
           },
           "baxis": {
            "gridcolor": "white",
            "linecolor": "white",
            "ticks": ""
           },
           "bgcolor": "#E5ECF6",
           "caxis": {
            "gridcolor": "white",
            "linecolor": "white",
            "ticks": ""
           }
          },
          "title": {
           "x": 0.05
          },
          "xaxis": {
           "automargin": true,
           "gridcolor": "white",
           "linecolor": "white",
           "ticks": "",
           "title": {
            "standoff": 15
           },
           "zerolinecolor": "white",
           "zerolinewidth": 2
          },
          "yaxis": {
           "automargin": true,
           "gridcolor": "white",
           "linecolor": "white",
           "ticks": "",
           "title": {
            "standoff": 15
           },
           "zerolinecolor": "white",
           "zerolinewidth": 2
          }
         }
        },
        "title": {
         "text": "Wins & Losses of Teams [1996-2024]"
        },
        "xaxis": {
         "anchor": "y",
         "domain": [
          0,
          1
         ],
         "title": {
          "text": "Team"
         }
        },
        "yaxis": {
         "anchor": "x",
         "domain": [
          0,
          1
         ],
         "title": {
          "text": "Total Games Played"
         }
        }
       }
      }
     },
     "metadata": {},
     "output_type": "display_data"
    }
   ],
   "source": [
    "# Bar Chart of Wins and Losses\n",
    "from plotly import express as px\n",
    "\n",
    "fig = px.bar(bar_chart_df, x= bar_chart_df.index, y= ['LOSSES','WINS'], barmode = 'stack', text_auto = True,\n",
    "             height=400)\n",
    "\n",
    "fig.update_layout(\n",
    "    title= 'Wins & Losses of Teams [1996-2024]',\n",
    "    xaxis_title='Team',\n",
    "    yaxis_title='Total Games Played',\n",
    "    legend_title='Result',\n",
    ")\n",
    "fig.show()\n",
    "\n"
   ]
  },
  {
   "cell_type": "code",
   "execution_count": 11,
   "metadata": {},
   "outputs": [
    {
     "data": {
      "application/vnd.plotly.v1+json": {
       "config": {
        "plotlyServerURL": "https://plot.ly"
       },
       "data": [
        {
         "alignmentgroup": "True",
         "hovertemplate": "index=%{x}<br>WIN RATE=%{y}<extra></extra>",
         "legendgroup": "",
         "marker": {
          "color": "#636efa",
          "pattern": {
           "shape": ""
          }
         },
         "name": "",
         "offsetgroup": "",
         "orientation": "v",
         "showlegend": false,
         "textposition": "auto",
         "type": "bar",
         "x": [
          "ATLANTA HAWKS",
          "BROOKLYN NETS",
          "BOSTON CELTICS",
          "CHARLOTTE HORNETS",
          "CHICAGO BULLS",
          "CLEVELAND CAVALIERS",
          "DALLAS MAVERICKS",
          "DENVER NUGGETS",
          "DETROIT PISTONS",
          "GOLDEN STATE WARRIORS",
          "HOUSTON ROCKETS",
          "INDIANA PACERS",
          "LA CLIPPERS",
          "LOS ANGELES LAKERS",
          "MEMPHIS GRIZZLIES",
          "MIAMI HEAT",
          "MILWAUKEE BUCKS",
          "MINNESOTA TIMBERWOLVES",
          "NEW ORLEANS PELICANS",
          "NEW YORK KNICKS",
          "OKLAHOMA CITY THUNDER",
          "ORLANDO MAGIC",
          "PHILADELPHIA 76ERS",
          "PHOENIX SUNS",
          "PORTLAND TRAIL BLAZERS",
          "SACRAMENTO KINGS",
          "SAN ANTONIO SPURS",
          "TORONTO RAPTORS",
          "UTAH JAZZ",
          "WASHINGTON WIZARDS"
         ],
         "xaxis": "x",
         "y": [
          0.47,
          0.45,
          0.54,
          0.44,
          0.48,
          0.49,
          0.56,
          0.51,
          0.47,
          0.49,
          0.54,
          0.54,
          0.48,
          0.56,
          0.44,
          0.57,
          0.5,
          0.45,
          0.47,
          0.45,
          0.55,
          0.47,
          0.48,
          0.53,
          0.52,
          0.46,
          0.62,
          0.48,
          0.57,
          0.42
         ],
         "yaxis": "y"
        }
       ],
       "layout": {
        "barmode": "relative",
        "legend": {
         "tracegroupgap": 0
        },
        "margin": {
         "t": 60
        },
        "template": {
         "data": {
          "bar": [
           {
            "error_x": {
             "color": "#2a3f5f"
            },
            "error_y": {
             "color": "#2a3f5f"
            },
            "marker": {
             "line": {
              "color": "#E5ECF6",
              "width": 0.5
             },
             "pattern": {
              "fillmode": "overlay",
              "size": 10,
              "solidity": 0.2
             }
            },
            "type": "bar"
           }
          ],
          "barpolar": [
           {
            "marker": {
             "line": {
              "color": "#E5ECF6",
              "width": 0.5
             },
             "pattern": {
              "fillmode": "overlay",
              "size": 10,
              "solidity": 0.2
             }
            },
            "type": "barpolar"
           }
          ],
          "carpet": [
           {
            "aaxis": {
             "endlinecolor": "#2a3f5f",
             "gridcolor": "white",
             "linecolor": "white",
             "minorgridcolor": "white",
             "startlinecolor": "#2a3f5f"
            },
            "baxis": {
             "endlinecolor": "#2a3f5f",
             "gridcolor": "white",
             "linecolor": "white",
             "minorgridcolor": "white",
             "startlinecolor": "#2a3f5f"
            },
            "type": "carpet"
           }
          ],
          "choropleth": [
           {
            "colorbar": {
             "outlinewidth": 0,
             "ticks": ""
            },
            "type": "choropleth"
           }
          ],
          "contour": [
           {
            "colorbar": {
             "outlinewidth": 0,
             "ticks": ""
            },
            "colorscale": [
             [
              0,
              "#0d0887"
             ],
             [
              0.1111111111111111,
              "#46039f"
             ],
             [
              0.2222222222222222,
              "#7201a8"
             ],
             [
              0.3333333333333333,
              "#9c179e"
             ],
             [
              0.4444444444444444,
              "#bd3786"
             ],
             [
              0.5555555555555556,
              "#d8576b"
             ],
             [
              0.6666666666666666,
              "#ed7953"
             ],
             [
              0.7777777777777778,
              "#fb9f3a"
             ],
             [
              0.8888888888888888,
              "#fdca26"
             ],
             [
              1,
              "#f0f921"
             ]
            ],
            "type": "contour"
           }
          ],
          "contourcarpet": [
           {
            "colorbar": {
             "outlinewidth": 0,
             "ticks": ""
            },
            "type": "contourcarpet"
           }
          ],
          "heatmap": [
           {
            "colorbar": {
             "outlinewidth": 0,
             "ticks": ""
            },
            "colorscale": [
             [
              0,
              "#0d0887"
             ],
             [
              0.1111111111111111,
              "#46039f"
             ],
             [
              0.2222222222222222,
              "#7201a8"
             ],
             [
              0.3333333333333333,
              "#9c179e"
             ],
             [
              0.4444444444444444,
              "#bd3786"
             ],
             [
              0.5555555555555556,
              "#d8576b"
             ],
             [
              0.6666666666666666,
              "#ed7953"
             ],
             [
              0.7777777777777778,
              "#fb9f3a"
             ],
             [
              0.8888888888888888,
              "#fdca26"
             ],
             [
              1,
              "#f0f921"
             ]
            ],
            "type": "heatmap"
           }
          ],
          "heatmapgl": [
           {
            "colorbar": {
             "outlinewidth": 0,
             "ticks": ""
            },
            "colorscale": [
             [
              0,
              "#0d0887"
             ],
             [
              0.1111111111111111,
              "#46039f"
             ],
             [
              0.2222222222222222,
              "#7201a8"
             ],
             [
              0.3333333333333333,
              "#9c179e"
             ],
             [
              0.4444444444444444,
              "#bd3786"
             ],
             [
              0.5555555555555556,
              "#d8576b"
             ],
             [
              0.6666666666666666,
              "#ed7953"
             ],
             [
              0.7777777777777778,
              "#fb9f3a"
             ],
             [
              0.8888888888888888,
              "#fdca26"
             ],
             [
              1,
              "#f0f921"
             ]
            ],
            "type": "heatmapgl"
           }
          ],
          "histogram": [
           {
            "marker": {
             "pattern": {
              "fillmode": "overlay",
              "size": 10,
              "solidity": 0.2
             }
            },
            "type": "histogram"
           }
          ],
          "histogram2d": [
           {
            "colorbar": {
             "outlinewidth": 0,
             "ticks": ""
            },
            "colorscale": [
             [
              0,
              "#0d0887"
             ],
             [
              0.1111111111111111,
              "#46039f"
             ],
             [
              0.2222222222222222,
              "#7201a8"
             ],
             [
              0.3333333333333333,
              "#9c179e"
             ],
             [
              0.4444444444444444,
              "#bd3786"
             ],
             [
              0.5555555555555556,
              "#d8576b"
             ],
             [
              0.6666666666666666,
              "#ed7953"
             ],
             [
              0.7777777777777778,
              "#fb9f3a"
             ],
             [
              0.8888888888888888,
              "#fdca26"
             ],
             [
              1,
              "#f0f921"
             ]
            ],
            "type": "histogram2d"
           }
          ],
          "histogram2dcontour": [
           {
            "colorbar": {
             "outlinewidth": 0,
             "ticks": ""
            },
            "colorscale": [
             [
              0,
              "#0d0887"
             ],
             [
              0.1111111111111111,
              "#46039f"
             ],
             [
              0.2222222222222222,
              "#7201a8"
             ],
             [
              0.3333333333333333,
              "#9c179e"
             ],
             [
              0.4444444444444444,
              "#bd3786"
             ],
             [
              0.5555555555555556,
              "#d8576b"
             ],
             [
              0.6666666666666666,
              "#ed7953"
             ],
             [
              0.7777777777777778,
              "#fb9f3a"
             ],
             [
              0.8888888888888888,
              "#fdca26"
             ],
             [
              1,
              "#f0f921"
             ]
            ],
            "type": "histogram2dcontour"
           }
          ],
          "mesh3d": [
           {
            "colorbar": {
             "outlinewidth": 0,
             "ticks": ""
            },
            "type": "mesh3d"
           }
          ],
          "parcoords": [
           {
            "line": {
             "colorbar": {
              "outlinewidth": 0,
              "ticks": ""
             }
            },
            "type": "parcoords"
           }
          ],
          "pie": [
           {
            "automargin": true,
            "type": "pie"
           }
          ],
          "scatter": [
           {
            "fillpattern": {
             "fillmode": "overlay",
             "size": 10,
             "solidity": 0.2
            },
            "type": "scatter"
           }
          ],
          "scatter3d": [
           {
            "line": {
             "colorbar": {
              "outlinewidth": 0,
              "ticks": ""
             }
            },
            "marker": {
             "colorbar": {
              "outlinewidth": 0,
              "ticks": ""
             }
            },
            "type": "scatter3d"
           }
          ],
          "scattercarpet": [
           {
            "marker": {
             "colorbar": {
              "outlinewidth": 0,
              "ticks": ""
             }
            },
            "type": "scattercarpet"
           }
          ],
          "scattergeo": [
           {
            "marker": {
             "colorbar": {
              "outlinewidth": 0,
              "ticks": ""
             }
            },
            "type": "scattergeo"
           }
          ],
          "scattergl": [
           {
            "marker": {
             "colorbar": {
              "outlinewidth": 0,
              "ticks": ""
             }
            },
            "type": "scattergl"
           }
          ],
          "scattermapbox": [
           {
            "marker": {
             "colorbar": {
              "outlinewidth": 0,
              "ticks": ""
             }
            },
            "type": "scattermapbox"
           }
          ],
          "scatterpolar": [
           {
            "marker": {
             "colorbar": {
              "outlinewidth": 0,
              "ticks": ""
             }
            },
            "type": "scatterpolar"
           }
          ],
          "scatterpolargl": [
           {
            "marker": {
             "colorbar": {
              "outlinewidth": 0,
              "ticks": ""
             }
            },
            "type": "scatterpolargl"
           }
          ],
          "scatterternary": [
           {
            "marker": {
             "colorbar": {
              "outlinewidth": 0,
              "ticks": ""
             }
            },
            "type": "scatterternary"
           }
          ],
          "surface": [
           {
            "colorbar": {
             "outlinewidth": 0,
             "ticks": ""
            },
            "colorscale": [
             [
              0,
              "#0d0887"
             ],
             [
              0.1111111111111111,
              "#46039f"
             ],
             [
              0.2222222222222222,
              "#7201a8"
             ],
             [
              0.3333333333333333,
              "#9c179e"
             ],
             [
              0.4444444444444444,
              "#bd3786"
             ],
             [
              0.5555555555555556,
              "#d8576b"
             ],
             [
              0.6666666666666666,
              "#ed7953"
             ],
             [
              0.7777777777777778,
              "#fb9f3a"
             ],
             [
              0.8888888888888888,
              "#fdca26"
             ],
             [
              1,
              "#f0f921"
             ]
            ],
            "type": "surface"
           }
          ],
          "table": [
           {
            "cells": {
             "fill": {
              "color": "#EBF0F8"
             },
             "line": {
              "color": "white"
             }
            },
            "header": {
             "fill": {
              "color": "#C8D4E3"
             },
             "line": {
              "color": "white"
             }
            },
            "type": "table"
           }
          ]
         },
         "layout": {
          "annotationdefaults": {
           "arrowcolor": "#2a3f5f",
           "arrowhead": 0,
           "arrowwidth": 1
          },
          "autotypenumbers": "strict",
          "coloraxis": {
           "colorbar": {
            "outlinewidth": 0,
            "ticks": ""
           }
          },
          "colorscale": {
           "diverging": [
            [
             0,
             "#8e0152"
            ],
            [
             0.1,
             "#c51b7d"
            ],
            [
             0.2,
             "#de77ae"
            ],
            [
             0.3,
             "#f1b6da"
            ],
            [
             0.4,
             "#fde0ef"
            ],
            [
             0.5,
             "#f7f7f7"
            ],
            [
             0.6,
             "#e6f5d0"
            ],
            [
             0.7,
             "#b8e186"
            ],
            [
             0.8,
             "#7fbc41"
            ],
            [
             0.9,
             "#4d9221"
            ],
            [
             1,
             "#276419"
            ]
           ],
           "sequential": [
            [
             0,
             "#0d0887"
            ],
            [
             0.1111111111111111,
             "#46039f"
            ],
            [
             0.2222222222222222,
             "#7201a8"
            ],
            [
             0.3333333333333333,
             "#9c179e"
            ],
            [
             0.4444444444444444,
             "#bd3786"
            ],
            [
             0.5555555555555556,
             "#d8576b"
            ],
            [
             0.6666666666666666,
             "#ed7953"
            ],
            [
             0.7777777777777778,
             "#fb9f3a"
            ],
            [
             0.8888888888888888,
             "#fdca26"
            ],
            [
             1,
             "#f0f921"
            ]
           ],
           "sequentialminus": [
            [
             0,
             "#0d0887"
            ],
            [
             0.1111111111111111,
             "#46039f"
            ],
            [
             0.2222222222222222,
             "#7201a8"
            ],
            [
             0.3333333333333333,
             "#9c179e"
            ],
            [
             0.4444444444444444,
             "#bd3786"
            ],
            [
             0.5555555555555556,
             "#d8576b"
            ],
            [
             0.6666666666666666,
             "#ed7953"
            ],
            [
             0.7777777777777778,
             "#fb9f3a"
            ],
            [
             0.8888888888888888,
             "#fdca26"
            ],
            [
             1,
             "#f0f921"
            ]
           ]
          },
          "colorway": [
           "#636efa",
           "#EF553B",
           "#00cc96",
           "#ab63fa",
           "#FFA15A",
           "#19d3f3",
           "#FF6692",
           "#B6E880",
           "#FF97FF",
           "#FECB52"
          ],
          "font": {
           "color": "#2a3f5f"
          },
          "geo": {
           "bgcolor": "white",
           "lakecolor": "white",
           "landcolor": "#E5ECF6",
           "showlakes": true,
           "showland": true,
           "subunitcolor": "white"
          },
          "hoverlabel": {
           "align": "left"
          },
          "hovermode": "closest",
          "mapbox": {
           "style": "light"
          },
          "paper_bgcolor": "white",
          "plot_bgcolor": "#E5ECF6",
          "polar": {
           "angularaxis": {
            "gridcolor": "white",
            "linecolor": "white",
            "ticks": ""
           },
           "bgcolor": "#E5ECF6",
           "radialaxis": {
            "gridcolor": "white",
            "linecolor": "white",
            "ticks": ""
           }
          },
          "scene": {
           "xaxis": {
            "backgroundcolor": "#E5ECF6",
            "gridcolor": "white",
            "gridwidth": 2,
            "linecolor": "white",
            "showbackground": true,
            "ticks": "",
            "zerolinecolor": "white"
           },
           "yaxis": {
            "backgroundcolor": "#E5ECF6",
            "gridcolor": "white",
            "gridwidth": 2,
            "linecolor": "white",
            "showbackground": true,
            "ticks": "",
            "zerolinecolor": "white"
           },
           "zaxis": {
            "backgroundcolor": "#E5ECF6",
            "gridcolor": "white",
            "gridwidth": 2,
            "linecolor": "white",
            "showbackground": true,
            "ticks": "",
            "zerolinecolor": "white"
           }
          },
          "shapedefaults": {
           "line": {
            "color": "#2a3f5f"
           }
          },
          "ternary": {
           "aaxis": {
            "gridcolor": "white",
            "linecolor": "white",
            "ticks": ""
           },
           "baxis": {
            "gridcolor": "white",
            "linecolor": "white",
            "ticks": ""
           },
           "bgcolor": "#E5ECF6",
           "caxis": {
            "gridcolor": "white",
            "linecolor": "white",
            "ticks": ""
           }
          },
          "title": {
           "x": 0.05
          },
          "xaxis": {
           "automargin": true,
           "gridcolor": "white",
           "linecolor": "white",
           "ticks": "",
           "title": {
            "standoff": 15
           },
           "zerolinecolor": "white",
           "zerolinewidth": 2
          },
          "yaxis": {
           "automargin": true,
           "gridcolor": "white",
           "linecolor": "white",
           "ticks": "",
           "title": {
            "standoff": 15
           },
           "zerolinecolor": "white",
           "zerolinewidth": 2
          }
         }
        },
        "title": {
         "text": "Teams' Historical Performance"
        },
        "xaxis": {
         "anchor": "y",
         "domain": [
          0,
          1
         ],
         "title": {
          "text": "Team"
         }
        },
        "yaxis": {
         "anchor": "x",
         "domain": [
          0,
          1
         ],
         "title": {
          "text": "Win Rate"
         }
        }
       }
      }
     },
     "metadata": {},
     "output_type": "display_data"
    }
   ],
   "source": [
    "# Bar Chart of Overall Winning Rate\n",
    "fig1 = px.bar(bar_chart_df, x= bar_chart_df.index, y='WIN RATE')\n",
    "\n",
    "fig1.update_layout(\n",
    "    title= 'Teams\\' Historical Performance',\n",
    "    xaxis_title='Team',\n",
    "    yaxis_title='Win Rate',\n",
    ")\n",
    "fig1.show()"
   ]
  },
  {
   "cell_type": "code",
   "execution_count": 5,
   "metadata": {},
   "outputs": [],
   "source": [
    "# Condense the distribution [Normalzation] ** Terrible practice **\n",
    "\n",
    "from sklearn.preprocessing import LabelEncoder, MinMaxScaler\n",
    "\n",
    "encoder = LabelEncoder()\n",
    "scalar = MinMaxScaler()\n",
    "\n",
    "full_df[\"W/L\"] = encoder.fit_transform(full_df[\"W/L\"]) # WIN: 1 , LOSE: 0\n",
    "\n",
    "num_cols = full_df.select_dtypes(include='number')\n",
    "\n",
    "norm_df = pd.DataFrame(scalar.fit_transform(num_cols), columns = num_cols.columns)\n",
    "norm_df = pd.concat([full_df.drop(columns=num_cols.columns),norm_df], axis=1)\n",
    "\n",
    "norm_df = norm_df.sort_values(by=['SEASON']).reset_index(drop=True)\n"
   ]
  },
  {
   "cell_type": "markdown",
   "metadata": {},
   "source": [
    "#### Machine Learning\n",
    "\n",
    "- Splitting data as 80/10/10 train-val-test\n",
    "- Experiementing DecisionTreeRegressor\n"
   ]
  },
  {
   "cell_type": "code",
   "execution_count": 6,
   "metadata": {},
   "outputs": [],
   "source": [
    "# Prepare data for ML\n",
    "quant_features = norm_df.select_dtypes(['category', 'object'])\n",
    "qual_features =  norm_df.select_dtypes(['number'])\n",
    "\n",
    "X = qual_features.drop(columns='W/L')\n",
    "y = qual_features['W/L']"
   ]
  },
  {
   "cell_type": "code",
   "execution_count": 7,
   "metadata": {},
   "outputs": [
    {
     "name": "stdout",
     "output_type": "stream",
     "text": [
      "DecisionTreeRegressor()\n",
      "Train:  1.0\n",
      "Val:  1.0\n",
      "Test:  1.0\n",
      "LogisticRegression()\n",
      "Train:  0.96\n",
      "Val:  0.97\n",
      "Test:  0.97\n"
     ]
    }
   ],
   "source": [
    "# Regression Models\n",
    "from sklearn.model_selection import train_test_split\n",
    "from sklearn.tree import DecisionTreeRegressor as DTR\n",
    "from sklearn.linear_model import LogisticRegression\n",
    "\n",
    "dtreg = DTR()\n",
    "logreg = LogisticRegression()\n",
    "\n",
    "X_train, X_remain, y_train, y_remain = train_test_split(X, y, test_size=0.2, random_state=42) # For training (Take 1)\n",
    "X_val, X_test, y_val, y_test = train_test_split(X_remain, y_remain, test_size=0.5, random_state=42)  # For Validating and Testing (Take 2)\n",
    "\n",
    "\n",
    "regression = [DTR(), LogisticRegression()]\n",
    "\n",
    "y_pred = [] # For training\n",
    "y_pred1 = [] # For validating and testing\n",
    "\n",
    "scores = []\n",
    "\n",
    "for each in regression:\n",
    "    print(each)\n",
    "    # Training\n",
    "    each.fit(X_train, y_train) \n",
    "    y_pred.append(each.predict(X_remain))\n",
    "\n",
    "    if type(each) == 'sklearn.tree._classes.DecisionTreeRegressor':\n",
    "        feature_importances = dtreg.feature_importances_\n",
    "    \n",
    "   # Validating - Testing\n",
    "    each.fit(X_val, y_val) \n",
    "    y_pred1.append(each.predict(X_test))\n",
    "\n",
    "    train_score = round(each.score(X_train,y_train), 2)\n",
    "    val_score = round(each.score(X_val,y_val), 2)\n",
    "    test_score = round(each.score(X_test,y_test), 2)\n",
    "\n",
    "    print('Train: ', train_score)\n",
    "    print('Val: ', val_score)\n",
    "    print('Test: ', test_score)  \n",
    "\n",
    "    scores.append([ train_score, val_score, test_score]) "
   ]
  },
  {
   "cell_type": "code",
   "execution_count": 8,
   "metadata": {},
   "outputs": [
    {
     "data": {
      "text/html": [
       "<div>\n",
       "<style scoped>\n",
       "    .dataframe tbody tr th:only-of-type {\n",
       "        vertical-align: middle;\n",
       "    }\n",
       "\n",
       "    .dataframe tbody tr th {\n",
       "        vertical-align: top;\n",
       "    }\n",
       "\n",
       "    .dataframe thead th {\n",
       "        text-align: right;\n",
       "    }\n",
       "</style>\n",
       "<table border=\"1\" class=\"dataframe\">\n",
       "  <thead>\n",
       "    <tr style=\"text-align: right;\">\n",
       "      <th></th>\n",
       "      <th>DecisionTreeReg</th>\n",
       "      <th>LogisticReg</th>\n",
       "    </tr>\n",
       "  </thead>\n",
       "  <tbody>\n",
       "    <tr>\n",
       "      <th>train</th>\n",
       "      <td>1.0</td>\n",
       "      <td>0.96</td>\n",
       "    </tr>\n",
       "    <tr>\n",
       "      <th>val</th>\n",
       "      <td>1.0</td>\n",
       "      <td>0.97</td>\n",
       "    </tr>\n",
       "    <tr>\n",
       "      <th>test</th>\n",
       "      <td>1.0</td>\n",
       "      <td>0.97</td>\n",
       "    </tr>\n",
       "  </tbody>\n",
       "</table>\n",
       "</div>"
      ],
      "text/plain": [
       "       DecisionTreeReg  LogisticReg\n",
       "train              1.0         0.96\n",
       "val                1.0         0.97\n",
       "test               1.0         0.97"
      ]
     },
     "execution_count": 8,
     "metadata": {},
     "output_type": "execute_result"
    }
   ],
   "source": [
    "score_df = pd.DataFrame({\"DecisionTreeReg\": scores[0] , \"LogisticReg\" : scores[1]}, index= ['train', 'val', 'test'])\n",
    "score_df"
   ]
  },
  {
   "cell_type": "markdown",
   "metadata": {},
   "source": [
    "First I wanted to experiement with Decision Tree Regression. After analying the model, I noticed that this was aa 100% accuracy prediction rate. When using this for the first time, I assumed this had to be false and there's an error somewhere. \n",
    "I wanted to add the Simple Logistic Regression to compare with the DTR, and saw another high performance. \n",
    "*\\*Phewww*\\* 😮‍💨"
   ]
  },
  {
   "cell_type": "code",
   "execution_count": 226,
   "metadata": {},
   "outputs": [],
   "source": [
    "# Finding important features in the dataframe\n",
    "fi_char = pd.DataFrame( {'Events' : X.columns, 'Importance': feature_importances})"
   ]
  },
  {
   "cell_type": "code",
   "execution_count": 23,
   "metadata": {},
   "outputs": [
    {
     "data": {
      "application/vnd.plotly.v1+json": {
       "config": {
        "plotlyServerURL": "https://plot.ly"
       },
       "data": [
        {
         "alignmentgroup": "True",
         "hovertemplate": "Importance=%{x}<br>Events=%{y}<extra></extra>",
         "legendgroup": "",
         "marker": {
          "color": "#636efa",
          "pattern": {
           "shape": ""
          }
         },
         "name": "",
         "offsetgroup": "",
         "orientation": "h",
         "showlegend": false,
         "textposition": "auto",
         "type": "bar",
         "x": [
          0,
          0,
          0,
          0,
          0,
          0,
          0,
          0,
          0,
          0,
          0,
          0,
          0,
          0,
          0,
          0,
          0,
          0,
          0,
          1
         ],
         "xaxis": "x",
         "y": [
          "MIN",
          "PTS",
          "FGM",
          "FGA",
          "FG%",
          "3PM",
          "3PA",
          "3P%",
          "FTM",
          "FTA",
          "FT%",
          "OREB",
          "DREB",
          "REB",
          "AST",
          "TOV",
          "STL",
          "BLK",
          "PF",
          "+/-"
         ],
         "yaxis": "y"
        }
       ],
       "layout": {
        "barmode": "relative",
        "height": 500,
        "legend": {
         "tracegroupgap": 0
        },
        "margin": {
         "t": 60
        },
        "template": {
         "data": {
          "bar": [
           {
            "error_x": {
             "color": "#2a3f5f"
            },
            "error_y": {
             "color": "#2a3f5f"
            },
            "marker": {
             "line": {
              "color": "#E5ECF6",
              "width": 0.5
             },
             "pattern": {
              "fillmode": "overlay",
              "size": 10,
              "solidity": 0.2
             }
            },
            "type": "bar"
           }
          ],
          "barpolar": [
           {
            "marker": {
             "line": {
              "color": "#E5ECF6",
              "width": 0.5
             },
             "pattern": {
              "fillmode": "overlay",
              "size": 10,
              "solidity": 0.2
             }
            },
            "type": "barpolar"
           }
          ],
          "carpet": [
           {
            "aaxis": {
             "endlinecolor": "#2a3f5f",
             "gridcolor": "white",
             "linecolor": "white",
             "minorgridcolor": "white",
             "startlinecolor": "#2a3f5f"
            },
            "baxis": {
             "endlinecolor": "#2a3f5f",
             "gridcolor": "white",
             "linecolor": "white",
             "minorgridcolor": "white",
             "startlinecolor": "#2a3f5f"
            },
            "type": "carpet"
           }
          ],
          "choropleth": [
           {
            "colorbar": {
             "outlinewidth": 0,
             "ticks": ""
            },
            "type": "choropleth"
           }
          ],
          "contour": [
           {
            "colorbar": {
             "outlinewidth": 0,
             "ticks": ""
            },
            "colorscale": [
             [
              0,
              "#0d0887"
             ],
             [
              0.1111111111111111,
              "#46039f"
             ],
             [
              0.2222222222222222,
              "#7201a8"
             ],
             [
              0.3333333333333333,
              "#9c179e"
             ],
             [
              0.4444444444444444,
              "#bd3786"
             ],
             [
              0.5555555555555556,
              "#d8576b"
             ],
             [
              0.6666666666666666,
              "#ed7953"
             ],
             [
              0.7777777777777778,
              "#fb9f3a"
             ],
             [
              0.8888888888888888,
              "#fdca26"
             ],
             [
              1,
              "#f0f921"
             ]
            ],
            "type": "contour"
           }
          ],
          "contourcarpet": [
           {
            "colorbar": {
             "outlinewidth": 0,
             "ticks": ""
            },
            "type": "contourcarpet"
           }
          ],
          "heatmap": [
           {
            "colorbar": {
             "outlinewidth": 0,
             "ticks": ""
            },
            "colorscale": [
             [
              0,
              "#0d0887"
             ],
             [
              0.1111111111111111,
              "#46039f"
             ],
             [
              0.2222222222222222,
              "#7201a8"
             ],
             [
              0.3333333333333333,
              "#9c179e"
             ],
             [
              0.4444444444444444,
              "#bd3786"
             ],
             [
              0.5555555555555556,
              "#d8576b"
             ],
             [
              0.6666666666666666,
              "#ed7953"
             ],
             [
              0.7777777777777778,
              "#fb9f3a"
             ],
             [
              0.8888888888888888,
              "#fdca26"
             ],
             [
              1,
              "#f0f921"
             ]
            ],
            "type": "heatmap"
           }
          ],
          "heatmapgl": [
           {
            "colorbar": {
             "outlinewidth": 0,
             "ticks": ""
            },
            "colorscale": [
             [
              0,
              "#0d0887"
             ],
             [
              0.1111111111111111,
              "#46039f"
             ],
             [
              0.2222222222222222,
              "#7201a8"
             ],
             [
              0.3333333333333333,
              "#9c179e"
             ],
             [
              0.4444444444444444,
              "#bd3786"
             ],
             [
              0.5555555555555556,
              "#d8576b"
             ],
             [
              0.6666666666666666,
              "#ed7953"
             ],
             [
              0.7777777777777778,
              "#fb9f3a"
             ],
             [
              0.8888888888888888,
              "#fdca26"
             ],
             [
              1,
              "#f0f921"
             ]
            ],
            "type": "heatmapgl"
           }
          ],
          "histogram": [
           {
            "marker": {
             "pattern": {
              "fillmode": "overlay",
              "size": 10,
              "solidity": 0.2
             }
            },
            "type": "histogram"
           }
          ],
          "histogram2d": [
           {
            "colorbar": {
             "outlinewidth": 0,
             "ticks": ""
            },
            "colorscale": [
             [
              0,
              "#0d0887"
             ],
             [
              0.1111111111111111,
              "#46039f"
             ],
             [
              0.2222222222222222,
              "#7201a8"
             ],
             [
              0.3333333333333333,
              "#9c179e"
             ],
             [
              0.4444444444444444,
              "#bd3786"
             ],
             [
              0.5555555555555556,
              "#d8576b"
             ],
             [
              0.6666666666666666,
              "#ed7953"
             ],
             [
              0.7777777777777778,
              "#fb9f3a"
             ],
             [
              0.8888888888888888,
              "#fdca26"
             ],
             [
              1,
              "#f0f921"
             ]
            ],
            "type": "histogram2d"
           }
          ],
          "histogram2dcontour": [
           {
            "colorbar": {
             "outlinewidth": 0,
             "ticks": ""
            },
            "colorscale": [
             [
              0,
              "#0d0887"
             ],
             [
              0.1111111111111111,
              "#46039f"
             ],
             [
              0.2222222222222222,
              "#7201a8"
             ],
             [
              0.3333333333333333,
              "#9c179e"
             ],
             [
              0.4444444444444444,
              "#bd3786"
             ],
             [
              0.5555555555555556,
              "#d8576b"
             ],
             [
              0.6666666666666666,
              "#ed7953"
             ],
             [
              0.7777777777777778,
              "#fb9f3a"
             ],
             [
              0.8888888888888888,
              "#fdca26"
             ],
             [
              1,
              "#f0f921"
             ]
            ],
            "type": "histogram2dcontour"
           }
          ],
          "mesh3d": [
           {
            "colorbar": {
             "outlinewidth": 0,
             "ticks": ""
            },
            "type": "mesh3d"
           }
          ],
          "parcoords": [
           {
            "line": {
             "colorbar": {
              "outlinewidth": 0,
              "ticks": ""
             }
            },
            "type": "parcoords"
           }
          ],
          "pie": [
           {
            "automargin": true,
            "type": "pie"
           }
          ],
          "scatter": [
           {
            "fillpattern": {
             "fillmode": "overlay",
             "size": 10,
             "solidity": 0.2
            },
            "type": "scatter"
           }
          ],
          "scatter3d": [
           {
            "line": {
             "colorbar": {
              "outlinewidth": 0,
              "ticks": ""
             }
            },
            "marker": {
             "colorbar": {
              "outlinewidth": 0,
              "ticks": ""
             }
            },
            "type": "scatter3d"
           }
          ],
          "scattercarpet": [
           {
            "marker": {
             "colorbar": {
              "outlinewidth": 0,
              "ticks": ""
             }
            },
            "type": "scattercarpet"
           }
          ],
          "scattergeo": [
           {
            "marker": {
             "colorbar": {
              "outlinewidth": 0,
              "ticks": ""
             }
            },
            "type": "scattergeo"
           }
          ],
          "scattergl": [
           {
            "marker": {
             "colorbar": {
              "outlinewidth": 0,
              "ticks": ""
             }
            },
            "type": "scattergl"
           }
          ],
          "scattermapbox": [
           {
            "marker": {
             "colorbar": {
              "outlinewidth": 0,
              "ticks": ""
             }
            },
            "type": "scattermapbox"
           }
          ],
          "scatterpolar": [
           {
            "marker": {
             "colorbar": {
              "outlinewidth": 0,
              "ticks": ""
             }
            },
            "type": "scatterpolar"
           }
          ],
          "scatterpolargl": [
           {
            "marker": {
             "colorbar": {
              "outlinewidth": 0,
              "ticks": ""
             }
            },
            "type": "scatterpolargl"
           }
          ],
          "scatterternary": [
           {
            "marker": {
             "colorbar": {
              "outlinewidth": 0,
              "ticks": ""
             }
            },
            "type": "scatterternary"
           }
          ],
          "surface": [
           {
            "colorbar": {
             "outlinewidth": 0,
             "ticks": ""
            },
            "colorscale": [
             [
              0,
              "#0d0887"
             ],
             [
              0.1111111111111111,
              "#46039f"
             ],
             [
              0.2222222222222222,
              "#7201a8"
             ],
             [
              0.3333333333333333,
              "#9c179e"
             ],
             [
              0.4444444444444444,
              "#bd3786"
             ],
             [
              0.5555555555555556,
              "#d8576b"
             ],
             [
              0.6666666666666666,
              "#ed7953"
             ],
             [
              0.7777777777777778,
              "#fb9f3a"
             ],
             [
              0.8888888888888888,
              "#fdca26"
             ],
             [
              1,
              "#f0f921"
             ]
            ],
            "type": "surface"
           }
          ],
          "table": [
           {
            "cells": {
             "fill": {
              "color": "#EBF0F8"
             },
             "line": {
              "color": "white"
             }
            },
            "header": {
             "fill": {
              "color": "#C8D4E3"
             },
             "line": {
              "color": "white"
             }
            },
            "type": "table"
           }
          ]
         },
         "layout": {
          "annotationdefaults": {
           "arrowcolor": "#2a3f5f",
           "arrowhead": 0,
           "arrowwidth": 1
          },
          "autotypenumbers": "strict",
          "coloraxis": {
           "colorbar": {
            "outlinewidth": 0,
            "ticks": ""
           }
          },
          "colorscale": {
           "diverging": [
            [
             0,
             "#8e0152"
            ],
            [
             0.1,
             "#c51b7d"
            ],
            [
             0.2,
             "#de77ae"
            ],
            [
             0.3,
             "#f1b6da"
            ],
            [
             0.4,
             "#fde0ef"
            ],
            [
             0.5,
             "#f7f7f7"
            ],
            [
             0.6,
             "#e6f5d0"
            ],
            [
             0.7,
             "#b8e186"
            ],
            [
             0.8,
             "#7fbc41"
            ],
            [
             0.9,
             "#4d9221"
            ],
            [
             1,
             "#276419"
            ]
           ],
           "sequential": [
            [
             0,
             "#0d0887"
            ],
            [
             0.1111111111111111,
             "#46039f"
            ],
            [
             0.2222222222222222,
             "#7201a8"
            ],
            [
             0.3333333333333333,
             "#9c179e"
            ],
            [
             0.4444444444444444,
             "#bd3786"
            ],
            [
             0.5555555555555556,
             "#d8576b"
            ],
            [
             0.6666666666666666,
             "#ed7953"
            ],
            [
             0.7777777777777778,
             "#fb9f3a"
            ],
            [
             0.8888888888888888,
             "#fdca26"
            ],
            [
             1,
             "#f0f921"
            ]
           ],
           "sequentialminus": [
            [
             0,
             "#0d0887"
            ],
            [
             0.1111111111111111,
             "#46039f"
            ],
            [
             0.2222222222222222,
             "#7201a8"
            ],
            [
             0.3333333333333333,
             "#9c179e"
            ],
            [
             0.4444444444444444,
             "#bd3786"
            ],
            [
             0.5555555555555556,
             "#d8576b"
            ],
            [
             0.6666666666666666,
             "#ed7953"
            ],
            [
             0.7777777777777778,
             "#fb9f3a"
            ],
            [
             0.8888888888888888,
             "#fdca26"
            ],
            [
             1,
             "#f0f921"
            ]
           ]
          },
          "colorway": [
           "#636efa",
           "#EF553B",
           "#00cc96",
           "#ab63fa",
           "#FFA15A",
           "#19d3f3",
           "#FF6692",
           "#B6E880",
           "#FF97FF",
           "#FECB52"
          ],
          "font": {
           "color": "#2a3f5f"
          },
          "geo": {
           "bgcolor": "white",
           "lakecolor": "white",
           "landcolor": "#E5ECF6",
           "showlakes": true,
           "showland": true,
           "subunitcolor": "white"
          },
          "hoverlabel": {
           "align": "left"
          },
          "hovermode": "closest",
          "mapbox": {
           "style": "light"
          },
          "paper_bgcolor": "white",
          "plot_bgcolor": "#E5ECF6",
          "polar": {
           "angularaxis": {
            "gridcolor": "white",
            "linecolor": "white",
            "ticks": ""
           },
           "bgcolor": "#E5ECF6",
           "radialaxis": {
            "gridcolor": "white",
            "linecolor": "white",
            "ticks": ""
           }
          },
          "scene": {
           "xaxis": {
            "backgroundcolor": "#E5ECF6",
            "gridcolor": "white",
            "gridwidth": 2,
            "linecolor": "white",
            "showbackground": true,
            "ticks": "",
            "zerolinecolor": "white"
           },
           "yaxis": {
            "backgroundcolor": "#E5ECF6",
            "gridcolor": "white",
            "gridwidth": 2,
            "linecolor": "white",
            "showbackground": true,
            "ticks": "",
            "zerolinecolor": "white"
           },
           "zaxis": {
            "backgroundcolor": "#E5ECF6",
            "gridcolor": "white",
            "gridwidth": 2,
            "linecolor": "white",
            "showbackground": true,
            "ticks": "",
            "zerolinecolor": "white"
           }
          },
          "shapedefaults": {
           "line": {
            "color": "#2a3f5f"
           }
          },
          "ternary": {
           "aaxis": {
            "gridcolor": "white",
            "linecolor": "white",
            "ticks": ""
           },
           "baxis": {
            "gridcolor": "white",
            "linecolor": "white",
            "ticks": ""
           },
           "bgcolor": "#E5ECF6",
           "caxis": {
            "gridcolor": "white",
            "linecolor": "white",
            "ticks": ""
           }
          },
          "title": {
           "x": 0.05
          },
          "xaxis": {
           "automargin": true,
           "gridcolor": "white",
           "linecolor": "white",
           "ticks": "",
           "title": {
            "standoff": 15
           },
           "zerolinecolor": "white",
           "zerolinewidth": 2
          },
          "yaxis": {
           "automargin": true,
           "gridcolor": "white",
           "linecolor": "white",
           "ticks": "",
           "title": {
            "standoff": 15
           },
           "zerolinecolor": "white",
           "zerolinewidth": 2
          }
         }
        },
        "title": {
         "text": "Importance of  Each Feature"
        },
        "width": 1000,
        "xaxis": {
         "anchor": "y",
         "domain": [
          0,
          1
         ],
         "title": {
          "text": "Importance"
         }
        },
        "yaxis": {
         "anchor": "x",
         "domain": [
          0,
          1
         ],
         "title": {
          "text": "Events"
         }
        }
       }
      }
     },
     "metadata": {},
     "output_type": "display_data"
    }
   ],
   "source": [
    "# Feature importance graph below\n",
    "fi_bar = px.bar( fi_char, y= 'Events', x='Importance', orientation='h')\n",
    "\n",
    "fi_bar.update_layout(\n",
    "    title= 'Importance of  Each Feature',\n",
    "    height = 500,\n",
    "    width = 1000\n",
    ") \n",
    "fi_bar.show()\n"
   ]
  },
  {
   "cell_type": "markdown",
   "metadata": {},
   "source": [
    "The above visual shows that one Plus-Minus shows a high relavence to the predicting the target variable. The golden rule of thumb is not to fill your model with a lot of columns as it may lead several issues like overfitting or correlations with one another, where some algorithms doesn't do well with. <br/>\n",
    "\n",
    "Since there are not a lot of columns used here, we will still add these to the model"
   ]
  },
  {
   "cell_type": "code",
   "execution_count": 66,
   "metadata": {},
   "outputs": [
    {
     "data": {
      "text/html": [
       "<div>\n",
       "<style scoped>\n",
       "    .dataframe tbody tr th:only-of-type {\n",
       "        vertical-align: middle;\n",
       "    }\n",
       "\n",
       "    .dataframe tbody tr th {\n",
       "        vertical-align: top;\n",
       "    }\n",
       "\n",
       "    .dataframe thead th {\n",
       "        text-align: right;\n",
       "    }\n",
       "</style>\n",
       "<table border=\"1\" class=\"dataframe\">\n",
       "  <thead>\n",
       "    <tr style=\"text-align: right;\">\n",
       "      <th></th>\n",
       "      <th>DecisionTree</th>\n",
       "      <th>Logistic</th>\n",
       "    </tr>\n",
       "  </thead>\n",
       "  <tbody>\n",
       "    <tr>\n",
       "      <th>mse</th>\n",
       "      <td>0.0</td>\n",
       "      <td>0.008311</td>\n",
       "    </tr>\n",
       "    <tr>\n",
       "      <th>acc</th>\n",
       "      <td>1.0</td>\n",
       "      <td>0.965549</td>\n",
       "    </tr>\n",
       "  </tbody>\n",
       "</table>\n",
       "</div>"
      ],
      "text/plain": [
       "     DecisionTree  Logistic\n",
       "mse           0.0  0.008311\n",
       "acc           1.0  0.965549"
      ]
     },
     "metadata": {},
     "output_type": "display_data"
    },
    {
     "name": "stdout",
     "output_type": "stream",
     "text": [
      "Classification Report for Logistic Regression\n",
      "              precision    recall  f1-score   support\n",
      "\n",
      "        loss       0.97      0.96      0.97      3288\n",
      "         win       0.96      0.97      0.97      3330\n",
      "\n",
      "    accuracy                           0.97      6618\n",
      "   macro avg       0.97      0.97      0.97      6618\n",
      "weighted avg       0.97      0.97      0.97      6618\n",
      "\n"
     ]
    }
   ],
   "source": [
    "# Model Performance for DTR and Logistic Regression\n",
    "\n",
    "from sklearn.metrics import mean_squared_error, classification_report, ConfusionMatrixDisplay, accuracy_score\n",
    "\n",
    "# Mean Squared Error\n",
    "mse_d = mean_squared_error(y_remain,y_pred[0]) # Gets the average loss between actual and predicted value of the target\n",
    "mse_l =  mean_squared_error(y_remain,y_pred[1])\n",
    "\n",
    "# Accuracy Score\n",
    "acc_d = accuracy_score(y_test,y_pred1[0])\n",
    "acc_l = accuracy_score(y_test,y_pred1[1])\n",
    "\n",
    "perform_df = pd.DataFrame({'DecisionTree':[mse_d,acc_d],'Logistic':[mse_l,acc_l]}, index=['mse','acc'])\n",
    "display(perform_df)\n",
    "\n",
    "# Classification Report for Logistic Regression\n",
    "print('Classification Report for Logistic Regression')\n",
    "print(classification_report(y_test,y_pred1[1],target_names=['loss','win'] )) \n"
   ]
  },
  {
   "cell_type": "markdown",
   "metadata": {},
   "source": [
    "# WORK ON REMAINDER\n",
    "\n",
    "- Create Team Tournament [Regions & Conferences]\n",
    "  - Probably add penalty (positive/negative) to the current match up\n"
   ]
  },
  {
   "cell_type": "markdown",
   "metadata": {},
   "source": [
    "### Summary"
   ]
  },
  {
   "cell_type": "code",
   "execution_count": 10,
   "metadata": {},
   "outputs": [],
   "source": [
    "\n",
    "summary_teams = {}\n",
    "teams_historical = {}\n",
    "\n",
    "for each in distinct_teams:\n",
    "    ind_team = full_df[full_df['TEAM'] == each]\n",
    "\n",
    "    prev_ssn_records = ind_team[(ind_team['SEASON'] == '2022-23')][ind_team.columns[8:28]]\n",
    "    tie_break_stats = ind_team[(ind_team['SEASON'] <= '2021-22')][ind_team.columns[8:28]]\n",
    "\n",
    "    ind_team = np.mean(prev_ssn_records, axis=0)\n",
    "    tie_breaker_sum = np.mean(tie_break_stats, axis=0)\n",
    "\n",
    "    summary_teams[each] = ind_team\n",
    "    teams_historical[each] = tie_breaker_sum\n",
    "\n",
    "# Create the Average for each team from last Season\n",
    "summary_dict = pd.DataFrame(summary_teams)\n",
    "teams_his = pd.DataFrame(teams_historical)\n",
    "# summary_dict = summary_dict.T"
   ]
  },
  {
   "cell_type": "markdown",
   "metadata": {},
   "source": [
    "### THE GAME\n",
    "\n",
    "<u>Group play - 30 teams</u>\n",
    "\n",
    "- All 30 teams are split into 6 groups; \"random draw of last season records\"\n",
    "  - 3 groups 5 teams in East, and in West\n",
    "\n",
    "- Each team in the group plays each other 1 time, totaling 4 games each\n",
    "  - teams with the best group play record after those 4 games, moves on; 3 on east and 3 on west.\n",
    "\n",
    "- Team with the next best record in each conference are claimed as the wild card (1 in both conference)\n",
    "\n",
    "\n",
    "<u>Knockout round - 8 teams</u>\n",
    "\n",
    "- Single Elimination Match. Each team plays 1 game against a group in conference\n",
    "  - 4 teams remaining \n",
    "\n",
    "<u>Semifinals - 4 teams</u>\n",
    "\n",
    "- 2 teams from East 2 teams West\n",
    "\n",
    "<u>Final - 2 teams</u>\n",
    "\n",
    "- 1 team from East & 1 team from West"
   ]
  },
  {
   "cell_type": "code",
   "execution_count": 160,
   "metadata": {},
   "outputs": [],
   "source": [
    "east_conf = full_df[full_df['CONFERENCE'] == 'EASTERN']\n",
    "west_conf = full_df[full_df['CONFERENCE'] == 'WESTERN']\n",
    "\n",
    "east_teams = list(east_conf['TEAM'].unique())\n",
    "west_teams = list(west_conf['TEAM'].unique())"
   ]
  },
  {
   "cell_type": "code",
   "execution_count": 161,
   "metadata": {},
   "outputs": [],
   "source": [
    "# Function to split remainder teams within a Conference\n",
    "\n",
    "def split_teams(teams, num_groups):\n",
    "\n",
    "    random.shuffle(teams)\n",
    "    sub_group = []\n",
    "    groups = []\n",
    "\n",
    "    group_size = len(teams) / num_groups\n",
    "    print(\" Group Size: \", group_size)\n",
    "\n",
    "    for idx,each in enumerate(teams):\n",
    "        \n",
    "        if (idx + 1) % group_size != 0:\n",
    "            sub_group.append(each)\n",
    "        else:\n",
    "            sub_group.append(each)\n",
    "            groups.append(sub_group)\n",
    "            sub_group = []\n",
    "\n",
    "    return groups"
   ]
  },
  {
   "cell_type": "code",
   "execution_count": 162,
   "metadata": {},
   "outputs": [
    {
     "name": "stdout",
     "output_type": "stream",
     "text": [
      " Group Size:  5.0\n",
      " Group Size:  5.0\n"
     ]
    }
   ],
   "source": [
    "# SPLITTED FOR GROUP PLAY\n",
    "splitted_east = split_teams(east_teams, 3)\n",
    "splitted_west = split_teams(west_teams, 3)"
   ]
  },
  {
   "cell_type": "code",
   "execution_count": 164,
   "metadata": {},
   "outputs": [],
   "source": [
    "# THE GAME: Determine the Winner of the match\n",
    "\n",
    "def the_game(team1, team2):\n",
    "    \n",
    "    names = [team1.name, team2.name]\n",
    "\n",
    "    comp_stats = pd.concat([team1,team2], axis=1).transpose()\n",
    "\n",
    "    winner = regression[0].predict(comp_stats).astype('int64').tolist()\n",
    "    # print(\"Results: \", winner)\n",
    "    \n",
    "\n",
    "   # Randomly choose the winner if tied\n",
    "    if all(map(lambda x: x == winner[0], winner)):\n",
    "        selected = random.choices(comp_stats.index)[0]\n",
    "        # print('Winner is: ', selected)\n",
    "        return selected\n",
    "\n",
    "    else:\n",
    "        index = winner.index(max(winner))\n",
    "        # print('Winner is: ', names[index])\n",
    "        return names[index]\n"
   ]
  },
  {
   "cell_type": "code",
   "execution_count": 181,
   "metadata": {},
   "outputs": [],
   "source": [
    "# MATCH UP: Prepare teams for matchups\n",
    "def match_up(conf, team):\n",
    "\n",
    "    team_gp = dict.fromkeys(team, 0)\n",
    "\n",
    "    for gp in conf:\n",
    "        for i in range(len(gp)):\n",
    "            for j in range(i+1, len(gp)):\n",
    "                curr_team = gp[i]\n",
    "                opp_team = gp[j]\n",
    "\n",
    "                # print(f'{curr_team} vs. {opp_team}')\n",
    "\n",
    "                # PLAY THE GAME\n",
    "                winner = the_game(summary_dict[curr_team], summary_dict[opp_team])\n",
    "\n",
    "                # win_count[winner] += 1 # Referenced in next cell as global variable\n",
    "                team_gp[winner] += 1\n",
    "    \n",
    "    print(team_gp)\n",
    "    return team_gp\n"
   ]
  },
  {
   "cell_type": "code",
   "execution_count": 193,
   "metadata": {},
   "outputs": [
    {
     "name": "stdout",
     "output_type": "stream",
     "text": [
      "{'DETROIT PISTONS': 0, 'ORLANDO MAGIC': 0, 'TORONTO RAPTORS': 1, 'NEW YORK KNICKS': 0, 'INDIANA PACERS': 0, 'BROOKLYN NETS': 0, 'BOSTON CELTICS': 0, 'WASHINGTON WIZARDS': 0, 'PHILADELPHIA 76ERS': 0, 'MILWAUKEE BUCKS': 0, 'CHARLOTTE HORNETS': 0, 'MIAMI HEAT': 0, 'CHICAGO BULLS': 1, 'CLEVELAND CAVALIERS': 0, 'ATLANTA HAWKS': 0}\n",
      "{'MINNESOTA TIMBERWOLVES': 0, 'LA CLIPPERS': 0, 'HOUSTON ROCKETS': 0, 'DALLAS MAVERICKS': 0, 'OKLAHOMA CITY THUNDER': 0, 'MEMPHIS GRIZZLIES': 0, 'UTAH JAZZ': 0, 'SAN ANTONIO SPURS': 0, 'NEW ORLEANS PELICANS': 1, 'LOS ANGELES LAKERS': 0, 'DENVER NUGGETS': 1, 'PHOENIX SUNS': 0, 'PORTLAND TRAIL BLAZERS': 0, 'GOLDEN STATE WARRIORS': 0, 'SACRAMENTO KINGS': 0}\n"
     ]
    }
   ],
   "source": [
    "# GROUP PLAY\n",
    "win_count_gp = dict.fromkeys(distinct_teams, 0)\n",
    "\n",
    "east_gp = match_up(splitted_east, east_teams)\n",
    "west_gp = match_up(splitted_west, west_teams)\n",
    "\n",
    "win_count_gp.update(east_gp)\n",
    "win_count_gp.update(west_gp)\n"
   ]
  },
  {
   "cell_type": "code",
   "execution_count": 201,
   "metadata": {},
   "outputs": [],
   "source": [
    "def last_standing(east, west, wild):\n",
    "# turn into series\n",
    "\n",
    "    series_east = pd.Series(east)\n",
    "    series_west = pd.Series(west)\n",
    "\n",
    "    east_ko_teams = list(series_east[series_east == max(series_east)].index)\n",
    "    west_ko_teams = list(series_west[series_west == max(series_west)].index)\n",
    "\n",
    "\n",
    "    if wild:\n",
    "        # WILD CARDS\n",
    "        east_wcgp = list(series_east[series_east == max(series_east)- 1].index)\n",
    "        west_wcgp = list(series_west[series_west == max(series_west)- 1].index)\n",
    "\n",
    "        east_wc = random.choices(east_wcgp)\n",
    "        west_wc = random.choices(west_wcgp)\n",
    "\n",
    "        east_ko_teams.extend(east_wc)\n",
    "        west_ko_teams.extend(west_wc)\n",
    "    \n",
    "    return east_ko_teams, west_ko_teams\n",
    "# get teams with max score\n",
    "\n",
    "# return last standing teams\n"
   ]
  },
  {
   "cell_type": "code",
   "execution_count": 202,
   "metadata": {},
   "outputs": [
    {
     "ename": "NameError",
     "evalue": "name 'TRUE' is not defined",
     "output_type": "error",
     "traceback": [
      "\u001b[0;31m---------------------------------------------------------------------------\u001b[0m",
      "\u001b[0;31mNameError\u001b[0m                                 Traceback (most recent call last)",
      "Input \u001b[0;32mIn [202]\u001b[0m, in \u001b[0;36m<cell line: 20>\u001b[0;34m()\u001b[0m\n\u001b[1;32m      1\u001b[0m \u001b[38;5;66;03m# KNOCK OUT ROUND\u001b[39;00m\n\u001b[1;32m      2\u001b[0m \n\u001b[1;32m      3\u001b[0m \u001b[38;5;66;03m# Prepare contestants...\u001b[39;00m\n\u001b[0;32m   (...)\u001b[0m\n\u001b[1;32m     17\u001b[0m \u001b[38;5;66;03m# east_wc = random.choices(east_wcgp)\u001b[39;00m\n\u001b[1;32m     18\u001b[0m \u001b[38;5;66;03m# west_wc = random.choices(west_wcgp)\u001b[39;00m\n\u001b[0;32m---> 20\u001b[0m east_ko_teams, west_ko_teams \u001b[38;5;241m=\u001b[39m last_standing(east_gp,west_gp,\u001b[43mTRUE\u001b[49m)\n",
      "\u001b[0;31mNameError\u001b[0m: name 'TRUE' is not defined"
     ]
    }
   ],
   "source": [
    "# KNOCK OUT ROUND\n",
    "\n",
    "# Prepare contestants...\n",
    "\n",
    "\n",
    "# Turn to Series to get all elements with max value\n",
    "# series_east = pd.Series(east_gp)\n",
    "# series_west = pd.Series(west_gp)\n",
    "\n",
    "# east_ko_teams = list(series_east[series_east == max(series_east)].index)\n",
    "# west_ko_teams = list(series_west[series_west == max(series_west)].index)\n",
    "\n",
    "# # WILD CARDS\n",
    "# east_wcgp = list(series_east[series_east == max(series_east)- 1].index)\n",
    "# west_wcgp = list(series_west[series_west == max(series_west)- 1].index)\n",
    "\n",
    "# east_wc = random.choices(east_wcgp)\n",
    "# west_wc = random.choices(west_wcgp)\n",
    "\n",
    "east_ko_teams, west_ko_teams = last_standing(east_gp,west_gp, TRUE)\n"
   ]
  },
  {
   "cell_type": "code",
   "execution_count": 189,
   "metadata": {},
   "outputs": [
    {
     "name": "stdout",
     "output_type": "stream",
     "text": [
      "['TORONTO RAPTORS', 'PHILADELPHIA 76ERS', 'CHICAGO BULLS', 'MILWAUKEE BUCKS']\n",
      "['LA CLIPPERS', 'NEW ORLEANS PELICANS', 'DENVER NUGGETS', 'OKLAHOMA CITY THUNDER']\n"
     ]
    }
   ],
   "source": [
    "print(east_ko_teams)\n",
    "print(west_ko_teams)"
   ]
  },
  {
   "cell_type": "code",
   "execution_count": 197,
   "metadata": {},
   "outputs": [
    {
     "name": "stdout",
     "output_type": "stream",
     "text": [
      " Group Size:  2.0\n",
      " Group Size:  2.0\n",
      "{'PHILADELPHIA 76ERS': 1, 'MILWAUKEE BUCKS': 0, 'CHICAGO BULLS': 1, 'TORONTO RAPTORS': 0}\n",
      "{'NEW ORLEANS PELICANS': 1, 'DENVER NUGGETS': 0, 'LA CLIPPERS': 1, 'OKLAHOMA CITY THUNDER': 0}\n"
     ]
    }
   ],
   "source": [
    "\n",
    "\n",
    "# BEGIN KNOCKOUT\n",
    "\n",
    "ko_teams = east_ko_teams + west_ko_teams\n",
    "\n",
    "win_count_ko = dict.fromkeys(ko_teams, 0)\n",
    "\n",
    "\n",
    "splitted_east = split_teams(east_ko_teams, 2)\n",
    "splitted_west = split_teams(west_ko_teams, 2)\n",
    "\n",
    "east_ko = match_up(splitted_east, east_ko_teams)\n",
    "west_ko = match_up(splitted_west, west_ko_teams)\n",
    "\n",
    "win_count_ko.update(east_ko)\n",
    "win_count_ko.update(west_ko)"
   ]
  },
  {
   "cell_type": "code",
   "execution_count": 198,
   "metadata": {},
   "outputs": [
    {
     "data": {
      "text/plain": [
       "{'MILWAUKEE BUCKS': 0,\n",
       " 'CHICAGO BULLS': 1,\n",
       " 'TORONTO RAPTORS': 0,\n",
       " 'PHILADELPHIA 76ERS': 1,\n",
       " 'DENVER NUGGETS': 0,\n",
       " 'OKLAHOMA CITY THUNDER': 0,\n",
       " 'LA CLIPPERS': 1,\n",
       " 'NEW ORLEANS PELICANS': 1}"
      ]
     },
     "execution_count": 198,
     "metadata": {},
     "output_type": "execute_result"
    }
   ],
   "source": [
    "win_count_ko"
   ]
  },
  {
   "cell_type": "code",
   "execution_count": null,
   "metadata": {},
   "outputs": [],
   "source": []
  },
  {
   "cell_type": "code",
   "execution_count": null,
   "metadata": {},
   "outputs": [],
   "source": [
    "# Create an empty dictionary\n",
    "wins_count = {}\n",
    "predicted_winners_info = {}\n",
    "\n",
    "for i, team1 in selected_data.iterrows():\n",
    "    for j, team2 in selected_data.iterrows():\n",
    "        if i == j:\n",
    "            continue\n",
    "\n",
    "        matchup_features = pd.concat([team1[['WIN%', 'FG%', 'PTS', 'REB', 'STL', 'BLK', '+/-']],\n",
    "                                      team2[['WIN%', 'FG%', 'PTS', 'REB', 'STL', 'BLK', '+/-']]], axis=1)\n",
    "\n",
    "        matchup_features = matchup_features.transpose()\n",
    "\n",
    "        winner_index = model.predict(matchup_features)[0]\n",
    "\n",
    "        if winner_index == 0:\n",
    "            predicted_winner_teamname = team1['Team']\n",
    "            predicted_winner_season = team1['Season']\n",
    "        else:\n",
    "            predicted_winner_teamname = team2['Team']\n",
    "            predicted_winner_season = team2['Season']\n",
    "\n",
    "        # Store the name and season of the predicted winner\n",
    "        predicted_winners_info[predicted_winner_teamname] = predicted_winner_season\n",
    "\n",
    "        # Increment the number of wins for the predicted winner\n",
    "        if predicted_winner_teamname in wins_count:\n",
    "            wins_count[predicted_winner_teamname] += 1\n",
    "        else:\n",
    "            wins_count[predicted_winner_teamname] = 1\n",
    "\n",
    "# Get the team with the most wins in the matchups\n",
    "most_wins_winner = max(wins_count, key=wins_count.get)\n",
    "most_wins_count = wins_count[most_wins_winner]\n",
    "\n",
    "most_wins_winner_season = predicted_winners_info[most_wins_winner]\n",
    "\n",
    "# Print the results\n",
    "print(\"The team with the Most Wins:\", most_wins_winner, \"(\", most_wins_winner_season, \")\")\n",
    "print(\"They won\", most_wins_count, \"games\")"
   ]
  }
 ],
 "metadata": {
  "kernelspec": {
   "display_name": "Python 3",
   "language": "python",
   "name": "python3"
  },
  "language_info": {
   "codemirror_mode": {
    "name": "ipython",
    "version": 3
   },
   "file_extension": ".py",
   "mimetype": "text/x-python",
   "name": "python",
   "nbconvert_exporter": "python",
   "pygments_lexer": "ipython3",
   "version": "3.9.7"
  }
 },
 "nbformat": 4,
 "nbformat_minor": 2
}
