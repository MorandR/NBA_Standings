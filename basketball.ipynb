{
 "cells": [
  {
   "cell_type": "markdown",
   "metadata": {},
   "source": [
    "# NBA Tournament\n"
   ]
  },
  {
   "cell_type": "markdown",
   "metadata": {},
   "source": [
    "## Table of Contents\n",
    "\n",
    "- Introduction\n",
    "- Data: Collection, Cleaning and Preprocessing\n",
    "- Machine Learning\n",
    "- NBA Tournament\n",
    "- Conclusion\n"
   ]
  },
  {
   "cell_type": "markdown",
   "metadata": {},
   "source": [
    "### Introduction\n",
    "\n",
    "This project stems from a [ proposed project ] developed for a Machine Learning course, using Supervised Learning. I will attempt to gain better results and try out different models to establish a well defined tournament.\n",
    "Previously, I used features intented to aid in winning a game such as Block, Steal, Rebound, etc. Logistic and linear regression were the only models used to make these winning prediction. <br/>\n",
    "For this project, I will add more features and experiment with more regression models while using a more and advanced data to create an efficient model to predict the winner of team match ups, using data extracted from [NBA Site](https://www.nba.com)\n",
    "\n",
    "<font color=red>Note:</font> [Selenium](https://selenium-python.readthedocs.io/installation.html) was used to retreive the source data. <br/>\n",
    "This notebook contains interactive graphs which may require you to install a few dependencies. Graph images are displayed below the respected cell to view without running the program.\n"
   ]
  },
  {
   "cell_type": "markdown",
   "metadata": {},
   "source": [
    "### Data\n"
   ]
  },
  {
   "cell_type": "markdown",
   "metadata": {},
   "source": [
    "#### Collection [Selenium]\n",
    "\n",
    "Below is the Selenium code used to retreive the our listings\n",
    "Here we are going to extract the basketball seasons from the [NBA Site](https://www.nba.com/stats/teams/boxscores-traditional)\n"
   ]
  },
  {
   "cell_type": "code",
   "execution_count": 1,
   "metadata": {},
   "outputs": [],
   "source": [
    "# Importing all neccesary packages\n",
    "from selenium import webdriver\n",
    "from selenium.webdriver.common.by import By\n",
    "from selenium.webdriver.support.ui import Select\n",
    "from selenium.webdriver.support.ui import WebDriverWait\n",
    "from selenium.webdriver.support import expected_conditions as EC\n",
    "from selenium.common.exceptions import ElementClickInterceptedException as ECIE, NoSuchElementException as NSEE, StaleElementReferenceException as SERE, TimeoutException as TE, ElementNotInteractableException as ENIE\n",
    "\n",
    "from openpyxl import Workbook, load_workbook\n",
    "from buckets import dimes\n",
    "import time\n",
    "import re"
   ]
  },
  {
   "cell_type": "code",
   "execution_count": 4,
   "metadata": {},
   "outputs": [],
   "source": [
    "import pandas as pd\n",
    "import numpy as np\n",
    "import random"
   ]
  },
  {
   "cell_type": "markdown",
   "metadata": {},
   "source": [
    "##### Table Collection & Organization\n"
   ]
  },
  {
   "cell_type": "code",
   "execution_count": null,
   "metadata": {},
   "outputs": [],
   "source": [
    "# Webdriver: Chrome | Site: NBA site\n",
    "\n",
    "driver = webdriver.Chrome()\n",
    "# url = \"https://www.nba.com/stats/teams/boxscores-traditional\"\n",
    "# driver.get(url)\n"
   ]
  },
  {
   "cell_type": "code",
   "execution_count": null,
   "metadata": {},
   "outputs": [],
   "source": [
    "# Create an Excel to begin data transfer\n",
    "wb = Workbook()\n",
    "wb.save('nba_box_scores.xlsx')\n",
    "ws = wb.active\n",
    "dfs = []"
   ]
  },
  {
   "cell_type": "code",
   "execution_count": null,
   "metadata": {},
   "outputs": [],
   "source": [
    "# Dictionary created from NBA Glossary\n",
    "driver.execute_script(\"window.scrollTo(0,300)\")\n",
    "\n",
    "glossary_bttn = WebDriverWait(driver, 10).until(EC.element_to_be_clickable(driver.find_element(By.CLASS_NAME, \"Crom_cromGlossary__ZHrZf\")))\n",
    "glossary_bttn.click() # View Glossary\n",
    "\n",
    "abbr_list = {}\n",
    "\n",
    "abbrs = driver.find_elements(By.CLASS_NAME, \"StatsTableGlossary_dt__GPooh\") # Abbr\n",
    "defs = driver.find_elements(By.CLASS_NAME, \"StatsTableGlossary_dd__zcr38\") # defs\n",
    "\n",
    "for idx, ab in enumerate(abbrs):\n",
    "    abbr_list[ab.text] = defs[idx].text\n",
    "\n",
    "glossary_bttn.click() # Close Glossary\n"
   ]
  },
  {
   "cell_type": "code",
   "execution_count": null,
   "metadata": {},
   "outputs": [],
   "source": [
    "# Capture all seasons in the list from web page\n",
    "season_drpdwn = Select(driver.find_element(By.CLASS_NAME,\"DropDown_select__4pIg9\"))\n",
    "seasons_arr = [sn.text for sn in season_drpdwn.options]\n",
    "xpath_table = dimes.get('XPATH_TABLE')"
   ]
  },
  {
   "cell_type": "code",
   "execution_count": null,
   "metadata": {},
   "outputs": [],
   "source": [
    "# Ensure table is retrieved from 'Regular Season' Games\n",
    "ssn_type_drpdwn = driver.find_element(By.XPATH,'//*[@id=\"__next\"]/div[2]/div[2]/div[3]/section[1]/div/div/div[2]/label/div')\n",
    "ssn_type = Select(driver.find_element(By.XPATH, '//*[@id=\"__next\"]/div[2]/div[2]/div[3]/section[1]/div/div/div[2]/label/div/select'))\n",
    "ssn_type.select_by_visible_text(\"Regular Season\")\n"
   ]
  },
  {
   "cell_type": "code",
   "execution_count": null,
   "metadata": {},
   "outputs": [],
   "source": [
    "# Extact, Manipulate and Insert Seasons' table into  Excel\n",
    "\n",
    "def assign_names(matches, teams, sn, df):\n",
    "        \n",
    "    print(f'Made it in for Season: {sn} with shape {df.shape}')\n",
    "\n",
    "    # print(len(matches), '\\n', len(teams), '\\n', sn, '\\n', df.shape) \n",
    "    team_names = []\n",
    "    opp_names = []\n",
    "    opp_abbrs = []\n",
    "\n",
    "    # Assign names to team and opponent Series respectfully\n",
    "    for i,match in enumerate(matches):\n",
    "\n",
    "        team_abbr = re.split((r'vs. | @'),match)[0].rstrip()\n",
    "        opp_abbr = re.split((r'vs. | @'),match)[1].lstrip()\n",
    "\n",
    "        if team_abbr in teams:\n",
    "            team_names.append(teams[team_abbr])\n",
    "        if opp_abbr in teams:\n",
    "            opp_names.append(teams[opp_abbr])\n",
    "            opp_abbrs.append(opp_abbr)    \n",
    "\n",
    "    df.insert(1, 'TEAM', team_names)\n",
    "    df.insert(2, 'OPP ABBR', opp_abbrs)\n",
    "    df.insert(3, 'OPPONENT', opp_names)\n",
    "    df.insert(4, \"SEASON\", sn)\n",
    "    \n",
    "    team_names.clear()\n",
    "    opp_abbrs.clear()\n",
    "    opp_names.clear()\n",
    "\n",
    "    \n",
    "    return df\n"
   ]
  },
  {
   "cell_type": "code",
   "execution_count": null,
   "metadata": {},
   "outputs": [],
   "source": [
    "# Driver Code\n",
    "\n",
    "xpath_pages = dimes.get('XPATH_PAGES')\n",
    "teams = {}\n",
    "\n",
    "for i, sn in enumerate(seasons_arr):\n",
    "\n",
    "\n",
    "    try:\n",
    "\n",
    "        ad = WebDriverWait(driver,10).until(EC.presence_of_element_located((By.CLASS_NAME, 'bx-close-xsvg'))).click()\n",
    "        cookie = WebDriverWait(driver,10).until(EC.presence_of_element_located((By.XPATH, '/html/body/div[3]/div[2]/div/div[1]/div/div[2]/div/button'))).click()\n",
    "\n",
    "        season_drpdwn = Select(driver.find_element(By.CLASS_NAME,\"DropDown_select__4pIg9\"))\n",
    "        season_drpdwn.select_by_visible_text(sn)\n",
    "        print(sn)\n",
    "\n",
    "        page_drpdown = driver.find_element(By.CLASS_NAME, \"Pagination_pageDropdown__KgjBU\")\n",
    "        time.sleep(2)\n",
    "\n",
    "        pages = Select(driver.find_element(By.XPATH, xpath_pages))\n",
    "        pages.select_by_visible_text(\"All\")\n",
    "\n",
    "    except:\n",
    "\n",
    "        season_drpdwn = Select(driver.find_element(By.CLASS_NAME,\"DropDown_select__4pIg9\"))\n",
    "        season_drpdwn.select_by_visible_text(sn)\n",
    "        print(sn)\n",
    "\n",
    "        page_drpdown = driver.find_element(By.CLASS_NAME, \"Pagination_pageDropdown__KgjBU\")\n",
    "        time.sleep(2)\n",
    "\n",
    "        pages = Select(driver.find_element(By.XPATH, xpath_pages))\n",
    "        pages.select_by_visible_text(\"All\")\n",
    "        time.sleep(2)\n",
    "\n",
    "    table = WebDriverWait(driver, 10).until(EC.visibility_of_element_located((By.XPATH, xpath_table))).get_attribute(\"outerHTML\")\n",
    "    sub_df = pd.read_html(table)[0]\n",
    "    sub_df.dropna(how='all', axis=1, inplace=True)\n",
    "    sub_df = sub_df.rename(columns={'TEAM': 'TEAM ABBR'})    \n",
    "    all_teams = sub_df['TEAM ABBR'].unique()\n",
    "\n",
    "    matches = sub_df['MATCH UP']\n",
    "    \n",
    "    print(f'Number of Teams this Season: {len(all_teams)}')\n",
    "    # print(sub_df)\n",
    "\n",
    "    if all(ele in teams for ele in all_teams): # Assign existing names to Abbreviations\n",
    "\n",
    "        new_df = assign_names(matches, teams, sn, sub_df)\n",
    "        dfs.append(new_df)\n",
    "\n",
    "        # Append each Season's table into Excel file\n",
    "        with pd.ExcelWriter(path='nba_box_scores.xlsx', engine='openpyxl', mode='a', if_sheet_exists='replace') as writer:\n",
    "            new_df.to_excel(writer, sheet_name= sn, index=False, header=True)\n",
    "    \n",
    "    else:\n",
    "        # Get all names missing from the teams list\n",
    "        # Handle all possible exceptions \n",
    "        \n",
    "        missing_teams = [t for t in all_teams if t not in teams]\n",
    "        print(missing_teams)\n",
    "        for team in missing_teams:\n",
    "        \n",
    "            try:\n",
    "                if team == 'ORL':\n",
    "                    teams[team] = 'ORLANDO MAGIC'\n",
    "                else:\n",
    "                    linked_text = WebDriverWait(driver,2).until(EC.presence_of_element_located((By.LINK_TEXT, team)))\n",
    "                    linked_text.click()\n",
    "                    teams[team] = (driver.find_element(By.CLASS_NAME, 'TeamHeader_name__MmHlP').text).replace('\\n','')\n",
    "                    driver.execute_script(\"window.history.go(-1)\") # go back a page\n",
    "                    time.sleep(2)\n",
    "                print(f'{team} Cleared!')\n",
    "        \n",
    "\n",
    "            except ECIE: # Overlay may be blocking focused elements\n",
    "                print('Entered ECIE: Element Click Intercepted Exception')\n",
    "                print(f'Nope!! Trying to capture {team} again')\n",
    "                ad = WebDriverWait(driver,10).until(EC.presence_of_element_located((By.CLASS_NAME, 'bx-close-xsvg'))).click()\n",
    "                cookie = WebDriverWait(driver,10).until(EC.presence_of_element_located((By.XPATH, '/html/body/div[3]/div[2]/div/div[1]/div/div[2]/div/button'))).click()\n",
    "\n",
    "\n",
    "                driver.find_element(By.LINK_TEXT, team).click()\n",
    "                teams[team] = (driver.find_element(By.CLASS_NAME, 'TeamHeader_name__MmHlP').text).replace('\\n','')\n",
    "                driver.execute_script(\"window.history.go(-1)\") # go back a page\n",
    "                time.sleep(2)\n",
    "                print(f'{team} Cleared!')\n",
    "\n",
    "            except NSEE: # Element doesn't exist. \n",
    "                print('Entered NSSE: No Such Element Exception')\n",
    "                time.sleep(1)\n",
    "                ad = WebDriverWait(driver,20).until(EC.presence_of_element_located((By.CLASS_NAME, 'bx-close-xsvg'))).click()\n",
    "\n",
    "                page_drpdown = driver.find_element(By.CLASS_NAME, \"Pagination_pageDropdown__KgjBU\")\n",
    "                time.sleep(1.5)\n",
    "\n",
    "                pages = Select(driver.find_element(By.XPATH, xpath_pages))\n",
    "                pages.select_by_visible_text(\"All\")\n",
    "\n",
    "                driver.find_element(By.LINK_TEXT, team).click()\n",
    "                teams[team] = (driver.find_element(By.CLASS_NAME, 'TeamHeader_name__MmHlP').text).replace('\\n','')\n",
    "                driver.execute_script(\"window.history.go(-1)\") # go back a page\n",
    "                time.sleep(2)\n",
    "                print(f'{team} Cleared!')\n",
    "            \n",
    "            except TE: \n",
    "                print('Entered TE: Timeout Exception')\n",
    "                ad = WebDriverWait(driver,20).until(EC.presence_of_element_located((By.CLASS_NAME, 'bx-close-xsvg'))).click()\n",
    "\n",
    "                print(f'Trying to capture {team} again')\n",
    "\n",
    "                page_drpdown = driver.find_element(By.CLASS_NAME, \"Pagination_pageDropdown__KgjBU\")\n",
    "                time.sleep(1.5)\n",
    "\n",
    "                pages = Select(driver.find_element(By.XPATH, xpath_pages))\n",
    "                pages.select_by_visible_text(\"All\")\n",
    "\n",
    "                driver.find_element(By.LINK_TEXT, team).click()\n",
    "                teams[team] = (driver.find_element(By.CLASS_NAME, 'TeamHeader_name__MmHlP').text).replace('\\n','')\n",
    "                driver.execute_script(\"window.history.go(-1)\") # go back a page\n",
    "                time.sleep(2)\n",
    "                print(f'{team} Cleared!')\n",
    "                continue\n",
    "\n",
    "            except SERE:\n",
    "                print('Entered SERE: Stale Element Reference Exception')\n",
    "\n",
    "                page_drpdown = driver.find_element(By.CLASS_NAME, \"Pagination_pageDropdown__KgjBU\")\n",
    "                time.sleep(2)\n",
    "\n",
    "                pages = Select(driver.find_element(By.XPATH, xpath_pages))\n",
    "                pages.select_by_visible_text(\"All\")\n",
    "\n",
    "                driver.find_element(By.LINK_TEXT, team).click()\n",
    "                teams[team] = (driver.find_element(By.CLASS_NAME, 'TeamHeader_name__MmHlP').text).replace('\\n','')\n",
    "                driver.execute_script(\"window.history.go(-1)\") # go back a page\n",
    "                time.sleep(2)\n",
    "                print(f'{team} Cleared!')\n",
    "\n",
    "            except ENIE:\n",
    "                print('Entered ENIE: Element Not Interactable Exception')\n",
    "                ad = WebDriverWait(driver,20).until(EC.presence_of_element_located((By.CLASS_NAME, 'bx-close-xsvg'))).click()\n",
    "\n",
    "                page_drpdown = driver.find_element(By.CLASS_NAME, \"Pagination_pageDropdown__KgjBU\")\n",
    "                time.sleep(1.5)\n",
    "\n",
    "                pages = Select(driver.find_element(By.XPATH, xpath_pages))\n",
    "                pages.select_by_visible_text(\"All\")\n",
    "\n",
    "                driver.find_element(By.LINK_TEXT, team).click()\n",
    "                teams[team] = (driver.find_element(By.CLASS_NAME, 'TeamHeader_name__MmHlP').text).replace('\\n','')\n",
    "                driver.execute_script(\"window.history.go(-1)\") # go back a page\n",
    "                time.sleep(2)\n",
    "                print(f'{team} Cleared!')\n",
    "\n",
    "        new_df = assign_names(matches, teams, sn, sub_df)\n",
    "        dfs.append(new_df)\n",
    "\n",
    "        with pd.ExcelWriter(path='nba_box_scores.xlsx', engine='openpyxl', mode='a', if_sheet_exists='replace') as writer:\n",
    "            new_df.to_excel(writer, sheet_name= sn, index=False, header=True)\n",
    "        \n"
   ]
  },
  {
   "cell_type": "code",
   "execution_count": null,
   "metadata": {},
   "outputs": [],
   "source": [
    "# Combine all tables for DataFrame\n",
    "df = pd.concat([x for x in dfs], ignore_index=True)"
   ]
  },
  {
   "cell_type": "markdown",
   "metadata": {},
   "source": [
    "##### url for REGION feature.\n"
   ]
  },
  {
   "cell_type": "code",
   "execution_count": 12,
   "metadata": {},
   "outputs": [],
   "source": [
    "# Selenium part\n",
    "\n",
    "url2 = 'https://www.nba.com/stats/teams'\n",
    "driver.get(url2)\n",
    "\n",
    "region_list = driver.find_elements(By.CLASS_NAME, 'StatsTeamsList_division__ZUezr')"
   ]
  },
  {
   "cell_type": "code",
   "execution_count": 13,
   "metadata": {},
   "outputs": [],
   "source": [
    "# Assigning to REGION df\n",
    "group = []\n",
    "\n",
    "# Region: Atlantic, Central, Southeast, Northwest, Pacific, Southwest\n",
    "for region in region_list:\n",
    "    rgn = region.text.split('\\n')\n",
    "    group.append(rgn)\n",
    "\n",
    "region_headers = [rh.pop(0) for rh in group]\n",
    "group = np.array(group).T # Transpose\n",
    "group = np.char.upper(group) # Turn all into CAPS\n",
    "\n",
    "region_df = pd.DataFrame(\n",
    "    data = group,\n",
    "    columns=region_headers\n",
    ")\n",
    "\n",
    "region_df.to_csv('nba_regions.csv', index=False)"
   ]
  },
  {
   "cell_type": "markdown",
   "metadata": {},
   "source": [
    "##### url for CONFERENCE feature.\n"
   ]
  },
  {
   "cell_type": "code",
   "execution_count": 14,
   "metadata": {},
   "outputs": [],
   "source": [
    "# Selenium part\n",
    "\n",
    "url3 = 'https://www.nba.com/standings'\n",
    "driver.get(url3)\n",
    "confs = driver.find_elements(By.CLASS_NAME, 'Crom_base__f0niE')\n",
    "division = driver.find_elements(By.CLASS_NAME, 'Crom_caption__Yv_rH')"
   ]
  },
  {
   "cell_type": "code",
   "execution_count": null,
   "metadata": {},
   "outputs": [],
   "source": [
    "# Assigning to CONF. df\n",
    "dvsn = [] \n",
    "conf_groups = []\n",
    "\n",
    "for conf in confs: # East | West Confs\n",
    "    dvsn.append(re.split(r'\\n',conf.text)[0].upper())\n",
    "    lists = re.split(r'\\n',conf.text)\n",
    "    c_names = []\n",
    "\n",
    "    for idx,each in enumerate(lists):\n",
    "    \n",
    "        if re.search(r'^\\d{1,2}$',each) != None:\n",
    "            joint_tn = ''.join([lists[idx+1], lists[idx+2]]).upper()\n",
    "            # print(joint_tn)\n",
    "            c_names.append(joint_tn)\n",
    "\n",
    "    conf_groups.append(c_names)\n",
    "\n",
    "conf_groups = np.array(conf_groups).T\n",
    "\n",
    "\n",
    "\n",
    "conf_df = pd.DataFrame(\n",
    "    data=conf_groups,\n",
    "    columns= dvsn\n",
    ")\n",
    "\n",
    "conf_df.to_csv('nba_standing.csv', index=False)"
   ]
  },
  {
   "cell_type": "code",
   "execution_count": null,
   "metadata": {},
   "outputs": [],
   "source": [
    "# Append Region and Conference to established DataFrame\n",
    "\n",
    "sides = [] # Conference list\n",
    "areas = [] # Region list\n",
    "\n",
    "for each in df['TEAM']:   \n",
    "\n",
    "\t# Handle Conference Column\n",
    "\tfor col in conf_df:\n",
    "\t\tif each in conf_df[col].values:\n",
    "\t\t\tsides.append(col.split(\" \")[0]) # Apply 'EASTERN' | 'WESTERN'\n",
    "\n",
    "\t# Handle Region Column\n",
    "\tfor col in region_df:\n",
    "\t\tif each in region_df[col].values:\n",
    "\t\t\tareas.append(col)\n",
    "\n",
    "\n",
    "df['CONFERENCE'] = sides\n",
    "\n",
    "# Special Case: Filters the sub df with NOP  in SEASON < 2004-05 and mark it EASTERN CONFERENCE  \n",
    "# Since this created 2 seperate conference for NOP, it would make the Conferences unbalanced; Keep as WESTERN\n",
    "# df.loc[(df['SEASON'] < '2004-05') & (df['TEAM'] == 'NEW ORLEANS PELICANS'), 'CONFERENCE'] = 'EASTERN'\n",
    "\n",
    "\n",
    "for each in df['TEAM']:\n",
    "\tfor col in region_df:\n",
    "\t\tif each in region_df[col].values:\n",
    "\t\t\tareas.append(col)\n",
    "\n",
    "\n",
    "\n",
    "\n",
    "df['REGION'] = areas"
   ]
  },
  {
   "cell_type": "code",
   "execution_count": null,
   "metadata": {},
   "outputs": [],
   "source": [
    "# Export df to Files\n",
    "\n",
    "with pd.ExcelWriter(path='nba_box_scores.xlsx', engine='openpyxl', mode='a', if_sheet_exists='replace') as writer:\n",
    "    df.to_excel(writer, sheet_name= 'Sheet', index=False, header=True)\n",
    "\n",
    "df.to_csv('nba_box_scores.csv', index=False)"
   ]
  },
  {
   "cell_type": "code",
   "execution_count": null,
   "metadata": {},
   "outputs": [],
   "source": [
    "\n",
    "# Close all opened files and systems\n",
    "wb.close()\n",
    "driver.close()"
   ]
  },
  {
   "cell_type": "markdown",
   "metadata": {},
   "source": [
    "#### Cleaning & Processing\n",
    "\n",
    "Now we're going to:\n",
    "\n",
    "- Read data from previously exported csv file\n",
    "- Normalize the data to condense the distribution\n",
    "- Update Team Abbreviations to its' lastest of today\n"
   ]
  },
  {
   "cell_type": "code",
   "execution_count": 5,
   "metadata": {},
   "outputs": [],
   "source": [
    "# Read data\n",
    "full_df = pd.read_csv('nba_box_scores.csv')"
   ]
  },
  {
   "cell_type": "code",
   "execution_count": null,
   "metadata": {},
   "outputs": [],
   "source": [
    "# Uncoment and run below if notebook did not run\n",
    "# df.loc[(df['SEASON'] < '2004-05') & (df['TEAM'] == 'NEW ORLEANS PELICANS'), 'CONFERENCE'] = 'WESTERN'\n"
   ]
  },
  {
   "cell_type": "code",
   "execution_count": 181,
   "metadata": {},
   "outputs": [
    {
     "data": {
      "text/html": [
       "<div>\n",
       "<style scoped>\n",
       "    .dataframe tbody tr th:only-of-type {\n",
       "        vertical-align: middle;\n",
       "    }\n",
       "\n",
       "    .dataframe tbody tr th {\n",
       "        vertical-align: top;\n",
       "    }\n",
       "\n",
       "    .dataframe thead th {\n",
       "        text-align: right;\n",
       "    }\n",
       "</style>\n",
       "<table border=\"1\" class=\"dataframe\">\n",
       "  <thead>\n",
       "    <tr style=\"text-align: right;\">\n",
       "      <th></th>\n",
       "      <th>TEAM ABBR</th>\n",
       "      <th>TEAM</th>\n",
       "      <th>OPP ABBR</th>\n",
       "      <th>OPPONENT</th>\n",
       "      <th>SEASON</th>\n",
       "      <th>MATCH UP</th>\n",
       "      <th>GAME DATE</th>\n",
       "      <th>W/L</th>\n",
       "      <th>MIN</th>\n",
       "      <th>PTS</th>\n",
       "      <th>...</th>\n",
       "      <th>DREB</th>\n",
       "      <th>REB</th>\n",
       "      <th>AST</th>\n",
       "      <th>TOV</th>\n",
       "      <th>STL</th>\n",
       "      <th>BLK</th>\n",
       "      <th>PF</th>\n",
       "      <th>+/-</th>\n",
       "      <th>CONFERENCE</th>\n",
       "      <th>REGION</th>\n",
       "    </tr>\n",
       "  </thead>\n",
       "  <tbody>\n",
       "    <tr>\n",
       "      <th>0</th>\n",
       "      <td>NYK</td>\n",
       "      <td>NEW YORK KNICKS</td>\n",
       "      <td>CHI</td>\n",
       "      <td>CHICAGO BULLS</td>\n",
       "      <td>2023-24</td>\n",
       "      <td>NYK vs. CHI</td>\n",
       "      <td>4/14/24</td>\n",
       "      <td>W</td>\n",
       "      <td>53</td>\n",
       "      <td>120</td>\n",
       "      <td>...</td>\n",
       "      <td>37</td>\n",
       "      <td>53</td>\n",
       "      <td>27</td>\n",
       "      <td>21.0</td>\n",
       "      <td>7</td>\n",
       "      <td>6</td>\n",
       "      <td>17</td>\n",
       "      <td>1.0</td>\n",
       "      <td>EASTERN</td>\n",
       "      <td>ATLANTIC</td>\n",
       "    </tr>\n",
       "    <tr>\n",
       "      <th>1</th>\n",
       "      <td>CHA</td>\n",
       "      <td>CHARLOTTE HORNETS</td>\n",
       "      <td>CLE</td>\n",
       "      <td>CLEVELAND CAVALIERS</td>\n",
       "      <td>2023-24</td>\n",
       "      <td>CHA @ CLE</td>\n",
       "      <td>4/14/24</td>\n",
       "      <td>W</td>\n",
       "      <td>48</td>\n",
       "      <td>120</td>\n",
       "      <td>...</td>\n",
       "      <td>37</td>\n",
       "      <td>47</td>\n",
       "      <td>36</td>\n",
       "      <td>10.0</td>\n",
       "      <td>10</td>\n",
       "      <td>9</td>\n",
       "      <td>11</td>\n",
       "      <td>10.0</td>\n",
       "      <td>EASTERN</td>\n",
       "      <td>SOUTHEAST</td>\n",
       "    </tr>\n",
       "    <tr>\n",
       "      <th>2</th>\n",
       "      <td>POR</td>\n",
       "      <td>PORTLAND TRAIL BLAZERS</td>\n",
       "      <td>SAC</td>\n",
       "      <td>SACRAMENTO KINGS</td>\n",
       "      <td>2023-24</td>\n",
       "      <td>POR @ SAC</td>\n",
       "      <td>4/14/24</td>\n",
       "      <td>L</td>\n",
       "      <td>48</td>\n",
       "      <td>82</td>\n",
       "      <td>...</td>\n",
       "      <td>31</td>\n",
       "      <td>54</td>\n",
       "      <td>18</td>\n",
       "      <td>18.0</td>\n",
       "      <td>11</td>\n",
       "      <td>2</td>\n",
       "      <td>19</td>\n",
       "      <td>-39.0</td>\n",
       "      <td>WESTERN</td>\n",
       "      <td>NORTHWEST</td>\n",
       "    </tr>\n",
       "    <tr>\n",
       "      <th>3</th>\n",
       "      <td>HOU</td>\n",
       "      <td>HOUSTON ROCKETS</td>\n",
       "      <td>LAC</td>\n",
       "      <td>LA CLIPPERS</td>\n",
       "      <td>2023-24</td>\n",
       "      <td>HOU @ LAC</td>\n",
       "      <td>4/14/24</td>\n",
       "      <td>W</td>\n",
       "      <td>48</td>\n",
       "      <td>116</td>\n",
       "      <td>...</td>\n",
       "      <td>42</td>\n",
       "      <td>59</td>\n",
       "      <td>31</td>\n",
       "      <td>18.0</td>\n",
       "      <td>7</td>\n",
       "      <td>8</td>\n",
       "      <td>13</td>\n",
       "      <td>11.0</td>\n",
       "      <td>WESTERN</td>\n",
       "      <td>SOUTHWEST</td>\n",
       "    </tr>\n",
       "    <tr>\n",
       "      <th>4</th>\n",
       "      <td>MIL</td>\n",
       "      <td>MILWAUKEE BUCKS</td>\n",
       "      <td>ORL</td>\n",
       "      <td>ORLANDO MAGIC</td>\n",
       "      <td>2023-24</td>\n",
       "      <td>MIL @ ORL</td>\n",
       "      <td>4/14/24</td>\n",
       "      <td>L</td>\n",
       "      <td>48</td>\n",
       "      <td>88</td>\n",
       "      <td>...</td>\n",
       "      <td>27</td>\n",
       "      <td>34</td>\n",
       "      <td>16</td>\n",
       "      <td>17.0</td>\n",
       "      <td>10</td>\n",
       "      <td>4</td>\n",
       "      <td>18</td>\n",
       "      <td>-25.0</td>\n",
       "      <td>EASTERN</td>\n",
       "      <td>CENTRAL</td>\n",
       "    </tr>\n",
       "    <tr>\n",
       "      <th>...</th>\n",
       "      <td>...</td>\n",
       "      <td>...</td>\n",
       "      <td>...</td>\n",
       "      <td>...</td>\n",
       "      <td>...</td>\n",
       "      <td>...</td>\n",
       "      <td>...</td>\n",
       "      <td>...</td>\n",
       "      <td>...</td>\n",
       "      <td>...</td>\n",
       "      <td>...</td>\n",
       "      <td>...</td>\n",
       "      <td>...</td>\n",
       "      <td>...</td>\n",
       "      <td>...</td>\n",
       "      <td>...</td>\n",
       "      <td>...</td>\n",
       "      <td>...</td>\n",
       "      <td>...</td>\n",
       "      <td>...</td>\n",
       "      <td>...</td>\n",
       "    </tr>\n",
       "    <tr>\n",
       "      <th>66167</th>\n",
       "      <td>PHI</td>\n",
       "      <td>PHILADELPHIA 76ERS</td>\n",
       "      <td>MIL</td>\n",
       "      <td>MILWAUKEE BUCKS</td>\n",
       "      <td>1996-97</td>\n",
       "      <td>PHI vs. MIL</td>\n",
       "      <td>11/1/96</td>\n",
       "      <td>L</td>\n",
       "      <td>48</td>\n",
       "      <td>103</td>\n",
       "      <td>...</td>\n",
       "      <td>26</td>\n",
       "      <td>40</td>\n",
       "      <td>25</td>\n",
       "      <td>14.0</td>\n",
       "      <td>6</td>\n",
       "      <td>4</td>\n",
       "      <td>29</td>\n",
       "      <td>-8.0</td>\n",
       "      <td>EASTERN</td>\n",
       "      <td>ATLANTIC</td>\n",
       "    </tr>\n",
       "    <tr>\n",
       "      <th>66168</th>\n",
       "      <td>UTA</td>\n",
       "      <td>UTAH JAZZ</td>\n",
       "      <td>SEA</td>\n",
       "      <td>OKLAHOMA CITY THUNDER</td>\n",
       "      <td>1996-97</td>\n",
       "      <td>UTA vs. SEA</td>\n",
       "      <td>11/1/96</td>\n",
       "      <td>W</td>\n",
       "      <td>48</td>\n",
       "      <td>99</td>\n",
       "      <td>...</td>\n",
       "      <td>32</td>\n",
       "      <td>43</td>\n",
       "      <td>26</td>\n",
       "      <td>9.0</td>\n",
       "      <td>7</td>\n",
       "      <td>6</td>\n",
       "      <td>27</td>\n",
       "      <td>8.0</td>\n",
       "      <td>WESTERN</td>\n",
       "      <td>NORTHWEST</td>\n",
       "    </tr>\n",
       "    <tr>\n",
       "      <th>66169</th>\n",
       "      <td>NYK</td>\n",
       "      <td>NEW YORK KNICKS</td>\n",
       "      <td>TOR</td>\n",
       "      <td>TORONTO RAPTORS</td>\n",
       "      <td>1996-97</td>\n",
       "      <td>NYK @ TOR</td>\n",
       "      <td>11/1/96</td>\n",
       "      <td>W</td>\n",
       "      <td>48</td>\n",
       "      <td>107</td>\n",
       "      <td>...</td>\n",
       "      <td>33</td>\n",
       "      <td>44</td>\n",
       "      <td>23</td>\n",
       "      <td>24.0</td>\n",
       "      <td>15</td>\n",
       "      <td>5</td>\n",
       "      <td>29</td>\n",
       "      <td>8.0</td>\n",
       "      <td>EASTERN</td>\n",
       "      <td>ATLANTIC</td>\n",
       "    </tr>\n",
       "    <tr>\n",
       "      <th>66170</th>\n",
       "      <td>SEA</td>\n",
       "      <td>OKLAHOMA CITY THUNDER</td>\n",
       "      <td>UTA</td>\n",
       "      <td>UTAH JAZZ</td>\n",
       "      <td>1996-97</td>\n",
       "      <td>SEA @ UTA</td>\n",
       "      <td>11/1/96</td>\n",
       "      <td>L</td>\n",
       "      <td>48</td>\n",
       "      <td>91</td>\n",
       "      <td>...</td>\n",
       "      <td>34</td>\n",
       "      <td>46</td>\n",
       "      <td>16</td>\n",
       "      <td>12.0</td>\n",
       "      <td>6</td>\n",
       "      <td>6</td>\n",
       "      <td>26</td>\n",
       "      <td>-8.0</td>\n",
       "      <td>WESTERN</td>\n",
       "      <td>NORTHWEST</td>\n",
       "    </tr>\n",
       "    <tr>\n",
       "      <th>66171</th>\n",
       "      <td>NJN</td>\n",
       "      <td>BROOKLYN NETS</td>\n",
       "      <td>CLE</td>\n",
       "      <td>CLEVELAND CAVALIERS</td>\n",
       "      <td>1996-97</td>\n",
       "      <td>NJN vs. CLE</td>\n",
       "      <td>11/1/96</td>\n",
       "      <td>L</td>\n",
       "      <td>48</td>\n",
       "      <td>77</td>\n",
       "      <td>...</td>\n",
       "      <td>24</td>\n",
       "      <td>35</td>\n",
       "      <td>13</td>\n",
       "      <td>22.0</td>\n",
       "      <td>7</td>\n",
       "      <td>7</td>\n",
       "      <td>19</td>\n",
       "      <td>-13.0</td>\n",
       "      <td>EASTERN</td>\n",
       "      <td>ATLANTIC</td>\n",
       "    </tr>\n",
       "  </tbody>\n",
       "</table>\n",
       "<p>66172 rows × 30 columns</p>\n",
       "</div>"
      ],
      "text/plain": [
       "      TEAM ABBR                    TEAM OPP ABBR               OPPONENT  \\\n",
       "0           NYK         NEW YORK KNICKS      CHI          CHICAGO BULLS   \n",
       "1           CHA       CHARLOTTE HORNETS      CLE    CLEVELAND CAVALIERS   \n",
       "2           POR  PORTLAND TRAIL BLAZERS      SAC       SACRAMENTO KINGS   \n",
       "3           HOU         HOUSTON ROCKETS      LAC            LA CLIPPERS   \n",
       "4           MIL         MILWAUKEE BUCKS      ORL          ORLANDO MAGIC   \n",
       "...         ...                     ...      ...                    ...   \n",
       "66167       PHI      PHILADELPHIA 76ERS      MIL        MILWAUKEE BUCKS   \n",
       "66168       UTA               UTAH JAZZ      SEA  OKLAHOMA CITY THUNDER   \n",
       "66169       NYK         NEW YORK KNICKS      TOR        TORONTO RAPTORS   \n",
       "66170       SEA   OKLAHOMA CITY THUNDER      UTA              UTAH JAZZ   \n",
       "66171       NJN           BROOKLYN NETS      CLE    CLEVELAND CAVALIERS   \n",
       "\n",
       "        SEASON     MATCH UP GAME DATE W/L  MIN  PTS  ...  DREB  REB  AST  \\\n",
       "0      2023-24  NYK vs. CHI   4/14/24   W   53  120  ...    37   53   27   \n",
       "1      2023-24    CHA @ CLE   4/14/24   W   48  120  ...    37   47   36   \n",
       "2      2023-24    POR @ SAC   4/14/24   L   48   82  ...    31   54   18   \n",
       "3      2023-24    HOU @ LAC   4/14/24   W   48  116  ...    42   59   31   \n",
       "4      2023-24    MIL @ ORL   4/14/24   L   48   88  ...    27   34   16   \n",
       "...        ...          ...       ...  ..  ...  ...  ...   ...  ...  ...   \n",
       "66167  1996-97  PHI vs. MIL   11/1/96   L   48  103  ...    26   40   25   \n",
       "66168  1996-97  UTA vs. SEA   11/1/96   W   48   99  ...    32   43   26   \n",
       "66169  1996-97    NYK @ TOR   11/1/96   W   48  107  ...    33   44   23   \n",
       "66170  1996-97    SEA @ UTA   11/1/96   L   48   91  ...    34   46   16   \n",
       "66171  1996-97  NJN vs. CLE   11/1/96   L   48   77  ...    24   35   13   \n",
       "\n",
       "        TOV  STL  BLK  PF   +/-  CONFERENCE     REGION  \n",
       "0      21.0    7    6  17   1.0     EASTERN   ATLANTIC  \n",
       "1      10.0   10    9  11  10.0     EASTERN  SOUTHEAST  \n",
       "2      18.0   11    2  19 -39.0     WESTERN  NORTHWEST  \n",
       "3      18.0    7    8  13  11.0     WESTERN  SOUTHWEST  \n",
       "4      17.0   10    4  18 -25.0     EASTERN    CENTRAL  \n",
       "...     ...  ...  ...  ..   ...         ...        ...  \n",
       "66167  14.0    6    4  29  -8.0     EASTERN   ATLANTIC  \n",
       "66168   9.0    7    6  27   8.0     WESTERN  NORTHWEST  \n",
       "66169  24.0   15    5  29   8.0     EASTERN   ATLANTIC  \n",
       "66170  12.0    6    6  26  -8.0     WESTERN  NORTHWEST  \n",
       "66171  22.0    7    7  19 -13.0     EASTERN   ATLANTIC  \n",
       "\n",
       "[66172 rows x 30 columns]"
      ]
     },
     "execution_count": 181,
     "metadata": {},
     "output_type": "execute_result"
    }
   ],
   "source": [
    "full_df"
   ]
  },
  {
   "cell_type": "code",
   "execution_count": 6,
   "metadata": {},
   "outputs": [],
   "source": [
    "# Prepare name changes\n",
    "old_abbrs = [['NOH','NOK'], 'VAN', 'CHH', 'SEA', 'NJN' ]\n",
    "new_abbrs = ['NOP', 'MEM', 'CHA', 'OKC', 'BKN']\n",
    "\n",
    "for idx,abbr in enumerate(old_abbrs):\n",
    "    full_df = full_df.replace(abbr,new_abbrs[idx])\n",
    "\n",
    "team_abbr = full_df['TEAM ABBR'].unique()\n",
    "team_name = full_df['TEAM']\n",
    "teams = {}\n",
    "\n",
    "# Recreate teams Dictionary\n",
    "for each in team_abbr:\n",
    "    \n",
    "    indicies = list(np.where(full_df['TEAM ABBR'] == each))[0]\n",
    "    teams[each] = full_df['TEAM'].iloc[indicies[0]]    \n"
   ]
  },
  {
   "cell_type": "code",
   "execution_count": 7,
   "metadata": {},
   "outputs": [],
   "source": [
    "#Remove after project is completed\n",
    "full_df.loc[(full_df['SEASON'] < '2004-05') & (full_df['TEAM'] == 'NEW ORLEANS PELICANS'), 'CONFERENCE'] = 'WESTERN'\n"
   ]
  },
  {
   "cell_type": "markdown",
   "metadata": {},
   "source": [
    "##### Statistics Below\n"
   ]
  },
  {
   "cell_type": "code",
   "execution_count": 184,
   "metadata": {},
   "outputs": [
    {
     "name": "stdout",
     "output_type": "stream",
     "text": [
      "Size of Dataframe (66172, 30)\n"
     ]
    }
   ],
   "source": [
    "print(f\"Size of Dataframe {full_df.shape}\")\n"
   ]
  },
  {
   "cell_type": "code",
   "execution_count": 8,
   "metadata": {},
   "outputs": [],
   "source": [
    "# Sorted Team List for easier read\n",
    "from collections import OrderedDict\n",
    "\n",
    "sorted_teamsDict = OrderedDict(sorted(teams.items()))\n",
    "\n",
    "distinct_teams = sorted(full_df['TEAM'].unique())\n",
    "wins = []\n",
    "losses = []\n",
    "total = []\n",
    "win_rate = []\n",
    "\n",
    "for each in sorted_teamsDict:\n",
    "\n",
    "    win = sum(full_df[full_df['TEAM ABBR'] == each]['W/L'] == 'W') # CHANGE back to W\n",
    "    loss = sum(full_df[full_df['TEAM ABBR'] == each]['W/L'] == 'L') # CHANGE  back to L\n",
    "    wins.append(win)\n",
    "    losses.append(loss)\n",
    "    total.append(win+loss)\n",
    "    win_rate.append(round(win/(win+loss),2))\n",
    "\n",
    "bar_chart_df = pd.DataFrame(data={'WINS':wins, 'LOSSES':losses, 'TOTAL': total, 'WIN RATE':win_rate}, index=sorted_teamsDict.values())"
   ]
  },
  {
   "cell_type": "code",
   "execution_count": null,
   "metadata": {},
   "outputs": [],
   "source": [
    "# Bar Chart of Results from SEASONS 1996-2024\n",
    "bar_chart_df"
   ]
  },
  {
   "cell_type": "code",
   "execution_count": 13,
   "metadata": {},
   "outputs": [
    {
     "data": {
      "application/vnd.plotly.v1+json": {
       "config": {
        "plotlyServerURL": "https://plot.ly"
       },
       "data": [
        {
         "alignmentgroup": "True",
         "hovertemplate": "variable=LOSSES<br>index=%{x}<br>value=%{y}<extra></extra>",
         "legendgroup": "LOSSES",
         "marker": {
          "color": "#636efa",
          "pattern": {
           "shape": ""
          }
         },
         "name": "LOSSES",
         "offsetgroup": "LOSSES",
         "orientation": "v",
         "showlegend": true,
         "textposition": "auto",
         "texttemplate": "%{y}",
         "type": "bar",
         "x": [
          "ATLANTA HAWKS",
          "BROOKLYN NETS",
          "BOSTON CELTICS",
          "CHARLOTTE HORNETS",
          "CHICAGO BULLS",
          "CLEVELAND CAVALIERS",
          "DALLAS MAVERICKS",
          "DENVER NUGGETS",
          "DETROIT PISTONS",
          "GOLDEN STATE WARRIORS",
          "HOUSTON ROCKETS",
          "INDIANA PACERS",
          "LA CLIPPERS",
          "LOS ANGELES LAKERS",
          "MEMPHIS GRIZZLIES",
          "MIAMI HEAT",
          "MILWAUKEE BUCKS",
          "MINNESOTA TIMBERWOLVES",
          "NEW ORLEANS PELICANS",
          "NEW YORK KNICKS",
          "OKLAHOMA CITY THUNDER",
          "ORLANDO MAGIC",
          "PHILADELPHIA 76ERS",
          "PHOENIX SUNS",
          "PORTLAND TRAIL BLAZERS",
          "SACRAMENTO KINGS",
          "SAN ANTONIO SPURS",
          "TORONTO RAPTORS",
          "UTAH JAZZ",
          "WASHINGTON WIZARDS"
         ],
         "xaxis": "x",
         "y": [
          1180,
          1234,
          1015,
          1155,
          1154,
          1142,
          975,
          1091,
          1178,
          1130,
          1027,
          1035,
          1163,
          969,
          1246,
          955,
          1111,
          1225,
          937,
          1227,
          1011,
          1192,
          1163,
          1046,
          1067,
          1211,
          836,
          1153,
          968,
          1290
         ],
         "yaxis": "y"
        },
        {
         "alignmentgroup": "True",
         "hovertemplate": "variable=WINS<br>index=%{x}<br>value=%{y}<extra></extra>",
         "legendgroup": "WINS",
         "marker": {
          "color": "#EF553B",
          "pattern": {
           "shape": ""
          }
         },
         "name": "WINS",
         "offsetgroup": "WINS",
         "orientation": "v",
         "showlegend": true,
         "textposition": "auto",
         "texttemplate": "%{y}",
         "type": "bar",
         "x": [
          "ATLANTA HAWKS",
          "BROOKLYN NETS",
          "BOSTON CELTICS",
          "CHARLOTTE HORNETS",
          "CHICAGO BULLS",
          "CLEVELAND CAVALIERS",
          "DALLAS MAVERICKS",
          "DENVER NUGGETS",
          "DETROIT PISTONS",
          "GOLDEN STATE WARRIORS",
          "HOUSTON ROCKETS",
          "INDIANA PACERS",
          "LA CLIPPERS",
          "LOS ANGELES LAKERS",
          "MEMPHIS GRIZZLIES",
          "MIAMI HEAT",
          "MILWAUKEE BUCKS",
          "MINNESOTA TIMBERWOLVES",
          "NEW ORLEANS PELICANS",
          "NEW YORK KNICKS",
          "OKLAHOMA CITY THUNDER",
          "ORLANDO MAGIC",
          "PHILADELPHIA 76ERS",
          "PHOENIX SUNS",
          "PORTLAND TRAIL BLAZERS",
          "SACRAMENTO KINGS",
          "SAN ANTONIO SPURS",
          "TORONTO RAPTORS",
          "UTAH JAZZ",
          "WASHINGTON WIZARDS"
         ],
         "xaxis": "x",
         "y": [
          1043,
          994,
          1212,
          902,
          1067,
          1079,
          1256,
          1138,
          1044,
          1091,
          1201,
          1193,
          1065,
          1258,
          983,
          1274,
          1118,
          995,
          831,
          995,
          1217,
          1037,
          1066,
          1183,
          1163,
          1017,
          1391,
          1075,
          1260,
          938
         ],
         "yaxis": "y"
        }
       ],
       "layout": {
        "barmode": "stack",
        "height": 400,
        "legend": {
         "title": {
          "text": "Result"
         },
         "tracegroupgap": 0
        },
        "margin": {
         "t": 60
        },
        "template": {
         "data": {
          "bar": [
           {
            "error_x": {
             "color": "#2a3f5f"
            },
            "error_y": {
             "color": "#2a3f5f"
            },
            "marker": {
             "line": {
              "color": "#E5ECF6",
              "width": 0.5
             },
             "pattern": {
              "fillmode": "overlay",
              "size": 10,
              "solidity": 0.2
             }
            },
            "type": "bar"
           }
          ],
          "barpolar": [
           {
            "marker": {
             "line": {
              "color": "#E5ECF6",
              "width": 0.5
             },
             "pattern": {
              "fillmode": "overlay",
              "size": 10,
              "solidity": 0.2
             }
            },
            "type": "barpolar"
           }
          ],
          "carpet": [
           {
            "aaxis": {
             "endlinecolor": "#2a3f5f",
             "gridcolor": "white",
             "linecolor": "white",
             "minorgridcolor": "white",
             "startlinecolor": "#2a3f5f"
            },
            "baxis": {
             "endlinecolor": "#2a3f5f",
             "gridcolor": "white",
             "linecolor": "white",
             "minorgridcolor": "white",
             "startlinecolor": "#2a3f5f"
            },
            "type": "carpet"
           }
          ],
          "choropleth": [
           {
            "colorbar": {
             "outlinewidth": 0,
             "ticks": ""
            },
            "type": "choropleth"
           }
          ],
          "contour": [
           {
            "colorbar": {
             "outlinewidth": 0,
             "ticks": ""
            },
            "colorscale": [
             [
              0,
              "#0d0887"
             ],
             [
              0.1111111111111111,
              "#46039f"
             ],
             [
              0.2222222222222222,
              "#7201a8"
             ],
             [
              0.3333333333333333,
              "#9c179e"
             ],
             [
              0.4444444444444444,
              "#bd3786"
             ],
             [
              0.5555555555555556,
              "#d8576b"
             ],
             [
              0.6666666666666666,
              "#ed7953"
             ],
             [
              0.7777777777777778,
              "#fb9f3a"
             ],
             [
              0.8888888888888888,
              "#fdca26"
             ],
             [
              1,
              "#f0f921"
             ]
            ],
            "type": "contour"
           }
          ],
          "contourcarpet": [
           {
            "colorbar": {
             "outlinewidth": 0,
             "ticks": ""
            },
            "type": "contourcarpet"
           }
          ],
          "heatmap": [
           {
            "colorbar": {
             "outlinewidth": 0,
             "ticks": ""
            },
            "colorscale": [
             [
              0,
              "#0d0887"
             ],
             [
              0.1111111111111111,
              "#46039f"
             ],
             [
              0.2222222222222222,
              "#7201a8"
             ],
             [
              0.3333333333333333,
              "#9c179e"
             ],
             [
              0.4444444444444444,
              "#bd3786"
             ],
             [
              0.5555555555555556,
              "#d8576b"
             ],
             [
              0.6666666666666666,
              "#ed7953"
             ],
             [
              0.7777777777777778,
              "#fb9f3a"
             ],
             [
              0.8888888888888888,
              "#fdca26"
             ],
             [
              1,
              "#f0f921"
             ]
            ],
            "type": "heatmap"
           }
          ],
          "heatmapgl": [
           {
            "colorbar": {
             "outlinewidth": 0,
             "ticks": ""
            },
            "colorscale": [
             [
              0,
              "#0d0887"
             ],
             [
              0.1111111111111111,
              "#46039f"
             ],
             [
              0.2222222222222222,
              "#7201a8"
             ],
             [
              0.3333333333333333,
              "#9c179e"
             ],
             [
              0.4444444444444444,
              "#bd3786"
             ],
             [
              0.5555555555555556,
              "#d8576b"
             ],
             [
              0.6666666666666666,
              "#ed7953"
             ],
             [
              0.7777777777777778,
              "#fb9f3a"
             ],
             [
              0.8888888888888888,
              "#fdca26"
             ],
             [
              1,
              "#f0f921"
             ]
            ],
            "type": "heatmapgl"
           }
          ],
          "histogram": [
           {
            "marker": {
             "pattern": {
              "fillmode": "overlay",
              "size": 10,
              "solidity": 0.2
             }
            },
            "type": "histogram"
           }
          ],
          "histogram2d": [
           {
            "colorbar": {
             "outlinewidth": 0,
             "ticks": ""
            },
            "colorscale": [
             [
              0,
              "#0d0887"
             ],
             [
              0.1111111111111111,
              "#46039f"
             ],
             [
              0.2222222222222222,
              "#7201a8"
             ],
             [
              0.3333333333333333,
              "#9c179e"
             ],
             [
              0.4444444444444444,
              "#bd3786"
             ],
             [
              0.5555555555555556,
              "#d8576b"
             ],
             [
              0.6666666666666666,
              "#ed7953"
             ],
             [
              0.7777777777777778,
              "#fb9f3a"
             ],
             [
              0.8888888888888888,
              "#fdca26"
             ],
             [
              1,
              "#f0f921"
             ]
            ],
            "type": "histogram2d"
           }
          ],
          "histogram2dcontour": [
           {
            "colorbar": {
             "outlinewidth": 0,
             "ticks": ""
            },
            "colorscale": [
             [
              0,
              "#0d0887"
             ],
             [
              0.1111111111111111,
              "#46039f"
             ],
             [
              0.2222222222222222,
              "#7201a8"
             ],
             [
              0.3333333333333333,
              "#9c179e"
             ],
             [
              0.4444444444444444,
              "#bd3786"
             ],
             [
              0.5555555555555556,
              "#d8576b"
             ],
             [
              0.6666666666666666,
              "#ed7953"
             ],
             [
              0.7777777777777778,
              "#fb9f3a"
             ],
             [
              0.8888888888888888,
              "#fdca26"
             ],
             [
              1,
              "#f0f921"
             ]
            ],
            "type": "histogram2dcontour"
           }
          ],
          "mesh3d": [
           {
            "colorbar": {
             "outlinewidth": 0,
             "ticks": ""
            },
            "type": "mesh3d"
           }
          ],
          "parcoords": [
           {
            "line": {
             "colorbar": {
              "outlinewidth": 0,
              "ticks": ""
             }
            },
            "type": "parcoords"
           }
          ],
          "pie": [
           {
            "automargin": true,
            "type": "pie"
           }
          ],
          "scatter": [
           {
            "fillpattern": {
             "fillmode": "overlay",
             "size": 10,
             "solidity": 0.2
            },
            "type": "scatter"
           }
          ],
          "scatter3d": [
           {
            "line": {
             "colorbar": {
              "outlinewidth": 0,
              "ticks": ""
             }
            },
            "marker": {
             "colorbar": {
              "outlinewidth": 0,
              "ticks": ""
             }
            },
            "type": "scatter3d"
           }
          ],
          "scattercarpet": [
           {
            "marker": {
             "colorbar": {
              "outlinewidth": 0,
              "ticks": ""
             }
            },
            "type": "scattercarpet"
           }
          ],
          "scattergeo": [
           {
            "marker": {
             "colorbar": {
              "outlinewidth": 0,
              "ticks": ""
             }
            },
            "type": "scattergeo"
           }
          ],
          "scattergl": [
           {
            "marker": {
             "colorbar": {
              "outlinewidth": 0,
              "ticks": ""
             }
            },
            "type": "scattergl"
           }
          ],
          "scattermapbox": [
           {
            "marker": {
             "colorbar": {
              "outlinewidth": 0,
              "ticks": ""
             }
            },
            "type": "scattermapbox"
           }
          ],
          "scatterpolar": [
           {
            "marker": {
             "colorbar": {
              "outlinewidth": 0,
              "ticks": ""
             }
            },
            "type": "scatterpolar"
           }
          ],
          "scatterpolargl": [
           {
            "marker": {
             "colorbar": {
              "outlinewidth": 0,
              "ticks": ""
             }
            },
            "type": "scatterpolargl"
           }
          ],
          "scatterternary": [
           {
            "marker": {
             "colorbar": {
              "outlinewidth": 0,
              "ticks": ""
             }
            },
            "type": "scatterternary"
           }
          ],
          "surface": [
           {
            "colorbar": {
             "outlinewidth": 0,
             "ticks": ""
            },
            "colorscale": [
             [
              0,
              "#0d0887"
             ],
             [
              0.1111111111111111,
              "#46039f"
             ],
             [
              0.2222222222222222,
              "#7201a8"
             ],
             [
              0.3333333333333333,
              "#9c179e"
             ],
             [
              0.4444444444444444,
              "#bd3786"
             ],
             [
              0.5555555555555556,
              "#d8576b"
             ],
             [
              0.6666666666666666,
              "#ed7953"
             ],
             [
              0.7777777777777778,
              "#fb9f3a"
             ],
             [
              0.8888888888888888,
              "#fdca26"
             ],
             [
              1,
              "#f0f921"
             ]
            ],
            "type": "surface"
           }
          ],
          "table": [
           {
            "cells": {
             "fill": {
              "color": "#EBF0F8"
             },
             "line": {
              "color": "white"
             }
            },
            "header": {
             "fill": {
              "color": "#C8D4E3"
             },
             "line": {
              "color": "white"
             }
            },
            "type": "table"
           }
          ]
         },
         "layout": {
          "annotationdefaults": {
           "arrowcolor": "#2a3f5f",
           "arrowhead": 0,
           "arrowwidth": 1
          },
          "autotypenumbers": "strict",
          "coloraxis": {
           "colorbar": {
            "outlinewidth": 0,
            "ticks": ""
           }
          },
          "colorscale": {
           "diverging": [
            [
             0,
             "#8e0152"
            ],
            [
             0.1,
             "#c51b7d"
            ],
            [
             0.2,
             "#de77ae"
            ],
            [
             0.3,
             "#f1b6da"
            ],
            [
             0.4,
             "#fde0ef"
            ],
            [
             0.5,
             "#f7f7f7"
            ],
            [
             0.6,
             "#e6f5d0"
            ],
            [
             0.7,
             "#b8e186"
            ],
            [
             0.8,
             "#7fbc41"
            ],
            [
             0.9,
             "#4d9221"
            ],
            [
             1,
             "#276419"
            ]
           ],
           "sequential": [
            [
             0,
             "#0d0887"
            ],
            [
             0.1111111111111111,
             "#46039f"
            ],
            [
             0.2222222222222222,
             "#7201a8"
            ],
            [
             0.3333333333333333,
             "#9c179e"
            ],
            [
             0.4444444444444444,
             "#bd3786"
            ],
            [
             0.5555555555555556,
             "#d8576b"
            ],
            [
             0.6666666666666666,
             "#ed7953"
            ],
            [
             0.7777777777777778,
             "#fb9f3a"
            ],
            [
             0.8888888888888888,
             "#fdca26"
            ],
            [
             1,
             "#f0f921"
            ]
           ],
           "sequentialminus": [
            [
             0,
             "#0d0887"
            ],
            [
             0.1111111111111111,
             "#46039f"
            ],
            [
             0.2222222222222222,
             "#7201a8"
            ],
            [
             0.3333333333333333,
             "#9c179e"
            ],
            [
             0.4444444444444444,
             "#bd3786"
            ],
            [
             0.5555555555555556,
             "#d8576b"
            ],
            [
             0.6666666666666666,
             "#ed7953"
            ],
            [
             0.7777777777777778,
             "#fb9f3a"
            ],
            [
             0.8888888888888888,
             "#fdca26"
            ],
            [
             1,
             "#f0f921"
            ]
           ]
          },
          "colorway": [
           "#636efa",
           "#EF553B",
           "#00cc96",
           "#ab63fa",
           "#FFA15A",
           "#19d3f3",
           "#FF6692",
           "#B6E880",
           "#FF97FF",
           "#FECB52"
          ],
          "font": {
           "color": "#2a3f5f"
          },
          "geo": {
           "bgcolor": "white",
           "lakecolor": "white",
           "landcolor": "#E5ECF6",
           "showlakes": true,
           "showland": true,
           "subunitcolor": "white"
          },
          "hoverlabel": {
           "align": "left"
          },
          "hovermode": "closest",
          "mapbox": {
           "style": "light"
          },
          "paper_bgcolor": "white",
          "plot_bgcolor": "#E5ECF6",
          "polar": {
           "angularaxis": {
            "gridcolor": "white",
            "linecolor": "white",
            "ticks": ""
           },
           "bgcolor": "#E5ECF6",
           "radialaxis": {
            "gridcolor": "white",
            "linecolor": "white",
            "ticks": ""
           }
          },
          "scene": {
           "xaxis": {
            "backgroundcolor": "#E5ECF6",
            "gridcolor": "white",
            "gridwidth": 2,
            "linecolor": "white",
            "showbackground": true,
            "ticks": "",
            "zerolinecolor": "white"
           },
           "yaxis": {
            "backgroundcolor": "#E5ECF6",
            "gridcolor": "white",
            "gridwidth": 2,
            "linecolor": "white",
            "showbackground": true,
            "ticks": "",
            "zerolinecolor": "white"
           },
           "zaxis": {
            "backgroundcolor": "#E5ECF6",
            "gridcolor": "white",
            "gridwidth": 2,
            "linecolor": "white",
            "showbackground": true,
            "ticks": "",
            "zerolinecolor": "white"
           }
          },
          "shapedefaults": {
           "line": {
            "color": "#2a3f5f"
           }
          },
          "ternary": {
           "aaxis": {
            "gridcolor": "white",
            "linecolor": "white",
            "ticks": ""
           },
           "baxis": {
            "gridcolor": "white",
            "linecolor": "white",
            "ticks": ""
           },
           "bgcolor": "#E5ECF6",
           "caxis": {
            "gridcolor": "white",
            "linecolor": "white",
            "ticks": ""
           }
          },
          "title": {
           "x": 0.05
          },
          "xaxis": {
           "automargin": true,
           "gridcolor": "white",
           "linecolor": "white",
           "ticks": "",
           "title": {
            "standoff": 15
           },
           "zerolinecolor": "white",
           "zerolinewidth": 2
          },
          "yaxis": {
           "automargin": true,
           "gridcolor": "white",
           "linecolor": "white",
           "ticks": "",
           "title": {
            "standoff": 15
           },
           "zerolinecolor": "white",
           "zerolinewidth": 2
          }
         }
        },
        "title": {
         "text": "Wins & Losses of Teams [1996-2024]"
        },
        "xaxis": {
         "anchor": "y",
         "domain": [
          0,
          1
         ],
         "title": {
          "text": "Team"
         }
        },
        "yaxis": {
         "anchor": "x",
         "domain": [
          0,
          1
         ],
         "title": {
          "text": "Total Games Played"
         }
        }
       }
      }
     },
     "metadata": {},
     "output_type": "display_data"
    }
   ],
   "source": [
    "# Bar Chart of Wins and Losses\n",
    "from plotly import express as px\n",
    "\n",
    "fig = px.bar(bar_chart_df, x= bar_chart_df.index, y= ['LOSSES','WINS'], barmode = 'stack', text_auto = True,\n",
    "             height=400)\n",
    "\n",
    "fig.update_layout(\n",
    "    title= 'Wins & Losses of Teams [1996-2024]',\n",
    "    xaxis_title='Team',\n",
    "    yaxis_title='Total Games Played',\n",
    "    legend_title='Result',\n",
    ")\n",
    "fig.show()\n",
    "\n"
   ]
  },
  {
   "cell_type": "code",
   "execution_count": 11,
   "metadata": {},
   "outputs": [
    {
     "data": {
      "application/vnd.plotly.v1+json": {
       "config": {
        "plotlyServerURL": "https://plot.ly"
       },
       "data": [
        {
         "alignmentgroup": "True",
         "hovertemplate": "index=%{x}<br>WIN RATE=%{y}<extra></extra>",
         "legendgroup": "",
         "marker": {
          "color": "#636efa",
          "pattern": {
           "shape": ""
          }
         },
         "name": "",
         "offsetgroup": "",
         "orientation": "v",
         "showlegend": false,
         "textposition": "auto",
         "type": "bar",
         "x": [
          "ATLANTA HAWKS",
          "BROOKLYN NETS",
          "BOSTON CELTICS",
          "CHARLOTTE HORNETS",
          "CHICAGO BULLS",
          "CLEVELAND CAVALIERS",
          "DALLAS MAVERICKS",
          "DENVER NUGGETS",
          "DETROIT PISTONS",
          "GOLDEN STATE WARRIORS",
          "HOUSTON ROCKETS",
          "INDIANA PACERS",
          "LA CLIPPERS",
          "LOS ANGELES LAKERS",
          "MEMPHIS GRIZZLIES",
          "MIAMI HEAT",
          "MILWAUKEE BUCKS",
          "MINNESOTA TIMBERWOLVES",
          "NEW ORLEANS PELICANS",
          "NEW YORK KNICKS",
          "OKLAHOMA CITY THUNDER",
          "ORLANDO MAGIC",
          "PHILADELPHIA 76ERS",
          "PHOENIX SUNS",
          "PORTLAND TRAIL BLAZERS",
          "SACRAMENTO KINGS",
          "SAN ANTONIO SPURS",
          "TORONTO RAPTORS",
          "UTAH JAZZ",
          "WASHINGTON WIZARDS"
         ],
         "xaxis": "x",
         "y": [
          0.47,
          0.45,
          0.54,
          0.44,
          0.48,
          0.49,
          0.56,
          0.51,
          0.47,
          0.49,
          0.54,
          0.54,
          0.48,
          0.56,
          0.44,
          0.57,
          0.5,
          0.45,
          0.47,
          0.45,
          0.55,
          0.47,
          0.48,
          0.53,
          0.52,
          0.46,
          0.62,
          0.48,
          0.57,
          0.42
         ],
         "yaxis": "y"
        }
       ],
       "layout": {
        "barmode": "relative",
        "legend": {
         "tracegroupgap": 0
        },
        "margin": {
         "t": 60
        },
        "template": {
         "data": {
          "bar": [
           {
            "error_x": {
             "color": "#2a3f5f"
            },
            "error_y": {
             "color": "#2a3f5f"
            },
            "marker": {
             "line": {
              "color": "#E5ECF6",
              "width": 0.5
             },
             "pattern": {
              "fillmode": "overlay",
              "size": 10,
              "solidity": 0.2
             }
            },
            "type": "bar"
           }
          ],
          "barpolar": [
           {
            "marker": {
             "line": {
              "color": "#E5ECF6",
              "width": 0.5
             },
             "pattern": {
              "fillmode": "overlay",
              "size": 10,
              "solidity": 0.2
             }
            },
            "type": "barpolar"
           }
          ],
          "carpet": [
           {
            "aaxis": {
             "endlinecolor": "#2a3f5f",
             "gridcolor": "white",
             "linecolor": "white",
             "minorgridcolor": "white",
             "startlinecolor": "#2a3f5f"
            },
            "baxis": {
             "endlinecolor": "#2a3f5f",
             "gridcolor": "white",
             "linecolor": "white",
             "minorgridcolor": "white",
             "startlinecolor": "#2a3f5f"
            },
            "type": "carpet"
           }
          ],
          "choropleth": [
           {
            "colorbar": {
             "outlinewidth": 0,
             "ticks": ""
            },
            "type": "choropleth"
           }
          ],
          "contour": [
           {
            "colorbar": {
             "outlinewidth": 0,
             "ticks": ""
            },
            "colorscale": [
             [
              0,
              "#0d0887"
             ],
             [
              0.1111111111111111,
              "#46039f"
             ],
             [
              0.2222222222222222,
              "#7201a8"
             ],
             [
              0.3333333333333333,
              "#9c179e"
             ],
             [
              0.4444444444444444,
              "#bd3786"
             ],
             [
              0.5555555555555556,
              "#d8576b"
             ],
             [
              0.6666666666666666,
              "#ed7953"
             ],
             [
              0.7777777777777778,
              "#fb9f3a"
             ],
             [
              0.8888888888888888,
              "#fdca26"
             ],
             [
              1,
              "#f0f921"
             ]
            ],
            "type": "contour"
           }
          ],
          "contourcarpet": [
           {
            "colorbar": {
             "outlinewidth": 0,
             "ticks": ""
            },
            "type": "contourcarpet"
           }
          ],
          "heatmap": [
           {
            "colorbar": {
             "outlinewidth": 0,
             "ticks": ""
            },
            "colorscale": [
             [
              0,
              "#0d0887"
             ],
             [
              0.1111111111111111,
              "#46039f"
             ],
             [
              0.2222222222222222,
              "#7201a8"
             ],
             [
              0.3333333333333333,
              "#9c179e"
             ],
             [
              0.4444444444444444,
              "#bd3786"
             ],
             [
              0.5555555555555556,
              "#d8576b"
             ],
             [
              0.6666666666666666,
              "#ed7953"
             ],
             [
              0.7777777777777778,
              "#fb9f3a"
             ],
             [
              0.8888888888888888,
              "#fdca26"
             ],
             [
              1,
              "#f0f921"
             ]
            ],
            "type": "heatmap"
           }
          ],
          "heatmapgl": [
           {
            "colorbar": {
             "outlinewidth": 0,
             "ticks": ""
            },
            "colorscale": [
             [
              0,
              "#0d0887"
             ],
             [
              0.1111111111111111,
              "#46039f"
             ],
             [
              0.2222222222222222,
              "#7201a8"
             ],
             [
              0.3333333333333333,
              "#9c179e"
             ],
             [
              0.4444444444444444,
              "#bd3786"
             ],
             [
              0.5555555555555556,
              "#d8576b"
             ],
             [
              0.6666666666666666,
              "#ed7953"
             ],
             [
              0.7777777777777778,
              "#fb9f3a"
             ],
             [
              0.8888888888888888,
              "#fdca26"
             ],
             [
              1,
              "#f0f921"
             ]
            ],
            "type": "heatmapgl"
           }
          ],
          "histogram": [
           {
            "marker": {
             "pattern": {
              "fillmode": "overlay",
              "size": 10,
              "solidity": 0.2
             }
            },
            "type": "histogram"
           }
          ],
          "histogram2d": [
           {
            "colorbar": {
             "outlinewidth": 0,
             "ticks": ""
            },
            "colorscale": [
             [
              0,
              "#0d0887"
             ],
             [
              0.1111111111111111,
              "#46039f"
             ],
             [
              0.2222222222222222,
              "#7201a8"
             ],
             [
              0.3333333333333333,
              "#9c179e"
             ],
             [
              0.4444444444444444,
              "#bd3786"
             ],
             [
              0.5555555555555556,
              "#d8576b"
             ],
             [
              0.6666666666666666,
              "#ed7953"
             ],
             [
              0.7777777777777778,
              "#fb9f3a"
             ],
             [
              0.8888888888888888,
              "#fdca26"
             ],
             [
              1,
              "#f0f921"
             ]
            ],
            "type": "histogram2d"
           }
          ],
          "histogram2dcontour": [
           {
            "colorbar": {
             "outlinewidth": 0,
             "ticks": ""
            },
            "colorscale": [
             [
              0,
              "#0d0887"
             ],
             [
              0.1111111111111111,
              "#46039f"
             ],
             [
              0.2222222222222222,
              "#7201a8"
             ],
             [
              0.3333333333333333,
              "#9c179e"
             ],
             [
              0.4444444444444444,
              "#bd3786"
             ],
             [
              0.5555555555555556,
              "#d8576b"
             ],
             [
              0.6666666666666666,
              "#ed7953"
             ],
             [
              0.7777777777777778,
              "#fb9f3a"
             ],
             [
              0.8888888888888888,
              "#fdca26"
             ],
             [
              1,
              "#f0f921"
             ]
            ],
            "type": "histogram2dcontour"
           }
          ],
          "mesh3d": [
           {
            "colorbar": {
             "outlinewidth": 0,
             "ticks": ""
            },
            "type": "mesh3d"
           }
          ],
          "parcoords": [
           {
            "line": {
             "colorbar": {
              "outlinewidth": 0,
              "ticks": ""
             }
            },
            "type": "parcoords"
           }
          ],
          "pie": [
           {
            "automargin": true,
            "type": "pie"
           }
          ],
          "scatter": [
           {
            "fillpattern": {
             "fillmode": "overlay",
             "size": 10,
             "solidity": 0.2
            },
            "type": "scatter"
           }
          ],
          "scatter3d": [
           {
            "line": {
             "colorbar": {
              "outlinewidth": 0,
              "ticks": ""
             }
            },
            "marker": {
             "colorbar": {
              "outlinewidth": 0,
              "ticks": ""
             }
            },
            "type": "scatter3d"
           }
          ],
          "scattercarpet": [
           {
            "marker": {
             "colorbar": {
              "outlinewidth": 0,
              "ticks": ""
             }
            },
            "type": "scattercarpet"
           }
          ],
          "scattergeo": [
           {
            "marker": {
             "colorbar": {
              "outlinewidth": 0,
              "ticks": ""
             }
            },
            "type": "scattergeo"
           }
          ],
          "scattergl": [
           {
            "marker": {
             "colorbar": {
              "outlinewidth": 0,
              "ticks": ""
             }
            },
            "type": "scattergl"
           }
          ],
          "scattermapbox": [
           {
            "marker": {
             "colorbar": {
              "outlinewidth": 0,
              "ticks": ""
             }
            },
            "type": "scattermapbox"
           }
          ],
          "scatterpolar": [
           {
            "marker": {
             "colorbar": {
              "outlinewidth": 0,
              "ticks": ""
             }
            },
            "type": "scatterpolar"
           }
          ],
          "scatterpolargl": [
           {
            "marker": {
             "colorbar": {
              "outlinewidth": 0,
              "ticks": ""
             }
            },
            "type": "scatterpolargl"
           }
          ],
          "scatterternary": [
           {
            "marker": {
             "colorbar": {
              "outlinewidth": 0,
              "ticks": ""
             }
            },
            "type": "scatterternary"
           }
          ],
          "surface": [
           {
            "colorbar": {
             "outlinewidth": 0,
             "ticks": ""
            },
            "colorscale": [
             [
              0,
              "#0d0887"
             ],
             [
              0.1111111111111111,
              "#46039f"
             ],
             [
              0.2222222222222222,
              "#7201a8"
             ],
             [
              0.3333333333333333,
              "#9c179e"
             ],
             [
              0.4444444444444444,
              "#bd3786"
             ],
             [
              0.5555555555555556,
              "#d8576b"
             ],
             [
              0.6666666666666666,
              "#ed7953"
             ],
             [
              0.7777777777777778,
              "#fb9f3a"
             ],
             [
              0.8888888888888888,
              "#fdca26"
             ],
             [
              1,
              "#f0f921"
             ]
            ],
            "type": "surface"
           }
          ],
          "table": [
           {
            "cells": {
             "fill": {
              "color": "#EBF0F8"
             },
             "line": {
              "color": "white"
             }
            },
            "header": {
             "fill": {
              "color": "#C8D4E3"
             },
             "line": {
              "color": "white"
             }
            },
            "type": "table"
           }
          ]
         },
         "layout": {
          "annotationdefaults": {
           "arrowcolor": "#2a3f5f",
           "arrowhead": 0,
           "arrowwidth": 1
          },
          "autotypenumbers": "strict",
          "coloraxis": {
           "colorbar": {
            "outlinewidth": 0,
            "ticks": ""
           }
          },
          "colorscale": {
           "diverging": [
            [
             0,
             "#8e0152"
            ],
            [
             0.1,
             "#c51b7d"
            ],
            [
             0.2,
             "#de77ae"
            ],
            [
             0.3,
             "#f1b6da"
            ],
            [
             0.4,
             "#fde0ef"
            ],
            [
             0.5,
             "#f7f7f7"
            ],
            [
             0.6,
             "#e6f5d0"
            ],
            [
             0.7,
             "#b8e186"
            ],
            [
             0.8,
             "#7fbc41"
            ],
            [
             0.9,
             "#4d9221"
            ],
            [
             1,
             "#276419"
            ]
           ],
           "sequential": [
            [
             0,
             "#0d0887"
            ],
            [
             0.1111111111111111,
             "#46039f"
            ],
            [
             0.2222222222222222,
             "#7201a8"
            ],
            [
             0.3333333333333333,
             "#9c179e"
            ],
            [
             0.4444444444444444,
             "#bd3786"
            ],
            [
             0.5555555555555556,
             "#d8576b"
            ],
            [
             0.6666666666666666,
             "#ed7953"
            ],
            [
             0.7777777777777778,
             "#fb9f3a"
            ],
            [
             0.8888888888888888,
             "#fdca26"
            ],
            [
             1,
             "#f0f921"
            ]
           ],
           "sequentialminus": [
            [
             0,
             "#0d0887"
            ],
            [
             0.1111111111111111,
             "#46039f"
            ],
            [
             0.2222222222222222,
             "#7201a8"
            ],
            [
             0.3333333333333333,
             "#9c179e"
            ],
            [
             0.4444444444444444,
             "#bd3786"
            ],
            [
             0.5555555555555556,
             "#d8576b"
            ],
            [
             0.6666666666666666,
             "#ed7953"
            ],
            [
             0.7777777777777778,
             "#fb9f3a"
            ],
            [
             0.8888888888888888,
             "#fdca26"
            ],
            [
             1,
             "#f0f921"
            ]
           ]
          },
          "colorway": [
           "#636efa",
           "#EF553B",
           "#00cc96",
           "#ab63fa",
           "#FFA15A",
           "#19d3f3",
           "#FF6692",
           "#B6E880",
           "#FF97FF",
           "#FECB52"
          ],
          "font": {
           "color": "#2a3f5f"
          },
          "geo": {
           "bgcolor": "white",
           "lakecolor": "white",
           "landcolor": "#E5ECF6",
           "showlakes": true,
           "showland": true,
           "subunitcolor": "white"
          },
          "hoverlabel": {
           "align": "left"
          },
          "hovermode": "closest",
          "mapbox": {
           "style": "light"
          },
          "paper_bgcolor": "white",
          "plot_bgcolor": "#E5ECF6",
          "polar": {
           "angularaxis": {
            "gridcolor": "white",
            "linecolor": "white",
            "ticks": ""
           },
           "bgcolor": "#E5ECF6",
           "radialaxis": {
            "gridcolor": "white",
            "linecolor": "white",
            "ticks": ""
           }
          },
          "scene": {
           "xaxis": {
            "backgroundcolor": "#E5ECF6",
            "gridcolor": "white",
            "gridwidth": 2,
            "linecolor": "white",
            "showbackground": true,
            "ticks": "",
            "zerolinecolor": "white"
           },
           "yaxis": {
            "backgroundcolor": "#E5ECF6",
            "gridcolor": "white",
            "gridwidth": 2,
            "linecolor": "white",
            "showbackground": true,
            "ticks": "",
            "zerolinecolor": "white"
           },
           "zaxis": {
            "backgroundcolor": "#E5ECF6",
            "gridcolor": "white",
            "gridwidth": 2,
            "linecolor": "white",
            "showbackground": true,
            "ticks": "",
            "zerolinecolor": "white"
           }
          },
          "shapedefaults": {
           "line": {
            "color": "#2a3f5f"
           }
          },
          "ternary": {
           "aaxis": {
            "gridcolor": "white",
            "linecolor": "white",
            "ticks": ""
           },
           "baxis": {
            "gridcolor": "white",
            "linecolor": "white",
            "ticks": ""
           },
           "bgcolor": "#E5ECF6",
           "caxis": {
            "gridcolor": "white",
            "linecolor": "white",
            "ticks": ""
           }
          },
          "title": {
           "x": 0.05
          },
          "xaxis": {
           "automargin": true,
           "gridcolor": "white",
           "linecolor": "white",
           "ticks": "",
           "title": {
            "standoff": 15
           },
           "zerolinecolor": "white",
           "zerolinewidth": 2
          },
          "yaxis": {
           "automargin": true,
           "gridcolor": "white",
           "linecolor": "white",
           "ticks": "",
           "title": {
            "standoff": 15
           },
           "zerolinecolor": "white",
           "zerolinewidth": 2
          }
         }
        },
        "title": {
         "text": "Teams' Historical Performance"
        },
        "xaxis": {
         "anchor": "y",
         "domain": [
          0,
          1
         ],
         "title": {
          "text": "Team"
         }
        },
        "yaxis": {
         "anchor": "x",
         "domain": [
          0,
          1
         ],
         "title": {
          "text": "Win Rate"
         }
        }
       }
      }
     },
     "metadata": {},
     "output_type": "display_data"
    }
   ],
   "source": [
    "# Bar Chart of Overall Winning Rate\n",
    "fig1 = px.bar(bar_chart_df, x= bar_chart_df.index, y='WIN RATE')\n",
    "\n",
    "fig1.update_layout(\n",
    "    title= 'Teams\\' Historical Performance',\n",
    "    xaxis_title='Team',\n",
    "    yaxis_title='Win Rate',\n",
    ")\n",
    "fig1.show()"
   ]
  },
  {
   "cell_type": "code",
   "execution_count": 10,
   "metadata": {},
   "outputs": [],
   "source": [
    "# Condense the distribution [Normalzation]\n",
    "\n",
    "from sklearn.preprocessing import LabelEncoder, MinMaxScaler\n",
    "\n",
    "encoder = LabelEncoder()\n",
    "scalar = MinMaxScaler()\n",
    "\n",
    "full_df[\"W/L\"] = encoder.fit_transform(full_df[\"W/L\"]) # WIN: 1 , LOSE: 0\n",
    "\n",
    "num_cols = full_df.select_dtypes(include='number')\n",
    "\n",
    "norm_df = pd.DataFrame(scalar.fit_transform(num_cols), columns = num_cols.columns)\n",
    "norm_df = pd.concat([full_df.drop(columns=num_cols.columns),norm_df], axis=1)\n",
    "\n",
    "norm_df = norm_df.sort_values(by=['SEASON']).reset_index(drop=True)\n"
   ]
  },
  {
   "cell_type": "markdown",
   "metadata": {},
   "source": [
    "#### Machine Learning\n",
    "\n",
    "- Splitting data as 80/10/10 train-val-test\n",
    "- Experiementing DecisionTreeRegressor\n"
   ]
  },
  {
   "cell_type": "code",
   "execution_count": 11,
   "metadata": {},
   "outputs": [],
   "source": [
    "# Prepare data for ML\n",
    "quant_features = norm_df.select_dtypes(['category', 'object'])\n",
    "qual_features =  norm_df.select_dtypes(['number'])\n",
    "\n",
    "X = qual_features.drop(columns=['W/L'])\n",
    "y = qual_features['W/L']"
   ]
  },
  {
   "cell_type": "code",
   "execution_count": 29,
   "metadata": {},
   "outputs": [
    {
     "name": "stdout",
     "output_type": "stream",
     "text": [
      "Train:  1.0\n",
      "Val:  1.0\n",
      "Test:  1.0\n"
     ]
    }
   ],
   "source": [
    "# Decision Tree Regression Model\n",
    "from sklearn.model_selection import train_test_split\n",
    "from sklearn.tree import DecisionTreeRegressor as DTR, DecisionTreeClassifier as DTC\n",
    "\n",
    "\n",
    "\n",
    "# regression = DTR()\n",
    "regression = DTC(criterion='gini')\n",
    "\n",
    "X_train, X_remain, y_train, y_remain = train_test_split(X, y, test_size=0.2, random_state=42)\n",
    "\n",
    "regression.fit(X_train,y_train)\n",
    "y_pred = regression.predict(X_remain)\n",
    "\n",
    "feature_importances = regression.feature_importances_\n",
    "\n",
    "\n",
    "\n",
    "\n",
    "X_val, X_test, y_val, y_test = train_test_split(X_remain, y_remain, test_size=0.2, random_state=42) # 0.25\n",
    "\n",
    "regression.fit(X_val,y_val)\n",
    "y_pred1 = regression.predict(X_test)\n",
    "\n",
    "print('Train: ', round(regression.score(X_train,y_train), 2))\n",
    "print('Val: ', round(regression.score(X_val,y_val), 2))\n",
    "print('Test: ', round(regression.score(X_test,y_test), 2))\n"
   ]
  },
  {
   "cell_type": "code",
   "execution_count": 226,
   "metadata": {},
   "outputs": [],
   "source": [
    "# Finding important features in the dataframe\n",
    "fi_char = pd.DataFrame( {'Events' : X.columns, 'Importance': feature_importances})"
   ]
  },
  {
   "cell_type": "code",
   "execution_count": 23,
   "metadata": {},
   "outputs": [
    {
     "data": {
      "application/vnd.plotly.v1+json": {
       "config": {
        "plotlyServerURL": "https://plot.ly"
       },
       "data": [
        {
         "alignmentgroup": "True",
         "hovertemplate": "Importance=%{x}<br>Events=%{y}<extra></extra>",
         "legendgroup": "",
         "marker": {
          "color": "#636efa",
          "pattern": {
           "shape": ""
          }
         },
         "name": "",
         "offsetgroup": "",
         "orientation": "h",
         "showlegend": false,
         "textposition": "auto",
         "type": "bar",
         "x": [
          0,
          0,
          0,
          0,
          0,
          0,
          0,
          0,
          0,
          0,
          0,
          0,
          0,
          0,
          0,
          0,
          0,
          0,
          0,
          1
         ],
         "xaxis": "x",
         "y": [
          "MIN",
          "PTS",
          "FGM",
          "FGA",
          "FG%",
          "3PM",
          "3PA",
          "3P%",
          "FTM",
          "FTA",
          "FT%",
          "OREB",
          "DREB",
          "REB",
          "AST",
          "TOV",
          "STL",
          "BLK",
          "PF",
          "+/-"
         ],
         "yaxis": "y"
        }
       ],
       "layout": {
        "barmode": "relative",
        "height": 500,
        "legend": {
         "tracegroupgap": 0
        },
        "margin": {
         "t": 60
        },
        "template": {
         "data": {
          "bar": [
           {
            "error_x": {
             "color": "#2a3f5f"
            },
            "error_y": {
             "color": "#2a3f5f"
            },
            "marker": {
             "line": {
              "color": "#E5ECF6",
              "width": 0.5
             },
             "pattern": {
              "fillmode": "overlay",
              "size": 10,
              "solidity": 0.2
             }
            },
            "type": "bar"
           }
          ],
          "barpolar": [
           {
            "marker": {
             "line": {
              "color": "#E5ECF6",
              "width": 0.5
             },
             "pattern": {
              "fillmode": "overlay",
              "size": 10,
              "solidity": 0.2
             }
            },
            "type": "barpolar"
           }
          ],
          "carpet": [
           {
            "aaxis": {
             "endlinecolor": "#2a3f5f",
             "gridcolor": "white",
             "linecolor": "white",
             "minorgridcolor": "white",
             "startlinecolor": "#2a3f5f"
            },
            "baxis": {
             "endlinecolor": "#2a3f5f",
             "gridcolor": "white",
             "linecolor": "white",
             "minorgridcolor": "white",
             "startlinecolor": "#2a3f5f"
            },
            "type": "carpet"
           }
          ],
          "choropleth": [
           {
            "colorbar": {
             "outlinewidth": 0,
             "ticks": ""
            },
            "type": "choropleth"
           }
          ],
          "contour": [
           {
            "colorbar": {
             "outlinewidth": 0,
             "ticks": ""
            },
            "colorscale": [
             [
              0,
              "#0d0887"
             ],
             [
              0.1111111111111111,
              "#46039f"
             ],
             [
              0.2222222222222222,
              "#7201a8"
             ],
             [
              0.3333333333333333,
              "#9c179e"
             ],
             [
              0.4444444444444444,
              "#bd3786"
             ],
             [
              0.5555555555555556,
              "#d8576b"
             ],
             [
              0.6666666666666666,
              "#ed7953"
             ],
             [
              0.7777777777777778,
              "#fb9f3a"
             ],
             [
              0.8888888888888888,
              "#fdca26"
             ],
             [
              1,
              "#f0f921"
             ]
            ],
            "type": "contour"
           }
          ],
          "contourcarpet": [
           {
            "colorbar": {
             "outlinewidth": 0,
             "ticks": ""
            },
            "type": "contourcarpet"
           }
          ],
          "heatmap": [
           {
            "colorbar": {
             "outlinewidth": 0,
             "ticks": ""
            },
            "colorscale": [
             [
              0,
              "#0d0887"
             ],
             [
              0.1111111111111111,
              "#46039f"
             ],
             [
              0.2222222222222222,
              "#7201a8"
             ],
             [
              0.3333333333333333,
              "#9c179e"
             ],
             [
              0.4444444444444444,
              "#bd3786"
             ],
             [
              0.5555555555555556,
              "#d8576b"
             ],
             [
              0.6666666666666666,
              "#ed7953"
             ],
             [
              0.7777777777777778,
              "#fb9f3a"
             ],
             [
              0.8888888888888888,
              "#fdca26"
             ],
             [
              1,
              "#f0f921"
             ]
            ],
            "type": "heatmap"
           }
          ],
          "heatmapgl": [
           {
            "colorbar": {
             "outlinewidth": 0,
             "ticks": ""
            },
            "colorscale": [
             [
              0,
              "#0d0887"
             ],
             [
              0.1111111111111111,
              "#46039f"
             ],
             [
              0.2222222222222222,
              "#7201a8"
             ],
             [
              0.3333333333333333,
              "#9c179e"
             ],
             [
              0.4444444444444444,
              "#bd3786"
             ],
             [
              0.5555555555555556,
              "#d8576b"
             ],
             [
              0.6666666666666666,
              "#ed7953"
             ],
             [
              0.7777777777777778,
              "#fb9f3a"
             ],
             [
              0.8888888888888888,
              "#fdca26"
             ],
             [
              1,
              "#f0f921"
             ]
            ],
            "type": "heatmapgl"
           }
          ],
          "histogram": [
           {
            "marker": {
             "pattern": {
              "fillmode": "overlay",
              "size": 10,
              "solidity": 0.2
             }
            },
            "type": "histogram"
           }
          ],
          "histogram2d": [
           {
            "colorbar": {
             "outlinewidth": 0,
             "ticks": ""
            },
            "colorscale": [
             [
              0,
              "#0d0887"
             ],
             [
              0.1111111111111111,
              "#46039f"
             ],
             [
              0.2222222222222222,
              "#7201a8"
             ],
             [
              0.3333333333333333,
              "#9c179e"
             ],
             [
              0.4444444444444444,
              "#bd3786"
             ],
             [
              0.5555555555555556,
              "#d8576b"
             ],
             [
              0.6666666666666666,
              "#ed7953"
             ],
             [
              0.7777777777777778,
              "#fb9f3a"
             ],
             [
              0.8888888888888888,
              "#fdca26"
             ],
             [
              1,
              "#f0f921"
             ]
            ],
            "type": "histogram2d"
           }
          ],
          "histogram2dcontour": [
           {
            "colorbar": {
             "outlinewidth": 0,
             "ticks": ""
            },
            "colorscale": [
             [
              0,
              "#0d0887"
             ],
             [
              0.1111111111111111,
              "#46039f"
             ],
             [
              0.2222222222222222,
              "#7201a8"
             ],
             [
              0.3333333333333333,
              "#9c179e"
             ],
             [
              0.4444444444444444,
              "#bd3786"
             ],
             [
              0.5555555555555556,
              "#d8576b"
             ],
             [
              0.6666666666666666,
              "#ed7953"
             ],
             [
              0.7777777777777778,
              "#fb9f3a"
             ],
             [
              0.8888888888888888,
              "#fdca26"
             ],
             [
              1,
              "#f0f921"
             ]
            ],
            "type": "histogram2dcontour"
           }
          ],
          "mesh3d": [
           {
            "colorbar": {
             "outlinewidth": 0,
             "ticks": ""
            },
            "type": "mesh3d"
           }
          ],
          "parcoords": [
           {
            "line": {
             "colorbar": {
              "outlinewidth": 0,
              "ticks": ""
             }
            },
            "type": "parcoords"
           }
          ],
          "pie": [
           {
            "automargin": true,
            "type": "pie"
           }
          ],
          "scatter": [
           {
            "fillpattern": {
             "fillmode": "overlay",
             "size": 10,
             "solidity": 0.2
            },
            "type": "scatter"
           }
          ],
          "scatter3d": [
           {
            "line": {
             "colorbar": {
              "outlinewidth": 0,
              "ticks": ""
             }
            },
            "marker": {
             "colorbar": {
              "outlinewidth": 0,
              "ticks": ""
             }
            },
            "type": "scatter3d"
           }
          ],
          "scattercarpet": [
           {
            "marker": {
             "colorbar": {
              "outlinewidth": 0,
              "ticks": ""
             }
            },
            "type": "scattercarpet"
           }
          ],
          "scattergeo": [
           {
            "marker": {
             "colorbar": {
              "outlinewidth": 0,
              "ticks": ""
             }
            },
            "type": "scattergeo"
           }
          ],
          "scattergl": [
           {
            "marker": {
             "colorbar": {
              "outlinewidth": 0,
              "ticks": ""
             }
            },
            "type": "scattergl"
           }
          ],
          "scattermapbox": [
           {
            "marker": {
             "colorbar": {
              "outlinewidth": 0,
              "ticks": ""
             }
            },
            "type": "scattermapbox"
           }
          ],
          "scatterpolar": [
           {
            "marker": {
             "colorbar": {
              "outlinewidth": 0,
              "ticks": ""
             }
            },
            "type": "scatterpolar"
           }
          ],
          "scatterpolargl": [
           {
            "marker": {
             "colorbar": {
              "outlinewidth": 0,
              "ticks": ""
             }
            },
            "type": "scatterpolargl"
           }
          ],
          "scatterternary": [
           {
            "marker": {
             "colorbar": {
              "outlinewidth": 0,
              "ticks": ""
             }
            },
            "type": "scatterternary"
           }
          ],
          "surface": [
           {
            "colorbar": {
             "outlinewidth": 0,
             "ticks": ""
            },
            "colorscale": [
             [
              0,
              "#0d0887"
             ],
             [
              0.1111111111111111,
              "#46039f"
             ],
             [
              0.2222222222222222,
              "#7201a8"
             ],
             [
              0.3333333333333333,
              "#9c179e"
             ],
             [
              0.4444444444444444,
              "#bd3786"
             ],
             [
              0.5555555555555556,
              "#d8576b"
             ],
             [
              0.6666666666666666,
              "#ed7953"
             ],
             [
              0.7777777777777778,
              "#fb9f3a"
             ],
             [
              0.8888888888888888,
              "#fdca26"
             ],
             [
              1,
              "#f0f921"
             ]
            ],
            "type": "surface"
           }
          ],
          "table": [
           {
            "cells": {
             "fill": {
              "color": "#EBF0F8"
             },
             "line": {
              "color": "white"
             }
            },
            "header": {
             "fill": {
              "color": "#C8D4E3"
             },
             "line": {
              "color": "white"
             }
            },
            "type": "table"
           }
          ]
         },
         "layout": {
          "annotationdefaults": {
           "arrowcolor": "#2a3f5f",
           "arrowhead": 0,
           "arrowwidth": 1
          },
          "autotypenumbers": "strict",
          "coloraxis": {
           "colorbar": {
            "outlinewidth": 0,
            "ticks": ""
           }
          },
          "colorscale": {
           "diverging": [
            [
             0,
             "#8e0152"
            ],
            [
             0.1,
             "#c51b7d"
            ],
            [
             0.2,
             "#de77ae"
            ],
            [
             0.3,
             "#f1b6da"
            ],
            [
             0.4,
             "#fde0ef"
            ],
            [
             0.5,
             "#f7f7f7"
            ],
            [
             0.6,
             "#e6f5d0"
            ],
            [
             0.7,
             "#b8e186"
            ],
            [
             0.8,
             "#7fbc41"
            ],
            [
             0.9,
             "#4d9221"
            ],
            [
             1,
             "#276419"
            ]
           ],
           "sequential": [
            [
             0,
             "#0d0887"
            ],
            [
             0.1111111111111111,
             "#46039f"
            ],
            [
             0.2222222222222222,
             "#7201a8"
            ],
            [
             0.3333333333333333,
             "#9c179e"
            ],
            [
             0.4444444444444444,
             "#bd3786"
            ],
            [
             0.5555555555555556,
             "#d8576b"
            ],
            [
             0.6666666666666666,
             "#ed7953"
            ],
            [
             0.7777777777777778,
             "#fb9f3a"
            ],
            [
             0.8888888888888888,
             "#fdca26"
            ],
            [
             1,
             "#f0f921"
            ]
           ],
           "sequentialminus": [
            [
             0,
             "#0d0887"
            ],
            [
             0.1111111111111111,
             "#46039f"
            ],
            [
             0.2222222222222222,
             "#7201a8"
            ],
            [
             0.3333333333333333,
             "#9c179e"
            ],
            [
             0.4444444444444444,
             "#bd3786"
            ],
            [
             0.5555555555555556,
             "#d8576b"
            ],
            [
             0.6666666666666666,
             "#ed7953"
            ],
            [
             0.7777777777777778,
             "#fb9f3a"
            ],
            [
             0.8888888888888888,
             "#fdca26"
            ],
            [
             1,
             "#f0f921"
            ]
           ]
          },
          "colorway": [
           "#636efa",
           "#EF553B",
           "#00cc96",
           "#ab63fa",
           "#FFA15A",
           "#19d3f3",
           "#FF6692",
           "#B6E880",
           "#FF97FF",
           "#FECB52"
          ],
          "font": {
           "color": "#2a3f5f"
          },
          "geo": {
           "bgcolor": "white",
           "lakecolor": "white",
           "landcolor": "#E5ECF6",
           "showlakes": true,
           "showland": true,
           "subunitcolor": "white"
          },
          "hoverlabel": {
           "align": "left"
          },
          "hovermode": "closest",
          "mapbox": {
           "style": "light"
          },
          "paper_bgcolor": "white",
          "plot_bgcolor": "#E5ECF6",
          "polar": {
           "angularaxis": {
            "gridcolor": "white",
            "linecolor": "white",
            "ticks": ""
           },
           "bgcolor": "#E5ECF6",
           "radialaxis": {
            "gridcolor": "white",
            "linecolor": "white",
            "ticks": ""
           }
          },
          "scene": {
           "xaxis": {
            "backgroundcolor": "#E5ECF6",
            "gridcolor": "white",
            "gridwidth": 2,
            "linecolor": "white",
            "showbackground": true,
            "ticks": "",
            "zerolinecolor": "white"
           },
           "yaxis": {
            "backgroundcolor": "#E5ECF6",
            "gridcolor": "white",
            "gridwidth": 2,
            "linecolor": "white",
            "showbackground": true,
            "ticks": "",
            "zerolinecolor": "white"
           },
           "zaxis": {
            "backgroundcolor": "#E5ECF6",
            "gridcolor": "white",
            "gridwidth": 2,
            "linecolor": "white",
            "showbackground": true,
            "ticks": "",
            "zerolinecolor": "white"
           }
          },
          "shapedefaults": {
           "line": {
            "color": "#2a3f5f"
           }
          },
          "ternary": {
           "aaxis": {
            "gridcolor": "white",
            "linecolor": "white",
            "ticks": ""
           },
           "baxis": {
            "gridcolor": "white",
            "linecolor": "white",
            "ticks": ""
           },
           "bgcolor": "#E5ECF6",
           "caxis": {
            "gridcolor": "white",
            "linecolor": "white",
            "ticks": ""
           }
          },
          "title": {
           "x": 0.05
          },
          "xaxis": {
           "automargin": true,
           "gridcolor": "white",
           "linecolor": "white",
           "ticks": "",
           "title": {
            "standoff": 15
           },
           "zerolinecolor": "white",
           "zerolinewidth": 2
          },
          "yaxis": {
           "automargin": true,
           "gridcolor": "white",
           "linecolor": "white",
           "ticks": "",
           "title": {
            "standoff": 15
           },
           "zerolinecolor": "white",
           "zerolinewidth": 2
          }
         }
        },
        "title": {
         "text": "Importance of  Each Feature"
        },
        "width": 1000,
        "xaxis": {
         "anchor": "y",
         "domain": [
          0,
          1
         ],
         "title": {
          "text": "Importance"
         }
        },
        "yaxis": {
         "anchor": "x",
         "domain": [
          0,
          1
         ],
         "title": {
          "text": "Events"
         }
        }
       }
      }
     },
     "metadata": {},
     "output_type": "display_data"
    }
   ],
   "source": [
    "# Feature importance graph below\n",
    "fi_bar = px.bar( fi_char, y= 'Events', x='Importance', orientation='h')\n",
    "\n",
    "fi_bar.update_layout(\n",
    "    title= 'Importance of  Each Feature',\n",
    "    height = 500,\n",
    "    width = 1000\n",
    ") \n",
    "fi_bar.show()\n"
   ]
  },
  {
   "cell_type": "markdown",
   "metadata": {},
   "source": [
    "The above visual shows that one Plus-Minus shows a high relavence to the predicting the target variable. The golden rule of thumb is not to fill your model with a lot of columns as it may lead several issues like overfitting or correlations with one another, where some algorithms doesn't do well with. <br/>\n",
    "\n",
    "Since there are not a lot of columns used here, we will still add these to the model"
   ]
  },
  {
   "cell_type": "code",
   "execution_count": 30,
   "metadata": {},
   "outputs": [
    {
     "name": "stdout",
     "output_type": "stream",
     "text": [
      "1.0\n",
      "Mean Squared Error of testing set:0.0\n",
      "              precision    recall  f1-score   support\n",
      "\n",
      "        loss       1.00      1.00      1.00      1316\n",
      "         win       1.00      1.00      1.00      1331\n",
      "\n",
      "    accuracy                           1.00      2647\n",
      "   macro avg       1.00      1.00      1.00      2647\n",
      "weighted avg       1.00      1.00      1.00      2647\n",
      "\n",
      "<sklearn.metrics._plot.confusion_matrix.ConfusionMatrixDisplay object at 0x7f9a71cf1760>\n"
     ]
    },
    {
     "data": {
      "image/png": "[encoded data removed]",
      "text/plain": [
       "<Figure size 432x288 with 2 Axes>"
      ]
     },
     "metadata": {
      "needs_background": "light"
     },
     "output_type": "display_data"
    }
   ],
   "source": [
    "# Model Performance\n",
    "\n",
    "from sklearn.metrics import mean_squared_error, classification_report, ConfusionMatrixDisplay, accuracy_score\n",
    "mse = mean_squared_error(y_remain,y_pred) # Gets the average loss between actual and predicted value of the target\n",
    "\n",
    "print(accuracy_score(y_test,y_pred1))\n",
    "print(f\"Mean Squared Error of testing set:{round(mse,2)}\")\n",
    "\n",
    "print(classification_report(y_test,y_pred1,target_names=['loss','win'] )) # Explained in Markdown Note 3\n",
    "\n",
    "cm = ConfusionMatrixDisplay.from_predictions(y_test,y_pred1 ,display_labels=['loss','win']) # Explained in Markdown Note 4\n",
    "cm.ax_.set_title('Model Predictions')\n",
    "print(cm)"
   ]
  },
  {
   "cell_type": "markdown",
   "metadata": {},
   "source": [
    "# WORK ON REMAINDER\n",
    "\n",
    "- Create Team Tournament [Regions & Conferences]\n",
    "  - Probably add penalty (positive/negative) to the current match up\n"
   ]
  },
  {
   "cell_type": "markdown",
   "metadata": {},
   "source": [
    "### Summary"
   ]
  },
  {
   "cell_type": "code",
   "execution_count": 31,
   "metadata": {},
   "outputs": [],
   "source": [
    "\n",
    "summary_teams = {}\n",
    "teams_historical = {}\n",
    "\n",
    "for each in distinct_teams:\n",
    "    ind_team = full_df[full_df['TEAM'] == each]\n",
    "\n",
    "    prev_ssn_records = ind_team[(ind_team['SEASON'] == '2022-23')][ind_team.columns[8:28]]\n",
    "    tie_break_stats = ind_team[(ind_team['SEASON'] <= '2021-22')][ind_team.columns[8:28]]\n",
    "\n",
    "    ind_team = np.mean(prev_ssn_records, axis=0)\n",
    "    tie_breaker_sum = np.mean(tie_break_stats, axis=0)\n",
    "\n",
    "    summary_teams[each] = ind_team\n",
    "    teams_historical[each] = tie_breaker_sum\n",
    "\n",
    "# Create the Average for each team from last Season\n",
    "summary_dict = pd.DataFrame(summary_teams)\n",
    "teams_his = pd.DataFrame(teams_historical)\n",
    "# summary_dict = summary_dict.T"
   ]
  },
  {
   "cell_type": "markdown",
   "metadata": {},
   "source": [
    "### THE GAME\n",
    "\n",
    "<u>Group play - 30 teams</u>\n",
    "\n",
    "- All 30 teams are split into 6 groups; \"random draw of last season records\"\n",
    "  - 3 groups 5 teams in East, and in West\n",
    "\n",
    "- Each team in the group plays each other 1 time, totaling 4 games each\n",
    "  - teams with the best group play record after those 4 games, moves on; 3 on east and 3 on west.\n",
    "\n",
    "- Team with the next best record in each conference are claimed as the wild card (1 in both conference)\n",
    "\n",
    "\n",
    "<u>Knockout round - 8 teams</u>\n",
    "\n",
    "- Single Elimination Match. Each team plays 1 game against a group in conference\n",
    "  - 4 teams remaining \n",
    "\n",
    "<u>Semifinals - 4 teams</u>\n",
    "\n",
    "- 2 teams from East 2 teams West\n",
    "\n",
    "<u>Final - 2 teams</u>\n",
    "\n",
    "- 1 team from East & 1 team from West"
   ]
  },
  {
   "cell_type": "code",
   "execution_count": 32,
   "metadata": {},
   "outputs": [],
   "source": [
    "east_conf = full_df[full_df['CONFERENCE'] == 'EASTERN']\n",
    "west_conf = full_df[full_df['CONFERENCE'] == 'WESTERN']\n",
    "\n",
    "east_teams = list(east_conf['TEAM'].unique())\n",
    "west_teams = list(west_conf['TEAM'].unique())"
   ]
  },
  {
   "cell_type": "code",
   "execution_count": 16,
   "metadata": {},
   "outputs": [],
   "source": [
    "# Function to split remainder teams within a Conference\n",
    "\n",
    "def split_teams(teams, num_groups):\n",
    "\n",
    "    random.shuffle(teams)\n",
    "    sub_group = []\n",
    "    groups = []\n",
    "\n",
    "    group_size = len(teams) / num_groups\n",
    "    print(\" Group Size: \", group_size)\n",
    "\n",
    "    for idx,each in enumerate(teams):\n",
    "        \n",
    "        if (idx + 1) % group_size != 0:\n",
    "            sub_group.append(each)\n",
    "        else:\n",
    "            sub_group.append(each)\n",
    "            groups.append(sub_group)\n",
    "            sub_group = []\n",
    "\n",
    "    return groups"
   ]
  },
  {
   "cell_type": "code",
   "execution_count": 17,
   "metadata": {},
   "outputs": [
    {
     "name": "stdout",
     "output_type": "stream",
     "text": [
      " Group Size:  5.0\n",
      " Group Size:  5.0\n"
     ]
    }
   ],
   "source": [
    "splitted_east = split_teams(east_teams, 3)\n",
    "splitted_west = split_teams(west_teams, 3)"
   ]
  },
  {
   "cell_type": "code",
   "execution_count": 230,
   "metadata": {},
   "outputs": [
    {
     "data": {
      "text/html": [
       "<div>\n",
       "<style scoped>\n",
       "    .dataframe tbody tr th:only-of-type {\n",
       "        vertical-align: middle;\n",
       "    }\n",
       "\n",
       "    .dataframe tbody tr th {\n",
       "        vertical-align: top;\n",
       "    }\n",
       "\n",
       "    .dataframe thead th {\n",
       "        text-align: right;\n",
       "    }\n",
       "</style>\n",
       "<table border=\"1\" class=\"dataframe\">\n",
       "  <thead>\n",
       "    <tr style=\"text-align: right;\">\n",
       "      <th></th>\n",
       "      <th>ATLANTA HAWKS</th>\n",
       "      <th>BOSTON CELTICS</th>\n",
       "      <th>BROOKLYN NETS</th>\n",
       "      <th>CHARLOTTE HORNETS</th>\n",
       "      <th>CHICAGO BULLS</th>\n",
       "      <th>CLEVELAND CAVALIERS</th>\n",
       "      <th>DALLAS MAVERICKS</th>\n",
       "      <th>DENVER NUGGETS</th>\n",
       "      <th>DETROIT PISTONS</th>\n",
       "      <th>GOLDEN STATE WARRIORS</th>\n",
       "      <th>...</th>\n",
       "      <th>OKLAHOMA CITY THUNDER</th>\n",
       "      <th>ORLANDO MAGIC</th>\n",
       "      <th>PHILADELPHIA 76ERS</th>\n",
       "      <th>PHOENIX SUNS</th>\n",
       "      <th>PORTLAND TRAIL BLAZERS</th>\n",
       "      <th>SACRAMENTO KINGS</th>\n",
       "      <th>SAN ANTONIO SPURS</th>\n",
       "      <th>TORONTO RAPTORS</th>\n",
       "      <th>UTAH JAZZ</th>\n",
       "      <th>WASHINGTON WIZARDS</th>\n",
       "    </tr>\n",
       "  </thead>\n",
       "  <tbody>\n",
       "    <tr>\n",
       "      <th>MIN</th>\n",
       "      <td>48.426829</td>\n",
       "      <td>48.731707</td>\n",
       "      <td>48.121951</td>\n",
       "      <td>48.365854</td>\n",
       "      <td>48.548780</td>\n",
       "      <td>48.487805</td>\n",
       "      <td>48.609756</td>\n",
       "      <td>48.182927</td>\n",
       "      <td>48.304878</td>\n",
       "      <td>48.365854</td>\n",
       "      <td>...</td>\n",
       "      <td>48.426829</td>\n",
       "      <td>48.243902</td>\n",
       "      <td>48.487805</td>\n",
       "      <td>48.243902</td>\n",
       "      <td>48.121951</td>\n",
       "      <td>48.365854</td>\n",
       "      <td>48.426829</td>\n",
       "      <td>48.304878</td>\n",
       "      <td>48.304878</td>\n",
       "      <td>48.182927</td>\n",
       "    </tr>\n",
       "    <tr>\n",
       "      <th>PTS</th>\n",
       "      <td>118.426829</td>\n",
       "      <td>117.939024</td>\n",
       "      <td>113.353659</td>\n",
       "      <td>110.951220</td>\n",
       "      <td>113.121951</td>\n",
       "      <td>112.256098</td>\n",
       "      <td>114.219512</td>\n",
       "      <td>115.792683</td>\n",
       "      <td>110.304878</td>\n",
       "      <td>118.939024</td>\n",
       "      <td>...</td>\n",
       "      <td>117.475610</td>\n",
       "      <td>111.414634</td>\n",
       "      <td>115.219512</td>\n",
       "      <td>113.646341</td>\n",
       "      <td>113.402439</td>\n",
       "      <td>120.707317</td>\n",
       "      <td>113.036585</td>\n",
       "      <td>112.853659</td>\n",
       "      <td>117.073171</td>\n",
       "      <td>113.158537</td>\n",
       "    </tr>\n",
       "    <tr>\n",
       "      <th>FGM</th>\n",
       "      <td>44.609756</td>\n",
       "      <td>42.195122</td>\n",
       "      <td>41.451220</td>\n",
       "      <td>41.280488</td>\n",
       "      <td>42.536585</td>\n",
       "      <td>41.560976</td>\n",
       "      <td>40.036585</td>\n",
       "      <td>43.585366</td>\n",
       "      <td>39.560976</td>\n",
       "      <td>43.146341</td>\n",
       "      <td>...</td>\n",
       "      <td>43.085366</td>\n",
       "      <td>40.524390</td>\n",
       "      <td>40.817073</td>\n",
       "      <td>42.109756</td>\n",
       "      <td>40.451220</td>\n",
       "      <td>43.573171</td>\n",
       "      <td>43.085366</td>\n",
       "      <td>41.878049</td>\n",
       "      <td>42.500000</td>\n",
       "      <td>42.146341</td>\n",
       "    </tr>\n",
       "    <tr>\n",
       "      <th>FGA</th>\n",
       "      <td>92.365854</td>\n",
       "      <td>88.756098</td>\n",
       "      <td>85.097561</td>\n",
       "      <td>90.402439</td>\n",
       "      <td>86.780488</td>\n",
       "      <td>85.170732</td>\n",
       "      <td>84.256098</td>\n",
       "      <td>86.439024</td>\n",
       "      <td>87.073171</td>\n",
       "      <td>90.158537</td>\n",
       "      <td>...</td>\n",
       "      <td>92.560976</td>\n",
       "      <td>86.268293</td>\n",
       "      <td>83.780488</td>\n",
       "      <td>90.097561</td>\n",
       "      <td>85.378049</td>\n",
       "      <td>88.195122</td>\n",
       "      <td>92.597561</td>\n",
       "      <td>91.329268</td>\n",
       "      <td>89.817073</td>\n",
       "      <td>86.914634</td>\n",
       "    </tr>\n",
       "    <tr>\n",
       "      <th>FG%</th>\n",
       "      <td>48.432927</td>\n",
       "      <td>47.630488</td>\n",
       "      <td>48.848780</td>\n",
       "      <td>45.834146</td>\n",
       "      <td>49.145122</td>\n",
       "      <td>48.951220</td>\n",
       "      <td>47.628049</td>\n",
       "      <td>50.536585</td>\n",
       "      <td>45.476829</td>\n",
       "      <td>47.979268</td>\n",
       "      <td>...</td>\n",
       "      <td>46.658537</td>\n",
       "      <td>47.145122</td>\n",
       "      <td>48.769512</td>\n",
       "      <td>46.809756</td>\n",
       "      <td>47.476829</td>\n",
       "      <td>49.457317</td>\n",
       "      <td>46.741463</td>\n",
       "      <td>45.956098</td>\n",
       "      <td>47.414634</td>\n",
       "      <td>48.689024</td>\n",
       "    </tr>\n",
       "    <tr>\n",
       "      <th>3PM</th>\n",
       "      <td>10.756098</td>\n",
       "      <td>16.036585</td>\n",
       "      <td>12.780488</td>\n",
       "      <td>10.743902</td>\n",
       "      <td>10.414634</td>\n",
       "      <td>11.585366</td>\n",
       "      <td>15.195122</td>\n",
       "      <td>11.817073</td>\n",
       "      <td>11.390244</td>\n",
       "      <td>16.621951</td>\n",
       "      <td>...</td>\n",
       "      <td>12.134146</td>\n",
       "      <td>10.768293</td>\n",
       "      <td>12.621951</td>\n",
       "      <td>12.207317</td>\n",
       "      <td>12.878049</td>\n",
       "      <td>13.756098</td>\n",
       "      <td>11.109756</td>\n",
       "      <td>10.731707</td>\n",
       "      <td>13.341463</td>\n",
       "      <td>11.280488</td>\n",
       "    </tr>\n",
       "    <tr>\n",
       "      <th>3PA</th>\n",
       "      <td>30.548780</td>\n",
       "      <td>42.585366</td>\n",
       "      <td>33.792683</td>\n",
       "      <td>32.548780</td>\n",
       "      <td>28.865854</td>\n",
       "      <td>31.573171</td>\n",
       "      <td>41.000000</td>\n",
       "      <td>31.207317</td>\n",
       "      <td>32.426829</td>\n",
       "      <td>43.170732</td>\n",
       "      <td>...</td>\n",
       "      <td>34.109756</td>\n",
       "      <td>31.109756</td>\n",
       "      <td>32.621951</td>\n",
       "      <td>32.609756</td>\n",
       "      <td>35.280488</td>\n",
       "      <td>37.317073</td>\n",
       "      <td>32.195122</td>\n",
       "      <td>32.024390</td>\n",
       "      <td>37.792683</td>\n",
       "      <td>31.719512</td>\n",
       "    </tr>\n",
       "    <tr>\n",
       "      <th>3P%</th>\n",
       "      <td>35.339024</td>\n",
       "      <td>37.540244</td>\n",
       "      <td>38.013415</td>\n",
       "      <td>32.947561</td>\n",
       "      <td>35.700000</td>\n",
       "      <td>36.631707</td>\n",
       "      <td>37.131707</td>\n",
       "      <td>37.601220</td>\n",
       "      <td>34.787805</td>\n",
       "      <td>38.463415</td>\n",
       "      <td>...</td>\n",
       "      <td>35.689024</td>\n",
       "      <td>34.807317</td>\n",
       "      <td>38.501220</td>\n",
       "      <td>37.131707</td>\n",
       "      <td>36.414634</td>\n",
       "      <td>36.771951</td>\n",
       "      <td>34.648780</td>\n",
       "      <td>33.615854</td>\n",
       "      <td>35.198780</td>\n",
       "      <td>35.423171</td>\n",
       "    </tr>\n",
       "    <tr>\n",
       "      <th>FTM</th>\n",
       "      <td>18.451220</td>\n",
       "      <td>17.512195</td>\n",
       "      <td>17.670732</td>\n",
       "      <td>17.646341</td>\n",
       "      <td>17.634146</td>\n",
       "      <td>17.548780</td>\n",
       "      <td>18.951220</td>\n",
       "      <td>16.804878</td>\n",
       "      <td>19.792683</td>\n",
       "      <td>16.024390</td>\n",
       "      <td>...</td>\n",
       "      <td>19.170732</td>\n",
       "      <td>19.597561</td>\n",
       "      <td>20.963415</td>\n",
       "      <td>17.219512</td>\n",
       "      <td>19.621951</td>\n",
       "      <td>19.804878</td>\n",
       "      <td>15.756098</td>\n",
       "      <td>18.365854</td>\n",
       "      <td>18.731707</td>\n",
       "      <td>17.585366</td>\n",
       "    </tr>\n",
       "    <tr>\n",
       "      <th>FTA</th>\n",
       "      <td>22.560976</td>\n",
       "      <td>21.573171</td>\n",
       "      <td>22.085366</td>\n",
       "      <td>23.560976</td>\n",
       "      <td>21.804878</td>\n",
       "      <td>22.487805</td>\n",
       "      <td>25.085366</td>\n",
       "      <td>22.365854</td>\n",
       "      <td>25.682927</td>\n",
       "      <td>20.182927</td>\n",
       "      <td>...</td>\n",
       "      <td>23.707317</td>\n",
       "      <td>25.000000</td>\n",
       "      <td>25.097561</td>\n",
       "      <td>21.719512</td>\n",
       "      <td>24.646341</td>\n",
       "      <td>25.060976</td>\n",
       "      <td>21.207317</td>\n",
       "      <td>23.439024</td>\n",
       "      <td>23.841463</td>\n",
       "      <td>22.414634</td>\n",
       "    </tr>\n",
       "    <tr>\n",
       "      <th>FT%</th>\n",
       "      <td>81.965854</td>\n",
       "      <td>80.964634</td>\n",
       "      <td>80.110976</td>\n",
       "      <td>74.915854</td>\n",
       "      <td>80.775610</td>\n",
       "      <td>78.367073</td>\n",
       "      <td>74.914634</td>\n",
       "      <td>75.365854</td>\n",
       "      <td>77.175610</td>\n",
       "      <td>79.352439</td>\n",
       "      <td>...</td>\n",
       "      <td>80.435366</td>\n",
       "      <td>78.463415</td>\n",
       "      <td>83.497561</td>\n",
       "      <td>79.445122</td>\n",
       "      <td>79.765854</td>\n",
       "      <td>79.185366</td>\n",
       "      <td>74.026829</td>\n",
       "      <td>78.706098</td>\n",
       "      <td>78.215854</td>\n",
       "      <td>78.742683</td>\n",
       "    </tr>\n",
       "    <tr>\n",
       "      <th>OREB</th>\n",
       "      <td>11.219512</td>\n",
       "      <td>9.707317</td>\n",
       "      <td>8.219512</td>\n",
       "      <td>10.987805</td>\n",
       "      <td>8.463415</td>\n",
       "      <td>9.695122</td>\n",
       "      <td>7.621951</td>\n",
       "      <td>10.097561</td>\n",
       "      <td>11.170732</td>\n",
       "      <td>10.536585</td>\n",
       "      <td>...</td>\n",
       "      <td>11.390244</td>\n",
       "      <td>10.158537</td>\n",
       "      <td>8.719512</td>\n",
       "      <td>11.841463</td>\n",
       "      <td>9.439024</td>\n",
       "      <td>9.536585</td>\n",
       "      <td>11.768293</td>\n",
       "      <td>12.719512</td>\n",
       "      <td>11.804878</td>\n",
       "      <td>9.439024</td>\n",
       "    </tr>\n",
       "    <tr>\n",
       "      <th>DREB</th>\n",
       "      <td>33.158537</td>\n",
       "      <td>35.621951</td>\n",
       "      <td>32.292683</td>\n",
       "      <td>33.548780</td>\n",
       "      <td>33.890244</td>\n",
       "      <td>31.390244</td>\n",
       "      <td>31.170732</td>\n",
       "      <td>32.914634</td>\n",
       "      <td>31.268293</td>\n",
       "      <td>34.060976</td>\n",
       "      <td>...</td>\n",
       "      <td>32.268293</td>\n",
       "      <td>33.085366</td>\n",
       "      <td>32.207317</td>\n",
       "      <td>32.402439</td>\n",
       "      <td>31.109756</td>\n",
       "      <td>32.914634</td>\n",
       "      <td>31.939024</td>\n",
       "      <td>30.304878</td>\n",
       "      <td>34.073171</td>\n",
       "      <td>34.195122</td>\n",
       "    </tr>\n",
       "    <tr>\n",
       "      <th>REB</th>\n",
       "      <td>44.378049</td>\n",
       "      <td>45.329268</td>\n",
       "      <td>40.512195</td>\n",
       "      <td>44.536585</td>\n",
       "      <td>42.353659</td>\n",
       "      <td>41.085366</td>\n",
       "      <td>38.792683</td>\n",
       "      <td>43.012195</td>\n",
       "      <td>42.439024</td>\n",
       "      <td>44.597561</td>\n",
       "      <td>...</td>\n",
       "      <td>43.658537</td>\n",
       "      <td>43.243902</td>\n",
       "      <td>40.926829</td>\n",
       "      <td>44.243902</td>\n",
       "      <td>40.548780</td>\n",
       "      <td>42.451220</td>\n",
       "      <td>43.707317</td>\n",
       "      <td>43.024390</td>\n",
       "      <td>45.878049</td>\n",
       "      <td>43.634146</td>\n",
       "    </tr>\n",
       "    <tr>\n",
       "      <th>AST</th>\n",
       "      <td>24.987805</td>\n",
       "      <td>26.658537</td>\n",
       "      <td>25.524390</td>\n",
       "      <td>25.146341</td>\n",
       "      <td>24.463415</td>\n",
       "      <td>24.939024</td>\n",
       "      <td>22.926829</td>\n",
       "      <td>28.878049</td>\n",
       "      <td>22.975610</td>\n",
       "      <td>29.829268</td>\n",
       "      <td>...</td>\n",
       "      <td>24.414634</td>\n",
       "      <td>23.243902</td>\n",
       "      <td>25.158537</td>\n",
       "      <td>27.256098</td>\n",
       "      <td>24.158537</td>\n",
       "      <td>27.280488</td>\n",
       "      <td>27.219512</td>\n",
       "      <td>23.914634</td>\n",
       "      <td>25.963415</td>\n",
       "      <td>25.402439</td>\n",
       "    </tr>\n",
       "    <tr>\n",
       "      <th>TOV</th>\n",
       "      <td>12.926829</td>\n",
       "      <td>13.353659</td>\n",
       "      <td>13.743902</td>\n",
       "      <td>14.195122</td>\n",
       "      <td>13.378049</td>\n",
       "      <td>13.341463</td>\n",
       "      <td>12.219512</td>\n",
       "      <td>14.536585</td>\n",
       "      <td>15.085366</td>\n",
       "      <td>16.292683</td>\n",
       "      <td>...</td>\n",
       "      <td>13.048780</td>\n",
       "      <td>15.073171</td>\n",
       "      <td>13.670732</td>\n",
       "      <td>13.536585</td>\n",
       "      <td>14.451220</td>\n",
       "      <td>13.487805</td>\n",
       "      <td>15.280488</td>\n",
       "      <td>11.658537</td>\n",
       "      <td>15.353659</td>\n",
       "      <td>14.121951</td>\n",
       "    </tr>\n",
       "    <tr>\n",
       "      <th>STL</th>\n",
       "      <td>7.073171</td>\n",
       "      <td>6.353659</td>\n",
       "      <td>7.134146</td>\n",
       "      <td>7.731707</td>\n",
       "      <td>7.853659</td>\n",
       "      <td>7.146341</td>\n",
       "      <td>6.268293</td>\n",
       "      <td>7.536585</td>\n",
       "      <td>7.000000</td>\n",
       "      <td>7.170732</td>\n",
       "      <td>...</td>\n",
       "      <td>8.243902</td>\n",
       "      <td>7.353659</td>\n",
       "      <td>7.743902</td>\n",
       "      <td>7.134146</td>\n",
       "      <td>6.743902</td>\n",
       "      <td>7.000000</td>\n",
       "      <td>6.975610</td>\n",
       "      <td>9.414634</td>\n",
       "      <td>6.097561</td>\n",
       "      <td>6.841463</td>\n",
       "    </tr>\n",
       "    <tr>\n",
       "      <th>BLK</th>\n",
       "      <td>4.890244</td>\n",
       "      <td>5.243902</td>\n",
       "      <td>6.170732</td>\n",
       "      <td>5.182927</td>\n",
       "      <td>4.524390</td>\n",
       "      <td>4.682927</td>\n",
       "      <td>3.707317</td>\n",
       "      <td>4.487805</td>\n",
       "      <td>3.756098</td>\n",
       "      <td>3.951220</td>\n",
       "      <td>...</td>\n",
       "      <td>4.158537</td>\n",
       "      <td>4.658537</td>\n",
       "      <td>4.743902</td>\n",
       "      <td>5.268293</td>\n",
       "      <td>4.585366</td>\n",
       "      <td>3.353659</td>\n",
       "      <td>3.926829</td>\n",
       "      <td>5.170732</td>\n",
       "      <td>5.231707</td>\n",
       "      <td>5.170732</td>\n",
       "    </tr>\n",
       "    <tr>\n",
       "      <th>PF</th>\n",
       "      <td>18.792683</td>\n",
       "      <td>18.804878</td>\n",
       "      <td>21.097561</td>\n",
       "      <td>20.256098</td>\n",
       "      <td>18.914634</td>\n",
       "      <td>19.024390</td>\n",
       "      <td>20.695122</td>\n",
       "      <td>18.597561</td>\n",
       "      <td>22.109756</td>\n",
       "      <td>21.414634</td>\n",
       "      <td>...</td>\n",
       "      <td>21.000000</td>\n",
       "      <td>20.146341</td>\n",
       "      <td>20.426829</td>\n",
       "      <td>21.207317</td>\n",
       "      <td>20.036585</td>\n",
       "      <td>19.707317</td>\n",
       "      <td>19.878049</td>\n",
       "      <td>20.012195</td>\n",
       "      <td>20.475610</td>\n",
       "      <td>18.768293</td>\n",
       "    </tr>\n",
       "    <tr>\n",
       "      <th>+/-</th>\n",
       "      <td>0.292683</td>\n",
       "      <td>6.524390</td>\n",
       "      <td>0.853659</td>\n",
       "      <td>-6.243902</td>\n",
       "      <td>1.292683</td>\n",
       "      <td>5.378049</td>\n",
       "      <td>0.073171</td>\n",
       "      <td>3.329268</td>\n",
       "      <td>-8.219512</td>\n",
       "      <td>1.804878</td>\n",
       "      <td>...</td>\n",
       "      <td>1.085366</td>\n",
       "      <td>-2.560976</td>\n",
       "      <td>4.317073</td>\n",
       "      <td>2.073171</td>\n",
       "      <td>-4.012195</td>\n",
       "      <td>2.646341</td>\n",
       "      <td>-10.036585</td>\n",
       "      <td>1.475610</td>\n",
       "      <td>-0.939024</td>\n",
       "      <td>-1.207317</td>\n",
       "    </tr>\n",
       "  </tbody>\n",
       "</table>\n",
       "<p>20 rows × 30 columns</p>\n",
       "</div>"
      ],
      "text/plain": [
       "      ATLANTA HAWKS  BOSTON CELTICS  BROOKLYN NETS  CHARLOTTE HORNETS  \\\n",
       "MIN       48.426829       48.731707      48.121951          48.365854   \n",
       "PTS      118.426829      117.939024     113.353659         110.951220   \n",
       "FGM       44.609756       42.195122      41.451220          41.280488   \n",
       "FGA       92.365854       88.756098      85.097561          90.402439   \n",
       "FG%       48.432927       47.630488      48.848780          45.834146   \n",
       "3PM       10.756098       16.036585      12.780488          10.743902   \n",
       "3PA       30.548780       42.585366      33.792683          32.548780   \n",
       "3P%       35.339024       37.540244      38.013415          32.947561   \n",
       "FTM       18.451220       17.512195      17.670732          17.646341   \n",
       "FTA       22.560976       21.573171      22.085366          23.560976   \n",
       "FT%       81.965854       80.964634      80.110976          74.915854   \n",
       "OREB      11.219512        9.707317       8.219512          10.987805   \n",
       "DREB      33.158537       35.621951      32.292683          33.548780   \n",
       "REB       44.378049       45.329268      40.512195          44.536585   \n",
       "AST       24.987805       26.658537      25.524390          25.146341   \n",
       "TOV       12.926829       13.353659      13.743902          14.195122   \n",
       "STL        7.073171        6.353659       7.134146           7.731707   \n",
       "BLK        4.890244        5.243902       6.170732           5.182927   \n",
       "PF        18.792683       18.804878      21.097561          20.256098   \n",
       "+/-        0.292683        6.524390       0.853659          -6.243902   \n",
       "\n",
       "      CHICAGO BULLS  CLEVELAND CAVALIERS  DALLAS MAVERICKS  DENVER NUGGETS  \\\n",
       "MIN       48.548780            48.487805         48.609756       48.182927   \n",
       "PTS      113.121951           112.256098        114.219512      115.792683   \n",
       "FGM       42.536585            41.560976         40.036585       43.585366   \n",
       "FGA       86.780488            85.170732         84.256098       86.439024   \n",
       "FG%       49.145122            48.951220         47.628049       50.536585   \n",
       "3PM       10.414634            11.585366         15.195122       11.817073   \n",
       "3PA       28.865854            31.573171         41.000000       31.207317   \n",
       "3P%       35.700000            36.631707         37.131707       37.601220   \n",
       "FTM       17.634146            17.548780         18.951220       16.804878   \n",
       "FTA       21.804878            22.487805         25.085366       22.365854   \n",
       "FT%       80.775610            78.367073         74.914634       75.365854   \n",
       "OREB       8.463415             9.695122          7.621951       10.097561   \n",
       "DREB      33.890244            31.390244         31.170732       32.914634   \n",
       "REB       42.353659            41.085366         38.792683       43.012195   \n",
       "AST       24.463415            24.939024         22.926829       28.878049   \n",
       "TOV       13.378049            13.341463         12.219512       14.536585   \n",
       "STL        7.853659             7.146341          6.268293        7.536585   \n",
       "BLK        4.524390             4.682927          3.707317        4.487805   \n",
       "PF        18.914634            19.024390         20.695122       18.597561   \n",
       "+/-        1.292683             5.378049          0.073171        3.329268   \n",
       "\n",
       "      DETROIT PISTONS  GOLDEN STATE WARRIORS  ...  OKLAHOMA CITY THUNDER  \\\n",
       "MIN         48.304878              48.365854  ...              48.426829   \n",
       "PTS        110.304878             118.939024  ...             117.475610   \n",
       "FGM         39.560976              43.146341  ...              43.085366   \n",
       "FGA         87.073171              90.158537  ...              92.560976   \n",
       "FG%         45.476829              47.979268  ...              46.658537   \n",
       "3PM         11.390244              16.621951  ...              12.134146   \n",
       "3PA         32.426829              43.170732  ...              34.109756   \n",
       "3P%         34.787805              38.463415  ...              35.689024   \n",
       "FTM         19.792683              16.024390  ...              19.170732   \n",
       "FTA         25.682927              20.182927  ...              23.707317   \n",
       "FT%         77.175610              79.352439  ...              80.435366   \n",
       "OREB        11.170732              10.536585  ...              11.390244   \n",
       "DREB        31.268293              34.060976  ...              32.268293   \n",
       "REB         42.439024              44.597561  ...              43.658537   \n",
       "AST         22.975610              29.829268  ...              24.414634   \n",
       "TOV         15.085366              16.292683  ...              13.048780   \n",
       "STL          7.000000               7.170732  ...               8.243902   \n",
       "BLK          3.756098               3.951220  ...               4.158537   \n",
       "PF          22.109756              21.414634  ...              21.000000   \n",
       "+/-         -8.219512               1.804878  ...               1.085366   \n",
       "\n",
       "      ORLANDO MAGIC  PHILADELPHIA 76ERS  PHOENIX SUNS  PORTLAND TRAIL BLAZERS  \\\n",
       "MIN       48.243902           48.487805     48.243902               48.121951   \n",
       "PTS      111.414634          115.219512    113.646341              113.402439   \n",
       "FGM       40.524390           40.817073     42.109756               40.451220   \n",
       "FGA       86.268293           83.780488     90.097561               85.378049   \n",
       "FG%       47.145122           48.769512     46.809756               47.476829   \n",
       "3PM       10.768293           12.621951     12.207317               12.878049   \n",
       "3PA       31.109756           32.621951     32.609756               35.280488   \n",
       "3P%       34.807317           38.501220     37.131707               36.414634   \n",
       "FTM       19.597561           20.963415     17.219512               19.621951   \n",
       "FTA       25.000000           25.097561     21.719512               24.646341   \n",
       "FT%       78.463415           83.497561     79.445122               79.765854   \n",
       "OREB      10.158537            8.719512     11.841463                9.439024   \n",
       "DREB      33.085366           32.207317     32.402439               31.109756   \n",
       "REB       43.243902           40.926829     44.243902               40.548780   \n",
       "AST       23.243902           25.158537     27.256098               24.158537   \n",
       "TOV       15.073171           13.670732     13.536585               14.451220   \n",
       "STL        7.353659            7.743902      7.134146                6.743902   \n",
       "BLK        4.658537            4.743902      5.268293                4.585366   \n",
       "PF        20.146341           20.426829     21.207317               20.036585   \n",
       "+/-       -2.560976            4.317073      2.073171               -4.012195   \n",
       "\n",
       "      SACRAMENTO KINGS  SAN ANTONIO SPURS  TORONTO RAPTORS   UTAH JAZZ  \\\n",
       "MIN          48.365854          48.426829        48.304878   48.304878   \n",
       "PTS         120.707317         113.036585       112.853659  117.073171   \n",
       "FGM          43.573171          43.085366        41.878049   42.500000   \n",
       "FGA          88.195122          92.597561        91.329268   89.817073   \n",
       "FG%          49.457317          46.741463        45.956098   47.414634   \n",
       "3PM          13.756098          11.109756        10.731707   13.341463   \n",
       "3PA          37.317073          32.195122        32.024390   37.792683   \n",
       "3P%          36.771951          34.648780        33.615854   35.198780   \n",
       "FTM          19.804878          15.756098        18.365854   18.731707   \n",
       "FTA          25.060976          21.207317        23.439024   23.841463   \n",
       "FT%          79.185366          74.026829        78.706098   78.215854   \n",
       "OREB          9.536585          11.768293        12.719512   11.804878   \n",
       "DREB         32.914634          31.939024        30.304878   34.073171   \n",
       "REB          42.451220          43.707317        43.024390   45.878049   \n",
       "AST          27.280488          27.219512        23.914634   25.963415   \n",
       "TOV          13.487805          15.280488        11.658537   15.353659   \n",
       "STL           7.000000           6.975610         9.414634    6.097561   \n",
       "BLK           3.353659           3.926829         5.170732    5.231707   \n",
       "PF           19.707317          19.878049        20.012195   20.475610   \n",
       "+/-           2.646341         -10.036585         1.475610   -0.939024   \n",
       "\n",
       "      WASHINGTON WIZARDS  \n",
       "MIN            48.182927  \n",
       "PTS           113.158537  \n",
       "FGM            42.146341  \n",
       "FGA            86.914634  \n",
       "FG%            48.689024  \n",
       "3PM            11.280488  \n",
       "3PA            31.719512  \n",
       "3P%            35.423171  \n",
       "FTM            17.585366  \n",
       "FTA            22.414634  \n",
       "FT%            78.742683  \n",
       "OREB            9.439024  \n",
       "DREB           34.195122  \n",
       "REB            43.634146  \n",
       "AST            25.402439  \n",
       "TOV            14.121951  \n",
       "STL             6.841463  \n",
       "BLK             5.170732  \n",
       "PF             18.768293  \n",
       "+/-            -1.207317  \n",
       "\n",
       "[20 rows x 30 columns]"
      ]
     },
     "execution_count": 230,
     "metadata": {},
     "output_type": "execute_result"
    }
   ],
   "source": [
    "summary_dict"
   ]
  },
  {
   "cell_type": "code",
   "execution_count": 41,
   "metadata": {},
   "outputs": [],
   "source": [
    "def the_game(team1, team2):\n",
    "    \n",
    "    # print(team1.name,'\\n',team2.name)\n",
    "    comp_stats = pd.concat([team1,team2], axis=1).transpose()\n",
    "    winner = regression.predict_proba(comp_stats)[0]\n",
    "    # print(\"Results: \" ,winner)\n",
    "    \n",
    "\n",
    "    if all(map(lambda x: x == winner[0], winner)):\n",
    "        print( random.choices(winner[0],k=1) )\n",
    "    else:\n",
    "        print( 'Result: ', winner )\n",
    "\n",
    "    return 0\n"
   ]
  },
  {
   "cell_type": "code",
   "execution_count": 19,
   "metadata": {},
   "outputs": [],
   "source": [
    "def tied_match(team1, team2):\n",
    "    diff = np.abs(team1 - team2)\n",
    "\n",
    "    #Rematch \"OVERTIME\"\n",
    "    temp1 = team1 + random.uniform(-diff, diff)\n",
    "    temp2 = team2 + random.uniform(-diff, diff)\n",
    "    \n",
    "    # print(temp1)\n",
    "    the_game(temp1,temp2)\n",
    "\n",
    "    return"
   ]
  },
  {
   "cell_type": "code",
   "execution_count": 45,
   "metadata": {},
   "outputs": [
    {
     "name": "stdout",
     "output_type": "stream",
     "text": [
      "DETROIT PISTONS is paired with CHARLOTTE HORNETS\n",
      "Result:  [1. 0.]\n",
      "CHICAGO BULLS is paired with CHARLOTTE HORNETS\n",
      "Result:  [0. 1.]\n",
      "NEW YORK KNICKS is paired with CHARLOTTE HORNETS\n",
      "Result:  [0. 1.]\n",
      "ATLANTA HAWKS is paired with CHARLOTTE HORNETS\n",
      "Result:  [1. 0.]\n",
      "CHICAGO BULLS is paired with DETROIT PISTONS\n",
      "Result:  [0. 1.]\n",
      "NEW YORK KNICKS is paired with DETROIT PISTONS\n",
      "Result:  [0. 1.]\n",
      "ATLANTA HAWKS is paired with DETROIT PISTONS\n",
      "Result:  [1. 0.]\n",
      "NEW YORK KNICKS is paired with CHICAGO BULLS\n",
      "Result:  [0. 1.]\n",
      "ATLANTA HAWKS is paired with CHICAGO BULLS\n",
      "Result:  [1. 0.]\n",
      "ATLANTA HAWKS is paired with NEW YORK KNICKS\n",
      "Result:  [1. 0.]\n",
      "WASHINGTON WIZARDS is paired with ORLANDO MAGIC\n",
      "Result:  [1. 0.]\n",
      "BROOKLYN NETS is paired with ORLANDO MAGIC\n",
      "Result:  [0. 1.]\n",
      "MILWAUKEE BUCKS is paired with ORLANDO MAGIC\n",
      "Result:  [0. 1.]\n",
      "CLEVELAND CAVALIERS is paired with ORLANDO MAGIC\n",
      "Result:  [0. 1.]\n",
      "BROOKLYN NETS is paired with WASHINGTON WIZARDS\n",
      "Result:  [0. 1.]\n",
      "MILWAUKEE BUCKS is paired with WASHINGTON WIZARDS\n",
      "Result:  [0. 1.]\n",
      "CLEVELAND CAVALIERS is paired with WASHINGTON WIZARDS\n",
      "Result:  [0. 1.]\n",
      "MILWAUKEE BUCKS is paired with BROOKLYN NETS\n",
      "Result:  [0. 1.]\n",
      "CLEVELAND CAVALIERS is paired with BROOKLYN NETS\n",
      "Result:  [0. 1.]\n",
      "CLEVELAND CAVALIERS is paired with MILWAUKEE BUCKS\n",
      "Result:  [0. 1.]\n",
      "BOSTON CELTICS is paired with INDIANA PACERS\n",
      "Result:  [0. 1.]\n",
      "TORONTO RAPTORS is paired with INDIANA PACERS\n",
      "Result:  [0. 1.]\n",
      "PHILADELPHIA 76ERS is paired with INDIANA PACERS\n",
      "Result:  [0. 1.]\n",
      "MIAMI HEAT is paired with INDIANA PACERS\n",
      "Result:  [1. 0.]\n",
      "TORONTO RAPTORS is paired with BOSTON CELTICS\n",
      "Result:  [0. 1.]\n",
      "PHILADELPHIA 76ERS is paired with BOSTON CELTICS\n",
      "Result:  [0. 1.]\n",
      "MIAMI HEAT is paired with BOSTON CELTICS\n",
      "Result:  [1. 0.]\n",
      "PHILADELPHIA 76ERS is paired with TORONTO RAPTORS\n",
      "Result:  [0. 1.]\n",
      "MIAMI HEAT is paired with TORONTO RAPTORS\n",
      "Result:  [1. 0.]\n",
      "MIAMI HEAT is paired with PHILADELPHIA 76ERS\n",
      "Result:  [1. 0.]\n"
     ]
    }
   ],
   "source": [
    "# Prepare teams for matchups\n",
    "def match_up(conf):\n",
    "    for gp in conf:\n",
    "        for i in range(len(gp)):\n",
    "            for j in range(i+1, len(gp)):\n",
    "                curr_team = gp[i]\n",
    "                opp_team = gp[j]\n",
    "\n",
    "                print(f'{opp_team} is paired with {curr_team}')\n",
    "                # PLAY THE GAME\n",
    "                the_game(summary_dict[opp_team], summary_dict[curr_team])\n",
    "                \n",
    "\n",
    "\n",
    "match_up(splitted_east)\n",
    "# match_up(splitted_west)"
   ]
  },
  {
   "cell_type": "code",
   "execution_count": null,
   "metadata": {},
   "outputs": [],
   "source": [
    "# FO\n",
    "\n",
    "\n",
    "winning_teams = norm_df[norm_df['WIN%'] >= win_rate1]\n",
    "\n",
    "#This is the selected data\n",
    "data_features = ['Team', 'Season', 'WIN%', 'W/L', 'FG%', '+/-', 'PTS',   'REB', 'STL', 'BLK']\n",
    "selected_data = winning_teams[data_features]\n",
    "\n",
    "# Sorting the data by season\n",
    "selected_data = selected_data.sort_values('Season')\n",
    "selected_data = selected_data.reset_index(drop=True)\n",
    "# Predicting winners of matchups\n",
    "predicted_winner_teamname = None\n",
    "predicted_winner_season = None\n",
    "\n",
    "# Iterate over pairs of teams\n",
    "for i, team1 in selected_data.iterrows():\n",
    "    for j, team2 in selected_data.iterrows():\n",
    "        \n",
    "        # Skip the same team matchups\n",
    "        if i == j:\n",
    "            continue\n",
    "\n",
    "        # Concatenate features of both teams\n",
    "        matchup_features = pd.concat([team1[['WIN%', 'FG%', 'PTS', 'REB', 'STL', 'BLK', '+/-']],\n",
    "                                      team2[['WIN%', 'FG%', 'PTS', 'REB', 'STL', 'BLK', '+/-']]], axis=1)\n",
    "\n",
    "\n",
    "        # Reshape the input for prediction\n",
    "        matchup_features = matchup_features.transpose()\n",
    "    \n",
    "\n",
    "\n",
    "        # Predict the winner based on the results of the combined features\n",
    "        winner_index = reg.predict(matchup_features)[0]\n"
   ]
  },
  {
   "cell_type": "code",
   "execution_count": null,
   "metadata": {},
   "outputs": [],
   "source": [
    "\n",
    "        # Display the results\n",
    "        if winner_index == 0:\n",
    "            predicted_winner_teamname = team1['Team']\n",
    "            predicted_winner_season = team1['Season']\n",
    "        else:\n",
    "            predicted_winner_teamname = team2['Team']\n",
    "            predicted_winner_season = team2['Season']\n",
    "\n",
    "        print(\"Matchup:\")\n",
    "        print(\"Team 1:\", team1['Team'], \"(\", team1['Season'], \")\")\n",
    "        print(\"Team 2:\", team2['Team'], \"(\", team2['Season'], \")\")\n",
    "        print(\"Predicted Winner:\", predicted_winner_teamname, \"(\", predicted_winner_season, \")\")\n",
    "        print()\n"
   ]
  },
  {
   "cell_type": "code",
   "execution_count": null,
   "metadata": {},
   "outputs": [],
   "source": [
    "# Create an empty dictionary\n",
    "wins_count = {}\n",
    "predicted_winners_info = {}\n",
    "\n",
    "for i, team1 in selected_data.iterrows():\n",
    "    for j, team2 in selected_data.iterrows():\n",
    "        if i == j:\n",
    "            continue\n",
    "\n",
    "        matchup_features = pd.concat([team1[['WIN%', 'FG%', 'PTS', 'REB', 'STL', 'BLK', '+/-']],\n",
    "                                      team2[['WIN%', 'FG%', 'PTS', 'REB', 'STL', 'BLK', '+/-']]], axis=1)\n",
    "\n",
    "        matchup_features = matchup_features.transpose()\n",
    "\n",
    "        winner_index = model.predict(matchup_features)[0]\n",
    "\n",
    "        if winner_index == 0:\n",
    "            predicted_winner_teamname = team1['Team']\n",
    "            predicted_winner_season = team1['Season']\n",
    "        else:\n",
    "            predicted_winner_teamname = team2['Team']\n",
    "            predicted_winner_season = team2['Season']\n",
    "\n",
    "        # Store the name and season of the predicted winner\n",
    "        predicted_winners_info[predicted_winner_teamname] = predicted_winner_season\n",
    "\n",
    "        # Increment the number of wins for the predicted winner\n",
    "        if predicted_winner_teamname in wins_count:\n",
    "            wins_count[predicted_winner_teamname] += 1\n",
    "        else:\n",
    "            wins_count[predicted_winner_teamname] = 1\n",
    "\n",
    "# Get the team with the most wins in the matchups\n",
    "most_wins_winner = max(wins_count, key=wins_count.get)\n",
    "most_wins_count = wins_count[most_wins_winner]\n",
    "\n",
    "most_wins_winner_season = predicted_winners_info[most_wins_winner]\n",
    "\n",
    "# Print the results\n",
    "print(\"The team with the Most Wins:\", most_wins_winner, \"(\", most_wins_winner_season, \")\")\n",
    "print(\"They won\", most_wins_count, \"games\")"
   ]
  }
 ],
 "metadata": {
  "kernelspec": {
   "display_name": "Python 3",
   "language": "python",
   "name": "python3"
  },
  "language_info": {
   "codemirror_mode": {
    "name": "ipython",
    "version": 3
   },
   "file_extension": ".py",
   "mimetype": "text/x-python",
   "name": "python",
   "nbconvert_exporter": "python",
   "pygments_lexer": "ipython3",
   "version": "3.9.7"
  }
 },
 "nbformat": 4,
 "nbformat_minor": 2
}
